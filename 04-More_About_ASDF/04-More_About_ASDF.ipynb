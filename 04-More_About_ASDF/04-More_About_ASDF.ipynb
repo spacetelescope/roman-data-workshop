{
 "cells": [
  {
   "cell_type": "code",
   "execution_count": 1,
   "metadata": {},
   "outputs": [],
   "source": [
    "import asdf\n",
    "import numpy as np"
   ]
  },
  {
   "cell_type": "markdown",
   "metadata": {},
   "source": [
    "# More About ASDF\n",
    "\n",
    "**Outline**\n",
    "- Objects intrinsically handled by ASDF\n",
    "- Building the ASDF tree\n",
    "- Serializing everything else\n",
    "- A tour of the asdf-format organization\n",
    "\n",
    "## Objects Handled Intrinsically by ASDF\n",
    "\n",
    "Recall that ASDF files store their information using a tree (nested key/value) structure.\n",
    "This allows the stored information to be hierarchically organized with the file. Fundamentally,\n",
    "this tree is a nested combination of basic structures:\n",
    "- maps (forming the tree structure itself),\n",
    "- lists,\n",
    "- arrays,\n",
    "- strings,\n",
    "- booleans,\n",
    "- and numbers.\n",
    "\n",
    "All of which are stored using `yaml`. Note that more complex structures are denoted using\n",
    "`yaml` tags, but those tagged structures are still comprised of the above basic structures,\n",
    "and that these additional tagged objects are generally supported via ASDF extensions.\n",
    "\n",
    "The Python analogs to these basic structures are:\n",
    "- maps -> `dict`\n",
    "- lists -> `list`\n",
    "- arrays -> `np.ndarray`\n",
    "- strings -> `str`\n",
    "- booleans -> `bool`\n",
    "- numbers -> `int`, `float`, `complex` (depending on type of number).\n",
    "\n",
    "One special note is that although `yaml` supports a more general notion of what keys\n",
    "are allowable within a map, the limitations of Python have restricted ASDF to only allowing\n",
    "`bool`, `int`, or `str` types as keys."
   ]
  },
  {
   "cell_type": "markdown",
   "metadata": {},
   "source": [
    "## Building the Tree\n",
    "\n",
    "To create an ASDF file, one must build a tree comprised of key/value pairs.\n",
    "Typically, this takes the form of creating a Python `dict` which is then passed\n",
    "to ASDF to be written to a file.\n",
    "\n",
    "Let's start by creating a simple tree consisting of a `\"hello\": \"world\"` key/value\n",
    "pair and then writing it to an ASDF file."
   ]
  },
  {
   "cell_type": "code",
   "execution_count": 2,
   "metadata": {},
   "outputs": [],
   "source": [
    "tree = {\"hello\": \"world\"}\n",
    "af = asdf.AsdfFile(tree)\n",
    "af.write_to(\"hello.asdf\")"
   ]
  },
  {
   "cell_type": "markdown",
   "metadata": {},
   "source": [
    "Performing a cursory inspection of the `hello.asdf` file indicates that it indeed contains\n",
    "our simple tree."
   ]
  },
  {
   "cell_type": "code",
   "execution_count": 3,
   "metadata": {},
   "outputs": [
    {
     "name": "stdout",
     "output_type": "stream",
     "text": [
      "#ASDF 1.0.0\n",
      "#ASDF_STANDARD 1.5.0\n",
      "%YAML 1.1\n",
      "%TAG ! tag:stsci.edu:asdf/\n",
      "--- !core/asdf-1.1.0\n",
      "asdf_library: !core/software-1.0.0 {author: The ASDF Developers, homepage: 'http://github.com/asdf-format/asdf',\n",
      "  name: asdf, version: 2.12.0}\n",
      "history:\n",
      "  extensions:\n",
      "  - !core/extension_metadata-1.0.0\n",
      "    extension_class: asdf.extension.BuiltinExtension\n",
      "    software: !core/software-1.0.0 {name: asdf, version: 2.12.0}\n",
      "hello: world\n",
      "...\n",
      "\n"
     ]
    }
   ],
   "source": [
    "with open(\"hello.asdf\") as f:\n",
    "    print(f.read())\n",
    "\n",
    "with asdf.open(\"hello.asdf\") as af:\n",
    "    assert af[\"hello\"] == tree[\"hello\"]"
   ]
  },
  {
   "cell_type": "markdown",
   "metadata": {},
   "source": [
    "### Exercise 1\n",
    "\n",
    "Create a tree with an entry for all the basic Python types supported by ASDF except `np.ndarray`\n",
    "(these are handled in a unique fashion)."
   ]
  },
  {
   "cell_type": "markdown",
   "metadata": {},
   "source": [
    "### Serializing `np.ndarray`\n",
    "\n",
    "Recall that in addition to the `yaml` data in an ASDF file, there can also be\n",
    "a series of binary blocks storing data in the file. These blocks of data typically\n",
    "correspond to storing array structures in the ASDF file.\n",
    "\n",
    "In Python, these array structures are usually `np.ndarray` objects as these objects\n",
    "are extremely flexible in how they can store complex array-like data. Just as with\n",
    "the other objects described above, serializing `np.ndarray` is seamless; meaning that,\n",
    "ASDF will serialize these objects within the `tree` passed to ASDF without any additional\n",
    "work. However, normally the actual data contained within the `np.ndarray` will be stored\n",
    "within a binary block instead of within the `yaml` metadata (there is an option to \"inline\"\n",
    "this data so that it is stored within the `yaml`, but this is not the default).\n",
    "\n",
    "For example serializing a `np.ndarray` looks like:"
   ]
  },
  {
   "cell_type": "code",
   "execution_count": 4,
   "metadata": {},
   "outputs": [],
   "source": [
    "tree = {\"array\": np.random.rand(8, 8)}\n",
    "af = asdf.AsdfFile(tree)\n",
    "af.write_to(\"array.asdf\")"
   ]
  },
  {
   "cell_type": "markdown",
   "metadata": {},
   "source": [
    "Performing another cursory inspection of the `array.asdf` file:"
   ]
  },
  {
   "cell_type": "code",
   "execution_count": 5,
   "metadata": {},
   "outputs": [
    {
     "name": "stdout",
     "output_type": "stream",
     "text": [
      "#ASDF 1.0.0\n",
      "#ASDF_STANDARD 1.5.0\n",
      "%YAML 1.1\n",
      "%TAG ! tag:stsci.edu:asdf/\n",
      "--- !core/asdf-1.1.0\n",
      "asdf_library: !core/software-1.0.0 {author: The ASDF Developers, homepage: 'http://github.com/asdf-format/asdf',\n",
      "  name: asdf, version: 2.12.0}\n",
      "history:\n",
      "  extensions:\n",
      "  - !core/extension_metadata-1.0.0\n",
      "    extension_class: asdf.extension.BuiltinExtension\n",
      "    software: !core/software-1.0.0 {name: asdf, version: 2.12.0}\n",
      "array: !core/ndarray-1.0.0\n",
      "  source: 0\n",
      "  datatype: float64\n",
      "  byteorder: little\n",
      "  shape: [8, 8]\n",
      "...\n",
      "ÓBLK\u00000\u0000\u0000\u0000\u0000\u0000\u0000\u0000\u0000\u0000\u0000\u0000\u0000\u0000\u0000\u0002\u0000\u0000\u0000\u0000\u0000\u0000\u0000\u0002\u0000\u0000\u0000\u0000\u0000\u0000\u0000\u0002\u0000U·J¬Ø2´Òÿþ\u001fÜ<",
      "(þÜ¬Ûî?½4¸ÜZç?øv\u001c",
      "óÝáÑ?F`zÓ9â?<(.òÍ?ì¾-ÑÎÜÔ?\u0004T ~\u0006Ñä?Ô\u001fõÃáæ?\u0016çÅGf\u0005Ø?à(¡H(\u0010Î?»§\u0012t÷Îî?»åàÖf½ä? ³ßÐ)º?¾\u001d",
      "íIå?|j4ÅoâÂ? Y3ê2ª?\u0000Ðw¬À4A?\u0016-è/[ç?dP¦#qÄÚ?e\u001c",
      "oW+Wæ?(HÎN¼´ä?\f",
      "Ûà6¯Â?¬Õ?ÙÊÂ?\b¸\u001e",
      "pÒ?\u0001 ¶|\u0011ë?´£ß³ê¾Õ?|ÎÆ+ÜÁ?`ñ6ø¾?Î¾@Æ¾ï?ª\n",
      "ûºïHÛ?D`µ\u001bÅÊ?\u0018\u000b",
      "è_Üµ?d×7\"SµÞ?5ûí!bMá?À\u0007ó\u0002\u0011£?+¼{2\u0019Áæ?¸ÌPÌÃ³?n!8B§\n",
      "å?*p¥I\u000fâ?Pî#s©ï?£ßÑ#C¦ê?Ð6:ý\u0012ê?j{*\u00162\u0012í?\u000b",
      "È¨O%á?\u0004daKaá?nï\u001d",
      "´Ïê?.3éöËÞ?\u0017×5¿U\u001d",
      "ã?Â\u001d",
      "£\u0007oÓ?´ËãJ\u0014$Ü?¥¨øñ7\n",
      "æ?\u00165¸\u000b",
      "ç?À\u0011>XëC?ÄcZ®×î?o\n",
      "ÆÛN3ã??\\P<VÀì?t^?Ï\u0012Eé?\bçRï:±Ë?+c\"!Kì?(Lå?·9ë?è>«(DÉÂ?9¢(,<ê??fP²î?AÏnA°Úé?#ASDF BLOCK INDEX\n",
      "%YAML 1.1\n",
      "---\n",
      "- 510\n",
      "...\n",
      "\n"
     ]
    }
   ],
   "source": [
    "with open(\"array.asdf\", \"r\", encoding=\"unicode_escape\") as f:\n",
    "    print(f.read())\n",
    "\n",
    "with asdf.open(\"array.asdf\") as af:\n",
    "    assert np.all(af[\"array\"] == tree[\"array\"])"
   ]
  },
  {
   "cell_type": "markdown",
   "metadata": {},
   "source": [
    "ASDF will store this data in an efficient manner. By this we mean that arrays shared between\n",
    "different objects stored in the ASDF tree, will only be stored once as a binary block with\n",
    "both entries in the `yaml` metadata will both reference the same binary block. Moreover,\n",
    "this extends to objects which reference a different view of the same data, meaning the views\n",
    "will all still reference the same binary block, only storing information on the view itself."
   ]
  },
  {
   "cell_type": "markdown",
   "metadata": {},
   "source": [
    "### Exercise 2\n",
    "\n",
    "Create tree containing the same `np.ndarray` twice, and multiple views on the same `np.ndarray`."
   ]
  },
  {
   "cell_type": "markdown",
   "metadata": {},
   "source": [
    "## Serializing Everything Else\n",
    "\n",
    "As mentioned above, other types of objects can also be serialized by ASDF, but these\n",
    "objects are denoted in the `yaml` metadata via a `yaml` tag. Indeed some of the objects\n",
    "already discussed are tagged in the metadata. Typically, these more complex objects\n",
    "are supported via ASDF extensions (the creation of which will be discussed in a later\n",
    "notebook), and when an extension which supports a particular object is installed, ASDF\n",
    "will seamlessly serialize that object when it is placed within the ASDF tree.\n",
    "\n",
    "In practice, this \"seamless\" interaction with the object is handled by the ASDF extension,\n",
    "which will essentially specify a \"sub-tree\" (which is tagged by a `yaml` tag) which represents\n",
    "that object, wherein the extension knows how to turn the object into that \"sub-tree\" and read\n",
    "that \"sub-tree\" in order to reconstruct the object."
   ]
  },
  {
   "cell_type": "markdown",
   "metadata": {},
   "source": [
    "### Example - Serializing `astropy` Objects\n",
    "\n",
    "The Roman pipeline makes extensive use of the `astropy` library, which includes several\n",
    "objects that are useful to astronomical data. Due to this, the `asdf-astropy` extension\n",
    "library (discussed later) provides extensions for most `astropy` objects to be serialized\n",
    "and/or deserialized from ASDF files. Note that `asdf-astropy` is a dependency of the\n",
    "Roman pipeline, so it will always be available for Roman ASDF work.\n",
    "\n",
    "Currently `asdf-astropy` supports the following general object categories:\n",
    "\n",
    "- `astropy` units and `quantities`.\n",
    "- Most `astropy` models.\n",
    "- `astropy` time objects.\n",
    "- `astropy` coordinate objects.\n",
    "\n",
    "For example, lets serialize `astropy`'s `Gaussian1D` model:"
   ]
  },
  {
   "cell_type": "code",
   "execution_count": 6,
   "metadata": {},
   "outputs": [],
   "source": [
    "import astropy.modeling.models as models\n",
    "\n",
    "tree = {\"gaussian\": models.Gaussian1D(1, 2)}\n",
    "af = asdf.AsdfFile(tree)\n",
    "af.write_to(\"gaussian.asdf\")"
   ]
  },
  {
   "cell_type": "markdown",
   "metadata": {},
   "source": [
    "Performing another cursory inspection of the `gaussian.asdf` file:"
   ]
  },
  {
   "cell_type": "code",
   "execution_count": 7,
   "metadata": {},
   "outputs": [
    {
     "name": "stdout",
     "output_type": "stream",
     "text": [
      "#ASDF 1.0.0\n",
      "#ASDF_STANDARD 1.5.0\n",
      "%YAML 1.1\n",
      "%TAG ! tag:stsci.edu:asdf/\n",
      "--- !core/asdf-1.1.0\n",
      "asdf_library: !core/software-1.0.0 {author: The ASDF Developers, homepage: 'http://github.com/asdf-format/asdf',\n",
      "  name: asdf, version: 2.12.0}\n",
      "history:\n",
      "  extensions:\n",
      "  - !core/extension_metadata-1.0.0\n",
      "    extension_class: asdf.extension.BuiltinExtension\n",
      "    software: !core/software-1.0.0 {name: asdf, version: 2.12.0}\n",
      "  - !core/extension_metadata-1.0.0\n",
      "    extension_class: asdf.extension._manifest.ManifestExtension\n",
      "    extension_uri: asdf://asdf-format.org/transform/extensions/transform-1.5.0\n",
      "    software: !core/software-1.0.0 {name: asdf-astropy, version: 0.2.1}\n",
      "gaussian: !transform/gaussian1d-1.0.0\n",
      "  amplitude: 1.0\n",
      "  bounding_box: [-3.5, 7.5]\n",
      "  bounds:\n",
      "    stddev: [1.1754943508222875e-38, null]\n",
      "  inputs: [x]\n",
      "  mean: 2.0\n",
      "  outputs: [y]\n",
      "  stddev: 1.0\n",
      "...\n",
      "\n"
     ]
    }
   ],
   "source": [
    "with open(\"gaussian.asdf\") as f:\n",
    "    print(f.read())"
   ]
  },
  {
   "cell_type": "markdown",
   "metadata": {},
   "source": [
    "#### Exercise 3\n",
    "\n",
    "Pick a few `astropy` objects and create an ASDF file containing them."
   ]
  },
  {
   "cell_type": "code",
   "execution_count": null,
   "metadata": {},
   "outputs": [],
   "source": []
  },
  {
   "cell_type": "markdown",
   "metadata": {},
   "source": [
    "## A Tour of the asdf-format organization\n",
    "\n",
    "The asdf-format organization on GitHub is where the majority of the ASDF related\n",
    "repositories/packages are located. These include:\n",
    "\n",
    "- [`asdf`](https://github.com/asdf-format/asdf)\n",
    "  - The actual library.\n",
    "- [`asdf-standard`](https://github.com/asdf-format/asdf-standard)\n",
    "  - The base schemas and description of the functionality of asdf.\n",
    "- [`asdf-transform-schemas`](https://github.com/asdf-format/asdf-transform-schemas)\n",
    "  - The schemas for mathematical functions/models (typically for `astropy` models).\n",
    "- [`asdf-coordinates-schemas`](https://github.com/asdf-format/asdf-coordinates-schemas)\n",
    "  - The schemas for coordinates (typically `astropy` coordinates).\n",
    "- [`asdf-wcs-schemas`](https://github.com/asdf-format/asdf-wcs-schemas)\n",
    "  - The schemas for WCS objects (typically `gwcs` WCS).\n",
    "- [`asdf-astropy`](https://github.com/astropy/asdf-astropy)\n",
    "  - Not technically part of asdf-format, but maintained by ASDF maintainers as a\n",
    "  collaboration with the astropy organization.\n",
    "  - Contains schemas for some specialized `astropy` objects (not in the other packages).\n",
    "  - Contains extensions for support of `astropy` objects."
   ]
  },
  {
   "cell_type": "markdown",
   "metadata": {},
   "source": []
  }
 ],
 "metadata": {
  "kernelspec": {
   "display_name": "Python 3 (ipykernel)",
   "language": "python",
   "name": "python3"
  },
  "language_info": {
   "codemirror_mode": {
    "name": "ipython",
    "version": 3
   },
   "file_extension": ".py",
   "mimetype": "text/x-python",
   "name": "python",
   "nbconvert_exporter": "python",
   "pygments_lexer": "ipython3",
   "version": "3.9.12"
  },
  "vscode": {
   "interpreter": {
    "hash": "854c5921801e2400c3c1020a858ab9a52fae9c3bbaec23abfbfde1aa9048a7d5"
   }
  }
 },
 "nbformat": 4,
 "nbformat_minor": 2
}
