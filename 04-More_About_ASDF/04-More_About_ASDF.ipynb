{
 "cells": [
  {
   "cell_type": "code",
   "execution_count": 1,
   "metadata": {},
   "outputs": [],
   "source": [
    "import asdf\n",
    "import numpy as np"
   ]
  },
  {
   "cell_type": "markdown",
   "metadata": {},
   "source": [
    "# More About ASDF\n",
    "\n",
    "**Outline**\n",
    "- Objects intrinsically handled by ASDF\n",
    "- Building the ASDF tree\n",
    "- Serializing everything else\n",
    "- A tour of the asdf-format organization\n",
    "\n",
    "## Objects Handled Intrinsically by ASDF\n",
    "\n",
    "Recall that ASDF files store their information using a tree (nested key/value) structure.\n",
    "This allows the stored information to be hierarchically organized with the file. Fundamentally,\n",
    "this tree is a nested combination of basic structures:\n",
    "- maps (forming the tree structure itself),\n",
    "- lists,\n",
    "- arrays,\n",
    "- strings,\n",
    "- booleans,\n",
    "- and numbers.\n",
    "\n",
    "All of which are stored using `yaml`. Note that more complex structures are denoted using\n",
    "`yaml` tags, but those tagged structures are still comprised of the above basic structures,\n",
    "and that these additional tagged objects are generally supported via ASDF extensions.\n",
    "\n",
    "The Python analogs to these basic structures are:\n",
    "- maps -> `dict`\n",
    "- lists -> `list`\n",
    "- arrays -> `np.ndarray`\n",
    "- strings -> `str`\n",
    "- booleans -> `bool`\n",
    "- numbers -> `int`, `float`, `complex` (depending on type of number).\n",
    "\n",
    "One special note is that although `yaml` supports a more general notion of what keys\n",
    "are allowable within a map, the limitations of Python have restricted ASDF to only allowing\n",
    "`bool`, `int`, or `str` types as keys."
   ]
  },
  {
   "cell_type": "markdown",
   "metadata": {},
   "source": [
    "## Building the Tree\n",
    "\n",
    "To create an ASDF file, one must build a tree comprised of key/value pairs.\n",
    "Typically, this takes the form of creating a Python `dict` which is then passed\n",
    "to ASDF to be written to a file.\n",
    "\n",
    "Let's start by creating a simple tree consisting of a `\"hello\": \"world\"` key/value\n",
    "pair and then writing it to an ASDF file."
   ]
  },
  {
   "cell_type": "code",
   "execution_count": 2,
   "metadata": {},
   "outputs": [],
   "source": [
    "tree = {\"hello\": \"world\"}\n",
    "af = asdf.AsdfFile(tree)\n",
    "af.write_to(\"hello.asdf\")"
   ]
  },
  {
   "cell_type": "markdown",
   "metadata": {},
   "source": [
    "Performing a cursory inspection of the `hello.asdf` file indicates that it indeed contains\n",
    "our simple tree."
   ]
  },
  {
   "cell_type": "code",
   "execution_count": 3,
   "metadata": {},
   "outputs": [
    {
     "name": "stdout",
     "output_type": "stream",
     "text": [
      "#ASDF 1.0.0\n",
      "#ASDF_STANDARD 1.6.0\n",
      "%YAML 1.1\n",
      "%TAG ! tag:stsci.edu:asdf/\n",
      "--- !core/asdf-1.1.0\n",
      "asdf_library: !core/software-1.0.0 {author: The ASDF Developers, homepage: 'http://github.com/asdf-format/asdf',\n",
      "  name: asdf, version: 4.1.0}\n",
      "history:\n",
      "  extensions:\n",
      "  - !core/extension_metadata-1.0.0\n",
      "    extension_class: asdf.extension._manifest.ManifestExtension\n",
      "    extension_uri: asdf://asdf-format.org/core/extensions/core-1.6.0\n",
      "    manifest_software: !core/software-1.0.0 {name: asdf_standard, version: 1.2.0}\n",
      "    software: !core/software-1.0.0 {name: asdf, version: 4.1.0}\n",
      "hello: world\n",
      "...\n",
      "\n"
     ]
    }
   ],
   "source": [
    "with open(\"hello.asdf\") as f:\n",
    "    print(f.read())\n",
    "\n",
    "with asdf.open(\"hello.asdf\") as af:\n",
    "    assert af[\"hello\"] == tree[\"hello\"]"
   ]
  },
  {
   "cell_type": "markdown",
   "metadata": {},
   "source": [
    "### Exercise 1\n",
    "\n",
    "Create a tree with an entry for all the basic Python types supported by ASDF except `np.ndarray`\n",
    "(these are handled in a unique fashion)."
   ]
  },
  {
   "cell_type": "markdown",
   "metadata": {},
   "source": [
    "### Serializing `np.ndarray`\n",
    "\n",
    "Recall that in addition to the `yaml` data in an ASDF file, there can also be\n",
    "a series of binary blocks storing data in the file. These blocks of data typically\n",
    "correspond to storing array structures in the ASDF file.\n",
    "\n",
    "In Python, these array structures are usually `np.ndarray` objects as these objects\n",
    "are extremely flexible in how they can store complex array-like data. Just as with\n",
    "the other objects described above, serializing `np.ndarray` is seamless; meaning that,\n",
    "ASDF will serialize these objects within the `tree` passed to ASDF without any additional\n",
    "work. However, normally the actual data contained within the `np.ndarray` will be stored\n",
    "within a binary block instead of within the `yaml` metadata (there is an option to \"inline\"\n",
    "this data so that it is stored within the `yaml`, but this is not the default).\n",
    "\n",
    "For example serializing a `np.ndarray` looks like:"
   ]
  },
  {
   "cell_type": "code",
   "execution_count": 4,
   "metadata": {},
   "outputs": [],
   "source": [
    "tree = {\"array\": np.random.rand(8, 8)}\n",
    "af = asdf.AsdfFile(tree)\n",
    "af.write_to(\"array.asdf\")"
   ]
  },
  {
   "cell_type": "markdown",
   "metadata": {},
   "source": [
    "Performing another cursory inspection of the `array.asdf` file:"
   ]
  },
  {
   "cell_type": "code",
   "execution_count": 5,
   "metadata": {},
   "outputs": [
    {
     "name": "stdout",
     "output_type": "stream",
     "text": [
      "#ASDF 1.0.0\n",
      "#ASDF_STANDARD 1.6.0\n",
      "%YAML 1.1\n",
      "%TAG ! tag:stsci.edu:asdf/\n",
      "--- !core/asdf-1.1.0\n",
      "asdf_library: !core/software-1.0.0 {author: The ASDF Developers, homepage: 'http://github.com/asdf-format/asdf',\n",
      "  name: asdf, version: 4.1.0}\n",
      "history:\n",
      "  extensions:\n",
      "  - !core/extension_metadata-1.0.0\n",
      "    extension_class: asdf.extension._manifest.ManifestExtension\n",
      "    extension_uri: asdf://asdf-format.org/core/extensions/core-1.6.0\n",
      "    manifest_software: !core/software-1.0.0 {name: asdf_standard, version: 1.2.0}\n",
      "    software: !core/software-1.0.0 {name: asdf, version: 4.1.0}\n",
      "array: !core/ndarray-1.1.0\n",
      "  source: 0\n",
      "  datatype: float64\n",
      "  byteorder: little\n",
      "  shape: [8, 8]\n",
      "...\n",
      "ÓBLK\u00000\u0000\u0000\u0000\u0000\u0000\u0000\u0000\u0000\u0000\u0000\u0000\u0000\u0000\u0000\u0002\u0000\u0000\u0000\u0000\u0000\u0000\u0000\u0002\u0000\u0000\u0000\u0000\u0000\u0000\u0000\u0002\u0000\u000ewµR?HH\u0000WÁ8°,P?\u001c",
      "¬è?X\u0015HØ²Ï´?Ï|è\u0011úâ?z1=PaÈä?¢ U\u0003Ó?æô ÙÝý×?ñtGuÅ­?Òlë*0é?BÎ\u0013éè?R\f",
      "4\u0005\u0019Þ?HI\u0005¼}¶?/\u001d",
      "U\u0011Þ?¨Ó-kÝ½? Õti?KÂ?Ü\u001a¨\u001c",
      "Ë?\u0006kñ·ïÛ?è0_]@¸â?¤\u0019\u0018\u0007i\u0017è?XÀzüÔ²?0¸G\u0001\u000eØ?\\µêFØ?²Æc¢UýÐ?®ry\u001f\u001bå?4\u0000üÔ?@Ð»RÔÇ?\u0015\u001e",
      "'õRoï?Md6³Xê?1\u0019<1z=ï?<Â\u0016yãÛ?\u0018Í­iÐ É?\n",
      "¸\n",
      "7í?_ä[\u0006Qï?M\u0003 \\¡jé?*\u001fpRÔ?,ùuº1¡Ð?¸@72­Kä?@æF¾r²é?ÚÎç\u0012¶\u001fÖ?.÷n\u0000&PÒ? ­j{§±?ÔªÚÔç°Û?Ï \u0000Áê?\u000f¹q\u0010\u000fÆá?²,/gæ_Þ?/Ïüãu\tä?»\u001e",
      "Gx*",
      "à?`/ì\u00101£?²a÷â\u001c",
      "èè?Z¯MÒÏ·Ð?è±",
      "oÍ­ï?ìÅÈ}FÛ?^µqÍ\u001c",
      "\n",
      "ï?\u0018;J_Ò¹?`Úp:pà?Ú\u0002´§tIÝ?Ã|\u0014B|Gà?+2\u0013Kè?ÂÎ4?YÉé?>'çSæ¦á?tß(ó÷yË?°N}",
      "Æ©?wG\u0014½¾mî?Æ\u0019æÇ\u0018NÒ?Äè\u0016 .ß?#ASDF BLOCK INDEX\n",
      "%YAML 1.1\n",
      "---\n",
      "- 670\n",
      "...\n",
      "\n"
     ]
    }
   ],
   "source": [
    "with open(\"array.asdf\", \"r\", encoding=\"unicode_escape\") as f:\n",
    "    print(f.read())\n",
    "\n",
    "with asdf.open(\"array.asdf\") as af:\n",
    "    assert np.all(af[\"array\"] == tree[\"array\"])"
   ]
  },
  {
   "cell_type": "markdown",
   "metadata": {},
   "source": [
    "ASDF will store this data in an efficient manner. By this we mean that arrays shared between\n",
    "different objects stored in the ASDF tree, will only be stored once as a binary block with\n",
    "both entries in the `yaml` metadata will both reference the same binary block. Moreover,\n",
    "this extends to objects which reference a different view of the same data, meaning the views\n",
    "will all still reference the same binary block, only storing information on the view itself."
   ]
  },
  {
   "cell_type": "markdown",
   "metadata": {},
   "source": [
    "### Exercise 2\n",
    "\n",
    "Create tree containing the same `np.ndarray` twice, and multiple views on the same `np.ndarray`."
   ]
  },
  {
   "cell_type": "markdown",
   "metadata": {},
   "source": [
    "## Serializing Everything Else\n",
    "\n",
    "As mentioned above, other types of objects can also be serialized by ASDF, but these\n",
    "objects are denoted in the `yaml` metadata via a `yaml` tag. Indeed some of the objects\n",
    "already discussed are tagged in the metadata. Typically, these more complex objects\n",
    "are supported via ASDF extensions (the creation of which will be discussed in a later\n",
    "notebook), and when an extension which supports a particular object is installed, ASDF\n",
    "will seamlessly serialize that object when it is placed within the ASDF tree.\n",
    "\n",
    "In practice, this \"seamless\" interaction with the object is handled by the ASDF extension,\n",
    "which will essentially specify a \"sub-tree\" (which is tagged by a `yaml` tag) which represents\n",
    "that object, wherein the extension knows how to turn the object into that \"sub-tree\" and read\n",
    "that \"sub-tree\" in order to reconstruct the object."
   ]
  },
  {
   "cell_type": "markdown",
   "metadata": {},
   "source": [
    "### Example - Serializing `astropy` Objects\n",
    "\n",
    "The Roman pipeline makes extensive use of the `astropy` library, which includes several\n",
    "objects that are useful to astronomical data. Due to this, the `asdf-astropy` extension\n",
    "library (discussed later) provides extensions for most `astropy` objects to be serialized\n",
    "and/or deserialized from ASDF files. Note that `asdf-astropy` is a dependency of the\n",
    "Roman pipeline, so it will always be available for Roman ASDF work.\n",
    "\n",
    "Currently `asdf-astropy` supports the following general object categories:\n",
    "\n",
    "- `astropy` units and `quantities`.\n",
    "- Most `astropy` models.\n",
    "- `astropy` time objects.\n",
    "- `astropy` coordinate objects.\n",
    "\n",
    "For example, lets serialize `astropy`'s `Gaussian1D` model:"
   ]
  },
  {
   "cell_type": "code",
   "execution_count": 6,
   "metadata": {},
   "outputs": [],
   "source": [
    "import astropy.modeling.models as models\n",
    "\n",
    "tree = {\"gaussian\": models.Gaussian1D(1, 2)}\n",
    "af = asdf.AsdfFile(tree)\n",
    "af.write_to(\"gaussian.asdf\")"
   ]
  },
  {
   "cell_type": "markdown",
   "metadata": {},
   "source": [
    "Performing another cursory inspection of the `gaussian.asdf` file:"
   ]
  },
  {
   "cell_type": "code",
   "execution_count": 7,
   "metadata": {},
   "outputs": [
    {
     "name": "stdout",
     "output_type": "stream",
     "text": [
      "#ASDF 1.0.0\n",
      "#ASDF_STANDARD 1.6.0\n",
      "%YAML 1.1\n",
      "%TAG ! tag:stsci.edu:asdf/\n",
      "--- !core/asdf-1.1.0\n",
      "asdf_library: !core/software-1.0.0 {author: The ASDF Developers, homepage: 'http://github.com/asdf-format/asdf',\n",
      "  name: asdf, version: 4.1.0}\n",
      "history:\n",
      "  extensions:\n",
      "  - !core/extension_metadata-1.0.0\n",
      "    extension_class: asdf.extension._manifest.ManifestExtension\n",
      "    extension_uri: asdf://asdf-format.org/core/extensions/core-1.6.0\n",
      "    manifest_software: !core/software-1.0.0 {name: asdf_standard, version: 1.2.0}\n",
      "    software: !core/software-1.0.0 {name: asdf, version: 4.1.0}\n",
      "  - !core/extension_metadata-1.0.0\n",
      "    extension_class: asdf.extension._manifest.ManifestExtension\n",
      "    extension_uri: asdf://asdf-format.org/transform/extensions/transform-1.6.0\n",
      "    manifest_software: !core/software-1.0.0 {name: asdf_transform_schemas, version: 0.6.0}\n",
      "    software: !core/software-1.0.0 {name: asdf-astropy, version: 0.7.1}\n",
      "gaussian: !transform/gaussian1d-1.1.0\n",
      "  amplitude: 1.0\n",
      "  bounds:\n",
      "    stddev: [1.1754943508222875e-38, null]\n",
      "  inputs: [x]\n",
      "  mean: 2.0\n",
      "  outputs: [y]\n",
      "  stddev: 1.0\n",
      "...\n",
      "\n"
     ]
    }
   ],
   "source": [
    "with open(\"gaussian.asdf\") as f:\n",
    "    print(f.read())"
   ]
  },
  {
   "cell_type": "markdown",
   "metadata": {},
   "source": [
    "#### Exercise 3\n",
    "\n",
    "Pick a few `astropy` objects and create an ASDF file containing them."
   ]
  },
  {
   "cell_type": "code",
   "execution_count": null,
   "metadata": {},
   "outputs": [],
   "source": []
  },
  {
   "cell_type": "markdown",
   "metadata": {},
   "source": [
    "## A Tour of the asdf-format organization\n",
    "\n",
    "The asdf-format organization on GitHub is where the majority of the ASDF related\n",
    "repositories/packages are located. These include:\n",
    "\n",
    "- [`asdf`](https://github.com/asdf-format/asdf)\n",
    "  - The actual library.\n",
    "- [`asdf-standard`](https://github.com/asdf-format/asdf-standard)\n",
    "  - The base schemas and description of the functionality of asdf.\n",
    "- [`asdf-transform-schemas`](https://github.com/asdf-format/asdf-transform-schemas)\n",
    "  - The schemas for mathematical functions/models (typically for `astropy` models).\n",
    "- [`asdf-coordinates-schemas`](https://github.com/asdf-format/asdf-coordinates-schemas)\n",
    "  - The schemas for coordinates (typically `astropy` coordinates).\n",
    "- [`asdf-wcs-schemas`](https://github.com/asdf-format/asdf-wcs-schemas)\n",
    "  - The schemas for WCS objects (typically `gwcs` WCS).\n",
    "- [`asdf-astropy`](https://github.com/astropy/asdf-astropy)\n",
    "  - Not technically part of asdf-format, but maintained by ASDF maintainers as a\n",
    "  collaboration with the astropy organization.\n",
    "  - Contains schemas for some specialized `astropy` objects (not in the other packages).\n",
    "  - Contains extensions for support of `astropy` objects."
   ]
  },
  {
   "cell_type": "markdown",
   "metadata": {},
   "source": []
  }
 ],
 "metadata": {
  "kernelspec": {
   "display_name": "Python 3 (ipykernel)",
   "language": "python",
   "name": "python3"
  },
  "language_info": {
   "codemirror_mode": {
    "name": "ipython",
    "version": 3
   },
   "file_extension": ".py",
   "mimetype": "text/x-python",
   "name": "python",
   "nbconvert_exporter": "python",
   "pygments_lexer": "ipython3",
   "version": "3.11.0"
  },
  "vscode": {
   "interpreter": {
    "hash": "854c5921801e2400c3c1020a858ab9a52fae9c3bbaec23abfbfde1aa9048a7d5"
   }
  }
 },
 "nbformat": 4,
 "nbformat_minor": 4
}
