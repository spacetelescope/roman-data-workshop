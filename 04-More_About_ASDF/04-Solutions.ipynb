{
 "cells": [
  {
   "cell_type": "code",
   "execution_count": 1,
   "metadata": {},
   "outputs": [],
   "source": [
    "import asdf\n",
    "import numpy as np"
   ]
  },
  {
   "cell_type": "markdown",
   "metadata": {},
   "source": [
    "# Exercise 1"
   ]
  },
  {
   "cell_type": "code",
   "execution_count": 2,
   "metadata": {},
   "outputs": [],
   "source": [
    "tree = {\n",
    "    \"hello\": \"world\",\n",
    "    \"foo\": 42,\n",
    "    \"bar\": 3.14,\n",
    "    \"true\": False,\n",
    "    \"imaginary\": complex(2, 3),\n",
    "    \"animals\": [\"cat\", \"dog\", \"bird\"],\n",
    "    \"data\": {\"mean\": 3.14, \"std\": 2.71},\n",
    "}\n",
    "af = asdf.AsdfFile(tree)\n",
    "af.write_to(\"exercise_1.asdf\")"
   ]
  },
  {
   "cell_type": "code",
   "execution_count": 3,
   "metadata": {},
   "outputs": [
    {
     "name": "stdout",
     "output_type": "stream",
     "text": [
      "#ASDF 1.0.0\n",
      "#ASDF_STANDARD 1.6.0\n",
      "%YAML 1.1\n",
      "%TAG ! tag:stsci.edu:asdf/\n",
      "--- !core/asdf-1.1.0\n",
      "asdf_library: !core/software-1.0.0 {author: The ASDF Developers, homepage: 'http://github.com/asdf-format/asdf',\n",
      "  name: asdf, version: 4.1.0}\n",
      "history:\n",
      "  extensions:\n",
      "  - !core/extension_metadata-1.0.0\n",
      "    extension_class: asdf.extension._manifest.ManifestExtension\n",
      "    extension_uri: asdf://asdf-format.org/core/extensions/core-1.6.0\n",
      "    manifest_software: !core/software-1.0.0 {name: asdf_standard, version: 1.2.0}\n",
      "    software: !core/software-1.0.0 {name: asdf, version: 4.1.0}\n",
      "animals: [cat, dog, bird]\n",
      "bar: 3.14\n",
      "data: {mean: 3.14, std: 2.71}\n",
      "foo: 42\n",
      "hello: world\n",
      "imaginary: !core/complex-1.0.0 (2+3j)\n",
      "'true': false\n",
      "...\n",
      "\n"
     ]
    }
   ],
   "source": [
    "# Checks\n",
    "\n",
    "with open(\"exercise_1.asdf\") as f:\n",
    "    print(f.read())\n",
    "\n",
    "with asdf.open(\"exercise_1.asdf\") as af:\n",
    "    for key, value in tree.items():\n",
    "        assert af[key] == value"
   ]
  },
  {
   "cell_type": "markdown",
   "metadata": {},
   "source": [
    "# Exercise 2"
   ]
  },
  {
   "cell_type": "code",
   "execution_count": 4,
   "metadata": {},
   "outputs": [],
   "source": [
    "array = np.random.rand(8, 8)\n",
    "tree = {\n",
    "    \"array\": array,\n",
    "    \"duplicated_array\": array,\n",
    "    \"view_1\": array[2:4, 3:6],\n",
    "    \"view_2\": array[1:6, 2:4],\n",
    "}\n",
    "af = asdf.AsdfFile(tree)\n",
    "af.write_to(\"exercise_2.asdf\")"
   ]
  },
  {
   "cell_type": "code",
   "execution_count": null,
   "metadata": {},
   "outputs": [],
   "source": []
  },
  {
   "cell_type": "code",
   "execution_count": null,
   "metadata": {},
   "outputs": [],
   "source": []
  },
  {
   "cell_type": "code",
   "execution_count": 5,
   "metadata": {},
   "outputs": [
    {
     "name": "stdout",
     "output_type": "stream",
     "text": [
      "#ASDF 1.0.0\n",
      "#ASDF_STANDARD 1.6.0\n",
      "%YAML 1.1\n",
      "%TAG ! tag:stsci.edu:asdf/\n",
      "--- !core/asdf-1.1.0\n",
      "asdf_library: !core/software-1.0.0 {author: The ASDF Developers, homepage: 'http://github.com/asdf-format/asdf',\n",
      "  name: asdf, version: 4.1.0}\n",
      "history:\n",
      "  extensions:\n",
      "  - !core/extension_metadata-1.0.0\n",
      "    extension_class: asdf.extension._manifest.ManifestExtension\n",
      "    extension_uri: asdf://asdf-format.org/core/extensions/core-1.6.0\n",
      "    manifest_software: !core/software-1.0.0 {name: asdf_standard, version: 1.2.0}\n",
      "    software: !core/software-1.0.0 {name: asdf, version: 4.1.0}\n",
      "array: &id001 !core/ndarray-1.1.0\n",
      "  source: 0\n",
      "  datatype: float64\n",
      "  byteorder: little\n",
      "  shape: [8, 8]\n",
      "duplicated_array: *id001\n",
      "view_1: !core/ndarray-1.1.0\n",
      "  source: 0\n",
      "  datatype: float64\n",
      "  byteorder: little\n",
      "  shape: [2, 3]\n",
      "  offset: 152\n",
      "  strides: [64, 8]\n",
      "view_2: !core/ndarray-1.1.0\n",
      "  source: 0\n",
      "  datatype: float64\n",
      "  byteorder: little\n",
      "  shape: [5, 2]\n",
      "  offset: 80\n",
      "  strides: [64, 8]\n",
      "...\n",
      "ÓBLK\u00000\u0000\u0000\u0000\u0000\u0000\u0000\u0000\u0000\u0000\u0000\u0000\u0000\u0000\u0000\u0002\u0000\u0000\u0000\u0000\u0000\u0000\u0000\u0002\u0000\u0000\u0000\u0000\u0000\u0000\u0000\u0002\u0000À3¾Ê#Õ91ãòfit'îuRí?¸å\u0000oí?B\u0019½UnÍâ?|¦U^\u0011ªÔ?\u00047·zQãÌ?l£í´Ò?øà",
      "r\u0017ÝÕ?m©TìÅýî?\u0000ÆçÃÓë?d¸Ä´@Ê?öÁ¾eÅKÚ?Øúd8\u000evå?\u001fÙ\u0017 ¸á?\u0018\u0003|ðÜ?þé\u0014h\u001bÖ?øbïr°æ?ð:w\u0003Ì?ü§\u0013eµ¬Ý?Ü±çTÊ?KÑß?,­t\n",
      "âÆ?v'Ñ3\u001aÖ?ÌîÎ6é·â?EPBæ?9\u0010%¬¬ç?\u0001ºs­Ä? Â »\u0006é?T\u0007Wï0É?¦~/¾S\u0002Ø?\u001d",
      ";7î[Ä? nõFÓ?0-¤Iå?üx`Öþ~Â?Z",
      "ê\u0013Êq×?¦èün\u001c",
      "èÝ?\u0005huÜ×Bã?Ýh¦Ãå?è´\u0017\u0003í?Hôª8òÆ?\u000ex²è?à\\C×Õ?&V<Û?|<µi,ñà?nzú©mÑ?<\u0010\u0002ÍhkÆ?¦&Ã6Å\u000b",
      "Ö?\n",
      "¬*UcEØ?LÜòøI÷á?HY\u000b",
      "Ó?ºk%.¸ä?y®tÁú÷ì?Ú\u0012/*Åûã?ï7¹",
      "\\óç? O\u000b",
      "A?\u001c",
      "4Eë\u0002Ú?Ï%±¾Ê?þ~e\n",
      "Ô|Û?Ùî+¶í?\u0010è\u0002kÉ?@.Úf«ä?Ø7\u0000!Ù?ÏìÂ\n",
      " à?£H\u0011¢&>ê?~\u0019ÄÐávä?#ASDF BLOCK INDEX\n",
      "%YAML 1.1\n",
      "---\n",
      "- 959\n",
      "...\n",
      "\n"
     ]
    }
   ],
   "source": [
    "with open(\"exercise_2.asdf\", \"r\", encoding=\"unicode_escape\") as f:\n",
    "    print(f.read())\n",
    "\n",
    "with asdf.open(\"exercise_2.asdf\") as af:\n",
    "    for key, value in tree.items():\n",
    "        assert np.all(af[key] == value)"
   ]
  },
  {
   "cell_type": "markdown",
   "metadata": {},
   "source": [
    "Notice that the duplicated array is referenced using a `yaml` anchor, while the\n",
    "alternate views both reference `source: 0` which is the original array."
   ]
  },
  {
   "cell_type": "code",
   "execution_count": null,
   "metadata": {},
   "outputs": [],
   "source": []
  },
  {
   "cell_type": "markdown",
   "metadata": {},
   "source": [
    "# Exercise 3"
   ]
  },
  {
   "cell_type": "code",
   "execution_count": 6,
   "metadata": {},
   "outputs": [],
   "source": [
    "import astropy\n",
    "\n",
    "quantity = 50 * astropy.units.m\n",
    "model = astropy.modeling.models.Gaussian2D(quantity, 2, 3, 4, 5)\n",
    "time = astropy.time.Time(\"J2000\")\n",
    "coord = astropy.coordinates.ICRS(ra=1 * astropy.units.deg, dec=2 * astropy.units.deg)\n",
    "\n",
    "tree = {\n",
    "    \"quantity\": quantity,\n",
    "    \"model\": model,\n",
    "    \"time\": time,\n",
    "    \"coord\": coord,\n",
    "}\n",
    "\n",
    "af = asdf.AsdfFile(tree)\n",
    "af.write_to(\"exercise_3.asdf\")"
   ]
  },
  {
   "cell_type": "code",
   "execution_count": null,
   "metadata": {},
   "outputs": [],
   "source": []
  }
 ],
 "metadata": {
  "kernelspec": {
   "display_name": "Python 3 (ipykernel)",
   "language": "python",
   "name": "python3"
  },
  "language_info": {
   "codemirror_mode": {
    "name": "ipython",
    "version": 3
   },
   "file_extension": ".py",
   "mimetype": "text/x-python",
   "name": "python",
   "nbconvert_exporter": "python",
   "pygments_lexer": "ipython3",
   "version": "3.11.0"
  },
  "vscode": {
   "interpreter": {
    "hash": "854c5921801e2400c3c1020a858ab9a52fae9c3bbaec23abfbfde1aa9048a7d5"
   }
  }
 },
 "nbformat": 4,
 "nbformat_minor": 4
}
