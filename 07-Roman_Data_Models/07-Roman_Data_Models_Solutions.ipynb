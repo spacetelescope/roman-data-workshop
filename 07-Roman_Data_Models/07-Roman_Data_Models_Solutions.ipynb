{
 "cells": [
  {
   "cell_type": "markdown",
   "id": "349f7b8e",
   "metadata": {},
   "source": [
    "Solutions to Exercises\n",
    "=====================\n",
    "\n",
    "Exercise 1\n",
    "--------------"
   ]
  },
  {
   "cell_type": "markdown",
   "id": "ad894a8e",
   "metadata": {},
   "source": [
    "1. Open the example calibrated data file (r0000101001001001001_01101_0001_WFI01_cal.asdf) and extract the value of the exposure start time."
   ]
  },
  {
   "cell_type": "code",
   "execution_count": 1,
   "id": "c4156792",
   "metadata": {
    "tags": [
     "raises-exception"
    ]
   },
   "outputs": [
    {
     "ename": "FileNotFoundError",
     "evalue": "[Errno 2] No such file or directory: '../data/r0000101001001001001_01101_0001_WFI01_cal.asdf'",
     "output_type": "error",
     "traceback": [
      "\u001b[0;31m---------------------------------------------------------------------------\u001b[0m",
      "\u001b[0;31mFileNotFoundError\u001b[0m                         Traceback (most recent call last)",
      "Input \u001b[0;32mIn [1]\u001b[0m, in \u001b[0;36m<cell line: 2>\u001b[0;34m()\u001b[0m\n\u001b[1;32m      1\u001b[0m \u001b[38;5;28;01mimport\u001b[39;00m \u001b[38;5;21;01mroman_datamodels\u001b[39;00m \u001b[38;5;28;01mas\u001b[39;00m \u001b[38;5;21;01mrdm\u001b[39;00m\n\u001b[0;32m----> 2\u001b[0m dm \u001b[38;5;241m=\u001b[39m \u001b[43mrdm\u001b[49m\u001b[38;5;241;43m.\u001b[39;49m\u001b[43mopen\u001b[49m\u001b[43m(\u001b[49m\u001b[38;5;124;43m'\u001b[39;49m\u001b[38;5;124;43m../data/r0000101001001001001_01101_0001_WFI01_cal.asdf\u001b[39;49m\u001b[38;5;124;43m'\u001b[39;49m\u001b[43m)\u001b[49m\n\u001b[1;32m      3\u001b[0m dm\u001b[38;5;241m.\u001b[39mmeta\u001b[38;5;241m.\u001b[39mexposure\u001b[38;5;241m.\u001b[39mstart_time\n",
      "File \u001b[0;32m~/.pyenv/versions/anaconda3-2021.11/envs/roman-data-workshop-env/lib/python3.10/site-packages/roman_datamodels/datamodels.py:403\u001b[0m, in \u001b[0;36mopen\u001b[0;34m(init, memmap, target, **kwargs)\u001b[0m\n\u001b[1;32m    401\u001b[0m \u001b[38;5;28;01mtry\u001b[39;00m:\n\u001b[1;32m    402\u001b[0m     kwargs[\u001b[38;5;124m'\u001b[39m\u001b[38;5;124mcopy_arrays\u001b[39m\u001b[38;5;124m'\u001b[39m] \u001b[38;5;241m=\u001b[39m \u001b[38;5;129;01mnot\u001b[39;00m memmap\n\u001b[0;32m--> 403\u001b[0m     asdffile \u001b[38;5;241m=\u001b[39m \u001b[43masdf\u001b[49m\u001b[38;5;241;43m.\u001b[39;49m\u001b[43mopen\u001b[49m\u001b[43m(\u001b[49m\u001b[43minit\u001b[49m\u001b[43m,\u001b[49m\u001b[43m \u001b[49m\u001b[38;5;241;43m*\u001b[39;49m\u001b[38;5;241;43m*\u001b[39;49m\u001b[43mkwargs\u001b[49m\u001b[43m)\u001b[49m\n\u001b[1;32m    404\u001b[0m \u001b[38;5;28;01mexcept\u001b[39;00m \u001b[38;5;167;01mValueError\u001b[39;00m:\n\u001b[1;32m    405\u001b[0m     \u001b[38;5;28;01mraise\u001b[39;00m \u001b[38;5;167;01mTypeError\u001b[39;00m(\n\u001b[1;32m    406\u001b[0m         \u001b[38;5;124m\"\u001b[39m\u001b[38;5;124mOpen requires a filepath, file-like object, or Roman datamodel\u001b[39m\u001b[38;5;124m\"\u001b[39m)\n",
      "File \u001b[0;32m~/.pyenv/versions/anaconda3-2021.11/envs/roman-data-workshop-env/lib/python3.10/site-packages/asdf/asdf.py:1769\u001b[0m, in \u001b[0;36mopen_asdf\u001b[0;34m(fd, uri, mode, validate_checksums, extensions, ignore_version_mismatch, ignore_unrecognized_tag, _force_raw_types, copy_arrays, lazy_load, custom_schema, strict_extension_check, ignore_missing_extensions, _compat, **kwargs)\u001b[0m\n\u001b[1;32m   1758\u001b[0m     readonly \u001b[38;5;241m=\u001b[39m mode \u001b[38;5;241m==\u001b[39m \u001b[38;5;124m\"\u001b[39m\u001b[38;5;124mr\u001b[39m\u001b[38;5;124m\"\u001b[39m \u001b[38;5;129;01mand\u001b[39;00m \u001b[38;5;129;01mnot\u001b[39;00m copy_arrays\n\u001b[1;32m   1760\u001b[0m instance \u001b[38;5;241m=\u001b[39m AsdfFile(\n\u001b[1;32m   1761\u001b[0m     ignore_version_mismatch\u001b[38;5;241m=\u001b[39mignore_version_mismatch,\n\u001b[1;32m   1762\u001b[0m     ignore_unrecognized_tag\u001b[38;5;241m=\u001b[39mignore_unrecognized_tag,\n\u001b[0;32m   (...)\u001b[0m\n\u001b[1;32m   1766\u001b[0m     _readonly\u001b[38;5;241m=\u001b[39mreadonly,\n\u001b[1;32m   1767\u001b[0m )\n\u001b[0;32m-> 1769\u001b[0m \u001b[38;5;28;01mreturn\u001b[39;00m \u001b[43mAsdfFile\u001b[49m\u001b[38;5;241;43m.\u001b[39;49m\u001b[43m_open_impl\u001b[49m\u001b[43m(\u001b[49m\n\u001b[1;32m   1770\u001b[0m \u001b[43m    \u001b[49m\u001b[43minstance\u001b[49m\u001b[43m,\u001b[49m\n\u001b[1;32m   1771\u001b[0m \u001b[43m    \u001b[49m\u001b[43mfd\u001b[49m\u001b[43m,\u001b[49m\n\u001b[1;32m   1772\u001b[0m \u001b[43m    \u001b[49m\u001b[43muri\u001b[49m\u001b[38;5;241;43m=\u001b[39;49m\u001b[43muri\u001b[49m\u001b[43m,\u001b[49m\n\u001b[1;32m   1773\u001b[0m \u001b[43m    \u001b[49m\u001b[43mmode\u001b[49m\u001b[38;5;241;43m=\u001b[39;49m\u001b[43mmode\u001b[49m\u001b[43m,\u001b[49m\n\u001b[1;32m   1774\u001b[0m \u001b[43m    \u001b[49m\u001b[43mvalidate_checksums\u001b[49m\u001b[38;5;241;43m=\u001b[39;49m\u001b[43mvalidate_checksums\u001b[49m\u001b[43m,\u001b[49m\n\u001b[1;32m   1775\u001b[0m \u001b[43m    \u001b[49m\u001b[43mextensions\u001b[49m\u001b[38;5;241;43m=\u001b[39;49m\u001b[43mextensions\u001b[49m\u001b[43m,\u001b[49m\n\u001b[1;32m   1776\u001b[0m \u001b[43m    \u001b[49m\u001b[43m_force_raw_types\u001b[49m\u001b[38;5;241;43m=\u001b[39;49m\u001b[43m_force_raw_types\u001b[49m\u001b[43m,\u001b[49m\n\u001b[1;32m   1777\u001b[0m \u001b[43m    \u001b[49m\u001b[43mstrict_extension_check\u001b[49m\u001b[38;5;241;43m=\u001b[39;49m\u001b[43mstrict_extension_check\u001b[49m\u001b[43m,\u001b[49m\n\u001b[1;32m   1778\u001b[0m \u001b[43m    \u001b[49m\u001b[43mignore_missing_extensions\u001b[49m\u001b[38;5;241;43m=\u001b[39;49m\u001b[43mignore_missing_extensions\u001b[49m\u001b[43m,\u001b[49m\n\u001b[1;32m   1779\u001b[0m \u001b[43m    \u001b[49m\u001b[38;5;241;43m*\u001b[39;49m\u001b[38;5;241;43m*\u001b[39;49m\u001b[43mkwargs\u001b[49m\u001b[43m,\u001b[49m\n\u001b[1;32m   1780\u001b[0m \u001b[43m\u001b[49m\u001b[43m)\u001b[49m\n",
      "File \u001b[0;32m~/.pyenv/versions/anaconda3-2021.11/envs/roman-data-workshop-env/lib/python3.10/site-packages/asdf/asdf.py:910\u001b[0m, in \u001b[0;36mAsdfFile._open_impl\u001b[0;34m(cls, self, fd, uri, mode, validate_checksums, extensions, _get_yaml_content, _force_raw_types, strict_extension_check, ignore_missing_extensions, **kwargs)\u001b[0m\n\u001b[1;32m    894\u001b[0m \u001b[38;5;129m@classmethod\u001b[39m\n\u001b[1;32m    895\u001b[0m \u001b[38;5;28;01mdef\u001b[39;00m \u001b[38;5;21m_open_impl\u001b[39m(\n\u001b[1;32m    896\u001b[0m     \u001b[38;5;28mcls\u001b[39m,\n\u001b[0;32m   (...)\u001b[0m\n\u001b[1;32m    907\u001b[0m     \u001b[38;5;241m*\u001b[39m\u001b[38;5;241m*\u001b[39mkwargs,\n\u001b[1;32m    908\u001b[0m ):\n\u001b[1;32m    909\u001b[0m     \u001b[38;5;124;03m\"\"\"Attempt to open file-like object as either AsdfFile or AsdfInFits\"\"\"\u001b[39;00m\n\u001b[0;32m--> 910\u001b[0m     generic_file \u001b[38;5;241m=\u001b[39m \u001b[43mgeneric_io\u001b[49m\u001b[38;5;241;43m.\u001b[39;49m\u001b[43mget_file\u001b[49m\u001b[43m(\u001b[49m\u001b[43mfd\u001b[49m\u001b[43m,\u001b[49m\u001b[43m \u001b[49m\u001b[43mmode\u001b[49m\u001b[38;5;241;43m=\u001b[39;49m\u001b[43mmode\u001b[49m\u001b[43m,\u001b[49m\u001b[43m \u001b[49m\u001b[43muri\u001b[49m\u001b[38;5;241;43m=\u001b[39;49m\u001b[43muri\u001b[49m\u001b[43m)\u001b[49m\n\u001b[1;32m    911\u001b[0m     file_type \u001b[38;5;241m=\u001b[39m util\u001b[38;5;241m.\u001b[39mget_file_type(generic_file)\n\u001b[1;32m    913\u001b[0m     \u001b[38;5;28;01mif\u001b[39;00m file_type \u001b[38;5;241m==\u001b[39m util\u001b[38;5;241m.\u001b[39mFileType\u001b[38;5;241m.\u001b[39mFITS:\n",
      "File \u001b[0;32m~/.pyenv/versions/anaconda3-2021.11/envs/roman-data-workshop-env/lib/python3.10/site-packages/asdf/generic_io.py:1022\u001b[0m, in \u001b[0;36mget_file\u001b[0;34m(init, mode, uri, close)\u001b[0m\n\u001b[1;32m   1020\u001b[0m     fd \u001b[38;5;241m=\u001b[39m atomicfile\u001b[38;5;241m.\u001b[39matomic_open(realpath, realmode)\n\u001b[1;32m   1021\u001b[0m \u001b[38;5;28;01melse\u001b[39;00m:\n\u001b[0;32m-> 1022\u001b[0m     fd \u001b[38;5;241m=\u001b[39m \u001b[38;5;28;43mopen\u001b[39;49m\u001b[43m(\u001b[49m\u001b[43mrealpath\u001b[49m\u001b[43m,\u001b[49m\u001b[43m \u001b[49m\u001b[43mrealmode\u001b[49m\u001b[43m)\u001b[49m\n\u001b[1;32m   1023\u001b[0m fd \u001b[38;5;241m=\u001b[39m fd\u001b[38;5;241m.\u001b[39m\u001b[38;5;21m__enter__\u001b[39m()\n\u001b[1;32m   1024\u001b[0m \u001b[38;5;28;01mreturn\u001b[39;00m RealFile(fd, mode, close\u001b[38;5;241m=\u001b[39m\u001b[38;5;28;01mTrue\u001b[39;00m, uri\u001b[38;5;241m=\u001b[39muri)\n",
      "\u001b[0;31mFileNotFoundError\u001b[0m: [Errno 2] No such file or directory: '../data/r0000101001001001001_01101_0001_WFI01_cal.asdf'"
     ]
    }
   ],
   "source": [
    "import roman_datamodels as rdm\n",
    "dm = rdm.open('../data/r0000101001001001001_01101_0001_WFI01_cal.asdf')\n",
    "dm.meta.exposure.start_time"
   ]
  },
  {
   "cell_type": "markdown",
   "id": "cd9f1107",
   "metadata": {},
   "source": [
    "2. Change the exposure start time."
   ]
  },
  {
   "cell_type": "code",
   "execution_count": 2,
   "id": "a6cfa332",
   "metadata": {
    "tags": [
     "raises-exception"
    ]
   },
   "outputs": [
    {
     "ename": "NameError",
     "evalue": "name 'dm' is not defined",
     "output_type": "error",
     "traceback": [
      "\u001b[0;31m---------------------------------------------------------------------------\u001b[0m",
      "\u001b[0;31mNameError\u001b[0m                                 Traceback (most recent call last)",
      "Input \u001b[0;32mIn [2]\u001b[0m, in \u001b[0;36m<cell line: 2>\u001b[0;34m()\u001b[0m\n\u001b[1;32m      1\u001b[0m \u001b[38;5;28;01mimport\u001b[39;00m \u001b[38;5;21;01mastropy\u001b[39;00m\u001b[38;5;21;01m.\u001b[39;00m\u001b[38;5;21;01mtime\u001b[39;00m \u001b[38;5;28;01mas\u001b[39;00m \u001b[38;5;21;01matime\u001b[39;00m\n\u001b[0;32m----> 2\u001b[0m \u001b[43mdm\u001b[49m\u001b[38;5;241m.\u001b[39mmeta\u001b[38;5;241m.\u001b[39mexposure\u001b[38;5;241m.\u001b[39mstart_time \u001b[38;5;241m=\u001b[39m atime\u001b[38;5;241m.\u001b[39mTime(\u001b[38;5;124m\"\u001b[39m\u001b[38;5;124m2022-01-01T11:11:11.111\u001b[39m\u001b[38;5;124m\"\u001b[39m)\n\u001b[1;32m      3\u001b[0m dm\u001b[38;5;241m.\u001b[39mmeta\u001b[38;5;241m.\u001b[39mexposure\u001b[38;5;241m.\u001b[39mstart_time\n",
      "\u001b[0;31mNameError\u001b[0m: name 'dm' is not defined"
     ]
    }
   ],
   "source": [
    "import astropy.time as atime\n",
    "dm.meta.exposure.start_time = atime.Time(\"2022-01-01T11:11:11.111\")\n",
    "dm.meta.exposure.start_time"
   ]
  },
  {
   "cell_type": "markdown",
   "id": "15261386",
   "metadata": {},
   "source": [
    "3. Change the exposure start time to \"hello there\". What happens?"
   ]
  },
  {
   "cell_type": "code",
   "execution_count": 3,
   "id": "f4125cc6",
   "metadata": {
    "tags": [
     "raises-exception"
    ]
   },
   "outputs": [
    {
     "ename": "NameError",
     "evalue": "name 'dm' is not defined",
     "output_type": "error",
     "traceback": [
      "\u001b[0;31m---------------------------------------------------------------------------\u001b[0m",
      "\u001b[0;31mNameError\u001b[0m                                 Traceback (most recent call last)",
      "Input \u001b[0;32mIn [3]\u001b[0m, in \u001b[0;36m<cell line: 1>\u001b[0;34m()\u001b[0m\n\u001b[0;32m----> 1\u001b[0m \u001b[43mdm\u001b[49m\u001b[38;5;241m.\u001b[39mmeta\u001b[38;5;241m.\u001b[39mexposure\u001b[38;5;241m.\u001b[39mstart_time \u001b[38;5;241m=\u001b[39m \u001b[38;5;124m\"\u001b[39m\u001b[38;5;124mhello there\u001b[39m\u001b[38;5;124m\"\u001b[39m\n",
      "\u001b[0;31mNameError\u001b[0m: name 'dm' is not defined"
     ]
    }
   ],
   "source": [
    "dm.meta.exposure.start_time = \"hello there\""
   ]
  },
  {
   "cell_type": "markdown",
   "id": "06c44d8b",
   "metadata": {},
   "source": [
    "4. Go to the rad repository, and use the example above and the schema for the flat field to create a reference file for a flat field (yes, all reference files have corresponding data models). Note that there is a fairly straightfoward algorithm that maps the schema name into a class name (underscores are removed and the elements thus separated are capitalized before joining. E.g., cal_step becomes CalStep)."
   ]
  },
  {
   "cell_type": "code",
   "execution_count": 4,
   "id": "0ee0dd03",
   "metadata": {},
   "outputs": [],
   "source": [
    "import asdf\n",
    "import numpy as np\n",
    "import roman_datamodels.datamodels as rdmd\n",
    "import roman_datamodels.stnode as rdnode\n",
    "meta = {}\n",
    "# Populate common part.\n",
    "meta['reftype'] = 'FLAT'\n",
    "meta['pedigree'] = 'GROUND'\n",
    "meta['description'] = 'Flat field reference file'\n",
    "meta['author'] = 'Stephen King'\n",
    "meta['useafter'] = atime.Time('2022-01-01T11:11:11.111')\n",
    "meta['telescope'] = 'ROMAN'\n",
    "# STSCI is the ONLY valid origin at this time\n",
    "meta['origin'] = 'STSCI'\n",
    "instr = {}\n",
    "instr['name'] = 'WFI'\n",
    "instr['detector'] = 'WFI01'\n",
    "instr['optical_element'] = 'GRISM'\n",
    "meta['instrument'] = instr\n",
    "# Populate Flat part.\n",
    "\n",
    "flatref = rdnode.FlatRef()\n",
    "flatref['meta'] = meta\n",
    "flatref['data'] = np.ones((100, 100), dtype=np.float32)\n",
    "flatref['dq'] = np.zeros((100, 100), dtype=np.uint32)\n",
    "flatref['err'] = np.ones((100, 100), dtype=np.float32)\n",
    "af = asdf.AsdfFile()\n",
    "af.tree = {'roman': flatref}\n",
    "af.write_to('ref_flat_field.asdf')"
   ]
  },
  {
   "cell_type": "code",
   "execution_count": 5,
   "id": "f9bb51e4",
   "metadata": {},
   "outputs": [],
   "source": [
    "dm2 = rdmd.open('ref_flat_field.asdf')"
   ]
  },
  {
   "cell_type": "code",
   "execution_count": 6,
   "id": "207c4cf8",
   "metadata": {},
   "outputs": [
    {
     "data": {
      "text/plain": [
       "roman_datamodels.datamodels.FlatRefModel"
      ]
     },
     "execution_count": 6,
     "metadata": {},
     "output_type": "execute_result"
    }
   ],
   "source": [
    "type(dm2)"
   ]
  },
  {
   "cell_type": "code",
   "execution_count": 7,
   "id": "256d9ed2",
   "metadata": {},
   "outputs": [
    {
     "data": {
      "text/plain": [
       "{'author': 'Stephen King', 'description': 'Flat field reference file', 'instrument': {'detector': 'WFI01', 'name': 'WFI', 'optical_element': 'GRISM'}, 'origin': 'SSC', 'pedigree': 'GROUND', 'reftype': 'FLAT', 'telescope': 'ROMAN', 'useafter': <Time object: scale='utc' format='isot' value=2022-01-01T11:11:11.111>}"
      ]
     },
     "execution_count": 7,
     "metadata": {},
     "output_type": "execute_result"
    }
   ],
   "source": [
    "dm2.meta"
   ]
  },
  {
   "cell_type": "code",
   "execution_count": 8,
   "id": "2311a46f",
   "metadata": {},
   "outputs": [],
   "source": [
    "dm2.meta.author = 'Bozo the Clown'"
   ]
  },
  {
   "cell_type": "code",
   "execution_count": 9,
   "id": "1d388228",
   "metadata": {},
   "outputs": [
    {
     "data": {
      "text/plain": [
       "{'author': 'Bozo the Clown', 'description': 'Flat field reference file', 'instrument': {'detector': 'WFI01', 'name': 'WFI', 'optical_element': 'GRISM'}, 'origin': 'SSC', 'pedigree': 'GROUND', 'reftype': 'FLAT', 'telescope': 'ROMAN', 'useafter': <Time object: scale='utc' format='isot' value=2022-01-01T11:11:11.111>}"
      ]
     },
     "execution_count": 9,
     "metadata": {},
     "output_type": "execute_result"
    }
   ],
   "source": [
    "dm2.meta"
   ]
  },
  {
   "cell_type": "code",
   "execution_count": 10,
   "id": "18749026",
   "metadata": {
    "tags": [
     "raises-exception"
    ]
   },
   "outputs": [
    {
     "ename": "NameError",
     "evalue": "name 'instrument' is not defined",
     "output_type": "error",
     "traceback": [
      "\u001b[0;31m---------------------------------------------------------------------------\u001b[0m",
      "\u001b[0;31mNameError\u001b[0m                                 Traceback (most recent call last)",
      "Input \u001b[0;32mIn [10]\u001b[0m, in \u001b[0;36m<cell line: 1>\u001b[0;34m()\u001b[0m\n\u001b[0;32m----> 1\u001b[0m \u001b[43minstrument\u001b[49m\n",
      "\u001b[0;31mNameError\u001b[0m: name 'instrument' is not defined"
     ]
    }
   ],
   "source": [
    "instrument"
   ]
  },
  {
   "cell_type": "code",
   "execution_count": 11,
   "id": "af33324f",
   "metadata": {
    "tags": [
     "raises-exception"
    ]
   },
   "outputs": [
    {
     "ename": "ValidationError",
     "evalue": "While validating author the following error occurred:\n77 is not of type 'string'\n\nFailed validating 'type' in schema:\n    {'$schema': 'http://stsci.edu/schemas/asdf-schema/0.1.0/asdf-schema',\n     'title': 'Author of the reference file',\n     'type': 'string'}\n\nOn instance:\n    77",
     "output_type": "error",
     "traceback": [
      "\u001b[0;31m---------------------------------------------------------------------------\u001b[0m",
      "\u001b[0;31mValidationError\u001b[0m                           Traceback (most recent call last)",
      "Input \u001b[0;32mIn [11]\u001b[0m, in \u001b[0;36m<cell line: 1>\u001b[0;34m()\u001b[0m\n\u001b[0;32m----> 1\u001b[0m dm2\u001b[38;5;241m.\u001b[39mmeta\u001b[38;5;241m.\u001b[39mauthor \u001b[38;5;241m=\u001b[39m \u001b[38;5;241m77\u001b[39m\n",
      "File \u001b[0;32m~/.pyenv/versions/anaconda3-2021.11/envs/roman-data-workshop-env/lib/python3.10/site-packages/roman_datamodels/stnode.py:182\u001b[0m, in \u001b[0;36mDNode.__setattr__\u001b[0;34m(self, key, value)\u001b[0m\n\u001b[1;32m    180\u001b[0m     \u001b[38;5;28;01melse\u001b[39;00m:\n\u001b[1;32m    181\u001b[0m         schema \u001b[38;5;241m=\u001b[39m schema\u001b[38;5;241m.\u001b[39mget(key, \u001b[38;5;28;01mNone\u001b[39;00m)\n\u001b[0;32m--> 182\u001b[0m     \u001b[38;5;28;01mif\u001b[39;00m schema \u001b[38;5;129;01mis\u001b[39;00m \u001b[38;5;28;01mNone\u001b[39;00m \u001b[38;5;129;01mor\u001b[39;00m \u001b[43m_validate\u001b[49m\u001b[43m(\u001b[49m\u001b[43mkey\u001b[49m\u001b[43m,\u001b[49m\u001b[43m \u001b[49m\u001b[43mvalue\u001b[49m\u001b[43m,\u001b[49m\u001b[43m \u001b[49m\u001b[43mschema\u001b[49m\u001b[43m,\u001b[49m\u001b[43m \u001b[49m\u001b[38;5;28;43mself\u001b[39;49m\u001b[38;5;241;43m.\u001b[39;49m\u001b[43mctx\u001b[49m\u001b[43m)\u001b[49m:\n\u001b[1;32m    183\u001b[0m         \u001b[38;5;28mself\u001b[39m\u001b[38;5;241m.\u001b[39m_data[key] \u001b[38;5;241m=\u001b[39m value\n\u001b[1;32m    184\u001b[0m \u001b[38;5;28mself\u001b[39m\u001b[38;5;241m.\u001b[39m\u001b[38;5;18m__dict__\u001b[39m[\u001b[38;5;124m'\u001b[39m\u001b[38;5;124m_data\u001b[39m\u001b[38;5;124m'\u001b[39m][key] \u001b[38;5;241m=\u001b[39m value\n",
      "File \u001b[0;32m~/.pyenv/versions/anaconda3-2021.11/envs/roman-data-workshop-env/lib/python3.10/site-packages/roman_datamodels/stnode.py:96\u001b[0m, in \u001b[0;36m_validate\u001b[0;34m(attr, instance, schema, ctx)\u001b[0m\n\u001b[1;32m     94\u001b[0m \u001b[38;5;28;01mdef\u001b[39;00m \u001b[38;5;21m_validate\u001b[39m(attr, instance, schema, ctx):\n\u001b[1;32m     95\u001b[0m     tagged_tree \u001b[38;5;241m=\u001b[39m yamlutil\u001b[38;5;241m.\u001b[39mcustom_tree_to_tagged_tree(instance, ctx)\n\u001b[0;32m---> 96\u001b[0m     \u001b[38;5;28;01mreturn\u001b[39;00m \u001b[43m_value_change\u001b[49m\u001b[43m(\u001b[49m\u001b[43mattr\u001b[49m\u001b[43m,\u001b[49m\u001b[43m \u001b[49m\u001b[43mtagged_tree\u001b[49m\u001b[43m,\u001b[49m\u001b[43m \u001b[49m\u001b[43mschema\u001b[49m\u001b[43m,\u001b[49m\u001b[43m \u001b[49m\u001b[38;5;28;43;01mFalse\u001b[39;49;00m\u001b[43m,\u001b[49m\u001b[43m \u001b[49m\u001b[43mstrict_validation\u001b[49m\u001b[43m,\u001b[49m\u001b[43m \u001b[49m\u001b[43mctx\u001b[49m\u001b[43m)\u001b[49m\n",
      "File \u001b[0;32m~/.pyenv/versions/anaconda3-2021.11/envs/roman-data-workshop-env/lib/python3.10/site-packages/roman_datamodels/stnode.py:68\u001b[0m, in \u001b[0;36m_value_change\u001b[0;34m(path, value, schema, pass_invalid_values, strict_validation, ctx)\u001b[0m\n\u001b[1;32m     66\u001b[0m     update \u001b[38;5;241m=\u001b[39m \u001b[38;5;28;01mTrue\u001b[39;00m\n\u001b[1;32m     67\u001b[0m \u001b[38;5;28;01mif\u001b[39;00m strict_validation:\n\u001b[0;32m---> 68\u001b[0m     \u001b[38;5;28;01mraise\u001b[39;00m jsonschema\u001b[38;5;241m.\u001b[39mValidationError(errmsg)\n\u001b[1;32m     69\u001b[0m \u001b[38;5;28;01melse\u001b[39;00m:\n\u001b[1;32m     70\u001b[0m     warnings\u001b[38;5;241m.\u001b[39mwarn(errmsg, ValidationWarning)\n",
      "\u001b[0;31mValidationError\u001b[0m: While validating author the following error occurred:\n77 is not of type 'string'\n\nFailed validating 'type' in schema:\n    {'$schema': 'http://stsci.edu/schemas/asdf-schema/0.1.0/asdf-schema',\n     'title': 'Author of the reference file',\n     'type': 'string'}\n\nOn instance:\n    77"
     ]
    }
   ],
   "source": [
    "dm2.meta.author = 77"
   ]
  },
  {
   "cell_type": "code",
   "execution_count": null,
   "id": "6d5c9c95",
   "metadata": {},
   "outputs": [],
   "source": []
  }
 ],
 "metadata": {
  "celltoolbar": "Tags",
  "kernelspec": {
   "display_name": "Python 3 (ipykernel)",
   "language": "python",
   "name": "python3"
  },
  "language_info": {
   "codemirror_mode": {
    "name": "ipython",
    "version": 3
   },
   "file_extension": ".py",
   "mimetype": "text/x-python",
   "name": "python",
   "nbconvert_exporter": "python",
   "pygments_lexer": "ipython3",
   "version": "3.10.5"
  }
 },
 "nbformat": 4,
 "nbformat_minor": 5
}
