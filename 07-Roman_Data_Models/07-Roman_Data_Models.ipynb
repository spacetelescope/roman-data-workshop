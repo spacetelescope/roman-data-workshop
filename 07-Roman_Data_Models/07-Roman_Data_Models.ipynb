{
 "cells": [
  {
   "cell_type": "markdown",
   "id": "2e2eba88",
   "metadata": {},
   "source": [
    "Roman Data Models\n",
    "==================="
   ]
  },
  {
   "cell_type": "markdown",
   "id": "301a7a89",
   "metadata": {},
   "source": [
    "Pipeline Architecture Overview\n",
    "--------------------------------------"
   ]
  },
  {
   "cell_type": "markdown",
   "id": "1926e06a",
   "metadata": {},
   "source": [
    "**Based on lessons learned from JWST, in turn based on lessons learned from HST.**\n",
    "\n",
    "- HST pipelines tended to be monolithic code with little modularity.\n",
    "- Common algorithms often cut and pasted, and eventually diverged, leading to maintenance headaches.\n",
    "- Inordinate dependencies on FITS keywords in the code itself; changes in input file metadata led to difficulties maintaining code depending on such details.\n",
    "- WCS needed a better solution.\n",
    "- Reference file management system led to many problems and an error-prone system.\n",
    "\n",
    "**JWST architecture designed to address these shortcomings**\n",
    "\n",
    "- Modularize pipelines into steps where common step functionality put into a separate library shared by all steps (`stpipe`).\n",
    " - Handles obtaining proper reference files.\n",
    " - Input/output options.\n",
    " - Logging.\n",
    " - Configuration and handling options for processing.\n",
    "- Adopt Python Data Models to isolate dependencies on input file details to the I/O components of the pipeline; calibration code requires fewer changes when the file details change (required to support FITS).\n",
    "- Develop ASDF as an alternate format to FITS, and use in all cases for WCS information for unresampled data, layered on a more capable WCS library (Generalized WCS).\n",
    "- Validation checks that files match expectations (useful to detect mismatched file/pipeline problems).\n",
    "\n",
    "**Changes based on JWST experience**\n",
    "\n",
    "- Extracting calibration code common between JWST and Roman into stcal.\n",
    "- Merge Calibration and Data Management Systems schemas to keep Calibration pipelines in synch with what the DMS system is producing for for Level 1 Files.\n",
    "  - DMS uses the schemas to indicate sources of the information, and where the metadata ends up in the archive catalogs.\n",
    "- FITS support seriously complicates the JWST data model machinery; dropped for Roman.\n",
    "- Python Data Model mostly driven by ASDF schema files, mostly using tags (JWST uses few ASDF tags).\n",
    "- Previous schema system resulted in kitchen sink schemas that had many irrelevant attributes for any specific data model. New data model machinery avoids this.\n",
    "\n",
    "**Components of the Roman Pipeline Architecture**\n",
    "\n",
    "- CRDS (for reference file management)\n",
    "- stpipe for Step infrastructure\n",
    "- stcal for generic calibration code\n",
    "- Schemas based on tags\n",
    "- Data Models defined by Schemas\n",
    "\n",
    "**Respositories related to the architecture**\n",
    "\n",
    "- Located in the [spacetelescope/rad](https://github.com/spacetelescope/rad) repository.\n",
    "- Roman Data Models machinery located in [spacetelescope/roman_datamodels](https://github.com/spacetelescope/roman_datamodels) repository.\n",
    "- Most Data Model elements derived by the schemas.\n",
    "  - Those that need customizations have those applied in roman_datamodels.\n",
    "  - Only top-level data models require entries in roman_datamodels.\n",
    "- Top level calibration code located in [spacetelescope/romancal](https://github.com/spacetelescope/romancal) respository.\n",
    "- Generic shared calibration code located in [spacetelescope/stcal](https://github.com/spacetelescope/stcal) respository.\n",
    "\n",
    "**Data Models and Schemas**\n",
    "\n",
    "- Roman datamodels consist of a nested set of nodes, most of which are associated with a tag, and thus have a Python object type.\n",
    "- Rather than a node's type implicitly defined by which attribute it is found under, it has a type independent of where in the ASDF tree it is found. \n",
    "- The expected attributes a node has is defined by the schema associated with the node's tag.\n",
    "- The association of tags and schemas is defined in a manifest file located in the RAD repository.\n",
    "\n",
    "The following illustrates a few of the components of an ASDF file as defined by the schemas. We will look at that for the level 2 product.\n",
    "\n",
    "**Note on location of schemas discussed below.** These are found in the [spacetelescope/rad](https://github.com/spacetelescope/rad) respository in the following directory: `src/rad/resources/schemas`. Those for reference files are located in the `reference_files` subdirectory.\n",
    "\n",
    "**Level 2 top level schema** (`wfi_image-1.0.0.yaml`)"
   ]
  },
  {
   "cell_type": "markdown",
   "id": "e73188cd",
   "metadata": {},
   "source": [
    "```\n",
    "%YAML 1.1\n",
    "---\n",
    "$schema: asdf://stsci.edu/datamodels/roman/schemas/rad_schema-1.0.0\n",
    "id: asdf://stsci.edu/datamodels/roman/schemas/wfi_image-1.0.0\n",
    "\n",
    "title: |\n",
    "  The schema for WFI Level 2 images.\n",
    "\n",
    "type: object\n",
    "properties:\n",
    "  meta:\n",
    "    allOf:\n",
    "      - $ref: common-1.0.0\n",
    "      - type: object\n",
    "        properties:\n",
    "          photometry:\n",
    "            tag: asdf://stsci.edu/datamodels/roman/tags/photometry-1.0.0\n",
    "        required: [photometry]\n",
    "```"
   ]
  },
  {
   "cell_type": "markdown",
   "id": "7cd637bd",
   "metadata": {},
   "source": [
    "The general structure of the data model is to place all major arrays at the top level, and all metadata under the `meta` attribute. Since the content of `meta` varies with the type of data, it itself has no tag, but instead uses an include mechanism to merge different content. The schema pointed to by `$ref`, `common-1.0.0`, contains all metadata expected for all Roman data. In this case one more attribute is added to that with the name `photometry`, which has a tag specifying the content expected. The content associated with `common-1.0.0` will be examined after this schema.\n",
    "\n",
    "What follows the specification of what is expected in meta are the description of the expected data arrays. As can be seen, they are all tagged as being array types, along with requirements on the expected element type and the number of dimensions. There is associated information such as title, which is a short description of the attribute."
   ]
  },
  {
   "cell_type": "markdown",
   "id": "df620e96",
   "metadata": {},
   "source": [
    "**Top level schema for Level 2 products**"
   ]
  },
  {
   "cell_type": "markdown",
   "id": "af95b872",
   "metadata": {},
   "source": [
    "  \n",
    "  ```\n",
    "  data:\n",
    "    title: Science data, excluding border reference pixels.\n",
    "    tag: tag:stsci.edu:asdf/core/ndarray-1.0.0\n",
    "    datatype: float32\n",
    "    ndim: 2\n",
    "  dq:\n",
    "    tag: tag:stsci.edu:asdf/core/ndarray-1.0.0\n",
    "    datatype: uint32\n",
    "    ndim: 2\n",
    "  err:\n",
    "    tag: tag:stsci.edu:asdf/core/ndarray-1.0.0\n",
    "    datatype: float32\n",
    "    ndim: 2\n",
    "  var_poisson:\n",
    "    tag: tag:stsci.edu:asdf/core/ndarray-1.0.0\n",
    "    datatype: float32\n",
    "    ndim: 2\n",
    "  var_rnoise:\n",
    "    tag: tag:stsci.edu:asdf/core/ndarray-1.0.0\n",
    "    datatype: float32\n",
    "    ndim: 2\n",
    "  var_flat:\n",
    "    tag: tag:stsci.edu:asdf/core/ndarray-1.0.0\n",
    "    datatype: float32\n",
    "    ndim: 2\n",
    "  amp33:\n",
    "    title: Amp 33 reference pixel data\n",
    "    tag: tag:stsci.edu:asdf/core/ndarray-1.0.0\n",
    "    datatype: uint16\n",
    "    ndim: 3\n",
    "  border_ref_pix_left:\n",
    "    title: Original border reference pixels, on left (from viewers perspective).\n",
    "    tag: tag:stsci.edu:asdf/core/ndarray-1.0.0\n",
    "    datatype: float32\n",
    "    ndim: 3\n",
    "  border_ref_pix_right:\n",
    "    title: Original border reference pixels, on right (from viewers perspective).\n",
    "    tag: tag:stsci.edu:asdf/core/ndarray-1.0.0\n",
    "    datatype: float32\n",
    "    ndim: 3\n",
    "  border_ref_pix_top:\n",
    "    title: Original border reference pixels, on top.\n",
    "    tag: tag:stsci.edu:asdf/core/ndarray-1.0.0\n",
    "    datatype: float32\n",
    "    ndim: 3\n",
    "  border_ref_pix_bottom:\n",
    "    title: Original border reference pixels, on bottom.\n",
    "    tag: tag:stsci.edu:asdf/core/ndarray-1.0.0\n",
    "    datatype: float32\n",
    "    ndim: 3\n",
    "  dq_border_ref_pix_left:\n",
    "    title: DQ for border reference pixels, on left (from viewers perspective).\n",
    "    tag: tag:stsci.edu:asdf/core/ndarray-1.0.0\n",
    "    datatype: uint32\n",
    "    ndim: 2\n",
    "  dq_border_ref_pix_right:\n",
    "    title: DQ for border reference pixels, on right (from viewers perspective).\n",
    "    tag: tag:stsci.edu:asdf/core/ndarray-1.0.0\n",
    "    datatype: uint32\n",
    "    ndim: 2\n",
    "  dq_border_ref_pix_top:\n",
    "    title: DQ for border reference pixels, on top.\n",
    "    tag: tag:stsci.edu:asdf/core/ndarray-1.0.0\n",
    "    datatype: uint32\n",
    "    ndim: 2\n",
    "  dq_border_ref_pix_bottom:\n",
    "    title: DQ for border reference pixels, on bottom.\n",
    "    tag: tag:stsci.edu:asdf/core/ndarray-1.0.0\n",
    "    datatype: uint32\n",
    "    ndim: 2\n",
    "  cal_logs:\n",
    "    tag: asdf://stsci.edu/datamodels/roman/tags/cal_logs-1.0.0\n",
    "  ```"
   ]
  },
  {
   "cell_type": "markdown",
   "id": "624b750f",
   "metadata": {},
   "source": [
    "The final part of the schema indicates the order that the attributes should appear in the YAML content. This is mainly for visual consistency rather than seeing unpredictable locations.\n",
    "\n",
    "`flowStyle` indicates which of the two formatting options that YAML can use. `block` indicates that indented formatting is to be used. \n",
    "\n",
    "Finally `required` indicates which attributes must be present (which in this case is all of them)."
   ]
  },
  {
   "cell_type": "markdown",
   "id": "d517947b",
   "metadata": {},
   "source": [
    "```\n",
    "propertyOrder: [meta, data, dq, err, var_poisson, var_rnoise, var_flat,\n",
    "                amp33, border_ref_pix_left, border_ref_pix_right,\n",
    "                border_ref_pix_top, border_ref_pix_bottom,\n",
    "                dq_border_ref_pix_left, dq_border_ref_pix_right,\n",
    "                dq_border_ref_pix_top, dq_border_ref_pix_bottom, cal_logs]\n",
    "flowStyle: block\n",
    "required: [meta, data, dq, err, var_poisson, var_rnoise, amp33,\n",
    "           border_ref_pix_left, border_ref_pix_right, border_ref_pix_top,\n",
    "           border_ref_pix_bottom, dq_border_ref_pix_left,\n",
    "           dq_border_ref_pix_right, dq_border_ref_pix_top,\n",
    "           dq_border_ref_pix_bottom, cal_logs]\n",
    "...\n",
    "```"
   ]
  },
  {
   "cell_type": "markdown",
   "id": "e1547258",
   "metadata": {},
   "source": [
    "What follows is the schema for the common elements in the metadata expected in all Roman data products\n",
    "\n",
    "**common-1.0.0.yaml**"
   ]
  },
  {
   "cell_type": "markdown",
   "id": "1969885c",
   "metadata": {},
   "source": [
    "```\n",
    "%YAML 1.1\n",
    "---\n",
    "$schema: asdf://stsci.edu/datamodels/roman/schemas/rad_schema-1.0.0\n",
    "id: asdf://stsci.edu/datamodels/roman/schemas/common-1.0.0\n",
    "\n",
    "title: Common metadata properties\n",
    "\n",
    "allOf:\n",
    "# Meta Variables\n",
    "- $ref: asdf://stsci.edu/datamodels/roman/schemas/basic-1.0.0\n",
    "- type: object\n",
    "  properties:\n",
    "    # Meta Objects\n",
    "    aperture:\n",
    "      tag: asdf://stsci.edu/datamodels/roman/tags/aperture-1.0.0\n",
    "    cal_step:\n",
    "      tag: asdf://stsci.edu/datamodels/roman/tags/cal_step-1.0.0\n",
    "    coordinates:\n",
    "      tag: asdf://stsci.edu/datamodels/roman/tags/coordinates-1.0.0\n",
    "    ephemeris:\n",
    "      tag: asdf://stsci.edu/datamodels/roman/tags/ephemeris-1.0.0\n",
    "    exposure:\n",
    "      tag: asdf://stsci.edu/datamodels/roman/tags/exposure-1.0.0\n",
    "    guidestar:\n",
    "      tag: asdf://stsci.edu/datamodels/roman/tags/guidestar-1.0.0\n",
    "    instrument:\n",
    "      tag: asdf://stsci.edu/datamodels/roman/tags/wfi_mode-1.0.0\n",
    "    observation:\n",
    "      tag: asdf://stsci.edu/datamodels/roman/tags/observation-1.0.0\n",
    "    pointing:\n",
    "      tag: asdf://stsci.edu/datamodels/roman/tags/pointing-1.0.0\n",
    "    program:\n",
    "      tag: asdf://stsci.edu/datamodels/roman/tags/program-1.0.0\n",
    "    ref_file:\n",
    "      tag: asdf://stsci.edu/datamodels/roman/tags/ref_file-1.0.0\n",
    "    target:\n",
    "      tag: asdf://stsci.edu/datamodels/roman/tags/target-1.0.0\n",
    "    velocity_aberration:\n",
    "      tag: asdf://stsci.edu/datamodels/roman/tags/velocity_aberration-1.0.0\n",
    "    visit:\n",
    "      tag: asdf://stsci.edu/datamodels/roman/tags/visit-1.0.0\n",
    "    wcsinfo:\n",
    "      tag: asdf://stsci.edu/datamodels/roman/tags/wcsinfo-1.0.0\n",
    "  required: [aperture, cal_step, coordinates, ephemeris, exposure, guidestar,\n",
    "             instrument, observation, pointing, program, ref_file,\n",
    "             target, velocity_aberration, visit, wcsinfo]\n",
    "...\n",
    "```"
   ]
  },
  {
   "cell_type": "markdown",
   "id": "5e7b6c38",
   "metadata": {},
   "source": [
    "Notice that all the attributes in this schema reference tags, and that all are required. We will take a look at one one of these, instrument, below.\n",
    "\n",
    "**wfi_mode-1.0.0.yaml**"
   ]
  },
  {
   "cell_type": "markdown",
   "id": "09c0197b",
   "metadata": {},
   "source": [
    "```\n",
    "YAML 1.1\n",
    "---\n",
    "$schema: asdf://stsci.edu/datamodels/roman/schemas/rad_schema-1.0.0\n",
    "id: asdf://stsci.edu/datamodels/roman/schemas/wfi_mode-1.0.0\n",
    "\n",
    "\n",
    "title: |\n",
    "  WFI observing configuration\n",
    "type: object\n",
    "properties:\n",
    "  name:\n",
    "    title: Instrument used to acquire the data\n",
    "    type: string\n",
    "    enum: [WFI]\n",
    "    sdf:\n",
    "      special_processing: VALUE_REQUIRED\n",
    "      source:\n",
    "        origin: TBD\n",
    "    archive_catalog:\n",
    "      datatype: nvarchar(5)\n",
    "      destination: [ScienceCommon.instrument_name]\n",
    "  detector:\n",
    "    $ref: wfi_detector-1.0.0\n",
    "    sdf:\n",
    "      special_processing: VALUE_REQUIRED\n",
    "      source:\n",
    "        origin: TBD\n",
    "    archive_catalog:\n",
    "      datatype: nvarchar(10)\n",
    "      destination: [ScienceCommon.detector]\n",
    "  optical_element:\n",
    "    $ref: wfi_optical_element-1.0.0\n",
    "    sdf:\n",
    "      special_processing: VALUE_REQUIRED\n",
    "      source:\n",
    "        origin: TBD\n",
    "    archive_catalog:\n",
    "      datatype: nvarchar(20)\n",
    "      destination: [ScienceCommon.optical_element]\n",
    "propertyOrder: [detector, optical_element, name]\n",
    "flowStyle: block\n",
    "required: [detector, optical_element, name]\n",
    "...\n",
    "```"
   ]
  },
  {
   "cell_type": "markdown",
   "id": "09c40087",
   "metadata": {},
   "source": [
    "We can see that the instrument attribute has the attributes: `name`, `detector`, and `optical_element`. The `optical_element` attribute refers to yet another schema that specifies what values are acceptable (which we will not examine).\n",
    "\n",
    "Notice that the special Data Management System information is present for these attribute, in particular `sdf` and `archive_catalog`, which are to be used to indicate to the DMS how these values are populated and where they will end up in the archive catalog."
   ]
  },
  {
   "cell_type": "markdown",
   "id": "a262c957",
   "metadata": {},
   "source": [
    "Relation to Roman Data Models\n",
    "------------------------------------------"
   ]
  },
  {
   "cell_type": "markdown",
   "id": "e688bb2c",
   "metadata": {},
   "source": [
    "Roman data files can be opened in two different ways. Directly in ASDF using `asdf.open` or through `roman_datamodels` through its `open` function. The roman_datamodels interface provides more functionality and conveniences, namely in returning a datamodels object and alowing use of dotted attribute notation for accessing items in the data set (as illustrated in tutorial (xxx link). For example in the above case the following would be relevant:"
   ]
  },
  {
   "cell_type": "code",
   "execution_count": null,
   "id": "6aa83c51",
   "metadata": {},
   "outputs": [],
   "source": [
    "import roman_datamodels as rdm\n",
    "dm = rdm.open('../data/r0000101001001001001_01101_0001_WFI01_cal.asdf')\n",
    "print('type of data model: ', type(dm))\n",
    "print('shape of error array: ', dm.err.shape)\n",
    "print('type of dm.meta.insrument: ', type(dm.meta.instrument))\n",
    "print('optical_element = ', dm.meta.instrument.optical_element)"
   ]
  },
  {
   "cell_type": "markdown",
   "id": "c9e95743",
   "metadata": {},
   "source": [
    "In general, the Roman datamodel object classes are generated automatically from the schemas with a few exceptions, one of which is `WfiMode`. In that case an attribute `filter` is added to return the value of `optical_element` to provide consistency with JWST calibration code that is generic enough to share with Roman (and which is located in the stcal repository). In most cases each roman_datamodel node has an object type, but is basically a structure which has attributes as defined in the schema (which of course presumes that the attribute names are legal Python variable names). "
   ]
  },
  {
   "cell_type": "markdown",
   "id": "3f3452fd",
   "metadata": {},
   "source": [
    "Managing changes to schemas and data models\n",
    "-----------------------------------------------------------"
   ]
  },
  {
   "cell_type": "markdown",
   "id": "60c373dd",
   "metadata": {},
   "source": [
    "Normally such changes are made as follows:\n",
    "\n",
    "- first to [spacetelescope/rad](https://github.com/spacetelescope/rad) by adding the appropriate schema in the correct place. \n",
    "- Then a corresponding change must be made to the manifest to link the tag with the schema. \n",
    "- The manifest file is located in the `spacetelescope/rad` respository with this path: `src/rad/resources/manifests/datamodels-1.0.yaml`. Part of the existing manifest file is shown below to indicate the typical contents."
   ]
  },
  {
   "cell_type": "markdown",
   "id": "e1a9ff9a",
   "metadata": {},
   "source": [
    "```\n",
    "%YAML 1.1\n",
    "---\n",
    "id: asdf://stsci.edu/datamodels/roman/manifests/datamodels-1.0\n",
    "extension_uri: asdf://stsci.edu/datamodels/roman/extensions/datamodels-1.0\n",
    "title: Datamodels extension 1.0\n",
    "description: |-\n",
    "  A set of tags for serializing STScI Roman datamodels.\n",
    "asdf_standard_requirement:\n",
    "  gte: 1.1.0\n",
    "tags:\n",
    "# Object Modules\n",
    "- tag_uri: asdf://stsci.edu/datamodels/roman/tags/guidewindow-1.0.0\n",
    "  schema_uri: asdf://stsci.edu/datamodels/roman/schemas/guidewindow-1.0.0\n",
    "  title: Guide window schema\n",
    "  description: |-\n",
    "    Guide window schema\n",
    "- tag_uri: asdf://stsci.edu/datamodels/roman/tags/ramp-1.0.0\n",
    "  schema_uri: asdf://stsci.edu/datamodels/roman/schemas/ramp-1.0.0\n",
    "  title: Ramp schema\n",
    "  description: |-\n",
    "    Ramp schema\n",
    "- tag_uri: asdf://stsci.edu/datamodels/roman/tags/ramp_fit_output-1.0.0\n",
    "  schema_uri: asdf://stsci.edu/datamodels/roman/schemas/ramp_fit_output-1.0.0\n",
    "  title: Ramp fit output schema\n",
    "  description: |-\n",
    "    Ramp fit output schema\n",
    "- tag_uri: asdf://stsci.edu/datamodels/roman/tags/wfi_science_raw-1.0.0\n",
    "  schema_uri: asdf://stsci.edu/datamodels/roman/schemas/wfi_science_raw-1.0.0\n",
    "  title: Roman WFI Raw Science Data datamodel\n",
    "  description: |-\n",
    "    Basic Roman Raw Science\n",
    "- tag_uri: asdf://stsci.edu/datamodels/roman/tags/wfi_image-1.0.0\n",
    "  schema_uri: asdf://stsci.edu/datamodels/roman/schemas/wfi_image-1.0.0\n",
    "  title: Wfi level 2 image information\n",
    "  description: |-\n",
    "    Wfi level 2 image information\n",
    "< rest of file not shown>\n",
    "```"
   ]
  },
  {
   "cell_type": "markdown",
   "id": "d439b6a5",
   "metadata": {},
   "source": [
    "The last shown item associates the `wfi_image` tag with the corresponding schema file. The machinery that uses these values determines where in the source tree the schema file is actually located.\n",
    "\n",
    "Once the schema respository is updated, and released, any changes needed in the `roman_datamodels` code can be made and a corresponding release made. In most cases this may only involve updating the version of the manifest file referred to (though unlike most other version handling, so long as previous tag/schema associations are not changed, it is not necessary to change the version of the manifest file, in which case, no changes are needed to roman_datamodels if no customizations are needed to the new datamodel objects to support new schemas.\n",
    "\n",
    "Such customizations are only needed if special processing is needed to add extra attributes or methods, or modify the values found in the file (e.g., changing the units of values or some other transformation)."
   ]
  },
  {
   "cell_type": "markdown",
   "id": "222c3db2",
   "metadata": {},
   "source": [
    "stcal\n",
    "--------\n",
    "\n",
    "[stcal](https://github.com/spacetelescope/stcal)  probably is not relevant to SSC purposes unless there is a need to use generic code that is being used by STScI for both Roman and JWST calibration pipelines. It doesn't hurt to know what exists in it to avoid reinventing the wheel. If something is there is almost what is needed, and where a new option would make it useful for SSC purposes, it would save much work to coordinate changes there.\n"
   ]
  },
  {
   "cell_type": "markdown",
   "id": "eb2ee318",
   "metadata": {},
   "source": [
    "Building a Roman Data Model from scratch\n",
    "-----------------------------------------------\n",
    "\n",
    "Typically one would create the nodes from the bottom up, using the node types expected by the schemas. For example, to create the instrument value, class type WfiMode one would do the following: "
   ]
  },
  {
   "cell_type": "code",
   "execution_count": null,
   "id": "2fb4866f",
   "metadata": {},
   "outputs": [],
   "source": [
    "import roman_datamodels.stnode as rdnode\n",
    "import numpy as np\n",
    "import asdf\n",
    "instr = rdnode.WfiMode()\n",
    "instr['name'] = 'WFI'\n",
    "instr['detector'] = 'WFI01'\n",
    "instr['optical_element'] = 'GRISM'\n",
    "meta = {}\n",
    "meta['instrument'] = instr\n",
    "wfi_image = rdnode.WfiImage()\n",
    "wfi_image['meta'] = meta\n",
    "wfi_image['err'] = np.zeros((4088, 4088), dtype=np.float32)\n",
    "af = asdf.AsdfFile()\n",
    "# af.tree = {'roman': wfi_image} ## This will not work since not \n",
    "                                 ## all required elements have been defined."
   ]
  },
  {
   "cell_type": "markdown",
   "id": "f74380d7",
   "metadata": {},
   "source": [
    "This only shows population of the items decribed previously, but the same approach would be used for most everything else. Note that the definition of the object attributes uses dictionary notation since the node machinery prevents creation of new attributes using the usual notation. The check against the schemas are only performed when creating the AsdfFile object."
   ]
  },
  {
   "cell_type": "markdown",
   "id": "69f50ce0",
   "metadata": {},
   "source": [
    "Building a Roman Reference File Data Model from scratch\n",
    "---------------------------------------------------------------------\n",
    "\n",
    "We will build a gain reference data model and save it."
   ]
  },
  {
   "cell_type": "code",
   "execution_count": null,
   "id": "1d638ac4",
   "metadata": {},
   "outputs": [],
   "source": [
    "import astropy.time as atime\n",
    "meta = {}\n",
    "# Populate common part.\n",
    "meta['reftype'] = 'GAIN'\n",
    "meta['pedigree'] = 'GROUND'\n",
    "meta['description'] = 'Gain reference file'\n",
    "meta['author'] = 'Stephen King'\n",
    "meta['useafter'] = atime.Time('2022-01-01T11:11:11.111')\n",
    "meta['telescope'] = 'ROMAN'\n",
    "# STSCI is the ONLY valid origin at this time\n",
    "meta['origin'] = 'STSCI'\n",
    "instr['name'] = 'WFI'\n",
    "instr['detector'] = 'WFI01'\n",
    "meta['instrument'] = instr\n",
    "# Now create the top level node of the right type\n",
    "gainref = rdnode.GainRef()\n",
    "gainref['meta'] = meta\n",
    "# Using small array since schema isn't specific about size\n",
    "gainref['data'] = np.ones((100, 100), dtype=np.float32)\n",
    "af = asdf.AsdfFile()\n",
    "af.tree = {'roman': gainref}\n",
    "af.write_to('gainref.asdf')\n",
    "dm = rdm.open('gainref.asdf')\n",
    "print(type(dm))\n",
    "print(dm.meta.instrument.detector)"
   ]
  },
  {
   "cell_type": "markdown",
   "id": "7a59ddb2",
   "metadata": {},
   "source": [
    "Exercises\n",
    "-----------\n",
    "\n",
    "1. Open the example data file and extract the value of the exposure start time.\n",
    "2. Change the exposure start time.\n",
    "3. Change the exposure start time to \"hello there\". What happens?\n",
    "4. Go to the rad repository, and use the example above for gain as a guide and the schemas for the flat field reference file to create a reference file for a flat field (yes, all reference files have corresponding data models). Note that there is a fairly straightfoward algorithm that maps the schema name into a class name (underscores are removed and the elements thus separated are capitalized before joining with \"Ref\". E.g., gain-1.0.0.yaml becomes GainRef). You will need to follow all the chained references for the flat schema (e.g., it refers to ref_common-1.0.0 and ref_optical_elements-1.0.0, and the latter refers to wfi_optical_element-1.0.0.yaml to get all the necessary details) "
   ]
  },
  {
   "cell_type": "code",
   "execution_count": null,
   "id": "c5750c73",
   "metadata": {},
   "outputs": [],
   "source": []
  }
 ],
 "metadata": {
  "kernelspec": {
   "display_name": "Python 3 (ipykernel)",
   "language": "python",
   "name": "python3"
  },
  "language_info": {
   "codemirror_mode": {
    "name": "ipython",
    "version": 3
   },
   "file_extension": ".py",
   "mimetype": "text/x-python",
   "name": "python",
   "nbconvert_exporter": "python",
   "pygments_lexer": "ipython3",
   "version": "3.9.12"
  }
 },
 "nbformat": 4,
 "nbformat_minor": 5
}
