{
 "cells": [
  {
   "cell_type": "markdown",
   "id": "22a73295",
   "metadata": {},
   "source": [
    "### Roman Imaging WCS"
   ]
  },
  {
   "cell_type": "markdown",
   "id": "40386e73",
   "metadata": {},
   "source": [
    "#### Generalized World Coordinate System (GWCS) Overview\n",
    "\n",
    "Roman and JWST use the [GWCS](https://gwcs.readthedocs.io/en/latest/) for managing the World Coordinate System WCS). We call \"WCS\" the mapping from \"pixel\" coordinates to some \"real-world\" physical coordinates - celestial, spectral, time, etc. GWCS is a generalized implementation of WCS aiming to avoid the limitations of the FITS WCS standard. It is a flexible toolkit for expressing and evaluating transformations between pixel and world coordinates, as well as intermediate coordinates. The GWCS object supports a data model which includes the entire transformation pipeline from input pixel coordinates to world coordinates (and vice versa). \n",
    "\n",
    "GWCS is based on astropy and supports the [Shared Interface for WCS](https://github.com/astropy/astropy-APEs/blob/main/APE14.rst). The WCS \"pipeline\" is a list of steps, where each step is a tuple of coordinate frame and a transform to the next frame. The transform in the last step is `None` representing the final coordinate frame of the WCS pipeline.\n",
    "\n",
    "Transforms are based on [astropy.modeling](https://docs.astropy.org/en/stable/modeling/) and include support for [coordinate units](https://docs.astropy.org/en/stable/units/index.html). Coordinate frames utilize [astropy.coordinates](https://docs.astropy.org/en/stable/coordinates/index.html). \n",
    "The GWCS object is serialized to [ASDF](https://asdf-standard.readthedocs.io/en/latest/) using the ASDF [WCS](https://asdf-wcs-schemas.readthedocs.io/en/latest/) and [transforms](https://asdf-transform-schemas.readthedocs.io/en/latest/) extensions."
   ]
  },
  {
   "cell_type": "markdown",
   "id": "34e7f2b5",
   "metadata": {},
   "source": [
    "Download a Roman Level2 simulated file. The downloaded file is called `r002_assign_wcs.asdf`."
   ]
  },
  {
   "cell_type": "markdown",
   "id": "6b9cb19b",
   "metadata": {},
   "source": [
    "#### Roman Imaging WCS\n",
    "\n",
    "The `assign_wcs` step in the Roman calibration pipeline constructs a WCS object and assigns it to the Level 2 image. The distortion transformations are stored in a reference file in CRDS, with `reftype=distortion`. The distortion includes all transformsations from a detector to a coordinate frame associated with the telescope `(V2, V3)`. The telescope telemetry is used to transform from `(V2, V3)` to celestial coordinates.\n",
    "\n"
   ]
  },
  {
   "cell_type": "markdown",
   "id": "fdf3614b",
   "metadata": {},
   "source": [
    "We can use `asdf` or `roman_datamodels` to open the file and retrieve the WCS object."
   ]
  },
  {
   "cell_type": "code",
   "execution_count": 1,
   "id": "42164285",
   "metadata": {},
   "outputs": [],
   "source": [
    "from roman_datamodels import datamodels as rdm"
   ]
  },
  {
   "cell_type": "code",
   "execution_count": 2,
   "id": "7359c1be",
   "metadata": {},
   "outputs": [
    {
     "name": "stderr",
     "output_type": "stream",
     "text": [
      "/Users/dencheva/opt/anaconda3/envs/romanrelease/lib/python3.11/site-packages/asdf/_asdf.py:354: AsdfWarning: File 'file:///Users/dencheva/dev/roman-data-workshop/data/r0000101001001001001_01101_0001_WFI01_cal.asdf' was created with extension URI 'asdf://astropy.org/core/extensions/core-1.5.0' (from package asdf-astropy==0.5.0), which is not currently installed\n",
      "  warnings.warn(msg, AsdfWarning)\n"
     ]
    },
    {
     "data": {
      "text/plain": [
       "\u001b[1mroot\u001b[0m (AsdfObject)\n",
       "\u001b[2m└─\u001b[0m\u001b[1mroman\u001b[0m (WfiImage)\u001b[2m\u001b[3m # The schema for WFI Level 2 images.\n",
       "\u001b[0m\u001b[0m\n",
       "\u001b[2m  └─\u001b[0m\u001b[1mmeta\u001b[0m (dict)\n",
       "\u001b[2m    ├─\u001b[0m\u001b[1mcal_step\u001b[0m (CalStep)\u001b[2m\u001b[3m # Calibration Status\u001b[0m\u001b[0m\n",
       "\u001b[2m    │ └─\u001b[0m\u001b[1massign_wcs\u001b[0m (str): COMPLETE\u001b[2m\u001b[3m # Assign World Coordinate System\u001b[0m\u001b[0m\n",
       "\u001b[2m    ├─\u001b[0m\u001b[1mwcs\u001b[0m (WCS)\n",
       "\u001b[2m    └─\u001b[0m\u001b[1mwcsinfo\u001b[0m (Wcsinfo): {'v2_ref': 1312.9491452484797, 'v3_ref': -1040.7853726755036, 'vpar\u001b[2m\u001b[3m (truncated)\u001b[0m\u001b[0m"
      ]
     },
     "execution_count": 2,
     "metadata": {},
     "output_type": "execute_result"
    }
   ],
   "source": [
    "image = rdm.open('../data/r0000101001001001001_01101_0001_WFI01_cal.asdf')\n",
    "image.search('wcs')"
   ]
  },
  {
   "cell_type": "markdown",
   "id": "87e67956",
   "metadata": {},
   "source": [
    "The above `search` commands finds the string `wcs` in three places. Using `info` shows that `wcsinfo` is a dictionary holding the pointing `(ra_ref, dec_ref)`, the reference point of the aperture in the telescope `(V2, V3)` system and other WCS related parameters."
   ]
  },
  {
   "cell_type": "code",
   "execution_count": 3,
   "id": "07e3929b",
   "metadata": {},
   "outputs": [
    {
     "name": "stdout",
     "output_type": "stream",
     "text": [
      "\u001b[1mroot\u001b[0m (AsdfObject)\n",
      "\u001b[2m├─\u001b[0m\u001b[1masdf_library\u001b[0m (Software)\n",
      "\u001b[2m│ ├─\u001b[0m\u001b[1mauthor\u001b[0m (str): The ASDF Developers\n",
      "\u001b[2m│ ├─\u001b[0m\u001b[1mhomepage\u001b[0m (str): http://github.com/asdf-format/asdf\n",
      "\u001b[2m│ ├─\u001b[0m\u001b[1mname\u001b[0m (str): asdf\n",
      "\u001b[2m│ └─\u001b[0m\u001b[1mversion\u001b[0m (str): 3.0.1\n",
      "\u001b[2m├─\u001b[0m\u001b[1mhistory\u001b[0m (dict)\n",
      "\u001b[2m│ └─\u001b[0m\u001b[1mextensions\u001b[0m (list)\n",
      "\u001b[2m│   ├─\u001b[0m[\u001b[1m0\u001b[0m] (ExtensionMetadata)\n",
      "\u001b[2m│   │ ├─\u001b[0m\u001b[1mextension_class\u001b[0m (str): asdf.extension._manifest.ManifestExtension\n",
      "\u001b[2m│   │ ├─\u001b[0m\u001b[1mextension_uri\u001b[0m (str): asdf://asdf-format.org/core/extensions/core-1.5.0\n",
      "\u001b[2m│   │ └─\u001b[0m\u001b[1msoftware\u001b[0m (Software)\n",
      "\u001b[2m│   │   ├─\u001b[0m\u001b[1mname\u001b[0m (str): asdf\n",
      "\u001b[2m│   │   └─\u001b[0m\u001b[1mversion\u001b[0m (str): 3.0.1\n",
      "\u001b[2m│   ├─\u001b[0m[\u001b[1m1\u001b[0m] (ExtensionMetadata)\n",
      "\u001b[2m│   │ ├─\u001b[0m\u001b[1mextension_class\u001b[0m (str): asdf_astropy._manifest.CompoundManifestExtension\n",
      "\u001b[2m│   │ ├─\u001b[0m\u001b[1mextension_uri\u001b[0m (str): asdf://astropy.org/core/extensions/core-1.5.0\n",
      "\u001b[2m│   │ └─\u001b[0m\u001b[1msoftware\u001b[0m (Software)\n",
      "\u001b[2m│   │   ├─\u001b[0m\u001b[1mname\u001b[0m (str): asdf-astropy\n",
      "\u001b[2m│   │   └─\u001b[0m\u001b[1mversion\u001b[0m (str): 0.5.0\n",
      "\u001b[2m│   ├─\u001b[0m[\u001b[1m2\u001b[0m] (ExtensionMetadata)\n",
      "\u001b[2m│   │ ├─\u001b[0m\u001b[1mextension_class\u001b[0m (str): asdf.extension._manifest.ManifestExtension\n",
      "\u001b[2m│   │ ├─\u001b[0m\u001b[1mextension_uri\u001b[0m (str): asdf://asdf-format.org/transform/extensions/transform-1.5.0\n",
      "\u001b[2m│   │ └─\u001b[0m\u001b[1msoftware\u001b[0m (Software)\n",
      "\u001b[2m│   │   ├─\u001b[0m\u001b[1mname\u001b[0m (str): asdf-astropy\n",
      "\u001b[2m│   │   └─\u001b[0m\u001b[1mversion\u001b[0m (str): 0.5.0\n",
      "\u001b[2m│   ├─\u001b[0m[\u001b[1m3\u001b[0m] (ExtensionMetadata)\n",
      "\u001b[2m│   │ ├─\u001b[0m\u001b[1mextension_class\u001b[0m (str): asdf.extension._manifest.ManifestExtension\n",
      "\u001b[2m│   │ ├─\u001b[0m\u001b[1mextension_uri\u001b[0m (str): asdf://asdf-format.org/astronomy/gwcs/extensions/gwcs-1.2.0\n",
      "\u001b[2m│   │ └─\u001b[0m\u001b[1msoftware\u001b[0m (Software)\n",
      "\u001b[2m│   │   ├─\u001b[0m\u001b[1mname\u001b[0m (str): gwcs\n",
      "\u001b[2m│   │   └─\u001b[0m\u001b[1mversion\u001b[0m (str): 0.20.0\n",
      "\u001b[2m│   ├─\u001b[0m[\u001b[1m4\u001b[0m] (ExtensionMetadata)\n",
      "\u001b[2m│   │ ├─\u001b[0m\u001b[1mextension_class\u001b[0m (str): asdf.extension._manifest.ManifestExtension\n",
      "\u001b[2m│   │ ├─\u001b[0m\u001b[1mextension_uri\u001b[0m (str): asdf://stsci.edu/datamodels/roman/extensions/datamodels-1.0\n",
      "\u001b[2m│   │ └─\u001b[0m\u001b[1msoftware\u001b[0m (Software)\n",
      "\u001b[2m│   │   ├─\u001b[0m\u001b[1mname\u001b[0m (str): roman_datamodels\n",
      "\u001b[2m│   │   └─\u001b[0m\u001b[1mversion\u001b[0m (str): 0.19.0\n",
      "\u001b[2m│   └─\u001b[0m[\u001b[1m5\u001b[0m] (ExtensionMetadata)\n",
      "\u001b[2m│     ├─\u001b[0m\u001b[1mextension_class\u001b[0m (str): asdf.extension._manifest.ManifestExtension\n",
      "\u001b[2m│     ├─\u001b[0m\u001b[1mextension_uri\u001b[0m (str): asdf://asdf-format.org/astronomy/coordinates/extensions/coordinates-1.0.0\n",
      "\u001b[2m│     └─\u001b[0m\u001b[1msoftware\u001b[0m (Software)\n",
      "\u001b[2m│       ├─\u001b[0m\u001b[1mname\u001b[0m (str): asdf-astropy\n",
      "\u001b[2m│       └─\u001b[0m\u001b[1mversion\u001b[0m (str): 0.5.0\n",
      "\u001b[2m└─\u001b[0m\u001b[1mroman\u001b[0m (WfiImage)\u001b[2m\u001b[3m # The schema for WFI Level 2 images.\n",
      "\u001b[0m\u001b[0m\n",
      "\u001b[2m  ├─\u001b[0m\u001b[1mmeta\u001b[0m (dict)\n",
      "\u001b[2m  │ ├─\u001b[0m\u001b[1maperture\u001b[0m (Aperture)\u001b[2m\u001b[3m # Aperture information\u001b[0m\u001b[0m\n",
      "\u001b[2m  │ │ ├─\u001b[0m\u001b[1mname\u001b[0m (str): WFI_CEN\u001b[2m\u001b[3m # PRD science aperture used\u001b[0m\u001b[0m\n",
      "\u001b[2m  │ │ └─\u001b[0m\u001b[1mposition_angle\u001b[0m (int): 120\u001b[2m\u001b[3m # [deg] Position angle of aperture used\u001b[0m\u001b[0m\n",
      "\u001b[2m  │ ├─\u001b[0m\u001b[1mcal_step\u001b[0m (CalStep)\u001b[2m\u001b[3m # Calibration Status\u001b[0m\u001b[0m\n",
      "\u001b[2m  │ │ ├─\u001b[0m\u001b[1massign_wcs\u001b[0m (str): COMPLETE\u001b[2m\u001b[3m # Assign World Coordinate System\u001b[0m\u001b[0m\n",
      "\u001b[2m  │ │ ├─\u001b[0m\u001b[1mflat_field\u001b[0m (str): COMPLETE\u001b[2m\u001b[3m # Flat Field Step\u001b[0m\u001b[0m\n",
      "\u001b[2m  │ │ ├─\u001b[0m\u001b[1mdark\u001b[0m (str): COMPLETE\u001b[2m\u001b[3m # Dark Subtraction\u001b[0m\u001b[0m\n",
      "\u001b[2m  │ │ ├─\u001b[0m\u001b[1mdq_init\u001b[0m (str): COMPLETE\u001b[2m\u001b[3m # Data Quality Mask Step\u001b[0m\u001b[0m\n",
      "\u001b[2m  │ │ ├─\u001b[0m\u001b[1mjump\u001b[0m (str): COMPLETE\u001b[2m\u001b[3m # Jump Detection Step\u001b[0m\u001b[0m\n",
      "\u001b[2m  │ │ ├─\u001b[0m\u001b[1mlinearity\u001b[0m (str): COMPLETE\u001b[2m\u001b[3m # Linearity Correction\u001b[0m\u001b[0m\n",
      "\u001b[2m  │ │ ├─\u001b[0m\u001b[1mphotom\u001b[0m (str): COMPLETE\u001b[2m\u001b[3m # Photometry Step\u001b[0m\u001b[0m\n",
      "\u001b[2m  │ │ ├─\u001b[0m\u001b[1msource_detection\u001b[0m (str): COMPLETE\u001b[2m\u001b[3m # Source Detection Step\u001b[0m\u001b[0m\n",
      "\u001b[2m  │ │ ├─\u001b[0m\u001b[1moutlier_detection\u001b[0m (str): INCOMPLETE\u001b[2m\u001b[3m # outlier_detection\u001b[0m\u001b[0m\n",
      "\u001b[2m  │ │ ├─\u001b[0m\u001b[1mramp_fit\u001b[0m (str): COMPLETE\u001b[2m\u001b[3m # Ramp Fitting\u001b[0m\u001b[0m\n",
      "\u001b[2m  │ │ ├─\u001b[0m\u001b[1mrefpix\u001b[0m (str): COMPLETE\u001b[2m\u001b[3m # Reference Pixel Correction\u001b[0m\u001b[0m\n",
      "\u001b[2m  │ │ ├─\u001b[0m\u001b[1msaturation\u001b[0m (str): COMPLETE\u001b[2m\u001b[3m # Saturation Checking\u001b[0m\u001b[0m\n",
      "\u001b[2m  │ │ ├─\u001b[0m\u001b[1mskymatch\u001b[0m (str): INCOMPLETE\u001b[2m\u001b[3m # Sky Match step\u001b[0m\u001b[0m\n",
      "\u001b[2m  │ │ ├─\u001b[0m\u001b[1mtweakreg\u001b[0m (str): SKIPPED\u001b[2m\u001b[3m # Tweakreg step\u001b[0m\u001b[0m\n",
      "\u001b[2m  │ │ └─\u001b[0m\u001b[1mresample\u001b[0m (str): INCOMPLETE\u001b[2m\u001b[3m # Resample Step\u001b[0m\u001b[0m\n",
      "\u001b[2m  │ ├─\u001b[0m\u001b[1mcalibration_software_version\u001b[0m (CalibrationSoftwareVersion): 0.12.1.dev199+ge803d5e\u001b[2m\u001b[3m # Calibration software version number\u001b[0m\u001b[0m\n",
      "\u001b[2m  │ ├─\u001b[0m\u001b[1mcoordinates\u001b[0m (Coordinates)\u001b[2m\u001b[3m # Information about the coordinates in the file\u001b[0m\u001b[0m\n",
      "\u001b[2m  │ │ └─\u001b[0m\u001b[1mreference_frame\u001b[0m (str): ICRS\u001b[2m\u001b[3m # Name of the coordinate reference frame\u001b[0m\u001b[0m\n",
      "\u001b[2m  │ ├─\u001b[0m\u001b[1mephemeris\u001b[0m (Ephemeris)\u001b[2m\u001b[3m # Ephemeris data information\u001b[0m\u001b[0m\n",
      "\u001b[2m  │ │ ├─\u001b[0m\u001b[1mearth_angle\u001b[0m (float): 0.0\u001b[2m\u001b[3m # [radians] Earth Angle\u001b[0m\u001b[0m\n",
      "\u001b[2m  │ │ ├─\u001b[0m\u001b[1mmoon_angle\u001b[0m (float): 0.0\u001b[2m\u001b[3m # [radians] Moon Angle\u001b[0m\u001b[0m\n",
      "\u001b[2m  │ │ ├─\u001b[0m\u001b[1msun_angle\u001b[0m (float): 0.0\u001b[2m\u001b[3m # [radians] Sun Angle\u001b[0m\u001b[0m\n",
      "\u001b[2m  │ │ ├─\u001b[0m\u001b[1mtype\u001b[0m (str): PREDICTED\u001b[2m\u001b[3m # Type of ephemeris\u001b[0m\u001b[0m\n",
      "\u001b[2m  │ │ ├─\u001b[0m\u001b[1mtime\u001b[0m (float): 60340.703688764945\u001b[2m\u001b[3m # UTC time of position and velocity vectors in ephemeris (MJD)\u001b[0m\u001b[0m\n",
      "\u001b[2m  │ │ ├─\u001b[0m\u001b[1mephemeris_reference_frame\u001b[0m (str): EME2000\u001b[2m\u001b[3m # Ephemeris reference frame\u001b[0m\u001b[0m\n",
      "\u001b[2m  │ │ ├─\u001b[0m\u001b[1mspatial_x\u001b[0m (float): 0.0\u001b[2m\u001b[3m # [km] X spatial coordinate of Roman\u001b[0m\u001b[0m\n",
      "\u001b[2m  │ │ ├─\u001b[0m\u001b[1mspatial_y\u001b[0m (float): 0.0\u001b[2m\u001b[3m # [km] Y spatial coordinate of Roman\u001b[0m\u001b[0m\n",
      "\u001b[2m  │ │ ├─\u001b[0m\u001b[1mspatial_z\u001b[0m (float): 0.0\u001b[2m\u001b[3m # [km] Z spatial coordinate of Roman\u001b[0m\u001b[0m\n",
      "\u001b[2m  │ │ ├─\u001b[0m\u001b[1mvelocity_x\u001b[0m (float): 0.0\u001b[2m\u001b[3m # [km/s] X component of Roman velocity\u001b[0m\u001b[0m\n",
      "\u001b[2m  │ │ ├─\u001b[0m\u001b[1mvelocity_y\u001b[0m (float): 0.0\u001b[2m\u001b[3m # [km/s] Y component of Roman velocity\u001b[0m\u001b[0m\n",
      "\u001b[2m  │ │ └─\u001b[0m\u001b[1mvelocity_z\u001b[0m (float): 0.0\u001b[2m\u001b[3m # [km/s] Z component of Roman velocity\u001b[0m\u001b[0m\n",
      "\u001b[2m  │ ├─\u001b[0m\u001b[1mexposure\u001b[0m (Exposure)\u001b[2m\u001b[3m # Exposure information\n",
      "\u001b[0m\u001b[0m\n",
      "\u001b[2m  │ │ ├─\u001b[0m\u001b[1mid\u001b[0m (int): 1\u001b[2m\u001b[3m # Exposure id number within visit\u001b[0m\u001b[0m\n",
      "\u001b[2m  │ │ ├─\u001b[0m\u001b[1mtype\u001b[0m (str): WFI_IMAGE\n",
      "\u001b[2m  │ │ ├─\u001b[0m\u001b[1mstart_time\u001b[0m (Time): 2021-01-01 00:00:00\u001b[2m\u001b[3m # UTC exposure start time\u001b[0m\u001b[0m\n",
      "\u001b[2m  │ │ ├─\u001b[0m\u001b[1mmid_time\u001b[0m (Time): 2021-01-01T00:01:09.940\u001b[2m\u001b[3m # UTC exposure mid time\u001b[0m\u001b[0m\n",
      "\u001b[2m  │ │ ├─\u001b[0m\u001b[1mend_time\u001b[0m (Time): 2021-01-01T00:02:19.880\u001b[2m\u001b[3m # UTC exposure end time\u001b[0m\u001b[0m\n",
      "\u001b[2m  │ │ ├─\u001b[0m\u001b[1mstart_time_mjd\u001b[0m (float): 59215.0\u001b[2m\u001b[3m # [d] exposure start time in MJD\u001b[0m\u001b[0m\n",
      "\u001b[2m  │ │ ├─\u001b[0m\u001b[1mmid_time_mjd\u001b[0m (float): 59215.00080949074\u001b[2m\u001b[3m # [d] exposure mid time in MJD\u001b[0m\u001b[0m\n",
      "\u001b[2m  │ │ ├─\u001b[0m\u001b[1mend_time_mjd\u001b[0m (float): 59215.001618981485\u001b[2m\u001b[3m # [d] exposure end time in MJD\u001b[0m\u001b[0m\n",
      "\u001b[2m  │ │ ├─\u001b[0m\u001b[1mstart_time_tdb\u001b[0m (float): 59215.00080073967\u001b[2m\u001b[3m # [d] TDB time of exposure start in MJD\u001b[0m\u001b[0m\n",
      "\u001b[2m  │ │ ├─\u001b[0m\u001b[1mmid_time_tdb\u001b[0m (float): 59215.00161023041\u001b[2m\u001b[3m # [d] TDB time of exposure mid in MJD\u001b[0m\u001b[0m\n",
      "\u001b[2m  │ │ ├─\u001b[0m\u001b[1mend_time_tdb\u001b[0m (float): 59215.00241972115\u001b[2m\u001b[3m # [d] TDB time of exposure end in MJD\u001b[0m\u001b[0m\n",
      "\u001b[2m  │ │ ├─\u001b[0m\u001b[1mngroups\u001b[0m (int): 10\u001b[2m\u001b[3m # Number of groups in integration\u001b[0m\u001b[0m\n",
      "\u001b[2m  │ │ ├─\u001b[0m\u001b[1mnframes\u001b[0m (int): 44\u001b[2m\u001b[3m # Number of frames per group\u001b[0m\u001b[0m\n",
      "\u001b[2m  │ │ ├─\u001b[0m\u001b[1mdata_problem\u001b[0m (bool): False\u001b[2m\u001b[3m # Science telemetry indicated a problem\u001b[0m\u001b[0m\n",
      "\u001b[2m  │ │ ├─\u001b[0m\u001b[1msca_number\u001b[0m (int): 1\u001b[2m\u001b[3m # Sensor Chip Assembly number\u001b[0m\u001b[0m\n",
      "\u001b[2m  │ │ ├─\u001b[0m\u001b[1mgain_factor\u001b[0m (int): 2\u001b[2m\u001b[3m # Gain scale factor\u001b[0m\u001b[0m\n",
      "\u001b[2m  │ │ ├─\u001b[0m\u001b[1mintegration_time\u001b[0m (float): 136.8\u001b[2m\u001b[3m # [s] Effective integration time\u001b[0m\u001b[0m\n",
      "\u001b[2m  │ │ ├─\u001b[0m\u001b[1melapsed_exposure_time\u001b[0m (float): 139.88\u001b[2m\u001b[3m # [s] Total elapsed exposure time\u001b[0m\u001b[0m\n",
      "\u001b[2m  │ │ ├─\u001b[0m\u001b[1mframe_divisor\u001b[0m (int): 7\u001b[2m\u001b[3m # Divisor applied to frame-averaged groups\u001b[0m\u001b[0m\n",
      "\u001b[2m  │ │ ├─\u001b[0m\u001b[1mgroupgap\u001b[0m (int): 0\u001b[2m\u001b[3m # Number of frames dropped between groups\u001b[0m\u001b[0m\n",
      "\u001b[2m  │ │ ├─\u001b[0m\u001b[1mframe_time\u001b[0m (float): 3.04\u001b[2m\u001b[3m # [s] Time between frames\u001b[0m\u001b[0m\n",
      "\u001b[2m  │ │ ├─\u001b[0m\u001b[1mgroup_time\u001b[0m (float): 133.76\u001b[2m\u001b[3m # [s] Time between groups\u001b[0m\u001b[0m\n",
      "\u001b[2m  │ │ ├─\u001b[0m\u001b[1mexposure_time\u001b[0m (float): 139.88\u001b[2m\u001b[3m # [s] exposure time\u001b[0m\u001b[0m\n",
      "\u001b[2m  │ │ ├─\u001b[0m\u001b[1meffective_exposure_time\u001b[0m (float): 130.72\u001b[2m\u001b[3m # [s] Effective exposure time\u001b[0m\u001b[0m\n",
      "\u001b[2m  │ │ ├─\u001b[0m\u001b[1mduration\u001b[0m (float): 139.88\u001b[2m\u001b[3m # [s] Total duration of exposure\u001b[0m\u001b[0m\n",
      "\u001b[2m  │ │ ├─\u001b[0m\u001b[1mma_table_name\u001b[0m (str): HLWAS 10 RESULTANTS\u001b[2m\u001b[3m # Identifier for the multi-accumulation table used\u001b[0m\u001b[0m\n",
      "\u001b[2m  │ │ ├─\u001b[0m\u001b[1mma_table_number\u001b[0m (int): 109\u001b[2m\u001b[3m # Numerical identifier for the multi-accumulation table used\u001b[0m\u001b[0m\n",
      "\u001b[2m  │ │ ├─\u001b[0m\u001b[1mlevel0_compressed\u001b[0m (bool): True\u001b[2m\u001b[3m # Level 0 data was compressed\u001b[0m\u001b[0m\n",
      "\u001b[2m  │ │ ├─\u001b[0m\u001b[1mread_pattern\u001b[0m (list)\u001b[2m\u001b[3m # Pattern of reads\u001b[0m\u001b[0m\n",
      "\u001b[2m  │ │ │ ├─\u001b[0m[\u001b[1m0\u001b[0m] (list)\n",
      "\u001b[2m  │ │ │ │ └─\u001b[0m[\u001b[1m0\u001b[0m] (int): 1\n",
      "\u001b[2m  │ │ │ ├─\u001b[0m[\u001b[1m1\u001b[0m] (list)\n",
      "\u001b[2m  │ │ │ │ ├─\u001b[0m[\u001b[1m0\u001b[0m] (int): 2\n",
      "\u001b[2m  │ │ │ │ └─\u001b[0m[\u001b[1m1\u001b[0m] (int): 3\n",
      "\u001b[2m  │ │ │ ├─\u001b[0m[\u001b[1m2\u001b[0m] (list)\n",
      "\u001b[2m  │ │ │ │ ├─\u001b[0m[\u001b[1m0\u001b[0m] (int): 5\n",
      "\u001b[2m  │ │ │ │ ├─\u001b[0m[\u001b[1m1\u001b[0m] (int): 6\n",
      "\u001b[2m  │ │ │ │ └─\u001b[0m[\u001b[1m2\u001b[0m] (int): 7\n",
      "\u001b[2m  │ │ │ ├─\u001b[0m[\u001b[1m3\u001b[0m] (list)\n",
      "\u001b[2m  │ │ │ │ ├─\u001b[0m[\u001b[1m0\u001b[0m] (int): 10\n",
      "\u001b[2m  │ │ │ │ ├─\u001b[0m[\u001b[1m1\u001b[0m] (int): 11\n",
      "\u001b[2m  │ │ │ │ ├─\u001b[0m[\u001b[1m2\u001b[0m] (int): 12\n",
      "\u001b[2m  │ │ │ │ └─\u001b[0m[\u001b[1m3\u001b[0m] (int): 13\n",
      "\u001b[2m  │ │ │ ├─\u001b[0m[\u001b[1m4\u001b[0m] (list)\n",
      "\u001b[2m  │ │ │ │ ├─\u001b[0m[\u001b[1m0\u001b[0m] (int): 15\n",
      "\u001b[2m  │ │ │ │ ├─\u001b[0m[\u001b[1m1\u001b[0m] (int): 16\n",
      "\u001b[2m  │ │ │ │ ├─\u001b[0m[\u001b[1m2\u001b[0m] (int): 17\n",
      "\u001b[2m  │ │ │ │ ├─\u001b[0m[\u001b[1m3\u001b[0m] (int): 18\n",
      "\u001b[2m  │ │ │ │ ├─\u001b[0m[\u001b[1m4\u001b[0m] (int): 19\n",
      "\u001b[2m  │ │ │ │ └─\u001b[0m[\u001b[1m5\u001b[0m] (int): 20\n",
      "\u001b[2m  │ │ │ ├─\u001b[0m[\u001b[1m5\u001b[0m] (list)\n",
      "\u001b[2m  │ │ │ │ ├─\u001b[0m[\u001b[1m0\u001b[0m] (int): 21\n",
      "\u001b[2m  │ │ │ │ ├─\u001b[0m[\u001b[1m1\u001b[0m] (int): 22\n",
      "\u001b[2m  │ │ │ │ ├─\u001b[0m[\u001b[1m2\u001b[0m] (int): 23\n",
      "\u001b[2m  │ │ │ │ ├─\u001b[0m[\u001b[1m3\u001b[0m] (int): 24\n",
      "\u001b[2m  │ │ │ │ ├─\u001b[0m[\u001b[1m4\u001b[0m] (int): 25\n",
      "\u001b[2m  │ │ │ │ └─\u001b[0m[\u001b[1m5\u001b[0m] (int): 26\n",
      "\u001b[2m  │ │ │ ├─\u001b[0m[\u001b[1m6\u001b[0m] (list)\n",
      "\u001b[2m  │ │ │ │ ├─\u001b[0m[\u001b[1m0\u001b[0m] (int): 27\n",
      "\u001b[2m  │ │ │ │ ├─\u001b[0m[\u001b[1m1\u001b[0m] (int): 28\n",
      "\u001b[2m  │ │ │ │ ├─\u001b[0m[\u001b[1m2\u001b[0m] (int): 29\n",
      "\u001b[2m  │ │ │ │ ├─\u001b[0m[\u001b[1m3\u001b[0m] (int): 30\n",
      "\u001b[2m  │ │ │ │ ├─\u001b[0m[\u001b[1m4\u001b[0m] (int): 31\n",
      "\u001b[2m  │ │ │ │ └─\u001b[0m[\u001b[1m5\u001b[0m] (int): 32\n",
      "\u001b[2m  │ │ │ ├─\u001b[0m[\u001b[1m7\u001b[0m] (list)\n",
      "\u001b[2m  │ │ │ │ ├─\u001b[0m[\u001b[1m0\u001b[0m] (int): 33\n",
      "\u001b[2m  │ │ │ │ ├─\u001b[0m[\u001b[1m1\u001b[0m] (int): 34\n",
      "\u001b[2m  │ │ │ │ ├─\u001b[0m[\u001b[1m2\u001b[0m] (int): 35\n",
      "\u001b[2m  │ │ │ │ ├─\u001b[0m[\u001b[1m3\u001b[0m] (int): 36\n",
      "\u001b[2m  │ │ │ │ ├─\u001b[0m[\u001b[1m4\u001b[0m] (int): 37\n",
      "\u001b[2m  │ │ │ │ └─\u001b[0m[\u001b[1m5\u001b[0m] (int): 38\n",
      "\u001b[2m  │ │ │ ├─\u001b[0m[\u001b[1m8\u001b[0m] (list)\n",
      "\u001b[2m  │ │ │ │ ├─\u001b[0m[\u001b[1m0\u001b[0m] (int): 39\n",
      "\u001b[2m  │ │ │ │ ├─\u001b[0m[\u001b[1m1\u001b[0m] (int): 40\n",
      "\u001b[2m  │ │ │ │ ├─\u001b[0m[\u001b[1m2\u001b[0m] (int): 41\n",
      "\u001b[2m  │ │ │ │ ├─\u001b[0m[\u001b[1m3\u001b[0m] (int): 42\n",
      "\u001b[2m  │ │ │ │ └─\u001b[0m[\u001b[1m4\u001b[0m] (int): 43\n",
      "\u001b[2m  │ │ │ └─\u001b[0m[\u001b[1m9\u001b[0m] (list)\n",
      "\u001b[2m  │ │ │   └─\u001b[0m[\u001b[1m0\u001b[0m] (int): 44\n",
      "\u001b[2m  │ │ └─\u001b[0m\u001b[1mtruncated\u001b[0m (bool): False\u001b[2m\u001b[3m # MA Tables were truncated\u001b[0m\u001b[0m\n",
      "\u001b[2m  │ ├─\u001b[0m\u001b[1mfile_date\u001b[0m (FileDate): 2024-01-31 16:53:24.112000\u001b[2m\u001b[3m # Date this file was created (UTC)\u001b[0m\u001b[0m\n",
      "\u001b[2m  │ ├─\u001b[0m\u001b[1mfilename\u001b[0m (Filename): r0000101001001001001_01101_0001_WFI01_cal.asdf\u001b[2m\u001b[3m # Name of the file\u001b[0m\u001b[0m\n",
      "\u001b[2m  │ ├─\u001b[0m\u001b[1mguidestar\u001b[0m (Guidestar)\u001b[2m\u001b[3m # Guide star window information\u001b[0m\u001b[0m\n",
      "\u001b[2m  │ │ ├─\u001b[0m\u001b[1mgw_id\u001b[0m (str): TEST\u001b[2m\u001b[3m # guide star window identifier\u001b[0m\u001b[0m\n",
      "\u001b[2m  │ │ ├─\u001b[0m\u001b[1mgs_id\u001b[0m (str): TEST\u001b[2m\u001b[3m # guide star identifier from the GSC2 catalog\u001b[0m\u001b[0m\n",
      "\u001b[2m  │ │ ├─\u001b[0m\u001b[1mgs_catalog_version\u001b[0m (str): GSC 2.4.2\u001b[2m\u001b[3m # The version of the Guide Star Catalog\u001b[0m\u001b[0m\n",
      "\u001b[2m  │ │ ├─\u001b[0m\u001b[1mgs_ra\u001b[0m (float): 0.0\u001b[2m\u001b[3m # [deg] guide star right ascension\u001b[0m\u001b[0m\n",
      "\u001b[2m  │ │ ├─\u001b[0m\u001b[1mgs_dec\u001b[0m (float): 0.0\u001b[2m\u001b[3m # [deg] guide star declination\u001b[0m\u001b[0m\n",
      "\u001b[2m  │ │ ├─\u001b[0m\u001b[1mgs_ura\u001b[0m (float): 0.0\u001b[2m\u001b[3m # [deg] guide star right ascension uncertainty\u001b[0m\u001b[0m\n",
      "\u001b[2m  │ │ ├─\u001b[0m\u001b[1mgs_udec\u001b[0m (float): 0.0\u001b[2m\u001b[3m # [deg] guide star declination uncertainty\u001b[0m\u001b[0m\n",
      "\u001b[2m  │ │ ├─\u001b[0m\u001b[1mgs_mag\u001b[0m (float): 0.0\u001b[2m\u001b[3m # guide star magnitude in detector\u001b[0m\u001b[0m\n",
      "\u001b[2m  │ │ ├─\u001b[0m\u001b[1mgs_umag\u001b[0m (float): 0.0\u001b[2m\u001b[3m # guide star magnitude uncertainty\u001b[0m\u001b[0m\n",
      "\u001b[2m  │ │ ├─\u001b[0m\u001b[1mgw_fgs_mode\u001b[0m (str): WIM-TRACK\n",
      "\u001b[2m  │ │ ├─\u001b[0m\u001b[1mdata_start\u001b[0m (float): 59215.0\u001b[2m\u001b[3m # MJD start time of guider data within this file\u001b[0m\u001b[0m\n",
      "\u001b[2m  │ │ ├─\u001b[0m\u001b[1mdata_end\u001b[0m (float): 59215.001688888886\u001b[2m\u001b[3m # MJD end time of guider data within this file\u001b[0m\u001b[0m\n",
      "\u001b[2m  │ │ ├─\u001b[0m\u001b[1mgs_ctd_x\u001b[0m (float): 0.0\u001b[2m\u001b[3m # [arcsec] guide star centroid x position in guider ideal frame\u001b[0m\u001b[0m\n",
      "\u001b[2m  │ │ ├─\u001b[0m\u001b[1mgs_ctd_y\u001b[0m (float): 0.0\u001b[2m\u001b[3m # [arcsec] guide star centroid y position in guider ideal frame\u001b[0m\u001b[0m\n",
      "\u001b[2m  │ │ ├─\u001b[0m\u001b[1mgs_ctd_ux\u001b[0m (float): 0.0\u001b[2m\u001b[3m # uncertainty in the x position of the centroid\u001b[0m\u001b[0m\n",
      "\u001b[2m  │ │ ├─\u001b[0m\u001b[1mgs_ctd_uy\u001b[0m (float): 0.0\u001b[2m\u001b[3m # uncertainty in the y position of the centroid\u001b[0m\u001b[0m\n",
      "\u001b[2m  │ │ ├─\u001b[0m\u001b[1mgs_epoch\u001b[0m (str): J2000\u001b[2m\u001b[3m # Epoch of guide star coordinates\u001b[0m\u001b[0m\n",
      "\u001b[2m  │ │ ├─\u001b[0m\u001b[1mgs_mura\u001b[0m (float): 0.0\u001b[2m\u001b[3m # [mas/yr] Guide star ICRS right ascension proper motion\u001b[0m\u001b[0m\n",
      "\u001b[2m  │ │ ├─\u001b[0m\u001b[1mgs_mudec\u001b[0m (float): 0.0\u001b[2m\u001b[3m # [mas/yr] Guide star ICRS declination proper motion\u001b[0m\u001b[0m\n",
      "\u001b[2m  │ │ ├─\u001b[0m\u001b[1mgs_para\u001b[0m (float): 0.0\u001b[2m\u001b[3m # Guide star annual parallax\u001b[0m\u001b[0m\n",
      "\u001b[2m  │ │ ├─\u001b[0m\u001b[1mgs_pattern_error\u001b[0m (float): 0.0\u001b[2m\u001b[3m # RMS of guide star position\u001b[0m\u001b[0m\n",
      "\u001b[2m  │ │ ├─\u001b[0m\u001b[1mgw_window_xstart\u001b[0m (int): 363\u001b[2m\u001b[3m # Guide window x start position on the detector\u001b[0m\u001b[0m\n",
      "\u001b[2m  │ │ ├─\u001b[0m\u001b[1mgw_window_ystart\u001b[0m (int): 1784\u001b[2m\u001b[3m # Guide window y start position on the detector\u001b[0m\u001b[0m\n",
      "\u001b[2m  │ │ ├─\u001b[0m\u001b[1mgw_window_xstop\u001b[0m (int): 379\u001b[2m\u001b[3m # Guide window x stop position on the detector\u001b[0m\u001b[0m\n",
      "\u001b[2m  │ │ ├─\u001b[0m\u001b[1mgw_window_ystop\u001b[0m (int): 1800\u001b[2m\u001b[3m # Guide window y stop position on the detector\u001b[0m\u001b[0m\n",
      "\u001b[2m  │ │ ├─\u001b[0m\u001b[1mgw_window_xsize\u001b[0m (int): 16\u001b[2m\u001b[3m # Guide window size in the x direction in detector coordinates\u001b[0m\u001b[0m\n",
      "\u001b[2m  │ │ └─\u001b[0m\u001b[1mgw_window_ysize\u001b[0m (int): 16\u001b[2m\u001b[3m # Guide window size in the y direction in detector coordinates\u001b[0m\u001b[0m\n",
      "\u001b[2m  │ ├─\u001b[0m\u001b[1minstrument\u001b[0m (WfiMode)\u001b[2m\u001b[3m # WFI observing configuration\n",
      "\u001b[0m\u001b[0m\n",
      "\u001b[2m  │ │ ├─\u001b[0m\u001b[1mdetector\u001b[0m (str): WFI01\n",
      "\u001b[2m  │ │ ├─\u001b[0m\u001b[1moptical_element\u001b[0m (str): F158\n",
      "\u001b[2m  │ │ └─\u001b[0m\u001b[1mname\u001b[0m (str): WFI\u001b[2m\u001b[3m # Instrument used to acquire the data\u001b[0m\u001b[0m\n",
      "\u001b[2m  │ ├─\u001b[0m\u001b[1mmodel_type\u001b[0m (ModelType): ImageModel\u001b[2m\u001b[3m # Type of data model\u001b[0m\u001b[0m\n",
      "\u001b[2m  │ ├─\u001b[0m\u001b[1mobservation\u001b[0m (Observation)\u001b[2m\u001b[3m # Observation identifiers\u001b[0m\u001b[0m\n",
      "\u001b[2m  │ │ ├─\u001b[0m\u001b[1mobs_id\u001b[0m (str): 0000101001001001001011010001\u001b[2m\u001b[3m # Programmatic observation identifier. The format is 'PPPPPCCAAASSSOOOVVVggsaaeeee' where 'PPPPP' is the Program, 'CC' is the execution plan, 'AAA' is the pass, 'SSS' is the segment, 'OOO' is the Observation, 'VVV' is the Visit, 'gg' is the visit file group, 's' is the visit file sequence, 'aa' is the visit file activity, and 'eeee' is the exposure ID. The observation ID is the complete concatenation of visit_id + visit_file_statement (visit_file_group + visit_file_sequence + visit_file_activity) + exposure.\u001b[0m\u001b[0m\n",
      "\u001b[2m  │ │ ├─\u001b[0m\u001b[1mvisit_id\u001b[0m (str): 0000101001001001001\u001b[2m\u001b[3m # A unique identifier for a visit. The format is 'PPPPPCCAAASSSOOOVVV' where 'PPPPP' is the Program, 'CC' is the execution plan, 'AAA' is the pass, 'SSS' is the segment number, 'OOO' is the Observation and 'VVV' is the Visit.\u001b[0m\u001b[0m\n",
      "\u001b[2m  │ │ ├─\u001b[0m\u001b[1mprogram\u001b[0m (str): 00001\u001b[2m\u001b[3m # Program number, defined range is 1..18445; included in obs_id and visit_id as 'PPPPP'.\u001b[0m\u001b[0m\n",
      "\u001b[2m  │ │ ├─\u001b[0m\u001b[1mexecution_plan\u001b[0m (int): 1\u001b[2m\u001b[3m # Execution plan within the program, defined range is 1..99; included in obs_id and visit_id as 'CC'.\u001b[0m\u001b[0m\n",
      "\u001b[2m  │ │ ├─\u001b[0m\u001b[1mpass\u001b[0m (int): 1\u001b[2m\u001b[3m # Pass number within execution plan, defined range is 1..999; included in obs_id and visit_id as 'AA'.\u001b[0m\u001b[0m\n",
      "\u001b[2m  │ │ ├─\u001b[0m\u001b[1mobservation\u001b[0m (int): 1\u001b[2m\u001b[3m # Observation number within the segment, defined range is 1..999; included in obs_id and visit_id as 'OOO'.\u001b[0m\u001b[0m\n",
      "\u001b[2m  │ │ ├─\u001b[0m\u001b[1msegment\u001b[0m (int): 1\u001b[2m\u001b[3m # Segment Number within pass, defined range is 1..999; included in obs_id and visit_id as 'SSS'.\u001b[0m\u001b[0m\n",
      "\u001b[2m  │ │ ├─\u001b[0m\u001b[1mvisit\u001b[0m (int): 1\u001b[2m\u001b[3m # Visit number within the observation, defined range of values is 1..999; included in obs_id and visit_id as 'VVV'.\u001b[0m\u001b[0m\n",
      "\u001b[2m  │ │ ├─\u001b[0m\u001b[1mvisit_file_group\u001b[0m (int): 1\u001b[2m\u001b[3m # Sequence group within the visit file, defined range of values is 1..99; included in obs_id as 'gg'.\u001b[0m\u001b[0m\n",
      "\u001b[2m  │ │ ├─\u001b[0m\u001b[1mvisit_file_sequence\u001b[0m (int): 1\u001b[2m\u001b[3m # Visit file sequence within the group, defined range of values is 1..5; included in obs_id as 's'.\u001b[0m\u001b[0m\n",
      "\u001b[2m  │ │ ├─\u001b[0m\u001b[1mvisit_file_activity\u001b[0m (str): 01\u001b[2m\u001b[3m # Visit file activity within the sequence, defined range of values is 1..ZZ; included in obs_id as 'aa'.\u001b[0m\u001b[0m\n",
      "\u001b[2m  │ │ ├─\u001b[0m\u001b[1mexposure\u001b[0m (int): 1\u001b[2m\u001b[3m # Exposure within the visit, defined range of values is 1..9999; included in obs_id as 'eeee'.\u001b[0m\u001b[0m\n",
      "\u001b[2m  │ │ ├─\u001b[0m\u001b[1mtemplate\u001b[0m (str): NONE\u001b[2m\u001b[3m # Observation template used\u001b[0m\u001b[0m\n",
      "\u001b[2m  │ │ ├─\u001b[0m\u001b[1mobservation_label\u001b[0m (str): TEST\u001b[2m\u001b[3m # Proposer label for the observation\u001b[0m\u001b[0m\n",
      "\u001b[2m  │ │ └─\u001b[0m\u001b[1msurvey\u001b[0m (str): N/A\u001b[2m\u001b[3m # Observation Survey\u001b[0m\u001b[0m\n",
      "\u001b[2m  │ ├─\u001b[0m\u001b[1morigin\u001b[0m (Origin): STSCI\u001b[2m\u001b[3m # Organization responsible for creating file\u001b[0m\u001b[0m\n",
      "\u001b[2m  │ ├─\u001b[0m\u001b[1mphotometry\u001b[0m (Photometry)\u001b[2m\u001b[3m # Photometry information\u001b[0m\u001b[0m\n",
      "\u001b[2m  │ │ ├─\u001b[0m\u001b[1mconversion_microjanskys\u001b[0m (Quantity): shape=(), dtype=float64\u001b[2m\u001b[3m # Flux density (uJy/arcsec2) producing 1 cps\u001b[0m\u001b[0m\n",
      "\u001b[2m  │ │ ├─\u001b[0m\u001b[1mconversion_megajanskys\u001b[0m (Quantity): shape=(), dtype=float64\u001b[2m\u001b[3m # Flux density (MJy/steradian) producing 1 cps\u001b[0m\u001b[0m\n",
      "\u001b[2m  │ │ ├─\u001b[0m\u001b[1mpixelarea_steradians\u001b[0m (Quantity): shape=(), dtype=float64\u001b[2m\u001b[3m # Nominal pixel area in steradians\u001b[0m\u001b[0m\n",
      "\u001b[2m  │ │ ├─\u001b[0m\u001b[1mpixelarea_arcsecsq\u001b[0m (Quantity): shape=(), dtype=float64\u001b[2m\u001b[3m # Nominal pixel area in arcsec^2\u001b[0m\u001b[0m\n",
      "\u001b[2m  │ │ ├─\u001b[0m\u001b[1mconversion_megajanskys_uncertainty\u001b[0m (Quantity): shape=(), dtype=float64\u001b[2m\u001b[3m # Uncertainty in flux density conversion to MJy/steradians\u001b[0m\u001b[0m\n",
      "\u001b[2m  │ │ └─\u001b[0m\u001b[1mconversion_microjanskys_uncertainty\u001b[0m (Quantity): shape=(), dtype=float64\u001b[2m\u001b[3m # Uncertainty in flux density conversion to uJy/arcsec2\u001b[0m\u001b[0m\n",
      "\u001b[2m  │ ├─\u001b[0m\u001b[1mpointing\u001b[0m (Pointing)\u001b[2m\u001b[3m # Spacecraft pointing information\u001b[0m\u001b[0m\n",
      "\u001b[2m  │ │ ├─\u001b[0m\u001b[1mra_v1\u001b[0m (float): 79.50275279303165\u001b[2m\u001b[3m # [deg] RA of telescope V1 axis\u001b[0m\u001b[0m\n",
      "\u001b[2m  │ │ ├─\u001b[0m\u001b[1mdec_v1\u001b[0m (float): 30.247058725442614\u001b[2m\u001b[3m # [deg] Dec of telescope V1 axis\u001b[0m\u001b[0m\n",
      "\u001b[2m  │ │ └─\u001b[0m\u001b[1mpa_v3\u001b[0m (float): -9.20447079053479e-16\u001b[2m\u001b[3m # [deg] Position angle of telescope V3 axis\u001b[0m\u001b[0m\n",
      "\u001b[2m  │ ├─\u001b[0m\u001b[1mprd_software_version\u001b[0m (PrdSoftwareVersion): RPRDDEVSOC-011\u001b[2m\u001b[3m # S&OC PRD version number used in data processing\u001b[0m\u001b[0m\n",
      "\u001b[2m  │ ├─\u001b[0m\u001b[1mprogram\u001b[0m (Program)\u001b[2m\u001b[3m # Program information\u001b[0m\u001b[0m\n",
      "\u001b[2m  │ │ ├─\u001b[0m\u001b[1mtitle\u001b[0m (str): HIGH LATITUDE WIDE AREA SURVEY\u001b[2m\u001b[3m # Proposal title\u001b[0m\u001b[0m\n",
      "\u001b[2m  │ │ ├─\u001b[0m\u001b[1mpi_name\u001b[0m (str): MUTCHLER, MAX\u001b[2m\u001b[3m # Principle Investigator name\u001b[0m\u001b[0m\n",
      "\u001b[2m  │ │ ├─\u001b[0m\u001b[1mcategory\u001b[0m (str): SURVEY\u001b[2m\u001b[3m # Program category\u001b[0m\u001b[0m\n",
      "\u001b[2m  │ │ ├─\u001b[0m\u001b[1msubcategory\u001b[0m (str): HLWAS\u001b[2m\u001b[3m # Program subcategory\u001b[0m\u001b[0m\n",
      "\u001b[2m  │ │ ├─\u001b[0m\u001b[1mscience_category\u001b[0m (str): NONE\u001b[2m\u001b[3m # Science category assigned during TAC process\u001b[0m\u001b[0m\n",
      "\u001b[2m  │ │ └─\u001b[0m\u001b[1mcontinuation_id\u001b[0m (int): 0\u001b[2m\u001b[3m # Continuation of previous Program\u001b[0m\u001b[0m\n",
      "\u001b[2m  │ ├─\u001b[0m\u001b[1mref_file\u001b[0m (RefFile)\u001b[2m\u001b[3m # Reference file information\u001b[0m\u001b[0m\n",
      "\u001b[2m  │ │ ├─\u001b[0m\u001b[1marea\u001b[0m (str)\u001b[2m\u001b[3m # Area reference file information\u001b[0m\u001b[0m\n",
      "\u001b[2m  │ │ ├─\u001b[0m\u001b[1mcrds\u001b[0m (dict)\u001b[2m\u001b[3m # CRDS parameters\u001b[0m\u001b[0m\n",
      "\u001b[2m  │ │ │ ├─\u001b[0m\u001b[1mcontext_used\u001b[0m (str): roman_0056.pmap\u001b[2m\u001b[3m # CRDS context (.pmap) used to select ref files\u001b[0m\u001b[0m\n",
      "\u001b[2m  │ │ │ └─\u001b[0m\u001b[1msw_version\u001b[0m (str): 11.17.16\u001b[2m\u001b[3m # Version of CRDS file selection software used\u001b[0m\u001b[0m\n",
      "\u001b[2m  │ │ ├─\u001b[0m\u001b[1mdark\u001b[0m (str): crds://roman_wfi_dark_0919.asdf\u001b[2m\u001b[3m # Dark reference file information\u001b[0m\u001b[0m\n",
      "\u001b[2m  │ │ ├─\u001b[0m\u001b[1mflat\u001b[0m (str): crds://roman_wfi_flat_0227.asdf\u001b[2m\u001b[3m # Flat reference file information\u001b[0m\u001b[0m\n",
      "\u001b[2m  │ │ ├─\u001b[0m\u001b[1mgain\u001b[0m (str): crds://roman_wfi_gain_0205.asdf\u001b[2m\u001b[3m # Gain reference file information\u001b[0m\u001b[0m\n",
      "\u001b[2m  │ │ ├─\u001b[0m\u001b[1mlinearity\u001b[0m (str): crds://roman_wfi_linearity_0302.asdf\u001b[2m\u001b[3m # Linearity reference file information\u001b[0m\u001b[0m\n",
      "\u001b[2m  │ │ ├─\u001b[0m\u001b[1mmask\u001b[0m (str): crds://roman_wfi_mask_0074.asdf\u001b[2m\u001b[3m # Mask reference file information\u001b[0m\u001b[0m\n",
      "\u001b[2m  │ │ ├─\u001b[0m\u001b[1mphotom\u001b[0m (str): crds://roman_wfi_photom_0056.asdf\u001b[2m\u001b[3m # Photometry reference file information\u001b[0m\u001b[0m\n",
      "\u001b[2m  │ │ ├─\u001b[0m\u001b[1mreadnoise\u001b[0m (str): crds://roman_wfi_readnoise_0792.asdf\u001b[2m\u001b[3m # Read noise reference file information\u001b[0m\u001b[0m\n",
      "\u001b[2m  │ │ ├─\u001b[0m\u001b[1mrefpix\u001b[0m (str): crds://roman_wfi_refpix_0045.asdf\n",
      "\u001b[2m  │ │ └─\u001b[0m\u001b[1msaturation\u001b[0m (str): crds://roman_wfi_saturation_0229.asdf\u001b[2m\u001b[3m # Saturation reference file information\u001b[0m\u001b[0m\n",
      "\u001b[2m  │ ├─\u001b[0m\u001b[1msdf_software_version\u001b[0m (SdfSoftwareVersion): 0.0.0\u001b[2m\u001b[3m # SDF software version number\u001b[0m\u001b[0m\n",
      "\u001b[2m  │ ├─\u001b[0m\u001b[1msource_detection\u001b[0m (SourceDetection)\u001b[2m\u001b[3m # Source catalog generated by the Source Detection Step for TweakReg.\u001b[0m\u001b[0m\n",
      "\u001b[2m  │ │ ├─\u001b[0m\u001b[1mtweakreg_catalog\u001b[0m (NDArrayType): shape=(75792,), dtype=void256\n",
      "\u001b[2m  │ │ └─\u001b[0m\u001b[1mtweakreg_catalog_name\u001b[0m (str): filename_tweakreg_catalog.asdf\n",
      "\u001b[2m  │ ├─\u001b[0m\u001b[1mtarget\u001b[0m (Target)\u001b[2m\u001b[3m # Target information\u001b[0m\u001b[0m\n",
      "\u001b[2m  │ │ ├─\u001b[0m\u001b[1mproposer_name\u001b[0m (str): HLWAS\u001b[2m\u001b[3m # Proposer's name for the target\u001b[0m\u001b[0m\n",
      "\u001b[2m  │ │ ├─\u001b[0m\u001b[1mcatalog_name\u001b[0m (str): HLWAS\u001b[2m\u001b[3m # Standard astronomical catalog name for target\u001b[0m\u001b[0m\n",
      "\u001b[2m  │ │ ├─\u001b[0m\u001b[1mtype\u001b[0m (str): FIXED\u001b[2m\u001b[3m # Type of target\u001b[0m\u001b[0m\n",
      "\u001b[2m  │ │ ├─\u001b[0m\u001b[1mra\u001b[0m (float): 80.0\u001b[2m\u001b[3m # Target RA at mid time of exposure\u001b[0m\u001b[0m\n",
      "\u001b[2m  │ │ ├─\u001b[0m\u001b[1mdec\u001b[0m (float): 30.0\u001b[2m\u001b[3m # Target Dec at mid time of exposure\u001b[0m\u001b[0m\n",
      "\u001b[2m  │ │ ├─\u001b[0m\u001b[1mra_uncertainty\u001b[0m (float): 2.8e-05\u001b[2m\u001b[3m # Target RA uncertainty\u001b[0m\u001b[0m\n",
      "\u001b[2m  │ │ ├─\u001b[0m\u001b[1mdec_uncertainty\u001b[0m (float): 2.8e-05\u001b[2m\u001b[3m # Target Dec uncertainty\u001b[0m\u001b[0m\n",
      "\u001b[2m  │ │ ├─\u001b[0m\u001b[1mproper_motion_ra\u001b[0m (float): 0.0\u001b[2m\u001b[3m # Target proper motion in RA\u001b[0m\u001b[0m\n",
      "\u001b[2m  │ │ ├─\u001b[0m\u001b[1mproper_motion_dec\u001b[0m (float): 0.0\u001b[2m\u001b[3m # Target proper motion in Dec\u001b[0m\u001b[0m\n",
      "\u001b[2m  │ │ ├─\u001b[0m\u001b[1mproper_motion_epoch\u001b[0m (str): J2000\u001b[2m\u001b[3m # Target proper motion epoch\u001b[0m\u001b[0m\n",
      "\u001b[2m  │ │ ├─\u001b[0m\u001b[1mproposer_ra\u001b[0m (float): 80.0\u001b[2m\u001b[3m # Proposer's target RA\u001b[0m\u001b[0m\n",
      "\u001b[2m  │ │ ├─\u001b[0m\u001b[1mproposer_dec\u001b[0m (float): 30.0\u001b[2m\u001b[3m # Proposer's target Dec\u001b[0m\u001b[0m\n",
      "\u001b[2m  │ │ └─\u001b[0m\u001b[1msource_type\u001b[0m (str): EXTENDED\u001b[2m\u001b[3m # Source type used for calibration\u001b[0m\u001b[0m\n",
      "\u001b[2m  │ ├─\u001b[0m\u001b[1mtelescope\u001b[0m (Telescope): ROMAN\u001b[2m\u001b[3m # Telescope used to acquire the data\u001b[0m\u001b[0m\n",
      "\u001b[2m  │ ├─\u001b[0m\u001b[1mvelocity_aberration\u001b[0m (VelocityAberration)\u001b[2m\u001b[3m # Velocity aberration correction information\u001b[0m\u001b[0m\n",
      "\u001b[2m  │ │ ├─\u001b[0m\u001b[1mra_offset\u001b[0m (float): 0.0\u001b[2m\u001b[3m # Velocity aberration right ascension offset\u001b[0m\u001b[0m\n",
      "\u001b[2m  │ │ ├─\u001b[0m\u001b[1mdec_offset\u001b[0m (float): 0.0\u001b[2m\u001b[3m # Velocity aberration declination offset\u001b[0m\u001b[0m\n",
      "\u001b[2m  │ │ └─\u001b[0m\u001b[1mscale_factor\u001b[0m (float): 1.0\u001b[2m\u001b[3m # Velocity aberration scale factor\u001b[0m\u001b[0m\n",
      "\u001b[2m  │ ├─\u001b[0m\u001b[1mvisit\u001b[0m (Visit)\u001b[2m\u001b[3m # Visit information\u001b[0m\u001b[0m\n",
      "\u001b[2m  │ │ ├─\u001b[0m\u001b[1mengineering_quality\u001b[0m (str): OK\u001b[2m\u001b[3m # Engineering data quality indicator from EngDB\u001b[0m\u001b[0m\n",
      "\u001b[2m  │ │ ├─\u001b[0m\u001b[1mpointing_engdb_quality\u001b[0m (str): CALCULATED\u001b[2m\u001b[3m # Quality of pointing information from EngDB\u001b[0m\u001b[0m\n",
      "\u001b[2m  │ │ ├─\u001b[0m\u001b[1mtype\u001b[0m (str): NONE\u001b[2m\u001b[3m # Visit type\u001b[0m\u001b[0m\n",
      "\u001b[2m  │ │ ├─\u001b[0m\u001b[1mstart_time\u001b[0m (Time): 2021-01-01T00:00:00.000\u001b[2m\u001b[3m # UTC visit start time\u001b[0m\u001b[0m\n",
      "\u001b[2m  │ │ ├─\u001b[0m\u001b[1mend_time\u001b[0m (Time): 2021-01-01T00:02:25.920\u001b[2m\u001b[3m # UTC visit end time\u001b[0m\u001b[0m\n",
      "\u001b[2m  │ │ ├─\u001b[0m\u001b[1mstatus\u001b[0m (str): NONE\u001b[2m\u001b[3m # Status of a visit\u001b[0m\u001b[0m\n",
      "\u001b[2m  │ │ ├─\u001b[0m\u001b[1mtotal_exposures\u001b[0m (int): 2\u001b[2m\u001b[3m # Total number of planned exposures in visit\u001b[0m\u001b[0m\n",
      "\u001b[2m  │ │ ├─\u001b[0m\u001b[1minternal_target\u001b[0m (bool): False\u001b[2m\u001b[3m # At least one exposure in visit is internal\u001b[0m\u001b[0m\n",
      "\u001b[2m  │ │ ├─\u001b[0m\u001b[1mtarget_of_opportunity\u001b[0m (bool): False\u001b[2m\u001b[3m # Visit scheduled as target of opportunity\u001b[0m\u001b[0m\n",
      "\u001b[2m  │ │ ├─\u001b[0m\u001b[1mvisit_end\u001b[0m (Time): 2021-01-01 00:04:27.520000\n",
      "\u001b[2m  │ │ └─\u001b[0m\u001b[1mvisit_start\u001b[0m (Time): 2021-01-01 00:00:00\n",
      "\u001b[2m  │ ├─\u001b[0m\u001b[1mwcs\u001b[0m (WCS)\n",
      "\u001b[2m  │ └─\u001b[0m\u001b[1mwcsinfo\u001b[0m (Wcsinfo)\u001b[2m\u001b[3m # WCS parameters\u001b[0m\u001b[0m\n",
      "\u001b[2m  │   ├─\u001b[0m\u001b[1mv2_ref\u001b[0m (float): 1312.9491452484797\u001b[2m\u001b[3m # [arcsec] Telescope v2 coordinate of the reference point\u001b[0m\u001b[0m\n",
      "\u001b[2m  │   ├─\u001b[0m\u001b[1mv3_ref\u001b[0m (float): -1040.7853726755036\u001b[2m\u001b[3m # [arcsec] Telescope v3 coordinate of the reference point\u001b[0m\u001b[0m\n",
      "\u001b[2m  │   ├─\u001b[0m\u001b[1mvparity\u001b[0m (int): -1\u001b[2m\u001b[3m # Relative sense of rotation between Ideal xy and V2V3\u001b[0m\u001b[0m\n",
      "\u001b[2m  │   ├─\u001b[0m\u001b[1mv3yangle\u001b[0m (float): -60.0\u001b[2m\u001b[3m # [deg] Angle from V3 axis to Ideal y axis\u001b[0m\u001b[0m\n",
      "\u001b[2m  │   ├─\u001b[0m\u001b[1mra_ref\u001b[0m (float): 79.92369590924265\u001b[2m\u001b[3m # [deg] Right ascension of the reference point\u001b[0m\u001b[0m\n",
      "\u001b[2m  │   ├─\u001b[0m\u001b[1mdec_ref\u001b[0m (float): 29.95727681898086\u001b[2m\u001b[3m # [deg] Declination of the reference point\u001b[0m\u001b[0m\n",
      "\u001b[2m  │   ├─\u001b[0m\u001b[1mroll_ref\u001b[0m (float): -9.20447079053479e-16\u001b[2m\u001b[3m # [deg] V3 roll angle at the ref point (N over E)\u001b[0m\u001b[0m\n",
      "\u001b[2m  │   └─\u001b[0m\u001b[1ms_region\u001b[0m (str): POLYGON ICRS 80.02119288071422 29.980874148744988 79.89820398382058 30.042339847238676 79.8254663248794 29.93369416947359 79.94864512515784 29.872924447651283 \u001b[2m\u001b[3m # spatial extent of the observation\u001b[0m\u001b[0m\n",
      "\u001b[2m  ├─\u001b[0m\u001b[1mdata\u001b[0m (Quantity): shape=(4088, 4088), dtype=float32\u001b[2m\u001b[3m # Science data, excluding border reference pixels.\u001b[0m\u001b[0m\n",
      "\u001b[2m  ├─\u001b[0m\u001b[1mdq\u001b[0m (NDArrayType): shape=(4088, 4088), dtype=uint32\n",
      "\u001b[2m  ├─\u001b[0m\u001b[1merr\u001b[0m (Quantity): shape=(4088, 4088), dtype=float32\n",
      "\u001b[2m  ├─\u001b[0m\u001b[1mvar_poisson\u001b[0m (Quantity): shape=(4088, 4088), dtype=float32\n",
      "\u001b[2m  ├─\u001b[0m\u001b[1mvar_rnoise\u001b[0m (Quantity): shape=(4088, 4088), dtype=float32\n",
      "\u001b[2m  ├─\u001b[0m\u001b[1mvar_flat\u001b[0m (Quantity): shape=(4088, 4088), dtype=float32\n",
      "\u001b[2m  ├─\u001b[0m\u001b[1mamp33\u001b[0m (Quantity): shape=(10, 4096, 128), dtype=uint16\u001b[2m\u001b[3m # Amp 33 reference pixel data\u001b[0m\u001b[0m\n",
      "\u001b[2m  ├─\u001b[0m\u001b[1mborder_ref_pix_left\u001b[0m (Quantity): shape=(10, 4096, 4), dtype=float32\u001b[2m\u001b[3m # Original border reference pixels, on left (from viewers perspective).\u001b[0m\u001b[0m\n",
      "\u001b[2m  ├─\u001b[0m\u001b[1mborder_ref_pix_right\u001b[0m (Quantity): shape=(10, 4096, 4), dtype=float32\u001b[2m\u001b[3m # Original border reference pixels, on right (from viewers perspective).\u001b[0m\u001b[0m\n",
      "\u001b[2m  ├─\u001b[0m\u001b[1mborder_ref_pix_top\u001b[0m (Quantity): shape=(10, 4, 4096), dtype=float32\u001b[2m\u001b[3m # Original border reference pixels, on top.\u001b[0m\u001b[0m\n",
      "\u001b[2m  ├─\u001b[0m\u001b[1mborder_ref_pix_bottom\u001b[0m (Quantity): shape=(10, 4, 4096), dtype=float32\u001b[2m\u001b[3m # Original border reference pixels, on bottom.\u001b[0m\u001b[0m\n",
      "\u001b[2m  ├─\u001b[0m\u001b[1mdq_border_ref_pix_left\u001b[0m (NDArrayType): shape=(4096, 4), dtype=uint32\u001b[2m\u001b[3m # DQ for border reference pixels, on left (from viewers perspective).\u001b[0m\u001b[0m\n",
      "\u001b[2m  ├─\u001b[0m\u001b[1mdq_border_ref_pix_right\u001b[0m (NDArrayType): shape=(4096, 4), dtype=uint32\u001b[2m\u001b[3m # DQ for border reference pixels, on right (from viewers perspective).\u001b[0m\u001b[0m\n",
      "\u001b[2m  ├─\u001b[0m\u001b[1mdq_border_ref_pix_top\u001b[0m (NDArrayType): shape=(4, 4096), dtype=uint32\u001b[2m\u001b[3m # DQ for border reference pixels, on top.\u001b[0m\u001b[0m\n",
      "\u001b[2m  ├─\u001b[0m\u001b[1mdq_border_ref_pix_bottom\u001b[0m (NDArrayType): shape=(4, 4096), dtype=uint32\u001b[2m\u001b[3m # DQ for border reference pixels, on bottom.\u001b[0m\u001b[0m\n",
      "\u001b[2m  ├─\u001b[0m\u001b[1mcal_logs\u001b[0m (CalLogs)\u001b[2m\u001b[3m # Calibration log messages\u001b[0m\u001b[0m\n",
      "\u001b[2m  │ ├─\u001b[0m\u001b[1m0\u001b[0m (str): 2024-02-16T13:27:42.527Z :: stpipe.ExposurePipeline.rampfit :: INFO :: Step rampfit running with args (<roman_datamodels.datamodels._datamodels.RampModel object at 0x136f38110>,).\n",
      "\u001b[2m  │ ├─\u001b[0m\u001b[1m1\u001b[0m (str): 2024-02-16T13:27:42.528Z :: stpipe.ExposurePipeline.rampfit :: INFO :: Step rampfit parameters are: {'pre_hooks': [], 'post_hooks': [], 'output_file': None, 'output_dir': None, 'output_ext': '.asdf', 'output_use_model': False, 'output_use_index': True, 'save_results': False, 'skip': False, 'suffix': 'rampfit', 'search_output_file': True, 'input_dir': '', 'algorithm': 'ols_cas22', 'save_opt': False, 'opt_name': '', 'maximum_cores': 'none', 'use_ramp_jump_detection': True, 'threshold_intercept': None, 'threshold_constant': None}\n",
      "\u001b[2m  │ ├─\u001b[0m\u001b[1m2\u001b[0m (str): 2024-02-16T13:28:00.405Z :: stpipe.ExposurePipeline.rampfit :: INFO :: Using READNOISE reference file: /Users/dencheva/crds/references/roman/wfi/roman_wfi_readnoise_0792.asdf\n",
      "\u001b[2m  │ ├─\u001b[0m\u001b[1m3\u001b[0m (str): 2024-02-16T13:28:00.441Z :: stpipe.ExposurePipeline.rampfit :: INFO :: Using GAIN reference file: /Users/dencheva/crds/references/roman/wfi/roman_wfi_gain_0205.asdf\n",
      "\u001b[2m  │ ├─\u001b[0m\u001b[1m4\u001b[0m (str): 2024-02-16T13:28:00.480Z :: stpipe.ExposurePipeline.rampfit :: INFO :: Jump detection as part of ramp fitting is enabled.\n",
      "\u001b[2m  │ ├─\u001b[0m\u001b[1m5\u001b[0m (str): 2024-02-16T13:28:32.972Z :: stpipe.ExposurePipeline.assign_wcs :: INFO :: Step assign_wcs running with args (<roman_datamodels.datamodels._datamodels.ImageModel object at 0x137420550>,).\n",
      "\u001b[2m  │ ├─\u001b[0m\u001b[1m6\u001b[0m (str): 2024-02-16T13:28:32.973Z :: stpipe.ExposurePipeline.assign_wcs :: INFO :: Step assign_wcs parameters are: {'pre_hooks': [], 'post_hooks': [], 'output_file': None, 'output_dir': None, 'output_ext': '.asdf', 'output_use_model': False, 'output_use_index': True, 'save_results': False, 'skip': False, 'suffix': None, 'search_output_file': True, 'input_dir': ''}\n",
      "\u001b[2m  │ ├─\u001b[0m\u001b[1m7\u001b[0m (str): 2024-02-16T13:28:32.973Z :: stpipe.ExposurePipeline.assign_wcs :: INFO :: reftype, distortion\n",
      "\u001b[2m  │ ├─\u001b[0m\u001b[1m8\u001b[0m (str): 2024-02-16T13:28:33.123Z :: stpipe.ExposurePipeline.assign_wcs :: INFO :: Using reference files: {'distortion': '/Users/dencheva/crds/references/roman/wfi/roman_wfi_distortion_0054.asdf'} for assign_wcs\n",
      "\u001b[2m  │ ├─\u001b[0m\u001b[1m9\u001b[0m (str): 2024-02-16T13:28:33.218Z :: stpipe.ExposurePipeline.assign_wcs :: INFO :: S_REGION VALUES: POLYGON ICRS 80.02119288071422 29.980874148744988 79.89820398382058 30.042339847238676 79.8254663248794 29.93369416947359 79.94864512515784 29.872924447651283 \n",
      "\u001b[2m  │ ├─\u001b[0m\u001b[1m10\u001b[0m (str): 2024-02-16T13:28:33.221Z :: stpipe.ExposurePipeline.assign_wcs :: INFO :: Update S_REGION to POLYGON ICRS 80.02119288071422 29.980874148744988 79.89820398382058 30.042339847238676 79.8254663248794 29.93369416947359 79.94864512515784 29.872924447651283 \n",
      "\u001b[2m  │ ├─\u001b[0m\u001b[1m11\u001b[0m (str): 2024-02-16T13:28:33.295Z :: stpipe.ExposurePipeline.flatfield :: INFO :: Step flatfield running with args (<roman_datamodels.datamodels._datamodels.ImageModel object at 0x13734be90>,).\n",
      "\u001b[2m  │ ├─\u001b[0m\u001b[1m12\u001b[0m (str): 2024-02-16T13:28:33.296Z :: stpipe.ExposurePipeline.flatfield :: INFO :: Step flatfield parameters are: {'pre_hooks': [], 'post_hooks': [], 'output_file': None, 'output_dir': None, 'output_ext': '.asdf', 'output_use_model': False, 'output_use_index': True, 'save_results': False, 'skip': False, 'suffix': None, 'search_output_file': True, 'input_dir': ''}\n",
      "\u001b[2m  │ ├─\u001b[0m\u001b[1m13\u001b[0m (str): 2024-02-16T13:29:08.802Z :: stpipe.ExposurePipeline.flatfield :: DEBUG :: Using FLAT ref file: /Users/dencheva/crds/references/roman/wfi/roman_wfi_flat_0227.asdf\n",
      "\u001b[2m  │ ├─\u001b[0m\u001b[1m14\u001b[0m (str): 2024-02-16T13:29:09.408Z :: stpipe.ExposurePipeline.photom :: INFO :: Step photom running with args (<roman_datamodels.datamodels._datamodels.ImageModel object at 0x137380f10>,).\n",
      "\u001b[2m  │ ├─\u001b[0m\u001b[1m15\u001b[0m (str): 2024-02-16T13:29:09.409Z :: stpipe.ExposurePipeline.photom :: INFO :: Step photom parameters are: {'pre_hooks': [], 'post_hooks': [], 'output_file': None, 'output_dir': None, 'output_ext': '.asdf', 'output_use_model': False, 'output_use_index': True, 'save_results': False, 'skip': False, 'suffix': None, 'search_output_file': True, 'input_dir': ''}\n",
      "\u001b[2m  │ ├─\u001b[0m\u001b[1m16\u001b[0m (str): 2024-02-16T13:29:10.642Z :: stpipe.ExposurePipeline.photom :: DEBUG :: Using PHOTOM ref file: /Users/dencheva/crds/references/roman/wfi/roman_wfi_photom_0056.asdf\n",
      "\u001b[2m  │ ├─\u001b[0m\u001b[1m17\u001b[0m (str): 2024-02-16T13:29:10.642Z :: stpipe.ExposurePipeline.photom :: DEBUG :: pixelarea_steradians = 2.80833899537275e-13 sr, pixelarea_arcsecsq = 0.011948126080745863 arcsec2\n",
      "\u001b[2m  │ ├─\u001b[0m\u001b[1m18\u001b[0m (str): 2024-02-16T13:29:10.645Z :: stpipe.ExposurePipeline.photom :: INFO :: photmjsr value: 0.332414 MJy / sr\n",
      "\u001b[2m  │ ├─\u001b[0m\u001b[1m19\u001b[0m (str): 2024-02-16T13:29:10.646Z :: stpipe.ExposurePipeline.photom :: INFO :: uncertainty value: 0 MJy / sr\n",
      "\u001b[2m  │ ├─\u001b[0m\u001b[1m20\u001b[0m (str): 2024-02-16T13:29:10.719Z :: stpipe.ExposurePipeline.source_detection :: INFO :: Step source_detection running with args (<roman_datamodels.datamodels._datamodels.ImageModel object at 0x1374fbcd0>,).\n",
      "\u001b[2m  │ ├─\u001b[0m\u001b[1m21\u001b[0m (str): 2024-02-16T13:29:10.720Z :: stpipe.ExposurePipeline.source_detection :: INFO :: Step source_detection parameters are: {'pre_hooks': [], 'post_hooks': [], 'output_file': None, 'output_dir': None, 'output_ext': '.asdf', 'output_use_model': False, 'output_use_index': True, 'save_results': False, 'skip': False, 'suffix': None, 'search_output_file': True, 'input_dir': '', 'kernel_fwhm': None, 'sharplo': 0.0, 'sharphi': 1.0, 'roundlo': -1.0, 'roundhi': 1.0, 'peakmax': 1000.0, 'max_sources': None, 'scalar_threshold': None, 'calc_threshold': True, 'snr_thres\u001b[2m\u001b[3m (truncated)\u001b[0m\u001b[0m\n",
      "\u001b[2m  │ ├─\u001b[0m\u001b[1m22\u001b[0m (str): 2024-02-16T13:29:10.743Z :: stpipe.ExposurePipeline.source_detection :: INFO :: Determining detection threshold from image.\n",
      "\u001b[2m  │ ├─\u001b[0m\u001b[1m23\u001b[0m (str): 2024-02-16T13:29:30.840Z :: stpipe.ExposurePipeline.source_detection :: INFO :: Calculated a detection threshold of 1.112740455395168 from image.\n",
      "\u001b[2m  │ ├─\u001b[0m\u001b[1m24\u001b[0m (str): 2024-02-16T13:29:30.841Z :: stpipe.ExposurePipeline.source_detection :: INFO :: Detecting sources with DAOStarFinder, using entire image array.\n",
      "\u001b[2m  │ ├─\u001b[0m\u001b[1m25\u001b[0m (str): 2024-02-16T13:29:59.221Z :: stpipe.ExposurePipeline.source_detection :: INFO :: Found 75792 sources.\n",
      "\u001b[2m  │ ├─\u001b[0m\u001b[1m26\u001b[0m (str): 2024-02-16T13:22:55.088Z :: stpipe.ExposurePipeline :: INFO :: Step ExposurePipeline running with args ('r0000101001001001001_01101_0001_WFI01_uncal.asdf',).\n",
      "\u001b[2m  │ ├─\u001b[0m\u001b[1m27\u001b[0m (str): 2024-02-16T13:22:55.099Z :: stpipe.ExposurePipeline :: INFO :: Step ExposurePipeline parameters are: {'pre_hooks': [], 'post_hooks': [], 'output_file': None, 'output_dir': None, 'output_ext': '.asdf', 'output_use_model': False, 'output_use_index': True, 'save_results': True, 'skip': False, 'suffix': None, 'search_output_file': True, 'input_dir': '', 'save_calibrated_ramp': False, 'steps': {'dq_init': {'pre_hooks': [], 'post_hooks': [], 'output_file': None, 'output_dir': None, 'output_ext': '.asdf', 'output_use_model': False, 'output_use_index': True,\u001b[2m\u001b[3m (truncated)\u001b[0m\u001b[0m\n",
      "\u001b[2m  │ ├─\u001b[0m\u001b[1m28\u001b[0m (str): 2024-02-16T13:22:55.099Z :: stpipe.ExposurePipeline :: INFO :: First argument r0000101001001001001_01101_0001_WFI01_uncal.asdf does not appear to be a model\n",
      "\u001b[2m  │ ├─\u001b[0m\u001b[1m29\u001b[0m (str): 2024-02-16T13:22:55.099Z :: stpipe.ExposurePipeline :: INFO :: Starting Roman exposure calibration pipeline ...\n",
      "\u001b[2m  │ ├─\u001b[0m\u001b[1m30\u001b[0m (str): 2024-02-16T13:22:55.272Z :: stpipe.ExposurePipeline :: INFO :: Processing a WFI exposure <roman_datamodels.datamodels._datamodels.ScienceRawModel object at 0x136ff14d0>\n",
      "\u001b[2m  │ ├─\u001b[0m\u001b[1m31\u001b[0m (str): 2024-02-16T13:22:55.344Z :: stpipe.ExposurePipeline.dq_init :: INFO :: Step dq_init running with args (<roman_datamodels.datamodels._datamodels.ScienceRawModel object at 0x13579f010>,).\n",
      "\u001b[2m  │ ├─\u001b[0m\u001b[1m32\u001b[0m (str): 2024-02-16T13:22:55.345Z :: stpipe.ExposurePipeline.dq_init :: INFO :: Step dq_init parameters are: {'pre_hooks': [], 'post_hooks': [], 'output_file': None, 'output_dir': None, 'output_ext': '.asdf', 'output_use_model': False, 'output_use_index': True, 'save_results': False, 'skip': False, 'suffix': 'dq_init', 'search_output_file': True, 'input_dir': ''}\n",
      "\u001b[2m  │ ├─\u001b[0m\u001b[1m33\u001b[0m (str): 2024-02-16T13:22:56.913Z :: stpipe.ExposurePipeline.dq_init :: INFO :: Flagging rows from: 363 to 379 as affected by guide window read\n",
      "\u001b[2m  │ ├─\u001b[0m\u001b[1m34\u001b[0m (str): 2024-02-16T13:23:06.148Z :: stpipe.ExposurePipeline.dq_init :: DEBUG :: Using MASK ref file: /Users/dencheva/crds/references/roman/wfi/roman_wfi_mask_0074.asdf\n",
      "\u001b[2m  │ ├─\u001b[0m\u001b[1m35\u001b[0m (str): 2024-02-16T13:23:06.240Z :: stpipe.ExposurePipeline.dq_init :: INFO :: Step dq_init done\n",
      "\u001b[2m  │ ├─\u001b[0m\u001b[1m36\u001b[0m (str): 2024-02-16T13:23:06.318Z :: stpipe.ExposurePipeline.saturation :: INFO :: Step saturation running with args (<roman_datamodels.datamodels._datamodels.RampModel object at 0x137016c90>,).\n",
      "\u001b[2m  │ ├─\u001b[0m\u001b[1m37\u001b[0m (str): 2024-02-16T13:23:06.319Z :: stpipe.ExposurePipeline.saturation :: INFO :: Step saturation parameters are: {'pre_hooks': [], 'post_hooks': [], 'output_file': None, 'output_dir': None, 'output_ext': '.asdf', 'output_use_model': False, 'output_use_index': True, 'save_results': False, 'skip': False, 'suffix': None, 'search_output_file': True, 'input_dir': ''}\n",
      "\u001b[2m  │ ├─\u001b[0m\u001b[1m38\u001b[0m (str): 2024-02-16T13:23:22.325Z :: stpipe.ExposurePipeline.saturation :: INFO :: Using SATURATION reference file: /Users/dencheva/crds/references/roman/wfi/roman_wfi_saturation_0229.asdf\n",
      "\u001b[2m  │ ├─\u001b[0m\u001b[1m39\u001b[0m (str): 2024-02-16T13:23:25.913Z :: stpipe.ExposurePipeline.saturation :: INFO :: Detected 2293 saturated pixels\n",
      "\u001b[2m  │ ├─\u001b[0m\u001b[1m40\u001b[0m (str): 2024-02-16T13:23:26.039Z :: stpipe.ExposurePipeline.saturation :: INFO :: Detected 0 A/D floor pixels\n",
      "\u001b[2m  │ ├─\u001b[0m\u001b[1m41\u001b[0m (str): 2024-02-16T13:23:26.079Z :: stpipe.ExposurePipeline.saturation :: INFO :: Step saturation done\n",
      "\u001b[2m  │ ├─\u001b[0m\u001b[1m42\u001b[0m (str): 2024-02-16T13:23:26.257Z :: stpipe.ExposurePipeline.refpix :: INFO :: Step refpix running with args (<roman_datamodels.datamodels._datamodels.RampModel object at 0x1371eaf90>,).\n",
      "\u001b[2m  │ ├─\u001b[0m\u001b[1m43\u001b[0m (str): 2024-02-16T13:23:26.258Z :: stpipe.ExposurePipeline.refpix :: INFO :: Step refpix parameters are: {'pre_hooks': [], 'post_hooks': [], 'output_file': None, 'output_dir': None, 'output_ext': '.asdf', 'output_use_model': False, 'output_use_index': True, 'save_results': False, 'skip': False, 'suffix': None, 'search_output_file': True, 'input_dir': '', 'remove_offset': True, 'remove_trends': True, 'cosine_interpolate': True, 'fft_interpolate': True}\n",
      "\u001b[2m  │ ├─\u001b[0m\u001b[1m44\u001b[0m (str): 2024-02-16T13:23:26.258Z :: stpipe.ExposurePipeline.refpix :: DEBUG :: Opening the science data: <roman_datamodels.datamodels._datamodels.RampModel object at 0x1371eaf90>\n",
      "\u001b[2m  │ ├─\u001b[0m\u001b[1m45\u001b[0m (str): 2024-02-16T13:24:21.806Z :: stpipe.ExposurePipeline.refpix :: DEBUG :: Opening the reference file: /Users/dencheva/crds/references/roman/wfi/roman_wfi_refpix_0045.asdf\n",
      "\u001b[2m  │ ├─\u001b[0m\u001b[1m46\u001b[0m (str): 2024-02-16T13:24:21.827Z :: stpipe.ExposurePipeline.refpix :: DEBUG :: Running the reference pixel correction\n",
      "\u001b[2m  │ ├─\u001b[0m\u001b[1m47\u001b[0m (str): 2024-02-16T13:24:21.827Z :: stpipe.ExposurePipeline.refpix :: DEBUG :: Reading data from datamodel into single array\n",
      "\u001b[2m  │ ├─\u001b[0m\u001b[1m48\u001b[0m (str): 2024-02-16T13:24:22.598Z :: stpipe.ExposurePipeline.refpix :: DEBUG :: Removed the general offset from data, to be re-applied later.\n",
      "\u001b[2m  │ ├─\u001b[0m\u001b[1m49\u001b[0m (str): 2024-02-16T13:24:23.920Z :: stpipe.ExposurePipeline.refpix :: DEBUG :: Removed boundary trends (in time) from data.\n",
      "\u001b[2m  │ ├─\u001b[0m\u001b[1m50\u001b[0m (str): 2024-02-16T13:24:23.954Z :: stpipe.ExposurePipeline.refpix :: WARNING :: /Users/dencheva/opt/anaconda3/envs/rb13/lib/python3.11/site-packages/romancal/refpix/data.py:418: RuntimeWarning: invalid value encountered in divide\n",
      "\u001b[2m  │ ├─\u001b[0m\u001b[1m51\u001b[0m (str): 2024-02-16T13:24:23.954Z :: stpipe.ExposurePipeline.refpix :: WARNING ::   kern = (cov / mask_conv).reshape(rows, columns)\n",
      "\u001b[2m  │ ├─\u001b[0m\u001b[1m52\u001b[0m (str): 2024-02-16T13:24:23.954Z :: stpipe.ExposurePipeline.refpix :: WARNING :: \n",
      "\u001b[2m  │ ├─\u001b[0m\u001b[1m53\u001b[0m (str): 2024-02-16T13:24:24.255Z :: stpipe.ExposurePipeline.refpix :: DEBUG :: Cosine interpolated the reference pixels.\n",
      "\u001b[2m  │ ├─\u001b[0m\u001b[1m54\u001b[0m (str): 2024-02-16T13:24:25.085Z :: stpipe.ExposurePipeline.refpix :: DEBUG :: FFT interpolated the reference pixel pads.\n",
      "\u001b[2m  │ ├─\u001b[0m\u001b[1m55\u001b[0m (str): 2024-02-16T13:24:34.291Z :: stpipe.ExposurePipeline.refpix :: DEBUG :: Applied reference pixel correction\n",
      "\u001b[2m  │ ├─\u001b[0m\u001b[1m56\u001b[0m (str): 2024-02-16T13:24:34.428Z :: stpipe.ExposurePipeline.refpix :: DEBUG :: Re-applied the general offset (if removed) to the data.\n",
      "\u001b[2m  │ ├─\u001b[0m\u001b[1m57\u001b[0m (str): 2024-02-16T13:24:34.799Z :: stpipe.ExposurePipeline.refpix :: DEBUG :: Updated the datamodel with the corrected data.\n",
      "\u001b[2m  │ ├─\u001b[0m\u001b[1m58\u001b[0m (str): 2024-02-16T13:24:34.924Z :: stpipe.ExposurePipeline.refpix :: INFO :: Step refpix done\n",
      "\u001b[2m  │ ├─\u001b[0m\u001b[1m59\u001b[0m (str): 2024-02-16T13:24:35.000Z :: stpipe.ExposurePipeline.linearity :: INFO :: Step linearity running with args (<roman_datamodels.datamodels._datamodels.RampModel object at 0x1372cb410>,).\n",
      "\u001b[2m  │ ├─\u001b[0m\u001b[1m60\u001b[0m (str): 2024-02-16T13:24:35.000Z :: stpipe.ExposurePipeline.linearity :: INFO :: Step linearity parameters are: {'pre_hooks': [], 'post_hooks': [], 'output_file': None, 'output_dir': None, 'output_ext': '.asdf', 'output_use_model': False, 'output_use_index': True, 'save_results': False, 'skip': False, 'suffix': None, 'search_output_file': True, 'input_dir': ''}\n",
      "\u001b[2m  │ ├─\u001b[0m\u001b[1m61\u001b[0m (str): 2024-02-16T13:25:47.507Z :: stpipe.ExposurePipeline.linearity :: INFO :: Using LINEARITY reference file: /Users/dencheva/crds/references/roman/wfi/roman_wfi_linearity_0302.asdf\n",
      "\u001b[2m  │ ├─\u001b[0m\u001b[1m62\u001b[0m (str): 2024-02-16T13:26:10.425Z :: stpipe.ExposurePipeline.linearity :: INFO :: Step linearity done\n",
      "\u001b[2m  │ ├─\u001b[0m\u001b[1m63\u001b[0m (str): 2024-02-16T13:26:10.498Z :: stpipe.ExposurePipeline.dark_current :: INFO :: Step dark_current running with args (<roman_datamodels.datamodels._datamodels.RampModel object at 0x137337d10>,).\n",
      "\u001b[2m  │ ├─\u001b[0m\u001b[1m64\u001b[0m (str): 2024-02-16T13:26:10.499Z :: stpipe.ExposurePipeline.dark_current :: INFO :: Step dark_current parameters are: {'pre_hooks': [], 'post_hooks': [], 'output_file': None, 'output_dir': None, 'output_ext': '.asdf', 'output_use_model': False, 'output_use_index': True, 'save_results': False, 'skip': False, 'suffix': None, 'search_output_file': True, 'input_dir': '', 'dark_output': None}\n",
      "\u001b[2m  │ ├─\u001b[0m\u001b[1m65\u001b[0m (str): 2024-02-16T13:27:41.869Z :: stpipe.ExposurePipeline.dark_current :: INFO :: Using DARK reference file: /Users/dencheva/crds/references/roman/wfi/roman_wfi_dark_0919.asdf\n",
      "\u001b[2m  │ ├─\u001b[0m\u001b[1m66\u001b[0m (str): 2024-02-16T13:27:42.446Z :: stpipe.ExposurePipeline.dark_current :: INFO :: Step dark_current done\n",
      "\u001b[2m  │ ├─\u001b[0m\u001b[1m67\u001b[0m (str): 2024-02-16T13:27:42.527Z :: stpipe.ExposurePipeline.rampfit :: INFO :: Step rampfit running with args (<roman_datamodels.datamodels._datamodels.RampModel object at 0x136f38110>,).\n",
      "\u001b[2m  │ ├─\u001b[0m\u001b[1m68\u001b[0m (str): 2024-02-16T13:27:42.528Z :: stpipe.ExposurePipeline.rampfit :: INFO :: Step rampfit parameters are: {'pre_hooks': [], 'post_hooks': [], 'output_file': None, 'output_dir': None, 'output_ext': '.asdf', 'output_use_model': False, 'output_use_index': True, 'save_results': False, 'skip': False, 'suffix': 'rampfit', 'search_output_file': True, 'input_dir': '', 'algorithm': 'ols_cas22', 'save_opt': False, 'opt_name': '', 'maximum_cores': 'none', 'use_ramp_jump_detection': True, 'threshold_intercept': None, 'threshold_constant': None}\n",
      "\u001b[2m  │ ├─\u001b[0m\u001b[1m69\u001b[0m (str): 2024-02-16T13:28:00.405Z :: stpipe.ExposurePipeline.rampfit :: INFO :: Using READNOISE reference file: /Users/dencheva/crds/references/roman/wfi/roman_wfi_readnoise_0792.asdf\n",
      "\u001b[2m  │ ├─\u001b[0m\u001b[1m70\u001b[0m (str): 2024-02-16T13:28:00.441Z :: stpipe.ExposurePipeline.rampfit :: INFO :: Using GAIN reference file: /Users/dencheva/crds/references/roman/wfi/roman_wfi_gain_0205.asdf\n",
      "\u001b[2m  │ ├─\u001b[0m\u001b[1m71\u001b[0m (str): 2024-02-16T13:28:00.480Z :: stpipe.ExposurePipeline.rampfit :: INFO :: Jump detection as part of ramp fitting is enabled.\n",
      "\u001b[2m  │ ├─\u001b[0m\u001b[1m72\u001b[0m (str): 2024-02-16T13:28:32.744Z :: stpipe.ExposurePipeline.rampfit :: INFO :: Step rampfit done\n",
      "\u001b[2m  │ ├─\u001b[0m\u001b[1m73\u001b[0m (str): 2024-02-16T13:28:32.972Z :: stpipe.ExposurePipeline.assign_wcs :: INFO :: Step assign_wcs running with args (<roman_datamodels.datamodels._datamodels.ImageModel object at 0x137420550>,).\n",
      "\u001b[2m  │ ├─\u001b[0m\u001b[1m74\u001b[0m (str): 2024-02-16T13:28:32.973Z :: stpipe.ExposurePipeline.assign_wcs :: INFO :: Step assign_wcs parameters are: {'pre_hooks': [], 'post_hooks': [], 'output_file': None, 'output_dir': None, 'output_ext': '.asdf', 'output_use_model': False, 'output_use_index': True, 'save_results': False, 'skip': False, 'suffix': None, 'search_output_file': True, 'input_dir': ''}\n",
      "\u001b[2m  │ ├─\u001b[0m\u001b[1m75\u001b[0m (str): 2024-02-16T13:28:32.973Z :: stpipe.ExposurePipeline.assign_wcs :: INFO :: reftype, distortion\n",
      "\u001b[2m  │ ├─\u001b[0m\u001b[1m76\u001b[0m (str): 2024-02-16T13:28:33.123Z :: stpipe.ExposurePipeline.assign_wcs :: INFO :: Using reference files: {'distortion': '/Users/dencheva/crds/references/roman/wfi/roman_wfi_distortion_0054.asdf'} for assign_wcs\n",
      "\u001b[2m  │ ├─\u001b[0m\u001b[1m77\u001b[0m (str): 2024-02-16T13:28:33.218Z :: stpipe.ExposurePipeline.assign_wcs :: INFO :: S_REGION VALUES: POLYGON ICRS 80.02119288071422 29.980874148744988 79.89820398382058 30.042339847238676 79.8254663248794 29.93369416947359 79.94864512515784 29.872924447651283 \n",
      "\u001b[2m  │ ├─\u001b[0m\u001b[1m78\u001b[0m (str): 2024-02-16T13:28:33.221Z :: stpipe.ExposurePipeline.assign_wcs :: INFO :: Update S_REGION to POLYGON ICRS 80.02119288071422 29.980874148744988 79.89820398382058 30.042339847238676 79.8254663248794 29.93369416947359 79.94864512515784 29.872924447651283 \n",
      "\u001b[2m  │ ├─\u001b[0m\u001b[1m79\u001b[0m (str): 2024-02-16T13:28:33.221Z :: stpipe.ExposurePipeline.assign_wcs :: INFO :: Step assign_wcs done\n",
      "\u001b[2m  │ ├─\u001b[0m\u001b[1m80\u001b[0m (str): 2024-02-16T13:28:33.295Z :: stpipe.ExposurePipeline.flatfield :: INFO :: Step flatfield running with args (<roman_datamodels.datamodels._datamodels.ImageModel object at 0x13734be90>,).\n",
      "\u001b[2m  │ ├─\u001b[0m\u001b[1m81\u001b[0m (str): 2024-02-16T13:28:33.296Z :: stpipe.ExposurePipeline.flatfield :: INFO :: Step flatfield parameters are: {'pre_hooks': [], 'post_hooks': [], 'output_file': None, 'output_dir': None, 'output_ext': '.asdf', 'output_use_model': False, 'output_use_index': True, 'save_results': False, 'skip': False, 'suffix': None, 'search_output_file': True, 'input_dir': ''}\n",
      "\u001b[2m  │ ├─\u001b[0m\u001b[1m82\u001b[0m (str): 2024-02-16T13:29:08.802Z :: stpipe.ExposurePipeline.flatfield :: DEBUG :: Using FLAT ref file: /Users/dencheva/crds/references/roman/wfi/roman_wfi_flat_0227.asdf\n",
      "\u001b[2m  │ ├─\u001b[0m\u001b[1m83\u001b[0m (str): 2024-02-16T13:29:09.331Z :: stpipe.ExposurePipeline.flatfield :: INFO :: Step flatfield done\n",
      "\u001b[2m  │ ├─\u001b[0m\u001b[1m84\u001b[0m (str): 2024-02-16T13:29:09.408Z :: stpipe.ExposurePipeline.photom :: INFO :: Step photom running with args (<roman_datamodels.datamodels._datamodels.ImageModel object at 0x137380f10>,).\n",
      "\u001b[2m  │ ├─\u001b[0m\u001b[1m85\u001b[0m (str): 2024-02-16T13:29:09.409Z :: stpipe.ExposurePipeline.photom :: INFO :: Step photom parameters are: {'pre_hooks': [], 'post_hooks': [], 'output_file': None, 'output_dir': None, 'output_ext': '.asdf', 'output_use_model': False, 'output_use_index': True, 'save_results': False, 'skip': False, 'suffix': None, 'search_output_file': True, 'input_dir': ''}\n",
      "\u001b[2m  │ ├─\u001b[0m\u001b[1m86\u001b[0m (str): 2024-02-16T13:29:10.642Z :: stpipe.ExposurePipeline.photom :: DEBUG :: Using PHOTOM ref file: /Users/dencheva/crds/references/roman/wfi/roman_wfi_photom_0056.asdf\n",
      "\u001b[2m  │ ├─\u001b[0m\u001b[1m87\u001b[0m (str): 2024-02-16T13:29:10.642Z :: stpipe.ExposurePipeline.photom :: DEBUG :: pixelarea_steradians = 2.80833899537275e-13 sr, pixelarea_arcsecsq = 0.011948126080745863 arcsec2\n",
      "\u001b[2m  │ ├─\u001b[0m\u001b[1m88\u001b[0m (str): 2024-02-16T13:29:10.645Z :: stpipe.ExposurePipeline.photom :: INFO :: photmjsr value: 0.332414 MJy / sr\n",
      "\u001b[2m  │ ├─\u001b[0m\u001b[1m89\u001b[0m (str): 2024-02-16T13:29:10.646Z :: stpipe.ExposurePipeline.photom :: INFO :: uncertainty value: 0 MJy / sr\n",
      "\u001b[2m  │ ├─\u001b[0m\u001b[1m90\u001b[0m (str): 2024-02-16T13:29:10.647Z :: stpipe.ExposurePipeline.photom :: INFO :: Step photom done\n",
      "\u001b[2m  │ ├─\u001b[0m\u001b[1m91\u001b[0m (str): 2024-02-16T13:29:10.719Z :: stpipe.ExposurePipeline.source_detection :: INFO :: Step source_detection running with args (<roman_datamodels.datamodels._datamodels.ImageModel object at 0x1374fbcd0>,).\n",
      "\u001b[2m  │ ├─\u001b[0m\u001b[1m92\u001b[0m (str): 2024-02-16T13:29:10.720Z :: stpipe.ExposurePipeline.source_detection :: INFO :: Step source_detection parameters are: {'pre_hooks': [], 'post_hooks': [], 'output_file': None, 'output_dir': None, 'output_ext': '.asdf', 'output_use_model': False, 'output_use_index': True, 'save_results': False, 'skip': False, 'suffix': None, 'search_output_file': True, 'input_dir': '', 'kernel_fwhm': None, 'sharplo': 0.0, 'sharphi': 1.0, 'roundlo': -1.0, 'roundhi': 1.0, 'peakmax': 1000.0, 'max_sources': None, 'scalar_threshold': None, 'calc_threshold': True, 'snr_thres\u001b[2m\u001b[3m (truncated)\u001b[0m\u001b[0m\n",
      "\u001b[2m  │ ├─\u001b[0m\u001b[1m93\u001b[0m (str): 2024-02-16T13:29:10.743Z :: stpipe.ExposurePipeline.source_detection :: INFO :: Determining detection threshold from image.\n",
      "\u001b[2m  │ ├─\u001b[0m\u001b[1m94\u001b[0m (str): 2024-02-16T13:29:30.840Z :: stpipe.ExposurePipeline.source_detection :: INFO :: Calculated a detection threshold of 1.112740455395168 from image.\n",
      "\u001b[2m  │ ├─\u001b[0m\u001b[1m95\u001b[0m (str): 2024-02-16T13:29:30.841Z :: stpipe.ExposurePipeline.source_detection :: INFO :: Detecting sources with DAOStarFinder, using entire image array.\n",
      "\u001b[2m  │ ├─\u001b[0m\u001b[1m96\u001b[0m (str): 2024-02-16T13:29:59.221Z :: stpipe.ExposurePipeline.source_detection :: INFO :: Found 75792 sources.\n",
      "\u001b[2m  │ ├─\u001b[0m\u001b[1m97\u001b[0m (str): 2024-02-16T13:29:59.261Z :: stpipe.ExposurePipeline.source_detection :: INFO :: Step source_detection done\n",
      "\u001b[2m  │ └─\u001b[0m\u001b[1m98\u001b[0m (str): 2024-02-16T13:29:59.262Z :: stpipe.ExposurePipeline :: INFO :: Roman exposure calibration pipeline ending...\n",
      "\u001b[2m  └─\u001b[0m\u001b[1moutput_file\u001b[0m (Filename): r0000101001001001001_01101_0001_WFI01_cal.asdf\u001b[2m\u001b[3m # Name of the file\u001b[0m\u001b[0m\n"
     ]
    }
   ],
   "source": [
    "image.info(max_rows=600, max_cols=600,show_values=True)"
   ]
  },
  {
   "cell_type": "markdown",
   "id": "ef9169c5",
   "metadata": {},
   "source": [
    "The `WCS` object is in the `image.meta.wcs` attribute."
   ]
  },
  {
   "cell_type": "code",
   "execution_count": 4,
   "id": "5e05fa6e",
   "metadata": {},
   "outputs": [],
   "source": [
    "w = image.meta.wcs"
   ]
  },
  {
   "cell_type": "markdown",
   "id": "e9378e3a",
   "metadata": {},
   "source": [
    "`print` shows the WCS pipeline"
   ]
  },
  {
   "cell_type": "code",
   "execution_count": 5,
   "id": "8523931c",
   "metadata": {},
   "outputs": [
    {
     "name": "stdout",
     "output_type": "stream",
     "text": [
      "  From     Transform  \n",
      "-------- -------------\n",
      "detector CompoundModel\n",
      "    v2v3      v23tosky\n",
      "   world          None\n"
     ]
    }
   ],
   "source": [
    "print(w)"
   ]
  },
  {
   "cell_type": "markdown",
   "id": "242edbd1",
   "metadata": {},
   "source": [
    "`repr` prints all transforms. Notable below is the `Expression` section which shows how the transforms are combined. The \"join\" operator `&` combines two models which take independent inputs and concatenates the outputs. The \"conposition\" operator, `|`, combines models in series, i.e. chains the output of the first one as input to the second. More information on combining models is available at [Compound Models](https://docs.astropy.org/en/stable/modeling/compound-models.html#)."
   ]
  },
  {
   "cell_type": "code",
   "execution_count": 13,
   "id": "d72cdc61",
   "metadata": {},
   "outputs": [],
   "source": [
    "w"
   ]
  },
  {
   "cell_type": "code",
   "execution_count": 9,
   "id": "075d9e41",
   "metadata": {},
   "outputs": [],
   "source": [
    "from matplotlib import pyplot as plt\n",
    "#%matplotlib notebook\n",
    "#%maptlotlib ipympl\n",
    "from astropy import units as u"
   ]
  },
  {
   "cell_type": "code",
   "execution_count": 27,
   "id": "b05f5599",
   "metadata": {},
   "outputs": [
    {
     "data": {
      "image/png": "[encoded data removed]",
      "text/plain": [
       "<Figure size 640x480 with 1 Axes>"
      ]
     },
     "metadata": {},
     "output_type": "display_data"
    }
   ],
   "source": [
    "ax = plt.subplot(projection=image.meta.wcs)\n",
    "plt.imshow(image.data.value, vmin=10, vmax=60, origin='lower')\n",
    "plt.gray()\n",
    "plt.grid(color='white', ls='solid')\n",
    "ax.coords[0].set_format_unit(u.degree)\n",
    "ax.coords[0].coord_wrap = 180 * u.deg"
   ]
  },
  {
   "cell_type": "markdown",
   "id": "96b5ce7a",
   "metadata": {},
   "source": [
    "The WCS can be evaluated directly as a function or using the Shared WCS Interface methods"
   ]
  },
  {
   "cell_type": "code",
   "execution_count": 28,
   "id": "13802ee3",
   "metadata": {},
   "outputs": [],
   "source": [
    "from gwcs.wcstools import grid_from_bounding_box"
   ]
  },
  {
   "cell_type": "markdown",
   "id": "802c17ee",
   "metadata": {},
   "source": [
    "The `bounding_box` of a WCS object represents the range of input values over which the transforms are valid. Typically it is the full detector. By default, input values outside the `bounding box` return `NaN`s. "
   ]
  },
  {
   "cell_type": "code",
   "execution_count": 29,
   "id": "afb1a28a",
   "metadata": {},
   "outputs": [
    {
     "data": {
      "text/plain": [
       "ModelBoundingBox(\n",
       "    intervals={\n",
       "        x0: Interval(lower=-0.5, upper=4087.5)\n",
       "        x1: Interval(lower=-0.5, upper=4087.5)\n",
       "    }\n",
       "    model=CompoundModel(inputs=('x0', 'x1'))\n",
       "    order='C'\n",
       ")"
      ]
     },
     "execution_count": 29,
     "metadata": {},
     "output_type": "execute_result"
    }
   ],
   "source": [
    "w.bounding_box"
   ]
  },
  {
   "cell_type": "code",
   "execution_count": 30,
   "id": "c47b1ff8",
   "metadata": {},
   "outputs": [],
   "source": [
    "x, y = grid_from_bounding_box(w.bounding_box)"
   ]
  },
  {
   "cell_type": "markdown",
   "id": "cc33d208",
   "metadata": {},
   "source": [
    "Evaluating the WCS object returns the numerical values of the result."
   ]
  },
  {
   "cell_type": "code",
   "execution_count": 31,
   "id": "f2bba8e0",
   "metadata": {},
   "outputs": [
    {
     "name": "stdout",
     "output_type": "stream",
     "text": [
      "[[80.02119288 80.0211752  80.02115752 ... 79.94869851 79.94868071\n",
      "  79.94866292]\n",
      " [80.02116305 80.02114536 80.02112768 ... 79.94866862 79.94865083\n",
      "  79.94863303]\n",
      " [80.02113321 80.02111553 80.02109785 ... 79.94863873 79.94862094\n",
      "  79.94860314]\n",
      " ...\n",
      " [79.89829499 79.89827723 79.89825947 ... 79.82561085 79.82559305\n",
      "  79.82557525]\n",
      " [79.89826466 79.8982469  79.89822914 ... 79.82558048 79.82556268\n",
      "  79.82554488]\n",
      " [79.89823432 79.89821656 79.8981988  ... 79.8255501  79.8255323\n",
      "  79.8255145 ]] [[29.98087415 29.98084768 29.98082122 ... 29.8730034  29.87297708\n",
      "  29.87295076]\n",
      " [29.98088907 29.98086261 29.98083614 ... 29.87301813 29.87299181\n",
      "  29.8729655 ]\n",
      " [29.980904   29.98087753 29.98085106 ... 29.87303287 29.87300655\n",
      "  29.87298023]\n",
      " ...\n",
      " [30.04229442 30.0422678  30.04224117 ... 29.93372872 29.93370222\n",
      "  29.93367572]\n",
      " [30.04230956 30.04228294 30.04225631 ... 29.93374371 29.9337172\n",
      "  29.9336907 ]\n",
      " [30.04232471 30.04229808 30.04227145 ... 29.93375869 29.93373219\n",
      "  29.93370569]]\n"
     ]
    }
   ],
   "source": [
    "ra, dec = w(x, y)\n",
    "print (ra, dec)"
   ]
  },
  {
   "cell_type": "markdown",
   "id": "13acf800",
   "metadata": {},
   "source": [
    "Using the Shared WCS interface methods returns a Python object of type astropy.coordinates.SkyCoord."
   ]
  },
  {
   "cell_type": "code",
   "execution_count": 32,
   "id": "22706bd8",
   "metadata": {},
   "outputs": [],
   "source": [
    "sky = w.pixel_to_world(x, y)"
   ]
  },
  {
   "cell_type": "code",
   "execution_count": 33,
   "id": "07464108",
   "metadata": {},
   "outputs": [
    {
     "name": "stdout",
     "output_type": "stream",
     "text": [
      "<SkyCoord (ICRS): (ra, dec) in deg\n",
      "    [[(80.02119288, 29.98087415), (80.0211752 , 29.98084768),\n",
      "      (80.02115752, 29.98082122), ..., (79.94869851, 29.8730034 ),\n",
      "      (79.94868071, 29.87297708), (79.94866292, 29.87295076)],\n",
      "     [(80.02116305, 29.98088907), (80.02114536, 29.98086261),\n",
      "      (80.02112768, 29.98083614), ..., (79.94866862, 29.87301813),\n",
      "      (79.94865083, 29.87299181), (79.94863303, 29.8729655 )],\n",
      "     [(80.02113321, 29.980904  ), (80.02111553, 29.98087753),\n",
      "      (80.02109785, 29.98085106), ..., (79.94863873, 29.87303287),\n",
      "      (79.94862094, 29.87300655), (79.94860314, 29.87298023)],\n",
      "     ...,\n",
      "     [(79.89829499, 30.04229442), (79.89827723, 30.0422678 ),\n",
      "      (79.89825947, 30.04224117), ..., (79.82561085, 29.93372872),\n",
      "      (79.82559305, 29.93370222), (79.82557525, 29.93367572)],\n",
      "     [(79.89826466, 30.04230956), (79.8982469 , 30.04228294),\n",
      "      (79.89822914, 30.04225631), ..., (79.82558048, 29.93374371),\n",
      "      (79.82556268, 29.9337172 ), (79.82554488, 29.9336907 )],\n",
      "     [(79.89823432, 30.04232471), (79.89821656, 30.04229808),\n",
      "      (79.8981988 , 30.04227145), ..., (79.8255501 , 29.93375869),\n",
      "      (79.8255323 , 29.93373219), (79.8255145 , 29.93370569)]]>\n"
     ]
    }
   ],
   "source": [
    "print(sky)"
   ]
  },
  {
   "cell_type": "markdown",
   "id": "092019ab",
   "metadata": {},
   "source": [
    "Other useful methods include\n",
    "\n",
    "`getting a transform between intermediate frames`"
   ]
  },
  {
   "cell_type": "code",
   "execution_count": 34,
   "id": "5be75550",
   "metadata": {},
   "outputs": [
    {
     "name": "stdout",
     "output_type": "stream",
     "text": [
      "Model: CompoundModel\n",
      "Inputs: ('x0', 'x1')\n",
      "Outputs: ('y0', 'y1')\n",
      "Model set size: 1\n",
      "Expression: [0] & [1] | [2] & [3] | [4] | [5] & [6] | [7] | [8] & [9] | [10] & [11]\n",
      "Components: \n",
      "    [0]: <Shift(offset=1.)>\n",
      "\n",
      "    [1]: <Shift(offset=1.)>\n",
      "\n",
      "    [2]: <Shift(offset=-2044.5)>\n",
      "\n",
      "    [3]: <Shift(offset=-2044.5)>\n",
      "\n",
      "    [4]: <Mapping((0, 1, 0, 1))>\n",
      "\n",
      "    [5]: <Polynomial2D(5, c0_0=0., c1_0=0.11034133, c2_0=-0.00000003, c3_0=-0., c4_0=0., c5_0=-0., c0_1=0.00034168, c0_2=-0.00000001, c0_3=-0., c0_4=-0., c0_5=0., c1_1=0.00000014, c1_2=-0., c1_3=0., c1_4=0., c2_1=0., c2_2=-0., c2_3=-0., c3_1=0., c3_2=-0., c4_1=-0.)>\n",
      "\n",
      "    [6]: <Polynomial2D(5, c0_0=0., c1_0=0.00031436, c2_0=0.00000007, c3_0=0., c4_0=0., c5_0=-0., c0_1=0.10828278, c0_2=0.00000021, c0_3=-0., c0_4=0., c0_5=0., c1_1=-0.00000002, c1_2=-0., c1_3=-0., c1_4=0., c2_1=-0., c2_2=-0., c2_3=0., c3_1=-0., c3_2=-0., c4_1=-0.)>\n",
      "\n",
      "    [7]: <Mapping((0, 1, 0, 1))>\n",
      "\n",
      "    [8]: <Polynomial2D(1, c0_0=0., c1_0=-0.5, c0_1=-0.8660254)>\n",
      "\n",
      "    [9]: <Polynomial2D(1, c0_0=0., c1_0=-0.8660254, c0_1=0.5)>\n",
      "\n",
      "    [10]: <Shift(offset=1312.94914525)>\n",
      "\n",
      "    [11]: <Shift(offset=-1040.78537268)>\n",
      "Parameters:\n",
      "    offset_0 offset_1 offset_2 offset_3 ...       c0_1_9           offset_10           offset_11     \n",
      "    -------- -------- -------- -------- ... ------------------ ------------------ -------------------\n",
      "         1.0      1.0  -2044.5  -2044.5 ... 0.5000000000000001 1312.9491452484797 -1040.7853726755036\n"
     ]
    }
   ],
   "source": [
    "detector_to_v2v3 = w.get_transform('detector', 'v2v3')\n",
    "print(detector_to_v2v3)"
   ]
  },
  {
   "cell_type": "markdown",
   "id": "00c39a95",
   "metadata": {},
   "source": [
    "`showing the coorindate frames in the WCS pipeline`"
   ]
  },
  {
   "cell_type": "code",
   "execution_count": 35,
   "id": "f8773be0",
   "metadata": {},
   "outputs": [
    {
     "name": "stdout",
     "output_type": "stream",
     "text": [
      "['detector', 'v2v3', 'world']\n"
     ]
    }
   ],
   "source": [
    "print(w.available_frames)"
   ]
  },
  {
   "cell_type": "markdown",
   "id": "0ce43327",
   "metadata": {},
   "source": [
    "Retrieving the entire `forward` or `backward` transform"
   ]
  },
  {
   "cell_type": "code",
   "execution_count": 36,
   "id": "be2b29bd",
   "metadata": {},
   "outputs": [
    {
     "name": "stdout",
     "output_type": "stream",
     "text": [
      "Model: CompoundModel\n",
      "Inputs: ('x0', 'x1')\n",
      "Outputs: ('lon', 'lat')\n",
      "Model set size: 1\n",
      "Expression: [0] & [1] | [2] & [3] | [4] | [5] & [6] | [7] | [8] & [9] | [10] & [11] | [12] & [13] | [14] | [15] | [16]\n",
      "Components: \n",
      "    [0]: <Shift(offset=1.)>\n",
      "\n",
      "    [1]: <Shift(offset=1.)>\n",
      "\n",
      "    [2]: <Shift(offset=-2044.5)>\n",
      "\n",
      "    [3]: <Shift(offset=-2044.5)>\n",
      "\n",
      "    [4]: <Mapping((0, 1, 0, 1))>\n",
      "\n",
      "    [5]: <Polynomial2D(5, c0_0=0., c1_0=0.11034133, c2_0=-0.00000003, c3_0=-0., c4_0=0., c5_0=-0., c0_1=0.00034168, c0_2=-0.00000001, c0_3=-0., c0_4=-0., c0_5=0., c1_1=0.00000014, c1_2=-0., c1_3=0., c1_4=0., c2_1=0., c2_2=-0., c2_3=-0., c3_1=0., c3_2=-0., c4_1=-0.)>\n",
      "\n",
      "    [6]: <Polynomial2D(5, c0_0=0., c1_0=0.00031436, c2_0=0.00000007, c3_0=0., c4_0=0., c5_0=-0., c0_1=0.10828278, c0_2=0.00000021, c0_3=-0., c0_4=0., c0_5=0., c1_1=-0.00000002, c1_2=-0., c1_3=-0., c1_4=0., c2_1=-0., c2_2=-0., c2_3=0., c3_1=-0., c3_2=-0., c4_1=-0.)>\n",
      "\n",
      "    [7]: <Mapping((0, 1, 0, 1))>\n",
      "\n",
      "    [8]: <Polynomial2D(1, c0_0=0., c1_0=-0.5, c0_1=-0.8660254)>\n",
      "\n",
      "    [9]: <Polynomial2D(1, c0_0=0., c1_0=-0.8660254, c0_1=0.5)>\n",
      "\n",
      "    [10]: <Shift(offset=1312.94914525)>\n",
      "\n",
      "    [11]: <Shift(offset=-1040.78537268)>\n",
      "\n",
      "    [12]: <Scale(factor=0.00027778)>\n",
      "\n",
      "    [13]: <Scale(factor=0.00027778)>\n",
      "\n",
      "    [14]: <SphericalToCartesian()>\n",
      "\n",
      "    [15]: <RotationSequence3D(angles=[  0.3647081 ,   0.28910705,  -0.        ,  29.95727682, -79.92369591])>\n",
      "\n",
      "    [16]: <CartesianToSpherical()>\n",
      "Parameters:\n",
      "    offset_0 offset_1 offset_2 ...       factor_13                      angles_15                \n",
      "    -------- -------- -------- ... --------------------- ----------------------------------------\n",
      "         1.0      1.0  -2044.5 ... 0.0002777777777777778 0.3647080959023555 .. -79.92369590924265\n"
     ]
    }
   ],
   "source": [
    "print(w.forward_transform)"
   ]
  },
  {
   "cell_type": "code",
   "execution_count": 37,
   "id": "396069c5",
   "metadata": {},
   "outputs": [
    {
     "name": "stdout",
     "output_type": "stream",
     "text": [
      "Model: CompoundModel\n",
      "Inputs: ('lon', 'lat')\n",
      "Outputs: ('y0', 'y1')\n",
      "Model set size: 1\n",
      "Expression: [0] | [1] | [2] | [3] & [4] | [5] & [6] | [7] | [8] & [9] | [10] | [11] & [12] | [13] & [14] | [15] & [16]\n",
      "Components: \n",
      "    [0]: <SphericalToCartesian()>\n",
      "\n",
      "    [1]: <RotationSequence3D(angles=[ 79.92369591, -29.95727682,   0.        ,  -0.28910705,  -0.3647081 ])>\n",
      "\n",
      "    [2]: <CartesianToSpherical()>\n",
      "\n",
      "    [3]: <Scale(factor=3600.)>\n",
      "\n",
      "    [4]: <Scale(factor=3600.)>\n",
      "\n",
      "    [5]: <Shift(offset=-1312.94914525)>\n",
      "\n",
      "    [6]: <Shift(offset=1040.78537268)>\n",
      "\n",
      "    [7]: <Mapping((0, 1, 0, 1))>\n",
      "\n",
      "    [8]: <Polynomial2D(1, c0_0=0., c1_0=-0.5, c0_1=-0.8660254)>\n",
      "\n",
      "    [9]: <Polynomial2D(1, c0_0=0., c1_0=-0.8660254, c0_1=0.5)>\n",
      "\n",
      "    [10]: <Mapping((0, 1, 0, 1))>\n",
      "\n",
      "    [11]: <Polynomial2D(5, c0_0=0., c1_0=9.0628704, c2_0=0.00002545, c3_0=0.00000002, c4_0=-0., c5_0=0., c0_1=-0.02859496, c0_2=0.00000613, c0_3=0.00000001, c0_4=0., c0_5=0., c1_1=-0.00010773, c1_2=0.00000003, c1_3=-0., c1_4=-0., c2_1=-0.00000001, c2_2=0., c2_3=0., c3_1=-0., c3_2=0., c4_1=0.)>\n",
      "\n",
      "    [12]: <Polynomial2D(5, c0_0=0., c1_0=-0.02631025, c2_0=-0.00005382, c3_0=-0.00000001, c4_0=-0., c5_0=0., c0_1=9.23516553, c0_2=-0.00016537, c0_3=0.00000006, c0_4=-0., c0_5=0., c1_1=0.00001655, c1_2=0., c1_3=0., c1_4=-0., c2_1=0.00000003, c2_2=0., c2_3=-0., c3_1=0., c3_2=0., c4_1=0.)>\n",
      "\n",
      "    [13]: <Shift(offset=2044.5)>\n",
      "\n",
      "    [14]: <Shift(offset=2044.5)>\n",
      "\n",
      "    [15]: <Shift(offset=-1.)>\n",
      "\n",
      "    [16]: <Shift(offset=-1.)>\n",
      "Parameters:\n",
      "                    angles_1                 factor_3 factor_4 ... offset_14 offset_15 offset_16\n",
      "    ---------------------------------------- -------- -------- ... --------- --------- ---------\n",
      "    79.92369590924265 .. -0.3647080959023555   3600.0   3600.0 ...    2044.5      -1.0      -1.0\n"
     ]
    }
   ],
   "source": [
    "print(w.backward_transform)"
   ]
  },
  {
   "cell_type": "markdown",
   "id": "6f982bd4",
   "metadata": {},
   "source": [
    "Other GWCS features include the ability to\n",
    "\n",
    "- insert additional frames and transforms\n",
    "- compute the inverse of the transforms using an iterative numerical method (in case an inverse transform is not provided)\n",
    "- create  FITS approximation using the SIP convention to represent the distortion\n",
    "- convert to other celestial frames usnig the `Shared API`\n"
   ]
  },
  {
   "cell_type": "code",
   "execution_count": null,
   "id": "710a9b04",
   "metadata": {},
   "outputs": [],
   "source": []
  }
 ],
 "metadata": {
  "kernelspec": {
   "display_name": "Python 3 (ipykernel)",
   "language": "python",
   "name": "python3"
  },
  "language_info": {
   "codemirror_mode": {
    "name": "ipython",
    "version": 3
   },
   "file_extension": ".py",
   "mimetype": "text/x-python",
   "name": "python",
   "nbconvert_exporter": "python",
   "pygments_lexer": "ipython3",
   "version": "3.11.8"
  }
 },
 "nbformat": 4,
 "nbformat_minor": 5
}
