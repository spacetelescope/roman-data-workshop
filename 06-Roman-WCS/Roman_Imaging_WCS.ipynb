{
 "cells": [
  {
   "cell_type": "markdown",
   "id": "22a73295",
   "metadata": {},
   "source": [
    "### Roman Imaging WCS"
   ]
  },
  {
   "cell_type": "markdown",
   "id": "40386e73",
   "metadata": {},
   "source": [
    "#### Generalized World Coordinate System (GWCS) Overview\n",
    "\n",
    "Roman and JWST use the [GWCS](https://gwcs.readthedocs.io/en/latest/) for managing the World Coordinate System WCS). We call \"WCS\" the mapping from \"pixel\" coordinates to some \"real-world\" physical coordinates - celestial, spectral, time, etc. GWCS is a generalized implementation of WCS aiming to avoid the limitations of the FITS WCS standard. It is a flexible toolkit for expressing and evaluating transformations between pixel and world coordinates, as well as intermediate coordinates. The GWCS object supports a data model which includes the entire transformation pipeline from input pixel coordinates to world coordinates (and vice versa). \n",
    "\n",
    "GWCS is based on astropy and supports the [Shared Interface for WCS](https://github.com/astropy/astropy-APEs/blob/main/APE14.rst). The WCS \"pipeline\" is a list of steps, where each step is a tuple of coordinate frame and a transform to the next frame. The transform in the last step is `None` representing the final coordinate frame of the WCS pipeline.\n",
    "\n",
    "Transforms are based on [astropy.modeling](https://docs.astropy.org/en/stable/modeling/) and include support for [coordinate units](https://docs.astropy.org/en/stable/units/index.html). Coordinate frames utilize [astropy.coordinates](https://docs.astropy.org/en/stable/coordinates/index.html). \n",
    "The GWCS object is serialized to [ASDF](https://asdf-standard.readthedocs.io/en/latest/) using the ASDF [WCS](https://asdf-wcs-schemas.readthedocs.io/en/latest/) and [transforms](https://asdf-transform-schemas.readthedocs.io/en/latest/) extensions."
   ]
  },
  {
   "cell_type": "markdown",
   "id": "34e7f2b5",
   "metadata": {},
   "source": [
    "Download a Roman Level2 simulated file. The downloaded file is called `r002_assign_wcs.asdf`."
   ]
  },
  {
   "cell_type": "markdown",
   "id": "6b9cb19b",
   "metadata": {},
   "source": [
    "#### Roman Imaging WCS\n",
    "\n",
    "The `assign_wcs` step in the Roman calibration pipeline constructs a WCS object and assigns it to the Level 2 image. The distortion transformations are stored in a reference file in CRDS, with `reftype=distortion`. The distortion includes all transformsations from a detector to a coordinate frame associated with the telescope `(V2, V3)`. The telescope telemetry is used to transform from `(V2, V3)` to celestial coordinates.\n",
    "\n"
   ]
  },
  {
   "cell_type": "markdown",
   "id": "fdf3614b",
   "metadata": {},
   "source": [
    "We can use `asdf` or `roman_datamodels` to open the file and retrieve the WCS object."
   ]
  },
  {
   "cell_type": "code",
   "execution_count": null,
   "id": "42164285",
   "metadata": {},
   "outputs": [],
   "source": [
    "from roman_datamodels import datamodels as rdm"
   ]
  },
  {
   "cell_type": "code",
   "execution_count": null,
   "id": "7359c1be",
   "metadata": {},
   "outputs": [],
   "source": [
    "image = rdm.open('../data/r0000101001001001001_0001_wfi01_cal.asdf')\n",
    "image.search('wcs')"
   ]
  },
  {
   "cell_type": "markdown",
   "id": "87e67956",
   "metadata": {},
   "source": [
    "The above `search` commands finds the string `wcs` in three places. Using `info` shows that `wcsinfo` is a dictionary holding the pointing `(ra_ref, dec_ref)`, the reference point of the aperture in the telescope `(V2, V3)` system and other WCS related parameters."
   ]
  },
  {
   "cell_type": "code",
   "execution_count": null,
   "id": "07e3929b",
   "metadata": {},
   "outputs": [],
   "source": [
    "image.info(max_rows=600, max_cols=600,show_values=True)"
   ]
  },
  {
   "cell_type": "markdown",
   "id": "ef9169c5",
   "metadata": {},
   "source": [
    "The `WCS` object is in the `image.meta.wcs` attribute."
   ]
  },
  {
   "cell_type": "code",
   "execution_count": null,
   "id": "5e05fa6e",
   "metadata": {},
   "outputs": [],
   "source": [
    "w = image.meta.wcs"
   ]
  },
  {
   "cell_type": "markdown",
   "id": "e9378e3a",
   "metadata": {},
   "source": [
    "`print` shows the WCS pipeline"
   ]
  },
  {
   "cell_type": "code",
   "execution_count": null,
   "id": "8523931c",
   "metadata": {},
   "outputs": [],
   "source": [
    "print(w)"
   ]
  },
  {
   "cell_type": "markdown",
   "id": "242edbd1",
   "metadata": {},
   "source": [
    "`repr` prints all transforms. Notable below is the `Expression` section which shows how the transforms are combined. The \"join\" operator `&` combines two models which take independent inputs and concatenates the outputs. The \"conposition\" operator, `|`, combines models in series, i.e. chains the output of the first one as input to the second. More information on combining models is available at [Compound Models](https://docs.astropy.org/en/stable/modeling/compound-models.html#)."
   ]
  },
  {
   "cell_type": "code",
   "execution_count": null,
   "id": "d72cdc61",
   "metadata": {},
   "outputs": [],
   "source": [
    "w"
   ]
  },
  {
   "cell_type": "code",
   "execution_count": null,
   "id": "075d9e41",
   "metadata": {},
   "outputs": [],
   "source": [
    "from matplotlib import pyplot as plt\n",
    "#%matplotlib notebook\n",
    "#%maptlotlib ipympl\n",
    "from astropy import units as u"
   ]
  },
  {
   "cell_type": "code",
   "execution_count": null,
   "id": "b05f5599",
   "metadata": {},
   "outputs": [],
   "source": [
    "ax = plt.subplot(projection=image.meta.wcs)\n",
    "plt.imshow(image.data, vmin=.1, vmax=.4, origin='lower')\n",
    "plt.gray()\n",
    "plt.grid(color='white', ls='solid')\n",
    "ax.coords[0].set_format_unit(u.degree)\n",
    "ax.coords[0].coord_wrap = 180 * u.deg"
   ]
  },
  {
   "cell_type": "markdown",
   "id": "96b5ce7a",
   "metadata": {},
   "source": [
    "The WCS can be evaluated directly as a function or using the Shared WCS Interface methods"
   ]
  },
  {
   "cell_type": "code",
   "execution_count": null,
   "id": "13802ee3",
   "metadata": {},
   "outputs": [],
   "source": [
    "from gwcs.wcstools import grid_from_bounding_box"
   ]
  },
  {
   "cell_type": "markdown",
   "id": "802c17ee",
   "metadata": {},
   "source": [
    "The `bounding_box` of a WCS object represents the range of input values over which the transforms are valid. Typically it is the full detector. By default, input values outside the `bounding box` return `NaN`s. "
   ]
  },
  {
   "cell_type": "code",
   "execution_count": null,
   "id": "afb1a28a",
   "metadata": {},
   "outputs": [],
   "source": [
    "w.bounding_box"
   ]
  },
  {
   "cell_type": "code",
   "execution_count": null,
   "id": "c47b1ff8",
   "metadata": {},
   "outputs": [],
   "source": [
    "x, y = grid_from_bounding_box(w.bounding_box)"
   ]
  },
  {
   "cell_type": "markdown",
   "id": "cc33d208",
   "metadata": {},
   "source": [
    "Evaluating the WCS object returns the numerical values of the result."
   ]
  },
  {
   "cell_type": "code",
   "execution_count": null,
   "id": "f2bba8e0",
   "metadata": {},
   "outputs": [],
   "source": [
    "ra, dec = w(x, y)\n",
    "print (ra, dec)"
   ]
  },
  {
   "cell_type": "markdown",
   "id": "13acf800",
   "metadata": {},
   "source": [
    "Using the Shared WCS interface methods returns a Python object of type astropy.coordinates.SkyCoord."
   ]
  },
  {
   "cell_type": "code",
   "execution_count": null,
   "id": "22706bd8",
   "metadata": {},
   "outputs": [],
   "source": [
    "sky = w.pixel_to_world(x, y)"
   ]
  },
  {
   "cell_type": "code",
   "execution_count": null,
   "id": "07464108",
   "metadata": {},
   "outputs": [],
   "source": [
    "print(sky)"
   ]
  },
  {
   "cell_type": "markdown",
   "id": "092019ab",
   "metadata": {},
   "source": [
    "Other useful methods include\n",
    "\n",
    "`getting a transform between intermediate frames`"
   ]
  },
  {
   "cell_type": "code",
   "execution_count": null,
   "id": "5be75550",
   "metadata": {},
   "outputs": [],
   "source": [
    "detector_to_v2v3 = w.get_transform('detector', 'v2v3')\n",
    "print(detector_to_v2v3)"
   ]
  },
  {
   "cell_type": "markdown",
   "id": "00c39a95",
   "metadata": {},
   "source": [
    "`showing the coorindate frames in the WCS pipeline`"
   ]
  },
  {
   "cell_type": "code",
   "execution_count": null,
   "id": "f8773be0",
   "metadata": {},
   "outputs": [],
   "source": [
    "print(w.available_frames)"
   ]
  },
  {
   "cell_type": "markdown",
   "id": "0ce43327",
   "metadata": {},
   "source": [
    "Retrieving the entire `forward` or `backward` transform"
   ]
  },
  {
   "cell_type": "code",
   "execution_count": null,
   "id": "be2b29bd",
   "metadata": {},
   "outputs": [],
   "source": [
    "print(w.forward_transform)"
   ]
  },
  {
   "cell_type": "code",
   "execution_count": null,
   "id": "396069c5",
   "metadata": {},
   "outputs": [],
   "source": [
    "print(w.backward_transform)"
   ]
  },
  {
   "cell_type": "markdown",
   "id": "6f982bd4",
   "metadata": {},
   "source": [
    "Other GWCS features include the ability to\n",
    "\n",
    "- insert additional frames and transforms\n",
    "- compute the inverse of the transforms using an iterative numerical method (in case an inverse transform is not provided)\n",
    "- create  FITS approximation using the SIP convention to represent the distortion\n",
    "- convert to other celestial frames usnig the `Shared API`\n"
   ]
  },
  {
   "cell_type": "code",
   "execution_count": null,
   "id": "710a9b04",
   "metadata": {},
   "outputs": [],
   "source": []
  },
  {
   "cell_type": "code",
   "execution_count": null,
   "id": "6d856f47-948e-41b3-9858-5134b9a6843b",
   "metadata": {},
   "outputs": [],
   "source": []
  }
 ],
 "metadata": {
  "kernelspec": {
   "display_name": "Python 3 (ipykernel)",
   "language": "python",
   "name": "python3"
  },
  "language_info": {
   "codemirror_mode": {
    "name": "ipython",
    "version": 3
   },
   "file_extension": ".py",
   "mimetype": "text/x-python",
   "name": "python",
   "nbconvert_exporter": "python",
   "pygments_lexer": "ipython3",
   "version": "3.12.9"
  }
 },
 "nbformat": 4,
 "nbformat_minor": 5
}
