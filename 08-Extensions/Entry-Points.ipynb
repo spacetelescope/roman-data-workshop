{
 "cells": [
  {
   "cell_type": "code",
   "execution_count": 1,
   "metadata": {},
   "outputs": [],
   "source": [
    "import asdf\n",
    "import os\n",
    "import numpy as np\n",
    "\n",
    "from dataclasses import dataclass"
   ]
  },
  {
   "cell_type": "code",
   "execution_count": 2,
   "metadata": {},
   "outputs": [],
   "source": [
    "@dataclass\n",
    "class Ellipse:\n",
    "    \"\"\"An ellipse defined by semi-major and semi-minor axes.\n",
    "\n",
    "    Note: Using a dataclass to define the object so that we get `==` for free.\n",
    "    \"\"\"\n",
    "\n",
    "    semi_major: float\n",
    "    semi_minor: float\n",
    "\n",
    "\n",
    "ellipse_uri = \"asdf://example.com/example-project/schemas/ellipse-1.0.0\"\n",
    "\n",
    "ellipse_schema_content = f\"\"\"\n",
    "%YAML 1.1\n",
    "---\n",
    "$schema: http://stsci.edu/schemas/yaml-schema/draft-01\n",
    "id: {ellipse_uri}\n",
    "\n",
    "type: object\n",
    "properties:\n",
    "  semi_major:\n",
    "    type: number\n",
    "  semi_minor:\n",
    "    type: number\n",
    "required: [semi_major, semi_minor]\n",
    "...\n",
    "\"\"\"\n",
    "\n",
    "ellipse_manifest_uri = \"asdf://example.com/example-project/manifests/shapes-1.0.0\"\n",
    "ellipse_extension_uri = \"asdf://example.com/example-project/extensions/shapes-1.0.0\"\n",
    "ellipse_tag = \"asdf://example.com/example-project/tags/ellipse-1.0.0\"\n",
    "\n",
    "ellipse_manifest_content = f\"\"\"\n",
    "%YAML 1.1\n",
    "---\n",
    "id: {ellipse_manifest_uri}\n",
    "extension_uri: {ellipse_extension_uri}\n",
    "\n",
    "title: Example Shape extension 1.0.0\n",
    "description: Tags for example shape objects.\n",
    "\n",
    "tags:\n",
    "  - tag_uri: {ellipse_tag}\n",
    "    schema_uri: {ellipse_uri}\n",
    "...\n",
    "\"\"\"\n",
    "\n",
    "\n",
    "class EllipseConverter(asdf.extension.Converter):\n",
    "    tags = [ellipse_tag]\n",
    "    types = [Ellipse]\n",
    "\n",
    "    def to_yaml_tree(self, obj, tag, ctx):\n",
    "        return {\n",
    "            \"semi_major\": obj.semi_major,\n",
    "            \"semi_minor\": obj.semi_minor,\n",
    "        }\n",
    "\n",
    "    def from_yaml_tree(self, node, tag, ctx):\n",
    "        return Ellipse(semi_major=node[\"semi_major\"], semi_minor=node[\"semi_minor\"])"
   ]
  },
  {
   "cell_type": "markdown",
   "metadata": {},
   "source": [
    "# Adding your extensions to ASDF via Entry-Points\n",
    "\n",
    "Obviously, having to dynamically add all the resources and extensions to ASDF every\n",
    "time you want to work with a custom object is tedious. Thus ASDF uses Python entry-points\n",
    "(mechanism for one python package to communicate information to another Python package),\n",
    "to enable automatic discovery and loading of resources and extensions for ASDF.\n",
    "\n",
    "Since entry-points are a means for python packages to communicate with one-another,\n",
    "their use requires you to package your Python code, which is can be a complex issue.\n",
    "Thus we will assume that you have an existing Python package, that you wish to add\n",
    "our example ASDF extension to.\n",
    "\n",
    "To create our entry-points we will need to make three modifications to the packaging\n",
    "components of the existing Python package.\n",
    "1. Include the resource `yaml` files into the Python package.\n",
    "2. Create an entry point to add the resources to ASDF.\n",
    "3. Create an entry point to add the extension to ASDF.\n",
    "\n",
    "Note that we will assume that you are using the `setup.cfg` file to configure\n",
    "your python package."
   ]
  },
  {
   "cell_type": "markdown",
   "metadata": {},
   "source": [
    "## Including the Resources in the Package\n",
    "\n",
    "When your Python package is distributed on PyPi (or other services) it typically\n",
    "only includes the Python files needed to operate your package. However, since\n",
    "ASDF typically stores these files as `yaml` files, these files will not get\n",
    "added to that packaged product by default. Thus one needs to configure the Python\n",
    "package to specifically include these files. This can be done in several ways\n",
    "one way to do this is by adding the following entry to the `setup.cfg` file:\n",
    "```\n",
    "[options.package_data]\n",
    "* = *.yaml\n",
    "```\n",
    "However, other options exist such as using the builtin `importlib.resources` package."
   ]
  },
  {
   "cell_type": "markdown",
   "metadata": {},
   "source": [
    "## Create an Entry-Point for the Resources\n",
    "\n",
    "ASDF treats the information it receives from the entry-points it checks for resources\n",
    "as a function that it can evaluate to get a list of resource mappings. Suppose that\n",
    "there your package is called `asdf_shapes` and the function you need to call in order\n",
    "to get this list of mappings is called `get_resource_mappings` and is located in the\n",
    "`integration` module, that is you need to import `get_resource_mappings` from\n",
    "`asdf_shapes.integration`.  Thus you will need to add the following to your `setup.cfg`:\n",
    "\n",
    "```\n",
    "[options.entry_points]\n",
    "asdf.resource_mappings =\n",
    "    asdf_shapes_schemas = asdf_shapes.integration:get_resource_mappings\n",
    "```\n",
    "\n",
    "The entry-point ASDF checks for resources is `asdf.resource_mappings`, and your\n",
    "entry into that entry-point needs to be some identifier for your package, in this case\n",
    "`asdf_shapes_schemas`. The remaining portion represents module:function.\n",
    "\n",
    "Now lets talk about how to create the `get_resource_mappings`. First, lets go ahead a\n",
    "create the `yaml` files for the resources we used in our example in order to illustrate\n",
    "an example organization of these resource files:"
   ]
  },
  {
   "cell_type": "code",
   "execution_count": 3,
   "metadata": {},
   "outputs": [],
   "source": [
    "schema_root = \"resources/schemas\"\n",
    "manifest_root = \"resources/manifests\"\n",
    "\n",
    "os.makedirs(schema_root, exist_ok=True)\n",
    "os.makedirs(manifest_root, exist_ok=True)\n",
    "\n",
    "with open(f\"{schema_root}/ellipse-1.0.0.yaml\", \"w\") as f:\n",
    "    f.write(ellipse_schema_content)\n",
    "\n",
    "with open(f\"{manifest_root}/shapes-1.0.0.yaml\", \"w\") as f:\n",
    "    f.write(ellipse_manifest_content)"
   ]
  },
  {
   "cell_type": "markdown",
   "metadata": {},
   "source": [
    "Now that we have a directory structure for our resources, ASDF provides the\n",
    "`asdf.resource.DirectoryResourceMapping` object to crawl resource directories\n",
    "and add files those files to a mapping which can be used by ASDF. These mapping objects can\n",
    "then be provided to ASDF via an entry point.\n",
    "\n",
    "These objects require two input parameters:\n",
    "1. A path to the root directory which contains the resources to be added.\n",
    "2. The prefix that will be used together with the file names to generate the URI\n",
    "for the resource in question.\n",
    "\n",
    "There are some optional inputs:\n",
    "1. `recursive`: (default `False`) which determines if the object will search recursively through\n",
    "subdirectories.\n",
    "2. `filename_pattern`: (default: `*.yaml`) Glob pattern for the files that should be added.\n",
    "3. `stem_filename`: (default: `True`) determine if the file extension should be removed when creating\n",
    "the URI.\n",
    "\n",
    "Now (assuming that we have `schema_root` and `manifest_root` already defined), we can define:"
   ]
  },
  {
   "cell_type": "code",
   "execution_count": 4,
   "metadata": {},
   "outputs": [],
   "source": [
    "# In module asdf_shapes.integration\n",
    "def get_resource_mappings():\n",
    "    schema_prefix = \"asdf://example.com/example-project/schemas/\"\n",
    "    manifest_prefix = \"asdf://example.com/example-project/manifests/\"\n",
    "    return [\n",
    "        asdf.resource.DirectoryResourceMapping(schema_root, schema_prefix),\n",
    "        asdf.resource.DirectoryResourceMapping(manifest_root, manifest_prefix)\n",
    "    ]"
   ]
  },
  {
   "cell_type": "markdown",
   "metadata": {},
   "source": [
    "Which can then be referenced by the entry-point. Note that for performance reasons,\n",
    "we suggest you limit the top-level imports of the file(s) you load your entry points\n",
    "from to as few as possible, going as far as deferring imports to inside the entry-point\n",
    "functions when possible. This is because asdf will import all of these models immediately\n",
    "when `asdf.open` is called meaning large imports will cause noticeable delays especially\n",
    "when using the command-line interface."
   ]
  },
  {
   "cell_type": "markdown",
   "metadata": {},
   "source": [
    "## Create an Entry-Point for the Extensions\n",
    "\n",
    "In a similar fashion to resources, ASDF assumes the entry-points it checks for extensions\n",
    "as functions which return lists of `asdf.extension.Extension` objects. Thus lets assume\n",
    "your function is called `get_extensions` and is in the `asdf_shapes.integration` module\n",
    "alongside `get_resource_mappings`. Adding the entry-point for this would look something\n",
    "like:\n",
    "\n",
    "```\n",
    "[options.entry_points]\n",
    "asdf.extensions =\n",
    "    asdf_shapes_extensions = asdf_shapes.integration:get_extensions\n",
    "```\n",
    "\n",
    "The entry-point ASDF checks for `Extensions` is `asdf.extensions`, with the rest\n",
    "of the structure of the entry-point matching that of the one for resource mappings.\n",
    "\n",
    "The structure of `get_extensions` will be very similar to that for `get_resource_mappings`:"
   ]
  },
  {
   "cell_type": "code",
   "execution_count": 5,
   "metadata": {},
   "outputs": [],
   "source": [
    "# In module asdf_shapes.integration\n",
    "def get_extensions():\n",
    "    # import EllipseConverter inside this function\n",
    "    return [\n",
    "        asdf.extension.ManifestExtension.from_uri(\n",
    "            ellipse_manifest_uri,\n",
    "            converters=[EllipseConverter()]\n",
    "        )\n",
    "    ]"
   ]
  },
  {
   "cell_type": "markdown",
   "metadata": {},
   "source": [
    "Once your package is installed with these changes, ASDF will automatically detect and use\n",
    "your ASDF extension as needed in a seamless fashion."
   ]
  }
 ],
 "metadata": {
  "kernelspec": {
   "display_name": "Python 3.10.5",
   "language": "python",
   "name": "python3"
  },
  "language_info": {
   "codemirror_mode": {
    "name": "ipython",
    "version": 3
   },
   "file_extension": ".py",
   "mimetype": "text/x-python",
   "name": "python",
   "nbconvert_exporter": "python",
   "pygments_lexer": "ipython3",
   "version": "3.10.5"
  },
  "orig_nbformat": 4,
  "vscode": {
   "interpreter": {
    "hash": "854c5921801e2400c3c1020a858ab9a52fae9c3bbaec23abfbfde1aa9048a7d5"
   }
  }
 },
 "nbformat": 4,
 "nbformat_minor": 2
}
