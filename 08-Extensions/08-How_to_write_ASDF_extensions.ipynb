{
 "cells": [
  {
   "cell_type": "code",
   "execution_count": 1,
   "metadata": {},
   "outputs": [],
   "source": [
    "import asdf\n",
    "import os\n",
    "import numpy as np\n",
    "\n",
    "from dataclasses import dataclass"
   ]
  },
  {
   "cell_type": "markdown",
   "metadata": {},
   "source": [
    "# How to write an ASDF Extension\n",
    "\n",
    "As discussed in tutorial 8, ASDF has the ability to serialize objects beyond those\n",
    "which are intrinsically supported, such as those `astropy` objects supported by the\n",
    "extension library `asdf-astropy`. However, beyond the capability of extending ASDF\n",
    "to support these objects, no further discussion occured.\n",
    "\n",
    "Here we discuss how to write an ASDF `Extension` such that the object(s) described\n",
    "by that extension can be seamlessly serialized to or deserialized from an ASDF file,\n",
    "provided that the `Extension` is installed or made available to ASDF."
   ]
  },
  {
   "cell_type": "markdown",
   "metadata": {},
   "source": [
    "## An Example Object\n",
    "\n",
    "Let's create a relatively simple Python object, which we would like to handle seamlessly\n",
    "with ASDF. For our purposes lets consider a geometric ellipse described by its\n",
    "- semi-major axis\n",
    "- semi-minor axis"
   ]
  },
  {
   "cell_type": "code",
   "execution_count": 2,
   "metadata": {},
   "outputs": [],
   "source": [
    "@dataclass\n",
    "class Ellipse:\n",
    "    \"\"\"An ellipse defined by semi-major and semi-minor axes.\n",
    "\n",
    "    Note: Using a dataclass to define the object so that we get `==` for free.\n",
    "    \"\"\"\n",
    "\n",
    "    semi_major: float\n",
    "    semi_minor: float"
   ]
  },
  {
   "cell_type": "markdown",
   "metadata": {},
   "source": [
    "Note that ASDF will handle objects contained inside the objects you wish to serialize\n",
    "provided that those objects are handled intrinsically by ASDF or an extension which\n",
    "handles each particular object is available for ASDF to use. For example, if we wanted\n",
    "to specify the axes of the ellipse using `astropy` `Quantity` objects (to attach units),\n",
    "so long as `asdf-astropy` is installed, ASDF would handle this transparently."
   ]
  },
  {
   "cell_type": "markdown",
   "metadata": {},
   "source": [
    "## Writing a Basic Extension\n",
    "\n",
    "An extension requires two components to function properly:\n",
    "1. A `tag` for the object, so that ASDF identify/validate the object to deserialize it\n",
    "from an ASDF file.\n",
    "2. A `Converter` for the object, so ASDF knows how to serialize and deserialize the\n",
    "object to and from an ASDF file.\n",
    "\n",
    "The `tag` is defined through the schemas and related resources for ASDF to use, while\n",
    "the `Converter` is a python object which provides the code the ASDF library executes\n",
    "in order to handle the serialization or deserialization process."
   ]
  },
  {
   "cell_type": "markdown",
   "metadata": {},
   "source": [
    "### Creating a `tag`\n",
    "\n",
    "Recall that ASDF supports the use of schemas for validating the correctness of the\n",
    "information stored within its files. Often one wishes to create a schema for a specific\n",
    "object so that the particular object the schema description can be reused in other\n",
    "schemas. A `tag` is a reference to a specific schema or set of schemas that a particular\n",
    "value in an ASDF file tree need to satisfy. Typically, a given `tag` refers to a\n",
    "particular object which is represented in ASDF by the sub-tree located at that value.\n",
    "Thus the `tag` serves two purposes:\n",
    "1. Identifying the schema used to validate a sub-tree of the ASDF tree.\n",
    "2. Identifying the object a particular sub-tree describes.\n",
    "\n",
    "This means that in order to create a `tag` for a given Python object we really need\n",
    "to create resource `yaml` files for ASDF to do two things:\n",
    "1. Contain schema(s) used by that `tag`.\n",
    "2. Create an entry for that `tag` in ASDF."
   ]
  },
  {
   "cell_type": "markdown",
   "metadata": {},
   "source": [
    "#### Creating a Schema for ASDF\n",
    "\n",
    "An overview of how schemas work was given in tutorial 3, here we will discuss how\n",
    "to tell ASDF about schemas without having to specify one when opening an ASDF file.\n",
    "\n",
    "For our example object we can define the schema text as:"
   ]
  },
  {
   "cell_type": "code",
   "execution_count": 3,
   "metadata": {},
   "outputs": [],
   "source": [
    "ellipse_uri = \"asdf://example.com/example-project/schemas/ellipse-1.0.0\"\n",
    "\n",
    "ellipse_schema_content = f\"\"\"\n",
    "%YAML 1.1\n",
    "---\n",
    "$schema: http://stsci.edu/schemas/yaml-schema/draft-01\n",
    "id: {ellipse_uri}\n",
    "\n",
    "type: object\n",
    "properties:\n",
    "  semi_major:\n",
    "    type: number\n",
    "  semi_minor:\n",
    "    type: number\n",
    "required: [semi_major, semi_minor]\n",
    "...\n",
    "\"\"\""
   ]
  },
  {
   "cell_type": "markdown",
   "metadata": {},
   "source": [
    "This can then be dynamically added to ASDF using the `add_resource_mapping`. This adds a map (`dict`)\n",
    "between a `uri` (universal resource identifier) string and the content of the resource to asdf. \n",
    "\n",
    "Note we highly recommend as best practice to always have the `id` for any resource and the\n",
    "`uri` string be the same. This is to limit the possibility of confusing how to look-up the\n",
    "given schema as JSON schema (the base language/library used for ASDF schemas) uses the `id`\n",
    "field to reference resources among one-another, while ASDF uses the `uri` as keys to find\n",
    "those resources on disk. One does not have to follow this practice, but it is highly discouraged."
   ]
  },
  {
   "cell_type": "code",
   "execution_count": 4,
   "metadata": {},
   "outputs": [],
   "source": [
    "asdf.get_config().add_resource_mapping({ellipse_uri: ellipse_schema_content})"
   ]
  },
  {
   "cell_type": "markdown",
   "metadata": {},
   "source": [
    "Later we will go over how to add resources automatically via python entry-points.\n",
    "\n",
    "Lets now load and check that our schema is a valid schema: "
   ]
  },
  {
   "cell_type": "code",
   "execution_count": 5,
   "metadata": {},
   "outputs": [],
   "source": [
    "schema = asdf.schema.load_schema(ellipse_uri)\n",
    "asdf.schema.check_schema(schema)"
   ]
  },
  {
   "cell_type": "markdown",
   "metadata": {},
   "source": [
    "Note that if you are developing a schema the `asdf.schema.check_schema` will also work\n",
    "directly on any `yaml` file which is loaded through the `pyyaml` interface.\n",
    "\n",
    "Next lets check that the schema will validate or fail to validate some test trees"
   ]
  },
  {
   "cell_type": "code",
   "execution_count": 6,
   "metadata": {},
   "outputs": [],
   "source": [
    "# Valid tree\n",
    "\n",
    "valid_ellipse_tree = {\"semi_major\": 1.0, \"semi_minor\": 2.0}\n",
    "asdf.schema.validate(valid_ellipse_tree, schema=schema)"
   ]
  },
  {
   "cell_type": "code",
   "execution_count": 7,
   "metadata": {
    "tags": [
     "raises-exception"
    ]
   },
   "outputs": [],
   "source": [
    "# Invalid Tree\n",
    "\n",
    "invalid_ellipse_tree = {\"semi_major\": 3.0}\n",
    "# asdf.schema.validate(invalid_ellipse_tree, schema=schema)"
   ]
  },
  {
   "cell_type": "markdown",
   "metadata": {},
   "source": [
    "#### Creating the `tag` Itself\n",
    "\n",
    "ASDF uses a special `schema` to specify the `tag`s for a given ASDF extension.\n",
    "This special type of `schema` is called a `manifest` which lists each `tag` as a\n",
    "pair of `uri`s:\n",
    "- `tag_uri`, the `uri` which will be used for the `tag`.\n",
    "- `schema_uri`, the ASDF `uri` used to reference the specific schema involved.\n",
    "\n",
    "This allows for a given `schema` to be reused for multiple `tag`s. Such as for\n",
    "objects which contain the same serializable data, but have different Python\n",
    "functionalities which need to be distinguished.\n",
    "\n",
    "The following is an example for creating/adding a manifest for an extension which\n",
    "has the resources for the `Ellipse` object:"
   ]
  },
  {
   "cell_type": "code",
   "execution_count": 8,
   "metadata": {},
   "outputs": [],
   "source": [
    "ellipse_manifest_uri = \"asdf://example.com/example-project/manifests/shapes-1.0.0\"\n",
    "ellipse_extension_uri = \"asdf://example.com/example-project/extensions/shapes-1.0.0\"\n",
    "ellipse_tag = \"asdf://example.com/example-project/tags/ellipse-1.0.0\"\n",
    "\n",
    "ellipse_manifest_content = f\"\"\"\n",
    "%YAML 1.1\n",
    "---\n",
    "id: {ellipse_manifest_uri}\n",
    "extension_uri: {ellipse_extension_uri}\n",
    "\n",
    "title: Example Shape extension 1.0.0\n",
    "description: Tags for example shape objects.\n",
    "\n",
    "tags:\n",
    "  - tag_uri: {ellipse_tag}\n",
    "    schema_uri: {ellipse_uri}\n",
    "...\n",
    "\"\"\"\n",
    "\n",
    "asdf.get_config().add_resource_mapping({ellipse_manifest_uri: ellipse_manifest_content})"
   ]
  },
  {
   "cell_type": "markdown",
   "metadata": {},
   "source": [
    "Note that the `extension_uri` field defines the `uri` that the whole `Extension` (resource(s)\n",
    "combined with `Converter`(s)) uses within ASDF. The `extension_uri` will be referenced later\n",
    "by the `Extension` object so that the extension code will be available when the correct\n",
    "resources are available and vice-versa.\n",
    "\n",
    "Again we can check the `manifest` just like any other schema:"
   ]
  },
  {
   "cell_type": "code",
   "execution_count": 9,
   "metadata": {},
   "outputs": [],
   "source": [
    "# check\n",
    "schema = asdf.schema.load_schema(ellipse_manifest_uri)\n",
    "asdf.schema.check_schema(schema)\n",
    "asdf.schema.validate(ellipse_manifest_content, schema=schema)"
   ]
  },
  {
   "cell_type": "markdown",
   "metadata": {},
   "source": [
    "### Create a `Converter`\n",
    "\n",
    "All converters should be constructed as subclasses of the abstract type `asdf.extension.Converter`,\n",
    "which requires that you define two methods:\n",
    "\n",
    "1. `to_yaml_tree`: which converts a Python object into an ASDF tree.\n",
    "2. `from_yaml_tree`: which converts an ASDF tree into a python object.\n",
    "\n",
    "Note that these methods can account for the type/tag of the objects attempting to be converted.\n",
    "\n",
    "Moreover your converter also needs to define the following two variables:\n",
    "\n",
    "1. `tags`: A list of tags that this converter will use when reading ASDF.\n",
    "2. `types`: A list of Python (object) types that this converter will use when writing ASDF.\n",
    "\n",
    "Note that these lists do not need to be indexed with respect to each other, and that in order for\n",
    "the converter to actually be used by ASDF, at least one of the `tags` needs to be registered as a\n",
    "resource with ASDF (usually via the entry point).\n",
    "\n",
    "An example converter for `Ellipse`:"
   ]
  },
  {
   "cell_type": "code",
   "execution_count": 10,
   "metadata": {},
   "outputs": [],
   "source": [
    "class EllipseConverter(asdf.extension.Converter):\n",
    "    tags = [ellipse_tag]\n",
    "    types = [Ellipse]\n",
    "\n",
    "    def to_yaml_tree(self, obj, tag, ctx):\n",
    "        return {\n",
    "            \"semi_major\": obj.semi_major,\n",
    "            \"semi_minor\": obj.semi_minor,\n",
    "        }\n",
    "\n",
    "    def from_yaml_tree(self, node, tag, ctx):\n",
    "        return Ellipse(semi_major=node[\"semi_major\"], semi_minor=node[\"semi_minor\"])"
   ]
  },
  {
   "cell_type": "markdown",
   "metadata": {},
   "source": [
    "Note that, for performance of the entry points, one will normally defer the `import` of the object to be created\n",
    "until `from_yaml_tree` is actually called."
   ]
  },
  {
   "cell_type": "markdown",
   "metadata": {},
   "source": [
    "### Create the Full Extension\n",
    "\n",
    "Now lets dynamically create an extension for ASDF to support the `Ellipse` object using\n",
    "the `EllipseConverter` we just created and the `ellipse_tag` we created earlier.\n",
    "\n",
    "This can be accomplished via using the `asdf.extensions.ManifestExtension.from_uri` method, which\n",
    "in our case requires two arguments:\n",
    "1. The `manifest_uri`, the `uri` the `manifest` was added under.\n",
    "2. The `converters`, a list of instances of `Converter` classes.\n",
    "\n",
    "Note that one can also pass a list of `Compressor` (ASDF objects to handle custom binary block\n",
    "compression).\n",
    "\n",
    "An instance of the extension object can then be dynamically added to asdf using the `add_extension`\n",
    "method."
   ]
  },
  {
   "cell_type": "code",
   "execution_count": 11,
   "metadata": {},
   "outputs": [],
   "source": [
    "ellipse_extension = asdf.extension.ManifestExtension.from_uri(ellipse_manifest_uri, converters=[EllipseConverter()])\n",
    "asdf.get_config().add_extension(ellipse_extension)"
   ]
  },
  {
   "cell_type": "markdown",
   "metadata": {},
   "source": [
    "Now let's test that we can round-trip an `Ellipse` object through our new extension."
   ]
  },
  {
   "cell_type": "code",
   "execution_count": 12,
   "metadata": {},
   "outputs": [
    {
     "name": "stdout",
     "output_type": "stream",
     "text": [
      "#ASDF 1.0.0\n",
      "#ASDF_STANDARD 1.5.0\n",
      "%YAML 1.1\n",
      "%TAG ! tag:stsci.edu:asdf/\n",
      "--- !core/asdf-1.1.0\n",
      "asdf_library: !core/software-1.0.0 {author: The ASDF Developers, homepage: 'http://github.com/asdf-format/asdf',\n",
      "  name: asdf, version: 2.12.0}\n",
      "history:\n",
      "  extensions:\n",
      "  - !core/extension_metadata-1.0.0\n",
      "    extension_class: asdf.extension.BuiltinExtension\n",
      "    software: !core/software-1.0.0 {name: asdf, version: 2.12.0}\n",
      "  - !core/extension_metadata-1.0.0 {extension_class: asdf.extension._manifest.ManifestExtension,\n",
      "    extension_uri: 'asdf://example.com/example-project/extensions/shapes-1.0.0'}\n",
      "ellipse: !<asdf://example.com/example-project/tags/ellipse-1.0.0> {semi_major: 1.0,\n",
      "  semi_minor: 2.0}\n",
      "...\n",
      "\n",
      "Ellipse(semi_major=1.0, semi_minor=2.0)\n"
     ]
    }
   ],
   "source": [
    "ellipse = Ellipse(1.0, 2.0)\n",
    "\n",
    "with asdf.AsdfFile() as af:\n",
    "    af[\"ellipse\"] = ellipse\n",
    "    af.write_to(\"ellipse.asdf\")\n",
    "\n",
    "with open(\"ellipse.asdf\") as f:\n",
    "    print(f.read())\n",
    "\n",
    "with asdf.open(\"ellipse.asdf\") as af:\n",
    "    print(af[\"ellipse\"])\n",
    "    assert af[\"ellipse\"] == ellipse"
   ]
  },
  {
   "cell_type": "markdown",
   "metadata": {},
   "source": [
    "As you can see, we have successfully created a full extension of ASDF to support the `Ellipse` object."
   ]
  },
  {
   "cell_type": "markdown",
   "metadata": {},
   "source": [
    "## Extending Our Example Object\n",
    "\n",
    "Suppose that we want to extend our object so that it represents an Ellipse in 3D\n",
    "(centered at the origin), that is add a position angle:"
   ]
  },
  {
   "cell_type": "code",
   "execution_count": 16,
   "metadata": {},
   "outputs": [],
   "source": [
    "@dataclass\n",
    "class RotatedEllipse(Ellipse):\n",
    "    position_angle: float"
   ]
  },
  {
   "cell_type": "markdown",
   "metadata": {},
   "source": [
    "### Extend the Schema\n",
    "\n",
    "JSON schema does not support the concept of inheritance, which makes \"extending\"\n",
    "an existing schema somewhat awkward. What we do instead is create a schema which\n",
    "adds attributes to the existing schema via the `allOf` operation. In this case,\n",
    "we can define the a schema for `RotatedEllipse` by adding a `position_angle` property:"
   ]
  },
  {
   "cell_type": "code",
   "execution_count": 17,
   "metadata": {},
   "outputs": [],
   "source": [
    "rotated_ellipse_uri = \"asdf://example.com/example-project/schemas/rotated_ellipse-1.0.0\"\n",
    "\n",
    "rotated_ellipse_schema_content = f\"\"\"\n",
    "%YAML 1.1\n",
    "---\n",
    "$schema: http://stsci.edu/schemas/yaml-schema/draft-01\n",
    "id: {rotated_ellipse_uri}\n",
    "\n",
    "allOf:\n",
    "  - $ref: {ellipse_uri}\n",
    "  - properties:\n",
    "      position_angle:\n",
    "        type: number\n",
    "    required: [position_angle]\n",
    "...\n",
    "\"\"\"\n",
    "\n",
    "asdf.get_config().add_resource_mapping({rotated_ellipse_uri: rotated_ellipse_schema_content})\n",
    "\n",
    "# check\n",
    "schema = asdf.schema.load_schema(rotated_ellipse_uri)\n",
    "asdf.schema.check_schema(schema)\n",
    "\n",
    "test_rotated_ellipse_object = {\"semi_major\": 1.0, \"semi_minor\": 2.0, \"position_angle\": 3.0}\n",
    "asdf.schema.validate(test_rotated_ellipse_object, schema=schema)"
   ]
  },
  {
   "cell_type": "markdown",
   "metadata": {},
   "source": [
    "### Create an Updated Manifest\n",
    "\n",
    "Let's assume that we already have `shapes-1.0.0` manifest (already released and\n",
    "in use). Following our suggested versioning system, we should create a new manifest\n",
    "which includes a new `rotated_ellipse-1.0.0`:"
   ]
  },
  {
   "cell_type": "code",
   "execution_count": 18,
   "metadata": {},
   "outputs": [],
   "source": [
    "rotated_ellipse_manifest_uri = \"asdf://example.com/example-project/manifests/shapes-1.1.0\"\n",
    "rotated_ellipse_extension_uri = \"asdf://example.com/example-project/extensions/shapes-1.1.0\"\n",
    "rotated_ellipse_tag = \"asdf://example.com/example-project/tags/rotated_ellipse-1.0.0\"\n",
    "\n",
    "rotated_ellipse_manifest_content = f\"\"\"\n",
    "%YAML 1.1\n",
    "---\n",
    "id: {rotated_ellipse_manifest_uri}\n",
    "extension_uri: {rotated_ellipse_extension_uri}\n",
    "\n",
    "title: Example Shape extension 1.1.0\n",
    "description: Tags for example shape objects.\n",
    "\n",
    "tags:\n",
    "  - tag_uri: {ellipse_tag}\n",
    "    schema_uri: {ellipse_uri}\n",
    "\n",
    "  - tag_uri: {rotated_ellipse_tag}\n",
    "    schema_uri: {rotated_ellipse_uri}\n",
    "...\n",
    "\"\"\"\n",
    "\n",
    "asdf.get_config().add_resource_mapping(\n",
    "    {rotated_ellipse_manifest_uri: rotated_ellipse_manifest_content}\n",
    ")\n",
    "\n",
    "\n",
    "# check\n",
    "schema = asdf.schema.load_schema(rotated_ellipse_manifest_uri)\n",
    "asdf.schema.check_schema(schema)\n",
    "asdf.schema.validate(rotated_ellipse_manifest_content, schema=schema)"
   ]
  },
  {
   "cell_type": "markdown",
   "metadata": {},
   "source": [
    "### Create an Updated `Converter`\n",
    "\n",
    "The \"simplest\" approach to creating a `Converter` for `RotatedEllipse` would be to simply\n",
    "create a new converter as we did above for `Ellipse`; however, we can also take advantage\n",
    "of the fact that multiple `tags` and `types` can be listed. Note that when multiple tags\n",
    "are handled by the same `Converter`, we need to also implement a `select_tag` method:"
   ]
  },
  {
   "cell_type": "code",
   "execution_count": 19,
   "metadata": {},
   "outputs": [],
   "source": [
    "class UpdatedEllipseConverter(asdf.extension.Converter):\n",
    "    tags = [ellipse_tag, rotated_ellipse_tag]\n",
    "    types = [Ellipse, RotatedEllipse]\n",
    "\n",
    "    def select_tag(self, obj, tag, ctx):\n",
    "        if isinstance(obj, RotatedEllipse):\n",
    "            return rotated_ellipse_tag\n",
    "        elif isinstance(obj, Ellipse):\n",
    "            return ellipse_tag\n",
    "        else:\n",
    "            raise ValueError(f\"Unknown object {type(obj)}\")\n",
    "\n",
    "    def to_yaml_tree(self, obj, tag, ctx):\n",
    "        tree = {\n",
    "            \"semi_major\": obj.semi_major,\n",
    "            \"semi_minor\": obj.semi_minor,\n",
    "        }\n",
    "\n",
    "        if tag == rotated_ellipse_tag:\n",
    "            tree[\"position_angle\"] = obj.position_angle\n",
    "\n",
    "        return tree\n",
    "\n",
    "    def from_yaml_tree(self, node, tag, ctx):\n",
    "        if tag == ellipse_tag:\n",
    "            return Ellipse(**node)\n",
    "        elif tag == rotated_ellipse_tag:\n",
    "            return RotatedEllipse(**node)\n",
    "        else:\n",
    "            raise ValueError(f\"Unknown tag {tag}\")"
   ]
  },
  {
   "cell_type": "markdown",
   "metadata": {},
   "source": [
    "### Creating an Updated `Extension`\n",
    "\n",
    "We can now use this converter to create a new \"updated\" extension:"
   ]
  },
  {
   "cell_type": "code",
   "execution_count": 20,
   "metadata": {},
   "outputs": [],
   "source": [
    "rotated_ellipse_extension = asdf.extension.ManifestExtension.from_uri(rotated_ellipse_manifest_uri, converters=[UpdatedEllipseConverter()])\n",
    "asdf.get_config().add_extension(rotated_ellipse_extension)"
   ]
  },
  {
   "cell_type": "markdown",
   "metadata": {},
   "source": [
    "### Checking the New Extension\n",
    "\n",
    "Lets check this new extension by writing both an `Ellipse` and `RotatedEllipse` object\n",
    "to ASDF:"
   ]
  },
  {
   "cell_type": "code",
   "execution_count": 21,
   "metadata": {},
   "outputs": [
    {
     "name": "stdout",
     "output_type": "stream",
     "text": [
      "#ASDF 1.0.0\n",
      "#ASDF_STANDARD 1.5.0\n",
      "%YAML 1.1\n",
      "%TAG ! tag:stsci.edu:asdf/\n",
      "--- !core/asdf-1.1.0\n",
      "asdf_library: !core/software-1.0.0 {author: The ASDF Developers, homepage: 'http://github.com/asdf-format/asdf',\n",
      "  name: asdf, version: 2.12.0}\n",
      "history:\n",
      "  extensions:\n",
      "  - !core/extension_metadata-1.0.0\n",
      "    extension_class: asdf.extension.BuiltinExtension\n",
      "    software: !core/software-1.0.0 {name: asdf, version: 2.12.0}\n",
      "  - !core/extension_metadata-1.0.0 {extension_class: asdf.extension._manifest.ManifestExtension,\n",
      "    extension_uri: 'asdf://example.com/example-project/extensions/shapes-1.1.0'}\n",
      "ellipse: !<asdf://example.com/example-project/tags/ellipse-1.0.0> {semi_major: 1.0,\n",
      "  semi_minor: 2.0}\n",
      "rotated_ellipse: !<asdf://example.com/example-project/tags/rotated_ellipse-1.0.0> {\n",
      "  position_angle: 3.0, semi_major: 1.0, semi_minor: 2.0}\n",
      "...\n",
      "\n",
      "Ellipse(semi_major=1.0, semi_minor=2.0)\n",
      "RotatedEllipse(semi_major=1.0, semi_minor=2.0, position_angle=3.0)\n"
     ]
    }
   ],
   "source": [
    "ellipse = Ellipse(1.0, 2.0)\n",
    "rotated_ellipse = RotatedEllipse(1.0, 2.0, 3.0)\n",
    "\n",
    "with asdf.AsdfFile() as af:\n",
    "    af[\"ellipse\"] = ellipse\n",
    "    af[\"rotated_ellipse\"] = rotated_ellipse\n",
    "    af.write_to(\"rotated_ellipse.asdf\")\n",
    "\n",
    "# Check\n",
    "with open(\"rotated_ellipse.asdf\") as f:\n",
    "    print(f.read())\n",
    "\n",
    "with asdf.open(\"rotated_ellipse.asdf\") as af:\n",
    "    print(af[\"ellipse\"])\n",
    "    assert af[\"ellipse\"] == ellipse\n",
    "\n",
    "    print(af[\"rotated_ellipse\"])\n",
    "    assert af[\"rotated_ellipse\"] == rotated_ellipse"
   ]
  }
 ],
 "metadata": {
  "kernelspec": {
   "display_name": "Python 3 (ipykernel)",
   "language": "python",
   "name": "python3"
  },
  "language_info": {
   "codemirror_mode": {
    "name": "ipython",
    "version": 3
   },
   "file_extension": ".py",
   "mimetype": "text/x-python",
   "name": "python",
   "nbconvert_exporter": "python",
   "pygments_lexer": "ipython3",
   "version": "3.10.5"
  },
  "vscode": {
   "interpreter": {
    "hash": "854c5921801e2400c3c1020a858ab9a52fae9c3bbaec23abfbfde1aa9048a7d5"
   }
  }
 },
 "nbformat": 4,
 "nbformat_minor": 4
}
