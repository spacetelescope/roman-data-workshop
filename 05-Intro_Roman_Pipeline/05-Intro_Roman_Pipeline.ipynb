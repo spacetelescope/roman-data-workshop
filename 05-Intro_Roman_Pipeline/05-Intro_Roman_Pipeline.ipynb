{
 "cells": [
  {
   "cell_type": "markdown",
   "id": "36ecf930",
   "metadata": {},
   "source": [
    "### Intro to the Roman Pipeline"
   ]
  },
  {
   "cell_type": "markdown",
   "id": "b9e3c05e",
   "metadata": {},
   "source": [
    "#### Outline\n",
    "\n",
    "- Pipeline installation and setup\n",
    "- Running the pipeline\n",
    "- Exercise\n",
    "- CRDS\n",
    "- Feedback and discussion"
   ]
  },
  {
   "cell_type": "markdown",
   "id": "bd228cc7",
   "metadata": {},
   "source": [
    "### Roman pipeline installation and setup up"
   ]
  },
  {
   "cell_type": "markdown",
   "id": "e6d40439",
   "metadata": {},
   "source": [
    "The Roman pipeline package is a Python package, called `romancal`. The code is available on [GitHub](https://github.com/spacetelescope/romancal) and releases are posted on [PyPi](https://pypi.org/project/romancal/). Before running the Roman pipeline make sure `romancal` and all its dependencies are installed. The latest installation instructions are available in the [README](https://github.com/spacetelescope/romancal/blob/main/README.md) file on github, and briefly mentioned below.\n",
    "\n",
    "Public releases are installed directly from PyPI using \n",
    "\n",
    "```\n",
    "% pip install romancal\n",
    "```\n",
    "This installs the pipeline and all its dependencies in the current Python environment. We recommend to use conda as a basis for managing the environments and that new releases are installed in new conda environments. \n",
    "\n",
    "The development version of the pipeline can be installed using the command:\n",
    "\n",
    "```\n",
    "% pip install git+https://github.com/spacetelescope/romancal.git\n",
    "```\n",
    "\n",
    "This will install the code from the main development branch and all its current dependencies.\n",
    "\n",
    "In addition, we recommend that jupyter and ipython are installed as well. They are not dependencies, just convenience.\n",
    "\n",
    "The pipeline uses reference stored in the [Calibration Reference Data System (CRDS)](https://roman-crds.stsci.edu/). We don't have a public CRDS server for Roman yet so examples in this notebook while showing how to use a server when it is available, will use local reference files.\n",
    "\n",
    "**Pipeline documentation** is available publicly on [readthedocs](https://roman-pipeline.readthedocs.io/en/latest/)."
   ]
  },
  {
   "cell_type": "markdown",
   "id": "99caee3c",
   "metadata": {},
   "source": [
    "#### CRDS configuration\n",
    "\n",
    "To run the pipeline outside the STScI network, CRDS must be configured by setting two environment variables:\n",
    "\n",
    "```\n",
    "export CRDS_PATH=$HOME/crds_cache\n",
    "export CRDS_SERVER_URL=https://roman-crds.stsci.edu\n",
    "```\n",
    "\n",
    "### The CRDS variables need to be set in the environment before starting the notebook."
   ]
  },
  {
   "cell_type": "markdown",
   "id": "c52456d2",
   "metadata": {},
   "source": [
    "#### Running the Roman Pipeline\n",
    "\n",
    "The pipeline can be run on the command line or in a python session. We'll look first at how to run it in Python. But first, let's download some data."
   ]
  },
  {
   "cell_type": "markdown",
   "id": "3dbe8cf8",
   "metadata": {},
   "source": [
    "#### Stages of the Roman pipeline\n",
    "\n",
    "The Roman calibration pipeline is split into three stages\n",
    "\n",
    "- Level2 pipeline, or Exposure Level Pipeline (ELP)\n",
    "\n",
    "  This stage runs on individual exposures and applies detector-level corrections to given exposure types (imaging, prism, and grism.). The currently implemented steps are listed [here](https://roman-pipeline.readthedocs.io/en/latest/roman/pipeline/exposure_pipeline.html#exposure-pipeline).\n",
    "\n",
    "\n",
    "- Level 3 pipeline, or High Level Pipeline (HLP)\n",
    "\n",
    "  The Level 3 pipeline combines individual exposures according to the association rules supplied. This is not implemented yet.\n",
    "\n",
    "\n",
    "- Level 4 pipeline - generates high level products, like various types of catalogs."
   ]
  },
  {
   "cell_type": "markdown",
   "id": "750714f7",
   "metadata": {},
   "source": [
    "**Steps in a Pipeline stage**\n",
    "\n",
    "Every stage consistes of one or more steps which run in a sequence. The `ExposurePipeline` currently defines the following steps:\n",
    "\n",
    "```\n",
    "step_defs = {'dq_init': dq_init_step.DQInitStep,\n",
    "             'saturation': SaturationStep,\n",
    "             \"refpix\": RefPixStep,\n",
    "             \"linearity\": LinearityStep,\n",
    "             \"dark_current\": DarkCurrentStep,\n",
    "             \"rampfit\": ramp_fit_step.RampFitStep,\n",
    "             \"assign_wcs\": AssignWcsStep,\n",
    "             \"flatfield\": FlatFieldStep,\n",
    "             \"photom\": PhotomStep,\n",
    "             \"source_detection\": SourceDetectionStep,\n",
    "             \"tweakreg\": TweakRegStep,\n",
    "            }\n",
    "\n",
    "```"
   ]
  },
  {
   "cell_type": "markdown",
   "id": "21a33485",
   "metadata": {},
   "source": [
    "#### Data files naming conventions"
   ]
  },
  {
   "cell_type": "markdown",
   "id": "906ee0c5",
   "metadata": {},
   "source": [
    "File names are constructed using the following rules:\n",
    "\n",
    "**WFI detector Level 1 files**\n",
    "\n",
    "These are uncalibrated files, the standard suffix is `uncal`:\n",
    "```\n",
    "rPPPPPCCAAASSSOOOVVV_ggsaa_eeee_<detector>_uncal.asdf\n",
    "```    \n",
    "\n",
    "**WFI detector Level 2 files**\n",
    "\n",
    "These are pixel calibrated files, the standard suffix is `cal`:\n",
    "\n",
    "```\n",
    "rPPPPPCCAAASSSOOOVVV_ggsaa_eeee_<detector>_cal.asdf\n",
    "```\n",
    "\n",
    "`PPPPP`: Program number\n",
    "\n",
    "`CC`:    Execution plan number\n",
    "\n",
    "`AAA`:   Pass number (with execution plan)\n",
    "\n",
    "`SSS`:   Segment Number (within pass) \n",
    "\n",
    "`OOO`:   Observation number\n",
    "\n",
    "`VVV`:   Visit number\n",
    "\n",
    "`gg`:    Group identifier\n",
    "\n",
    "`s`:     Sequence identifier (within the group)\n",
    "         1 for the prime exposure\n",
    "         > 1 for the parallel exposure\n",
    "         \n",
    "`aa`:    Activity Identifier (within the sequence)\n",
    "\n",
    "`eeee`:  Exposure number (within the visit)\n",
    "\n"
   ]
  },
  {
   "cell_type": "markdown",
   "id": "9183f33d",
   "metadata": {},
   "source": [
    "#### Running the ELP pipeline from a Python session"
   ]
  },
  {
   "cell_type": "markdown",
   "id": "b63ef615",
   "metadata": {},
   "source": [
    "Using `call` is the recommended way to run the pipeline in a Python session. In this case the output data model is returned in memory and can be saved to disk either by passing an option to the `call` method or in a separate command:"
   ]
  },
  {
   "cell_type": "code",
   "execution_count": 1,
   "id": "875abca6",
   "metadata": {},
   "outputs": [],
   "source": [
    "from romancal.pipeline import ExposurePipeline\n",
    "import os\n",
    "os.environ[\"WEBBPSF_PATH\"] = os.getcwd()+\"/../data/webbpsf-data\""
   ]
  },
  {
   "cell_type": "code",
   "execution_count": null,
   "id": "e27b58bd",
   "metadata": {
    "tags": [
     "raises-exception"
    ]
   },
   "outputs": [],
   "source": [
    "# Is there a way to pass a parameter to call?\n",
    "out = ExposurePipeline.call('../data/r0000101001001001001_01101_0001_WFI01_uncal.asdf',\n",
    "                            save_results=True)"
   ]
  },
  {
   "cell_type": "markdown",
   "id": "03ed959b",
   "metadata": {},
   "source": [
    "**Alternatively:**\n",
    "    \n",
    "```\n",
    "out.save(<filename.asdf>)\n",
    "```"
   ]
  },
  {
   "cell_type": "markdown",
   "id": "2c7073cc",
   "metadata": {},
   "source": [
    "In this mode the call to `ExposurePipeline` saves the product to a file with the same root name and a suffix of **cal.asdf**."
   ]
  },
  {
   "cell_type": "markdown",
   "id": "ef494c14",
   "metadata": {},
   "source": [
    "#### Running individual steps\n",
    "\n",
    "Individual steps can be run in the same way. For example, running `assign_wcs` on the resultant `cal` file.\n",
    "\n",
    "All steps can be imported from a common namespace `romancal.step`. The input to each step\n",
    "is a file name or a data model and the output is a data model. Data models are returned in memory when running in Python."
   ]
  },
  {
   "cell_type": "code",
   "execution_count": null,
   "id": "dbced702",
   "metadata": {
    "tags": [
     "raises-exception"
    ]
   },
   "outputs": [],
   "source": [
    "from romancal.step import AssignWcsStep\n",
    "\n",
    "out_model = AssignWcsStep.call('../data/r0000101001001001001_01101_0001_WFI01_uncal.asdf')"
   ]
  },
  {
   "cell_type": "code",
   "execution_count": null,
   "id": "4ceeaea9",
   "metadata": {
    "tags": [
     "raises-exception"
    ]
   },
   "outputs": [],
   "source": [
    "out_model.save('r002_assign_wcs.asdf')"
   ]
  },
  {
   "cell_type": "markdown",
   "id": "38ad45db",
   "metadata": {},
   "source": [
    "The calls above used reference files in CRDS. **One can pass local reference files to a step or a pipeline.** For example, running assign_wcs with a custom `distortion` file called \"new_distortion.asdf\" in the current directory:"
   ]
  },
  {
   "cell_type": "code",
   "execution_count": null,
   "id": "7bf32e4b",
   "metadata": {
    "tags": [
     "raises-exception"
    ]
   },
   "outputs": [],
   "source": [
    "out_model = AssignWcsStep.call('../data/r0000101001001001001_01101_0001_WFI01_uncal.asdf', override_distortion=\"new_distortion.asdf\")"
   ]
  },
  {
   "cell_type": "markdown",
   "id": "d2c67544",
   "metadata": {},
   "source": [
    "#### Running from the command line\n",
    "\n",
    "DMS runs the cal pipeline using the command line interface. The general syntax is\n",
    "\n",
    "```\n",
    "% strun romancal.pipeline.ExposurePipeline <input_file>\n",
    "```\n",
    "\n",
    "or using an alias\n",
    "\n",
    "```\n",
    "% strun roman_elp <input_file>\n",
    "```"
   ]
  },
  {
   "cell_type": "markdown",
   "id": "6b6b3cfc",
   "metadata": {},
   "source": [
    "**Running the pipeline with local reference files**\n",
    "\n",
    "Again, the above call uses reference files stored in CRDS. To use local reference files\n",
    "\n",
    "```\n",
    "% strun romancal.pipeline.ExposurePipeline <input_file> --steps.flat.override_flat=myflat.asdf\n",
    "```\n",
    "\n",
    "```\n",
    "% strun romancal.step.FlatStep <input_file> --override_flat=myflat.asdf\n",
    "```"
   ]
  },
  {
   "cell_type": "markdown",
   "id": "78db0635",
   "metadata": {},
   "source": [
    "**Skipping a step in the pipeline**\n",
    "\n",
    "```\n",
    "% strun romancal.pipeline.ExposurePipeline <input_file> --steps.linearity.skip=True\n",
    "```"
   ]
  },
  {
   "cell_type": "markdown",
   "id": "78609084-78f8-42b5-84c4-ec7bd5dd37f3",
   "metadata": {},
   "source": [
    "**List the parameters for a step**\n",
    "\n",
    "To display a list of the parameters that are accepted for a given Step class, pass the `-h` parameter, and the name of a Step class or parameter file:\n",
    "\n",
    "```\n",
    "% strun -h romancal.step.RampFitStep\n",
    "\n",
    "usage: strun [-h] [--logcfg LOGCFG] [--verbose] [--debug] [--save-parameters SAVE_PARAMETERS]\n",
    "             [--disable-crds-steppars] [--pre_hooks] [--post_hooks] [--output_file] [--output_dir]\n",
    "             [--output_ext] [--output_use_model] [--output_use_index] [--save_results] [--skip]\n",
    "             [--suffix] [--search_output_file] [--input_dir] [--algorithm] [--save_opt] [--opt_name]\n",
    "             [--maximum_cores] [--use_ramp_jump_detection] [--threshold_intercept]\n",
    "             [--threshold_constant] [--override_readnoise] [--override_gain]\n",
    "             cfg_file_or_class [args ...]\n",
    "\n",
    "This step fits a straight line to the value of counts vs. time to determine the mean count rate for\n",
    "each pixel.\n",
    "\n",
    "positional arguments:\n",
    "  cfg_file_or_class     The configuration file or Python class to run\n",
    "  args                  arguments to pass to step\n",
    "\n",
    "options:\n",
    "  -h, --help            show this help message and exit\n",
    "  --logcfg LOGCFG       The logging configuration file to load\n",
    "  --verbose, -v         Turn on all logging messages\n",
    "  --debug               When an exception occurs, invoke the Python debugger, pdb\n",
    "  --save-parameters SAVE_PARAMETERS\n",
    "                        Save step parameters to specified file.\n",
    "  --disable-crds-steppars\n",
    "                        Disable retrieval of step parameter references files from CRDS\n",
    "  --pre_hooks           [default=list]\n",
    "  --post_hooks          [default=list]\n",
    "  --output_file         File to save output to.\n",
    "  --output_dir          Directory path for output files\n",
    "  --output_ext          Default type of output [default='.asdf']\n",
    "  --output_use_model    When saving use `DataModel.meta.filename` [default=False]\n",
    "  --output_use_index    Append index. [default=True]\n",
    "  --save_results        Force save results [default=False]\n",
    "  --skip                Skip this step [default=False]\n",
    "  --suffix              Default suffix of results [default='rampfit']\n",
    "  --search_output_file \n",
    "                        Use outputfile define in parent step [default=True]\n",
    "  --input_dir           Input directory\n",
    "  --algorithm           Algorithm to use to fit. ['ols','ols_cas22', default='ols_cas22']\n",
    "  --save_opt            Save optional output [default=False]\n",
    "  --opt_name \n",
    "  --maximum_cores       max number of processes to create\n",
    "                        ['none','quarter','half','all',default='none']\n",
    "  --use_ramp_jump_detection \n",
    "                        Use jump detection during ramp fitting [default=True]\n",
    "  --threshold_intercept \n",
    "                        Override the intercept parameter for the threshold function in the jump\n",
    "                        detection algorithm.\n",
    "  --threshold_constant \n",
    "                        Override the constant parameter for the threshold function in the jump\n",
    "                        detection algorithm.\n",
    "  --override_readnoise \n",
    "                        Override the readnoise reference file\n",
    "  --override_gain       Override the gain reference file\n",
    "```"
   ]
  },
  {
   "cell_type": "markdown",
   "id": "eb674cae",
   "metadata": {},
   "source": [
    "#### Calibration reference Data System (CRDS)\n",
    "\n",
    "CRDS is a Python library, set of command line programs, and family of web servers used to assign and manage the best reference files that are used to calibrate HST, JWST and Roman data.\n",
    "\n",
    "The primary function of CRDS is to assign best reference files to datasets so that they can be calibrated based upon CRDS rules.\n",
    "\n",
    "The CRDS User guide is available on the front page of the CRDS server.\n",
    "\n",
    "https://roman-crds.stsci.edu/static/users_guide/index.html\n",
    "\n"
   ]
  },
  {
   "cell_type": "markdown",
   "id": "0d99dad0",
   "metadata": {},
   "source": [
    "**Exercise:**\n",
    "\n",
    "Run the Roman Exposure Level pipeline on a Level 1 file .\n",
    "\n",
    "On the command line this is\n",
    "\n",
    "```\n",
    "strun roman_elp r0000101001001001001_01101_0002_WFI01_uncal.asdf --steps.rampfit.save_opt=true\n",
    "\n",
    "strun romancal.ramp_fitting.RampFitStep r0000101001001001001_01101_0002_WFI01_darkcurrent.asdf --save_opt=true\n",
    "\n",
    "```"
   ]
  }
 ],
 "metadata": {
  "celltoolbar": "Tags",
  "kernelspec": {
   "display_name": "Python 3 (ipykernel)",
   "language": "python",
   "name": "python3"
  },
  "language_info": {
   "codemirror_mode": {
    "name": "ipython",
    "version": 3
   },
   "file_extension": ".py",
   "mimetype": "text/x-python",
   "name": "python",
   "nbconvert_exporter": "python",
   "pygments_lexer": "ipython3",
   "version": "3.11.9"
  }
 },
 "nbformat": 4,
 "nbformat_minor": 5
}
