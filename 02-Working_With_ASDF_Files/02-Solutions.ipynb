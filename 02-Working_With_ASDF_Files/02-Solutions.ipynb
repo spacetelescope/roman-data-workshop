{
 "cells": [
  {
   "cell_type": "markdown",
   "id": "14199d87",
   "metadata": {},
   "source": [
    "### Solutions for 02-Working_with_ASDF_Files"
   ]
  },
  {
   "cell_type": "markdown",
   "id": "b6eb18c8",
   "metadata": {},
   "source": [
    "**Exercise 1:**"
   ]
  },
  {
   "cell_type": "code",
   "execution_count": 1,
   "id": "451830c9",
   "metadata": {},
   "outputs": [],
   "source": [
    "import asdf"
   ]
  },
  {
   "cell_type": "markdown",
   "id": "d78dde36",
   "metadata": {},
   "source": [
    "**Read the file and use the `info` method to look at the contents**.\n",
    "\n",
    "`info` has arguments which control the behavior. Use the defaults to look at the contents of the file."
   ]
  },
  {
   "cell_type": "code",
   "execution_count": 2,
   "id": "6b67338a",
   "metadata": {},
   "outputs": [],
   "source": [
    "af = asdf.open('../data/r0000101001001001001_01101_0001_WFI01_cal.asdf')"
   ]
  },
  {
   "cell_type": "code",
   "execution_count": 3,
   "id": "8819736d",
   "metadata": {},
   "outputs": [
    {
     "name": "stdout",
     "output_type": "stream",
     "text": [
      "\u001b[1mroot\u001b[0m (AsdfObject)\n",
      "\u001b[2m├─\u001b[0m\u001b[1masdf_library\u001b[0m (Software)\n",
      "\u001b[2m│ ├─\u001b[0m\u001b[1mauthor\u001b[0m (str): The ASDF Developers\n",
      "\u001b[2m│ ├─\u001b[0m\u001b[1mhomepage\u001b[0m (str): http://github.com/asdf-format/asdf\n",
      "\u001b[2m│ ├─\u001b[0m\u001b[1mname\u001b[0m (str): asdf\n",
      "\u001b[2m│ └─\u001b[0m\u001b[1mversion\u001b[0m (str): 2.11.2.dev13+gf9aeb247\n",
      "\u001b[2m├─\u001b[0m\u001b[1mhistory\u001b[0m (dict)\n",
      "\u001b[2m│ └─\u001b[0m\u001b[1mextensions\u001b[0m (list)\n",
      "\u001b[2m│   ├─\u001b[0m[\u001b[1m0\u001b[0m] (ExtensionMetadata)\n",
      "\u001b[2m│   │ ├─\u001b[0m\u001b[1mextension_class\u001b[0m (str): asdf.extension._manifest.ManifestExtension\n",
      "\u001b[2m│   │ ├─\u001b[0m\u001b[1mextension_uri\u001b[0m (str): asdf://asdf-format.org/core/extensions/core-1.5.0\n",
      "\u001b[2m│   │ └─\u001b[0m\u001b[1msoftware\u001b[0m (Software)\u001b[3m ...\u001b[0m\n",
      "\u001b[2m│   ├─\u001b[0m[\u001b[1m1\u001b[0m] (ExtensionMetadata)\n",
      "\u001b[2m│   │ ├─\u001b[0m\u001b[1mextension_class\u001b[0m (str): asdf.extension._manifest.ManifestExtension\n",
      "\u001b[2m│   │ ├─\u001b[0m\u001b[1mextension_uri\u001b[0m (str): asdf://asdf-format.org/astronomy/coordinates/extensions/coordinates-1.0.0\n",
      "\u001b[2m│   │ └─\u001b[0m\u001b[1msoftware\u001b[0m (Software)\u001b[3m ...\u001b[0m\n",
      "\u001b[2m│   ├─\u001b[0m[\u001b[1m2\u001b[0m] (ExtensionMetadata)\n",
      "\u001b[2m│   │ ├─\u001b[0m\u001b[1mextension_class\u001b[0m (str): asdf.extension.BuiltinExtension\n",
      "\u001b[2m│   │ └─\u001b[0m\u001b[1msoftware\u001b[0m (Software)\u001b[3m ...\u001b[0m\n",
      "\u001b[2m│   ├─\u001b[0m[\u001b[1m3\u001b[0m] (ExtensionMetadata)\n",
      "\u001b[2m│   │ ├─\u001b[0m\u001b[1mextension_class\u001b[0m (str): asdf.extension._manifest.ManifestExtension\n",
      "\u001b[2m│   │ ├─\u001b[0m\u001b[1mextension_uri\u001b[0m (str): asdf://asdf-format.org/astronomy/gwcs/extensions/gwcs-1.0.0\n",
      "\u001b[2m│   │ └─\u001b[0m\u001b[1msoftware\u001b[0m (Software)\u001b[3m ...\u001b[0m\n",
      "\u001b[2m│   ├─\u001b[0m[\u001b[1m4\u001b[0m] (ExtensionMetadata)\n",
      "\u001b[2m│   │ ├─\u001b[0m\u001b[1mextension_class\u001b[0m (str): asdf.extension._manifest.ManifestExtension\n",
      "\u001b[2m│   │ ├─\u001b[0m\u001b[1mextension_uri\u001b[0m (str): asdf://stsci.edu/datamodels/roman/extensions/datamodels-1.0\n",
      "\u001b[2m│   │ └─\u001b[0m\u001b[1msoftware\u001b[0m (Software)\u001b[3m ...\u001b[0m\n",
      "\u001b[2m│   └─\u001b[0m[\u001b[1m5\u001b[0m] (ExtensionMetadata)\n",
      "\u001b[2m│     ├─\u001b[0m\u001b[1mextension_class\u001b[0m (str): asdf.extension._manifest.ManifestExtension\n",
      "\u001b[2m│     ├─\u001b[0m\u001b[1mextension_uri\u001b[0m (str): asdf://asdf-format.org/transform/extensions/transform-1.5.0\n",
      "\u001b[2m│     └─\u001b[0m\u001b[1msoftware\u001b[0m (Software)\u001b[3m ...\u001b[0m\n",
      "\u001b[2m└─\u001b[0m\u001b[1mroman\u001b[0m (WfiImage)\u001b[2m\u001b[3m # The schema for WFI Level 2 images.\n",
      "\u001b[0m\u001b[0m\n",
      "\u001b[2m  ├─\u001b[0m\u001b[1mmeta\u001b[0m (dict)\n",
      "\u001b[2m  │ ├─\u001b[0m\u001b[1maperture\u001b[0m (Aperture)\u001b[2m\u001b[3m # Aperture information\u001b[0m\u001b[0m\n",
      "\u001b[2m  │ │ ├─\u001b[0m\u001b[1mname\u001b[0m (str): WFI_CEN\u001b[2m\u001b[3m # PRD science aperture used\u001b[0m\u001b[0m\n",
      "\u001b[2m  │ │ └─\u001b[0m\u001b[1mposition_angle\u001b[0m (int): 120\u001b[2m\u001b[3m # [deg] Position angle of aperture used\u001b[0m\u001b[0m\n",
      "\u001b[2m  │ ├─\u001b[0m\u001b[1mcal_step\u001b[0m (CalStep)\u001b[2m\u001b[3m # Calibration Status\u001b[0m\u001b[0m\n",
      "\u001b[2m  │ │ ├─\u001b[0m\u001b[1massign_wcs\u001b[0m (str): COMPLETE\u001b[2m\u001b[3m # Assign World Coordinate System\u001b[0m\u001b[0m\n",
      "\u001b[2m  │ │ ├─\u001b[0m\u001b[1mflat_field\u001b[0m (str): COMPLETE\u001b[2m\u001b[3m # Flat Field Step\u001b[0m\u001b[0m\n",
      "\u001b[2m  │ │ ├─\u001b[0m\u001b[1mdark\u001b[0m (str): COMPLETE\u001b[2m\u001b[3m # Dark Subtraction\u001b[0m\u001b[0m\n",
      "\u001b[2m  │ │ ├─\u001b[0m\u001b[1mdq_init\u001b[0m (str): COMPLETE\u001b[2m\u001b[3m # Data Quality Mask Step\u001b[0m\u001b[0m\n",
      "\u001b[2m  │ │ ├─\u001b[0m\u001b[1mjump\u001b[0m (str): COMPLETE\u001b[2m\u001b[3m # Jump Detection Step\u001b[0m\u001b[0m\n",
      "\u001b[2m  │ │ ├─\u001b[0m\u001b[1mlinearity\u001b[0m (str): COMPLETE\u001b[2m\u001b[3m # Linearity Correction\u001b[0m\u001b[0m\n",
      "\u001b[2m  │ │ ├─\u001b[0m\u001b[1mphotom\u001b[0m (str): COMPLETE\u001b[2m\u001b[3m # Photometry Step\u001b[0m\u001b[0m\n",
      "\u001b[2m  │ │ ├─\u001b[0m\u001b[1mramp_fit\u001b[0m (str): COMPLETE\u001b[2m\u001b[3m # Ramp Fitting\u001b[0m\u001b[0m\n",
      "\u001b[2m  │ │ └─\u001b[0m\u001b[1msaturation\u001b[0m (str): COMPLETE\u001b[2m\u001b[3m # Saturation Checking\u001b[0m\u001b[0m\n",
      "\u001b[2m  │ ├─\u001b[0m\u001b[1mcalibration_software_version\u001b[0m (str): 0.4.3.dev89+gca5771d\n",
      "\u001b[2m  │ ├─\u001b[0m\u001b[1mcoordinates\u001b[0m (Coordinates)\u001b[2m\u001b[3m # Information about the coordinates in the file\u001b[0m\u001b\u001b[2m\u001b[3m (truncated)\u001b[0m\u001b[0m\n",
      "\u001b[2m  │ ├─\u001b[0m\u001b[1mcrds_context_used\u001b[0m (str): roman_0031.pmap\n",
      "\u001b[2m  │ ├─\u001b[0m\u001b[1mcrds_software_version\u001b[0m (str): 11.5.0\n",
      "\u001b[2m  │ ├─\u001b[0m\u001b[1mephemeris\u001b[0m (Ephemeris)\u001b[2m\u001b[3m # Ephemeris data information\u001b[0m\u001b[0m\u001b[3m ...\u001b[0m\n",
      "\u001b[2m  │ ├─\u001b[0m\u001b[1mexposure\u001b[0m (Exposure)\u001b[2m\u001b[3m # Exposure information\n",
      "\u001b[0m\u001b[0m\u001b[3m ...\u001b[0m\n",
      "\u001b[2m  │ ├─\u001b[0m\u001b[1mfile_date\u001b[0m (Time)\n",
      "\u001b[2m  │ ├─\u001b[0m\u001b[1mfilename\u001b[0m (str): r0000101001001001001_01101_0001_WFI01.asdf\n",
      "\u001b[2m  │ ├─\u001b[0m\u001b[1mguidestar\u001b[0m (Guidestar)\u001b[2m\u001b[3m # Guide star window information\u001b[0m\u001b[0m\u001b[3m ...\u001b[0m\n",
      "\u001b[2m  │ ├─\u001b[0m\u001b[1minstrument\u001b[0m (WfiMode)\u001b[2m\u001b[3m # WFI observing configuration\n",
      "\u001b[0m\u001b[0m\u001b[3m ...\u001b[0m\n",
      "\u001b[2m  │ ├─\u001b[0m\u001b[1mmodel_type\u001b[0m (str): WfiScienceRaw\n",
      "\u001b[2m  │ ├─\u001b[0m\u001b[1mobservation\u001b[0m (Observation)\u001b[2m\u001b[3m # Observation identifiers\u001b[0m\u001b[0m\u001b[3m ...\u001b[0m\n",
      "\u001b[2m  │ ├─\u001b[0m\u001b[1morigin\u001b[0m (str): STSCI\n",
      "\u001b[2m  │ ├─\u001b[0m\u001b[1mphotometry\u001b[0m (Photometry)\u001b[2m\u001b[3m # Photometry information\u001b[0m\u001b[0m\u001b[3m ...\u001b[0m\n",
      "\u001b[2m  │ ├─\u001b[0m\u001b[1mpointing\u001b[0m (Pointing)\u001b[2m\u001b[3m # Spacecraft pointing information\u001b[0m\u001b[0m\u001b[3m ...\u001b[0m\n",
      "\u001b[2m  │ ├─\u001b[0m\u001b[1mprd_software_version\u001b[0m (str): 0.0.1\n",
      "\u001b[2m  │ ├─\u001b[0m\u001b[1mprogram\u001b[0m (Program)\u001b[2m\u001b[3m # Program information\u001b[0m\u001b[0m\u001b[3m ...\u001b[0m\n",
      "\u001b[2m  │ ├─\u001b[0m\u001b[1mref_file\u001b[0m (RefFile)\u001b[2m\u001b[3m # Reference file information\u001b[0m\u001b[0m\u001b[3m ...\u001b[0m\n",
      "\u001b[2m  │ ├─\u001b[0m\u001b[1msdf_software_version\u001b[0m (str): 0.0.1\n",
      "\u001b[2m  │ ├─\u001b[0m\u001b[1mtarget\u001b[0m (Target)\u001b[2m\u001b[3m # Target information\u001b[0m\u001b[0m\u001b[3m ...\u001b[0m\n",
      "\u001b[2m  │ ├─\u001b[0m\u001b[1mtelescope\u001b[0m (str): ROMAN\n",
      "\u001b[2m  │ ├─\u001b[0m\u001b[1mvelocity_aberration\u001b[0m (VelocityAberration)\u001b[2m\u001b[3m # Velocity aberration correction info\u001b[2m\u001b[3m (truncated)\u001b[0m\u001b[0m\n",
      "\u001b[2m  │ ├─\u001b[0m\u001b[1mvisit\u001b[0m (Visit)\u001b[2m\u001b[3m # Visit information\u001b[0m\u001b[0m\u001b[3m ...\u001b[0m\n",
      "\u001b[2m  │ ├─\u001b[0m\u001b[1mwcs\u001b[0m (WCS)\n",
      "\u001b[2m  │ └─\u001b[0m\u001b[1mwcsinfo\u001b[0m (Wcsinfo)\u001b[2m\u001b[3m # WCS parameters\u001b[0m\u001b[0m\u001b[3m ...\u001b[0m\n",
      "\u001b[2m  ├─\u001b[0m\u001b[1mdata\u001b[0m (NDArrayType): shape=(4088, 4088), dtype=float32\u001b[2m\u001b[3m # Science data, excluding \u001b[2m\u001b[3m (truncated)\u001b[0m\u001b[0m\n",
      "\u001b[2m  ├─\u001b[0m\u001b[1mdq\u001b[0m (NDArrayType): shape=(4088, 4088), dtype=uint32\n",
      "\u001b[2m  ├─\u001b[0m\u001b[1merr\u001b[0m (NDArrayType): shape=(4088, 4088), dtype=float32\n",
      "\u001b[2m  ├─\u001b[0m\u001b[1mvar_poisson\u001b[0m (NDArrayType): shape=(4088, 4088), dtype=float32\n",
      "\u001b[2m  ├─\u001b[0m\u001b[1mvar_rnoise\u001b[0m (NDArrayType): shape=(4088, 4088), dtype=float32\n",
      "\u001b[2m  ├─\u001b[0m\u001b[1mvar_flat\u001b[0m (NDArrayType): shape=(4088, 4088), dtype=float32\n",
      "\u001b[2m  ├─\u001b[0m\u001b[1mamp33\u001b[0m (NDArrayType): shape=(6, 4096, 128), dtype=uint16\u001b[2m\u001b[3m # Amp 33 reference pixel\u001b[2m\u001b[3m (truncated)\u001b[0m\u001b[0m\n",
      "\u001b[2m  ├─\u001b[0m\u001b[1mborder_ref_pix_left\u001b[0m (NDArrayType): shape=(6, 4096, 4), dtype=float32\u001b[2m\u001b[3m # Original \u001b[2m\u001b[3m (truncated)\u001b[0m\u001b[0m\n",
      "\u001b[2m  ├─\u001b[0m\u001b[1mborder_ref_pix_right\u001b[0m (NDArrayType): shape=(6, 4096, 4), dtype=float32\u001b[2m\u001b[3m # Original\u001b[2m\u001b[3m (truncated)\u001b[0m\u001b[0m\n",
      "\u001b[2m  ├─\u001b[0m\u001b[1mborder_ref_pix_top\u001b[0m (NDArrayType): shape=(6, 4, 4096), dtype=float32\u001b[2m\u001b[3m # Original b\u001b[2m\u001b[3m (truncated)\u001b[0m\u001b[0m\n",
      "\u001b[2m  ├─\u001b[0m\u001b[1mborder_ref_pix_bottom\u001b[0m (NDArrayType): shape=(6, 4, 4096), dtype=float32\u001b[2m\u001b[3m # Origina\u001b[2m\u001b[3m (truncated)\u001b[0m\u001b[0m\n",
      "\u001b[2m  ├─\u001b[0m\u001b[1mdq_border_ref_pix_left\u001b[0m (NDArrayType): shape=(4096, 4), dtype=uint32\u001b[2m\u001b[3m # DQ for bor\u001b[2m\u001b[3m (truncated)\u001b[0m\u001b[0m\n",
      "\u001b[2m  ├─\u001b[0m\u001b[1mdq_border_ref_pix_right\u001b[0m (NDArrayType): shape=(4096, 4), dtype=uint32\u001b[2m\u001b[3m # DQ for bo\u001b[2m\u001b[3m (truncated)\u001b[0m\u001b[0m\n",
      "\u001b[2m  ├─\u001b[0m\u001b[1mdq_border_ref_pix_top\u001b[0m (NDArrayType): shape=(4, 4096), dtype=uint32\u001b[2m\u001b[3m # DQ for bord\u001b[2m\u001b[3m (truncated)\u001b[0m\u001b[0m\n",
      "\u001b[2m  ├─\u001b[0m\u001b[1mdq_border_ref_pix_bottom\u001b[0m (NDArrayType): shape=(4, 4096), dtype=uint32\u001b[2m\u001b[3m # DQ for b\u001b[2m\u001b[3m (truncated)\u001b[0m\u001b[0m\n",
      "\u001b[2m  ├─\u001b[0m\u001b[1mcal_logs\u001b[0m (CalLogs)\u001b[2m\u001b[3m # Calibration log messages\u001b[0m\u001b[0m\n",
      "\u001b[2m  │ ├─\u001b[0m\u001b[1m0\u001b[0m (str): 2022-06-23T11:40:16.325Z :: stpipe.ExposurePipeline.rampfit :: INFO :: Step r\u001b[2m\u001b[3m (truncated)\u001b[0m\u001b[0m\n",
      "\u001b[2m  │ ├─\u001b[0m\u001b[1m1\u001b[0m (str): 2022-06-23T11:40:16.326Z :: stpipe.ExposurePipeline.rampfit :: INFO :: Step r\u001b[2m\u001b[3m (truncated)\u001b[0m\u001b[0m\n",
      "\u001b[2m  │ ├─\u001b[0m\u001b[1m2\u001b[0m (str): 2022-06-23T11:40:17.219Z :: stpipe.ExposurePipeline.rampfit :: INFO :: Using \u001b[2m\u001b[3m (truncated)\u001b[0m\u001b[0m\n",
      "\u001b[2m  │ ├─\u001b[0m\u001b[1m3\u001b[0m (str): 2022-06-23T11:40:17.243Z :: stpipe.ExposurePipeline.rampfit :: INFO :: Using \u001b[2m\u001b[3m (truncated)\u001b[0m\u001b[0m\n",
      "\u001b[2m  │ ├─\u001b[0m\u001b[1m4\u001b[0m (str): 2022-06-23T11:40:17.265Z :: stpipe.ExposurePipeline.rampfit :: INFO :: Using \u001b[2m\u001b[3m (truncated)\u001b[0m\u001b[0m\n",
      "\u001b[2m  │ ├─\u001b[0m\u001b[1m5\u001b[0m (str): 2022-06-23T11:40:17.266Z :: stpipe.ExposurePipeline.rampfit :: INFO :: Using \u001b[2m\u001b[3m (truncated)\u001b[0m\u001b[0m\n",
      "\u001b[2m  │ ├─\u001b[0m\u001b[1m6\u001b[0m (str): 2022-06-23T11:42:03.538Z :: stpipe.ExposurePipeline.rampfit :: DEBUG :: Missi\u001b[2m\u001b[3m (truncated)\u001b[0m\u001b[0m\n",
      "\u001b[2m  │ ├─\u001b[0m\u001b[1m7\u001b[0m (str): 2022-06-23T11:42:04.686Z :: stpipe.ExposurePipeline.rampfit :: DEBUG :: The n\u001b[2m\u001b[3m (truncated)\u001b[0m\u001b[0m\n",
      "\u001b[2m  │ ├─\u001b[0m\u001b[1m8\u001b[0m (str): 2022-06-23T11:42:04.686Z :: stpipe.ExposurePipeline.rampfit :: DEBUG :: due t\u001b[2m\u001b[3m (truncated)\u001b[0m\u001b[0m\n",
      "\u001b[2m  │ ├─\u001b[0m\u001b[1m9\u001b[0m (str): 2022-06-23T11:42:04.735Z :: stpipe.ExposurePipeline.rampfit :: DEBUG :: Count\u001b[2m\u001b[3m (truncated)\u001b[0m\u001b[0m\n",
      "\u001b[2m  │ ├─\u001b[0m\u001b[1m10\u001b[0m (str): 2022-06-23T11:42:04.735Z :: stpipe.ExposurePipeline.rampfit :: DEBUG :: Instrument: WFI\n",
      "\u001b[2m  │ ├─\u001b[0m\u001b[1m11\u001b[0m (str): 2022-06-23T11:42:04.736Z :: stpipe.ExposurePipeline.rampfit :: DEBUG :: Numb\u001b[2m\u001b[3m (truncated)\u001b[0m\u001b[0m\n",
      "\u001b[2m  │ ├─\u001b[0m\u001b[1m12\u001b[0m (str): 2022-06-23T11:42:04.736Z :: stpipe.ExposurePipeline.rampfit :: DEBUG :: Shap\u001b[2m\u001b[3m (truncated)\u001b[0m\u001b[0m\n",
      "\u001b[2m  │ ├─\u001b[0m\u001b[1m13\u001b[0m (str): 2022-06-23T11:42:04.736Z :: stpipe.ExposurePipeline.rampfit :: DEBUG :: Shap\u001b[2m\u001b[3m (truncated)\u001b[0m\u001b[0m\n",
      "\u001b[2m  │ ├─\u001b[0m\u001b[1m14\u001b[0m (str): 2022-06-23T11:42:04.736Z :: stpipe.ExposurePipeline.rampfit :: DEBUG :: Buff\u001b[2m\u001b[3m (truncated)\u001b[0m\u001b[0m\n",
      "\u001b[2m  │ ├─\u001b[0m\u001b[1m15\u001b[0m (str): 2022-06-23T11:42:04.736Z :: stpipe.ExposurePipeline.rampfit :: DEBUG :: Numb\u001b[2m\u001b[3m (truncated)\u001b[0m\u001b[0m\n",
      "\u001b[2m  │ ├─\u001b[0m\u001b[1m16\u001b[0m (str): 2022-06-23T11:42:04.736Z :: stpipe.ExposurePipeline.rampfit :: INFO :: Numbe\u001b[2m\u001b[3m (truncated)\u001b[0m\u001b[0m\n",
      "\u001b[2m  │ ├─\u001b[0m\u001b[1m17\u001b[0m (str): 2022-06-23T11:42:04.736Z :: stpipe.ExposurePipeline.rampfit :: INFO :: Numbe\u001b[2m\u001b[3m (truncated)\u001b[0m\u001b[0m\n",
      "\u001b[2m  │ ├─\u001b[0m\u001b[1m18\u001b[0m (str): 2022-06-23T11:42:04.736Z :: stpipe.ExposurePipeline.rampfit :: DEBUG :: The \u001b[2m\u001b[3m (truncated)\u001b[0m\u001b[0m\n",
      "\u001b[2m  │ ├─\u001b[0m\u001b[1m19\u001b[0m (str): 2022-06-23T11:42:06.080Z :: stpipe.ExposurePipeline.assign_wcs :: INFO :: St\u001b[2m\u001b[3m (truncated)\u001b[0m\u001b[0m\n",
      "\u001b[2m  │ ├─\u001b[0m\u001b[1m20\u001b[0m (str): 2022-06-23T11:42:06.081Z :: stpipe.ExposurePipeline.assign_wcs :: INFO :: St\u001b[2m\u001b[3m (truncated)\u001b[0m\u001b[0m\n",
      "\u001b[2m  │ ├─\u001b[0m\u001b[1m21\u001b[0m (str): 2022-06-23T11:42:06.278Z :: stpipe.ExposurePipeline.assign_wcs :: INFO :: re\u001b[2m\u001b[3m (truncated)\u001b[0m\u001b[0m\n",
      "\u001b[2m  │ ├─\u001b[0m\u001b[1m22\u001b[0m (str): 2022-06-23T11:42:07.688Z :: stpipe.ExposurePipeline.assign_wcs :: DEBUG :: r\u001b[2m\u001b[3m (truncated)\u001b[0m\u001b[0m\n",
      "\u001b[2m  │ ├─\u001b[0m\u001b[1m23\u001b[0m (str): 2022-06-23T11:42:07.967Z :: stpipe.ExposurePipeline.assign_wcs :: WARNING ::\u001b[2m\u001b[3m (truncated)\u001b[0m\u001b[0m\n",
      "\u001b[2m  │ ├─\u001b[0m\u001b[1m24\u001b[0m (str): 2022-06-23T11:42:08.120Z :: stpipe.ExposurePipeline.flatfield :: INFO :: Ste\u001b[2m\u001b[3m (truncated)\u001b[0m\u001b[0m\n",
      "\u001b[2m  │ ├─\u001b[0m\u001b[1m25\u001b[0m (str): 2022-06-23T11:42:08.121Z :: stpipe.ExposurePipeline.flatfield :: INFO :: Ste\u001b[2m\u001b[3m (truncated)\u001b[0m\u001b[0m\n",
      "\u001b[2m  │ ├─\u001b[0m\u001b[1m26\u001b[0m (str): 2022-06-23T11:42:42.716Z :: stpipe.ExposurePipeline.flatfield :: DEBUG :: Us\u001b[2m\u001b[3m (truncated)\u001b[0m\u001b[0m\n",
      "\u001b[2m  │ ├─\u001b[0m\u001b[1m27\u001b[0m (str): 2022-06-23T11:42:43.608Z :: stpipe.ExposurePipeline.photom :: INFO :: Step p\u001b[2m\u001b[3m (truncated)\u001b[0m\u001b[0m\n",
      "\u001b[2m  │ ├─\u001b[0m\u001b[1m28\u001b[0m (str): 2022-06-23T11:42:43.609Z :: stpipe.ExposurePipeline.photom :: INFO :: Step p\u001b[2m\u001b[3m (truncated)\u001b[0m\u001b[0m\n",
      "\u001b[2m  │ ├─\u001b[0m\u001b[1m29\u001b[0m (str): 2022-06-23T11:42:44.055Z :: stpipe.ExposurePipeline.photom :: DEBUG :: Using\u001b[2m\u001b[3m (truncated)\u001b[0m\u001b[0m\n",
      "\u001b[2m  │ ├─\u001b[0m\u001b[1m30\u001b[0m (str): 2022-06-23T11:42:44.055Z :: stpipe.ExposurePipeline.photom :: DEBUG :: pixel\u001b[2m\u001b[3m (truncated)\u001b[0m\u001b[0m\n",
      "\u001b[2m  │ ├─\u001b[0m\u001b[1m31\u001b[0m (str): 2022-06-23T11:42:44.057Z :: stpipe.ExposurePipeline.photom :: INFO :: photmj\u001b[2m\u001b[3m (truncated)\u001b[0m\u001b[0m\n",
      "\u001b[2m  │ ├─\u001b[0m\u001b[1m32\u001b[0m (str): 2022-06-23T11:42:44.058Z :: stpipe.ExposurePipeline.photom :: INFO :: uncert\u001b[2m\u001b[3m (truncated)\u001b[0m\u001b[0m\n",
      "\u001b[2m  │ ├─\u001b[0m\u001b[1m33\u001b[0m (str): 2022-06-23T11:38:22.308Z :: stpipe.ExposurePipeline :: INFO :: Step Exposure\u001b[2m\u001b[3m (truncated)\u001b[0m\u001b[0m\n",
      "\u001b[2m  │ ├─\u001b[0m\u001b[1m34\u001b[0m (str): 2022-06-23T11:38:22.315Z :: stpipe.ExposurePipeline :: INFO :: Step Exposure\u001b[2m\u001b[3m (truncated)\u001b[0m\u001b[0m\n",
      "\u001b[2m  │ ├─\u001b[0m\u001b[1m35\u001b[0m (str): 2022-06-23T11:38:22.317Z :: stpipe.ExposurePipeline :: INFO :: First argumen\u001b[2m\u001b[3m (truncated)\u001b[0m\u001b[0m\n",
      "\u001b[2m  │ ├─\u001b[0m\u001b[1m36\u001b[0m (str): 2022-06-23T11:38:22.317Z :: stpipe.ExposurePipeline :: INFO :: Starting Roma\u001b[2m\u001b[3m (truncated)\u001b[0m\u001b[0m\n",
      "\u001b[2m  │ ├─\u001b[0m\u001b[1m37\u001b[0m (str): 2022-06-23T11:38:22.404Z :: stpipe.ExposurePipeline :: DEBUG :: Exposure Pro\u001b[2m\u001b[3m (truncated)\u001b[0m\u001b[0m\n",
      "\u001b[2m  │ ├─\u001b[0m\u001b[1m38\u001b[0m (str): 2022-06-23T11:38:22.438Z :: stpipe.ExposurePipeline.dq_init :: INFO :: Step \u001b[2m\u001b[3m (truncated)\u001b[0m\u001b[0m\n",
      "\u001b[2m  │ ├─\u001b[0m\u001b[1m39\u001b[0m (str): 2022-06-23T11:38:22.439Z :: stpipe.ExposurePipeline.dq_init :: INFO :: Step \u001b[2m\u001b[3m (truncated)\u001b[0m\u001b[0m\n",
      "\u001b[2m  │ ├─\u001b[0m\u001b[1m40\u001b[0m (str): 2022-06-23T11:38:23.618Z :: stpipe.ExposurePipeline.dq_init :: DEBUG :: Usin\u001b[2m\u001b[3m (truncated)\u001b[0m\u001b[0m\n",
      "\u001b[2m  │ ├─\u001b[0m\u001b[1m41\u001b[0m (str): 2022-06-23T11:38:24.347Z :: stpipe.ExposurePipeline.dq_init :: INFO :: Step dq_init done\n",
      "\u001b[2m  │ ├─\u001b[0m\u001b[1m42\u001b[0m (str): 2022-06-23T11:38:24.551Z :: stpipe.ExposurePipeline.saturation :: INFO :: St\u001b[2m\u001b[3m (truncated)\u001b[0m\u001b[0m\n",
      "\u001b[2m  │ ├─\u001b[0m\u001b[1m43\u001b[0m (str): 2022-06-23T11:38:24.552Z :: stpipe.ExposurePipeline.saturation :: INFO :: St\u001b[2m\u001b[3m (truncated)\u001b[0m\u001b[0m\n",
      "\u001b[2m  │ ├─\u001b[0m\u001b[1m44\u001b[0m (str): 2022-06-23T11:38:25.133Z :: stpipe.ExposurePipeline.saturation :: INFO :: Us\u001b[2m\u001b[3m (truncated)\u001b[0m\u001b[0m\n",
      "\u001b[2m  │ ├─\u001b[0m\u001b[1m45\u001b[0m (str): 2022-06-23T11:38:26.615Z :: stpipe.ExposurePipeline.saturation :: INFO :: De\u001b[2m\u001b[3m (truncated)\u001b[0m\u001b[0m\n",
      "\u001b[2m  │ ├─\u001b[0m\u001b[1m46\u001b[0m (str): 2022-06-23T11:38:26.704Z :: stpipe.ExposurePipeline.saturation :: INFO :: De\u001b[2m\u001b[3m (truncated)\u001b[0m\u001b[0m\n",
      "\u001b[2m  │ ├─\u001b[0m\u001b[1m47\u001b[0m (str): 2022-06-23T11:38:26.728Z :: stpipe.ExposurePipeline.saturation :: INFO :: St\u001b[2m\u001b[3m (truncated)\u001b[0m\u001b[0m\n",
      "\u001b[2m  │ ├─\u001b[0m\u001b[1m48\u001b[0m (str): 2022-06-23T11:38:26.849Z :: stpipe.ExposurePipeline.linearity :: INFO :: Ste\u001b[2m\u001b[3m (truncated)\u001b[0m\u001b[0m\n",
      "\u001b[2m  │ ├─\u001b[0m\u001b[1m49\u001b[0m (str): 2022-06-23T11:38:26.850Z :: stpipe.ExposurePipeline.linearity :: INFO :: Ste\u001b[2m\u001b[3m (truncated)\u001b[0m\u001b[0m\n",
      "\u001b[2m  │ ├─\u001b[0m\u001b[1m50\u001b[0m (str): 2022-06-23T11:38:27.481Z :: stpipe.ExposurePipeline.linearity :: INFO :: Usi\u001b[2m\u001b[3m (truncated)\u001b[0m\u001b[0m\n",
      "\u001b[2m  │ ├─\u001b[0m\u001b[1m51\u001b[0m (str): 2022-06-23T11:38:31.570Z :: stpipe.ExposurePipeline.linearity :: INFO :: Ste\u001b[2m\u001b[3m (truncated)\u001b[0m\u001b[0m\n",
      "\u001b[2m  │ ├─\u001b[0m\u001b[1m52\u001b[0m (str): 2022-06-23T11:38:31.797Z :: stpipe.ExposurePipeline.dark_current :: INFO :: \u001b[2m\u001b[3m (truncated)\u001b[0m\u001b[0m\n",
      "\u001b[2m  │ ├─\u001b[0m\u001b[1m53\u001b[0m (str): 2022-06-23T11:38:31.798Z :: stpipe.ExposurePipeline.dark_current :: INFO :: \u001b[2m\u001b[3m (truncated)\u001b[0m\u001b[0m\n",
      "\u001b[2m  │ ├─\u001b[0m\u001b[1m54\u001b[0m (str): 2022-06-23T11:38:32.384Z :: stpipe.ExposurePipeline.dark_current :: INFO :: \u001b[2m\u001b[3m (truncated)\u001b[0m\u001b[0m\n",
      "\u001b[2m  │ ├─\u001b[0m\u001b[1m55\u001b[0m (str): 2022-06-23T11:38:32.509Z :: stpipe.ExposurePipeline.dark_current :: INFO :: \u001b[2m\u001b[3m (truncated)\u001b[0m\u001b[0m\n",
      "\u001b[2m  │ ├─\u001b[0m\u001b[1m56\u001b[0m (str): 2022-06-23T11:38:32.509Z :: stpipe.ExposurePipeline.dark_current :: INFO :: \u001b[2m\u001b[3m (truncated)\u001b[0m\u001b[0m\n",
      "\u001b[2m  │ ├─\u001b[0m\u001b[1m57\u001b[0m (str): 2022-06-23T11:38:32.670Z :: stpipe.ExposurePipeline.dark_current :: DEBUG ::\u001b[2m\u001b[3m (truncated)\u001b[0m\u001b[0m\n",
      "\u001b[2m  │ ├─\u001b[0m\u001b[1m58\u001b[0m (str): 2022-06-23T11:38:33.386Z :: stpipe.ExposurePipeline.dark_current :: INFO :: \u001b[2m\u001b[3m (truncated)\u001b[0m\u001b[0m\n",
      "\u001b[2m  │ ├─\u001b[0m\u001b[1m59\u001b[0m (str): 2022-06-23T11:38:33.675Z :: stpipe.ExposurePipeline.jump :: INFO :: Step jum\u001b[2m\u001b[3m (truncated)\u001b[0m\u001b[0m\n",
      "\u001b[2m  │ ├─\u001b[0m\u001b[1m60\u001b[0m (str): 2022-06-23T11:38:33.676Z :: stpipe.ExposurePipeline.jump :: INFO :: Step jum\u001b[2m\u001b[3m (truncated)\u001b[0m\u001b[0m\n",
      "\u001b[2m  │ ├─\u001b[0m\u001b[1m61\u001b[0m (str): 2022-06-23T11:38:34.044Z :: stpipe.ExposurePipeline.jump :: INFO :: CR rejec\u001b[2m\u001b[3m (truncated)\u001b[0m\u001b[0m\n",
      "\u001b[2m  │ ├─\u001b[0m\u001b[1m62\u001b[0m (str): 2022-06-23T11:38:34.354Z :: stpipe.ExposurePipeline.jump :: INFO :: Using GA\u001b[2m\u001b[3m (truncated)\u001b[0m\u001b[0m\n",
      "\u001b[2m  │ ├─\u001b[0m\u001b[1m63\u001b[0m (str): 2022-06-23T11:38:34.671Z :: stpipe.ExposurePipeline.jump :: INFO :: Using RE\u001b[2m\u001b[3m (truncated)\u001b[0m\u001b[0m\n",
      "\u001b[2m  │ ├─\u001b[0m\u001b[1m64\u001b[0m (str): 2022-06-23T11:38:35.239Z :: stpipe.ExposurePipeline.jump :: INFO :: Executin\u001b[2m\u001b[3m (truncated)\u001b[0m\u001b[0m\n",
      "\u001b[2m  │ ├─\u001b[0m\u001b[1m65\u001b[0m (str): 2022-06-23T11:38:35.324Z :: stpipe.ExposurePipeline.jump :: INFO :: Working \u001b[2m\u001b[3m (truncated)\u001b[0m\u001b[0m\n",
      "\u001b[2m  │ ├─\u001b[0m\u001b[1m66\u001b[0m (str): 2022-06-23T11:38:43.886Z :: stpipe.ExposurePipeline.jump :: WARNING :: /User\u001b[2m\u001b[3m (truncated)\u001b[0m\u001b[0m\n",
      "\u001b[2m  │ ├─\u001b[0m\u001b[1m67\u001b[0m (str): 2022-06-23T11:38:44.337Z :: stpipe.ExposurePipeline.jump :: INFO :: From hig\u001b[2m\u001b[3m (truncated)\u001b[0m\u001b[0m\n",
      "\u001b[2m  │ ├─\u001b[0m\u001b[1m68\u001b[0m (str): 2022-06-23T11:38:44.337Z :: stpipe.ExposurePipeline.jump :: INFO :: From hig\u001b[2m\u001b[3m (truncated)\u001b[0m\u001b[0m\n",
      "\u001b[2m  │ ├─\u001b[0m\u001b[1m69\u001b[0m (str): 2022-06-23T11:38:44.337Z :: stpipe.ExposurePipeline.jump :: INFO :: From hig\u001b[2m\u001b[3m (truncated)\u001b[0m\u001b[0m\n",
      "\u001b[2m  │ ├─\u001b[0m\u001b[1m70\u001b[0m (str): 2022-06-23T11:40:16.036Z :: stpipe.ExposurePipeline.jump :: INFO :: Total el\u001b[2m\u001b[3m (truncated)\u001b[0m\u001b[0m\n",
      "\u001b[2m  │ ├─\u001b[0m\u001b[1m71\u001b[0m (str): 2022-06-23T11:40:16.040Z :: stpipe.ExposurePipeline.jump :: INFO :: The exec\u001b[2m\u001b[3m (truncated)\u001b[0m\u001b[0m\n",
      "\u001b[2m  │ ├─\u001b[0m\u001b[1m72\u001b[0m (str): 2022-06-23T11:40:16.074Z :: stpipe.ExposurePipeline.jump :: INFO :: Step jump done\n",
      "\u001b[2m  │ ├─\u001b[0m\u001b[1m73\u001b[0m (str): 2022-06-23T11:40:16.325Z :: stpipe.ExposurePipeline.rampfit :: INFO :: Step \u001b[2m\u001b[3m (truncated)\u001b[0m\u001b[0m\n",
      "\u001b[2m  │ ├─\u001b[0m\u001b[1m74\u001b[0m (str): 2022-06-23T11:40:16.326Z :: stpipe.ExposurePipeline.rampfit :: INFO :: Step \u001b[2m\u001b[3m (truncated)\u001b[0m\u001b[0m\n",
      "\u001b[2m  │ ├─\u001b[0m\u001b[1m75\u001b[0m (str): 2022-06-23T11:40:17.219Z :: stpipe.ExposurePipeline.rampfit :: INFO :: Using\u001b[2m\u001b[3m (truncated)\u001b[0m\u001b[0m\n",
      "\u001b[2m  │ ├─\u001b[0m\u001b[1m76\u001b[0m (str): 2022-06-23T11:40:17.243Z :: stpipe.ExposurePipeline.rampfit :: INFO :: Using\u001b[2m\u001b[3m (truncated)\u001b[0m\u001b[0m\n",
      "\u001b[2m  │ ├─\u001b[0m\u001b[1m77\u001b[0m (str): 2022-06-23T11:40:17.265Z :: stpipe.ExposurePipeline.rampfit :: INFO :: Using\u001b[2m\u001b[3m (truncated)\u001b[0m\u001b[0m\n",
      "\u001b[2m  │ ├─\u001b[0m\u001b[1m78\u001b[0m (str): 2022-06-23T11:40:17.266Z :: stpipe.ExposurePipeline.rampfit :: INFO :: Using\u001b[2m\u001b[3m (truncated)\u001b[0m\u001b[0m\n",
      "\u001b[2m  │ ├─\u001b[0m\u001b[1m79\u001b[0m (str): 2022-06-23T11:42:03.538Z :: stpipe.ExposurePipeline.rampfit :: DEBUG :: Miss\u001b[2m\u001b[3m (truncated)\u001b[0m\u001b[0m\n",
      "\u001b[2m  │ ├─\u001b[0m\u001b[1m80\u001b[0m (str): 2022-06-23T11:42:04.686Z :: stpipe.ExposurePipeline.rampfit :: DEBUG :: The \u001b[2m\u001b[3m (truncated)\u001b[0m\u001b[0m\n",
      "\u001b[2m  │ ├─\u001b[0m\u001b[1m81\u001b[0m (str): 2022-06-23T11:42:04.686Z :: stpipe.ExposurePipeline.rampfit :: DEBUG :: due \u001b[2m\u001b[3m (truncated)\u001b[0m\u001b[0m\n",
      "\u001b[2m  │ ├─\u001b[0m\u001b[1m82\u001b[0m (str): 2022-06-23T11:42:04.735Z :: stpipe.ExposurePipeline.rampfit :: DEBUG :: Coun\u001b[2m\u001b[3m (truncated)\u001b[0m\u001b[0m\n",
      "\u001b[2m  │ ├─\u001b[0m\u001b[1m83\u001b[0m (str): 2022-06-23T11:42:04.735Z :: stpipe.ExposurePipeline.rampfit :: DEBUG :: Instrument: WFI\n",
      "\u001b[2m  │ ├─\u001b[0m\u001b[1m84\u001b[0m (str): 2022-06-23T11:42:04.736Z :: stpipe.ExposurePipeline.rampfit :: DEBUG :: Numb\u001b[2m\u001b[3m (truncated)\u001b[0m\u001b[0m\n",
      "\u001b[2m  │ ├─\u001b[0m\u001b[1m85\u001b[0m (str): 2022-06-23T11:42:04.736Z :: stpipe.ExposurePipeline.rampfit :: DEBUG :: Shap\u001b[2m\u001b[3m (truncated)\u001b[0m\u001b[0m\n",
      "\u001b[2m  │ ├─\u001b[0m\u001b[1m86\u001b[0m (str): 2022-06-23T11:42:04.736Z :: stpipe.ExposurePipeline.rampfit :: DEBUG :: Shap\u001b[2m\u001b[3m (truncated)\u001b[0m\u001b[0m\n",
      "\u001b[2m  │ ├─\u001b[0m\u001b[1m87\u001b[0m (str): 2022-06-23T11:42:04.736Z :: stpipe.ExposurePipeline.rampfit :: DEBUG :: Buff\u001b[2m\u001b[3m (truncated)\u001b[0m\u001b[0m\n",
      "\u001b[2m  │ ├─\u001b[0m\u001b[1m88\u001b[0m (str): 2022-06-23T11:42:04.736Z :: stpipe.ExposurePipeline.rampfit :: DEBUG :: Numb\u001b[2m\u001b[3m (truncated)\u001b[0m\u001b[0m\n",
      "\u001b[2m  │ ├─\u001b[0m\u001b[1m89\u001b[0m (str): 2022-06-23T11:42:04.736Z :: stpipe.ExposurePipeline.rampfit :: INFO :: Numbe\u001b[2m\u001b[3m (truncated)\u001b[0m\u001b[0m\n",
      "\u001b[2m  │ ├─\u001b[0m\u001b[1m90\u001b[0m (str): 2022-06-23T11:42:04.736Z :: stpipe.ExposurePipeline.rampfit :: INFO :: Numbe\u001b[2m\u001b[3m (truncated)\u001b[0m\u001b[0m\n",
      "\u001b[2m  │ ├─\u001b[0m\u001b[1m91\u001b[0m (str): 2022-06-23T11:42:04.736Z :: stpipe.ExposurePipeline.rampfit :: DEBUG :: The \u001b[2m\u001b[3m (truncated)\u001b[0m\u001b[0m\n",
      "\u001b[2m  │ ├─\u001b[0m\u001b[1m92\u001b[0m (str): 2022-06-23T11:42:05.355Z :: stpipe.ExposurePipeline.rampfit :: INFO :: Step rampfit done\n",
      "\u001b[2m  │ ├─\u001b[0m\u001b[1m93\u001b[0m (str): 2022-06-23T11:42:06.080Z :: stpipe.ExposurePipeline.assign_wcs :: INFO :: St\u001b[2m\u001b[3m (truncated)\u001b[0m\u001b[0m\n",
      "\u001b[2m  │ ├─\u001b[0m\u001b[1m94\u001b[0m (str): 2022-06-23T11:42:06.081Z :: stpipe.ExposurePipeline.assign_wcs :: INFO :: St\u001b[2m\u001b[3m (truncated)\u001b[0m\u001b[0m\n",
      "\u001b[2m  │ ├─\u001b[0m\u001b[1m95\u001b[0m (str): 2022-06-23T11:42:06.278Z :: stpipe.ExposurePipeline.assign_wcs :: INFO :: re\u001b[2m\u001b[3m (truncated)\u001b[0m\u001b[0m\n",
      "\u001b[2m  │ ├─\u001b[0m\u001b[1m96\u001b[0m (str): 2022-06-23T11:42:07.688Z :: stpipe.ExposurePipeline.assign_wcs :: DEBUG :: r\u001b[2m\u001b[3m (truncated)\u001b[0m\u001b[0m\n",
      "\u001b[2m  │ ├─\u001b[0m\u001b[1m97\u001b[0m (str): 2022-06-23T11:42:07.967Z :: stpipe.ExposurePipeline.assign_wcs :: WARNING ::\u001b[2m\u001b[3m (truncated)\u001b[0m\u001b[0m\n",
      "\u001b[2m  │ ├─\u001b[0m\u001b[1m98\u001b[0m (str): 2022-06-23T11:42:07.969Z :: stpipe.ExposurePipeline.assign_wcs :: INFO :: St\u001b[2m\u001b[3m (truncated)\u001b[0m\u001b[0m\n",
      "\u001b[2m  │ ├─\u001b[0m\u001b[1m99\u001b[0m (str): 2022-06-23T11:42:08.120Z :: stpipe.ExposurePipeline.flatfield :: INFO :: Ste\u001b[2m\u001b[3m (truncated)\u001b[0m\u001b[0m\n",
      "\u001b[2m  │ ├─\u001b[0m\u001b[1m100\u001b[0m (str): 2022-06-23T11:42:08.121Z :: stpipe.ExposurePipeline.flatfield :: INFO :: St\u001b[2m\u001b[3m (truncated)\u001b[0m\u001b[0m\n",
      "\u001b[2m  │ ├─\u001b[0m\u001b[1m101\u001b[0m (str): 2022-06-23T11:42:42.716Z :: stpipe.ExposurePipeline.flatfield :: DEBUG :: U\u001b[2m\u001b[3m (truncated)\u001b[0m\u001b[0m\n",
      "\u001b[2m  │ ├─\u001b[0m\u001b[1m102\u001b[0m (str): 2022-06-23T11:42:43.434Z :: stpipe.ExposurePipeline.flatfield :: INFO :: St\u001b[2m\u001b[3m (truncated)\u001b[0m\u001b[0m\n",
      "\u001b[2m  │ ├─\u001b[0m\u001b[1m103\u001b[0m (str): 2022-06-23T11:42:43.608Z :: stpipe.ExposurePipeline.photom :: INFO :: Step \u001b[2m\u001b[3m (truncated)\u001b[0m\u001b[0m\n",
      "\u001b[2m  │ ├─\u001b[0m\u001b[1m104\u001b[0m (str): 2022-06-23T11:42:43.609Z :: stpipe.ExposurePipeline.photom :: INFO :: Step \u001b[2m\u001b[3m (truncated)\u001b[0m\u001b[0m\n",
      "\u001b[2m  │ ├─\u001b[0m\u001b[1m105\u001b[0m (str): 2022-06-23T11:42:44.055Z :: stpipe.ExposurePipeline.photom :: DEBUG :: Usin\u001b[2m\u001b[3m (truncated)\u001b[0m\u001b[0m\n",
      "\u001b[2m  │ ├─\u001b[0m\u001b[1m106\u001b[0m (str): 2022-06-23T11:42:44.055Z :: stpipe.ExposurePipeline.photom :: DEBUG :: pixe\u001b[2m\u001b[3m (truncated)\u001b[0m\u001b[0m\n",
      "\u001b[2m  │ ├─\u001b[0m\u001b[1m107\u001b[0m (str): 2022-06-23T11:42:44.057Z :: stpipe.ExposurePipeline.photom :: INFO :: photm\u001b[2m\u001b[3m (truncated)\u001b[0m\u001b[0m\n",
      "\u001b[2m  │ ├─\u001b[0m\u001b[1m108\u001b[0m (str): 2022-06-23T11:42:44.058Z :: stpipe.ExposurePipeline.photom :: INFO :: uncer\u001b[2m\u001b[3m (truncated)\u001b[0m\u001b[0m\n",
      "\u001b[2m  │ ├─\u001b[0m\u001b[1m109\u001b[0m (str): 2022-06-23T11:42:44.059Z :: stpipe.ExposurePipeline.photom :: INFO :: Step photom done\n",
      "\u001b[2m  │ └─\u001b[0m\u001b[1m110\u001b[0m (str): 2022-06-23T11:42:44.059Z :: stpipe.ExposurePipeline :: INFO :: Roman exposu\u001b[2m\u001b[3m (truncated)\u001b[0m\u001b[0m\n",
      "\u001b[2m  └─\u001b[0m\u001b[1moutput_file\u001b[0m (str): r0000101001001001001_01101_0001_WFI01.asdf\n",
      "\u001b[2m\u001b[3mSome nodes not shown.\u001b[0m\u001b[0m\n"
     ]
    }
   ],
   "source": [
    "af.info(max_rows=200)"
   ]
  },
  {
   "cell_type": "code",
   "execution_count": 4,
   "id": "38617281",
   "metadata": {},
   "outputs": [
    {
     "data": {
      "text/plain": [
       "\u001b[1mroot\u001b[0m (AsdfObject)\n",
       "\u001b[2m└─\u001b[0m\u001b[1mroman\u001b[0m (WfiImage)\u001b[2m\u001b[3m # The schema for WFI Level 2 images.\n",
       "\u001b[0m\u001b[0m\n",
       "\u001b[2m  └─\u001b[0m\u001b[1mmeta\u001b[0m (dict)\n",
       "\u001b[2m    ├─\u001b[0m\u001b[1mcal_step\u001b[0m (CalStep)\u001b[2m\u001b[3m # Calibration Status\u001b[0m\u001b[0m\n",
       "\u001b[2m    │ └─\u001b[0m\u001b[1massign_wcs\u001b[0m (str): COMPLETE\u001b[2m\u001b[3m # Assign World Coordinate System\u001b[0m\u001b[0m\n",
       "\u001b[2m    ├─\u001b[0m\u001b[1mwcs\u001b[0m (WCS)\n",
       "\u001b[2m    └─\u001b[0m\u001b[1mwcsinfo\u001b[0m (Wcsinfo)\u001b[2m\u001b[3m # WCS parameters\u001b[0m\u001b[0m"
      ]
     },
     "execution_count": 4,
     "metadata": {},
     "output_type": "execute_result"
    }
   ],
   "source": [
    "af.search('wcs')"
   ]
  },
  {
   "cell_type": "code",
   "execution_count": 5,
   "id": "87336258",
   "metadata": {},
   "outputs": [
    {
     "name": "stdout",
     "output_type": "stream",
     "text": [
      "  From     Transform  \n",
      "-------- -------------\n",
      "detector CompoundModel\n",
      "    v2v3      v23tosky\n",
      "   world          None\n"
     ]
    }
   ],
   "source": [
    "w = af['roman']['meta']['wcs']\n",
    "print(w)"
   ]
  },
  {
   "cell_type": "code",
   "execution_count": 6,
   "id": "b3d27a41",
   "metadata": {},
   "outputs": [
    {
     "name": "stdout",
     "output_type": "stream",
     "text": [
      "84.69946280125302 -69.11808059517361\n"
     ]
    }
   ],
   "source": [
    "ra, dec = w(200, 300)\n",
    "print(ra, dec)"
   ]
  },
  {
   "cell_type": "code",
   "execution_count": 7,
   "id": "4f8f28e1",
   "metadata": {},
   "outputs": [
    {
     "name": "stdout",
     "output_type": "stream",
     "text": [
      "<SkyCoord (ICRS): (ra, dec) in deg\n",
      "    (84.6994628, -69.1180806)>\n"
     ]
    }
   ],
   "source": [
    "sky = w.pixel_to_world(200, 300)\n",
    "print(sky)"
   ]
  },
  {
   "cell_type": "code",
   "execution_count": 8,
   "id": "0a95dda0",
   "metadata": {},
   "outputs": [
    {
     "data": {
      "text/plain": [
       "array([[ 3.5502228e+01,  3.0198467e+01,  1.1236250e+01, ...,\n",
       "         1.5567736e+01,  3.4690548e+01,  4.5890507e+01],\n",
       "       [ 2.4822083e+01,  2.0766781e+01,  5.4226227e+01, ...,\n",
       "         2.5411541e+01,  1.9779814e+01,  3.4319172e+00],\n",
       "       [ 2.3591185e+01,  3.6522991e+01,  2.7500755e+01, ...,\n",
       "         6.9299988e+01,  1.8446072e+01,  2.7945328e+01],\n",
       "       ...,\n",
       "       [-5.0138377e-02,  4.8151932e+00,  4.0247574e+01, ...,\n",
       "         3.9501991e+01,  5.0384731e+00,  2.2977093e+01],\n",
       "       [ 1.8236900e+01,  1.6879545e+01,  2.0073387e+01, ...,\n",
       "         1.3043494e+02,  2.8485823e+01,  5.6190315e+01],\n",
       "       [ 2.2255131e+01,  2.5889729e+01,  4.6622475e+01, ...,\n",
       "        -1.0151666e+00,  4.0005136e+00,  6.9930313e+01]], dtype=float32)"
      ]
     },
     "execution_count": 8,
     "metadata": {},
     "output_type": "execute_result"
    }
   ],
   "source": [
    "af['roman']['data']"
   ]
  },
  {
   "cell_type": "code",
   "execution_count": 9,
   "id": "4ed7ccc8",
   "metadata": {},
   "outputs": [],
   "source": [
    "#af['roman']['data'][0, 0] = 999"
   ]
  },
  {
   "cell_type": "markdown",
   "id": "43b0131f",
   "metadata": {},
   "source": [
    "**Exercise 2:**\n",
    "\n",
    "Add `additionalProperties=false` to the schema and open the file"
   ]
  },
  {
   "cell_type": "code",
   "execution_count": 10,
   "id": "7283577e",
   "metadata": {},
   "outputs": [],
   "source": [
    "s = \"\"\"\n",
    "%YAML 1.1\n",
    "---\n",
    "$schema: http://stsci.edu/schemas/yaml-schema/draft-01\n",
    "\n",
    "title: Mickey's pet\n",
    "description: |\n",
    "  Basic info and a picture of Mickie's \n",
    "  dog Pluto.\n",
    "\n",
    "type: object\n",
    "properties:\n",
    "  age:\n",
    "    title: The age of Pluto\n",
    "    type: object\n",
    "    properties:\n",
    "      birthday:\n",
    "        title: Pluto's first showing\n",
    "        tag: tag:stsci.edu:asdf/time/time-1.1.0\n",
    "  mass:\n",
    "    title: How much he weighs.\n",
    "    tag: tag:stsci.edu:asdf/unit/quantity-1.1.0\n",
    "  picture:\n",
    "    tag: tag:stsci.edu:asdf/core/ndarray-1.0.0\n",
    "  name:\n",
    "    title: Name\n",
    "    type: string\n",
    "required: [name, picture]\n",
    "additionalProperties: false\n",
    "...\n",
    "\"\"\""
   ]
  },
  {
   "cell_type": "code",
   "execution_count": 11,
   "id": "49cc45f0",
   "metadata": {},
   "outputs": [],
   "source": [
    "f = open('add-prop-1.0.0.yaml', mode='w')\n",
    "f.write(s)\n",
    "f.close()"
   ]
  },
  {
   "cell_type": "code",
   "execution_count": 12,
   "id": "075f4ff7",
   "metadata": {},
   "outputs": [
    {
     "ename": "ValidationError",
     "evalue": "Additional properties are not allowed ('asdf_library', 'birthday', 'history' were unexpected)\n\nFailed validating 'additionalProperties' in schema:\n    {'$schema': 'http://stsci.edu/schemas/yaml-schema/draft-01',\n     'additionalProperties': False,\n     'description': \"Basic info and a picture of Mickie's \\ndog Pluto.\\n\",\n     'properties': {'age': {'properties': {'birthday': {'tag': 'tag:stsci.edu:asdf/time/time-1.1.0',\n                                                        'title': \"Pluto's \"\n                                                                 'first '\n                                                                 'showing'}},\n                            'title': 'The age of Pluto',\n                            'type': 'object'},\n                    'mass': {'tag': 'tag:stsci.edu:asdf/unit/quantity-1.1.0',\n                             'title': 'How much he weighs.'},\n                    'name': {'title': 'Name', 'type': 'string'},\n                    'picture': {'tag': 'tag:stsci.edu:asdf/core/ndarray-1.0.0'}},\n     'required': ['name', 'picture'],\n     'title': \"Mickey's pet\",\n     'type': 'object'}\n\nOn instance:\n    {'asdf_library': {'author': 'The ASDF Developers',\n                      'homepage': 'http://github.com/asdf-format/asdf',\n                      'name': 'asdf',\n                      'version': '2.12.0'},\n     'birthday': datetime.date(1930, 8, 17),\n     'history': {'extensions': [{'extension_class': 'asdf.extension.BuiltinExtension',\n                                 'software': {'name': 'asdf',\n                                              'version': '2.12.0'}},\n                                {'extension_class': 'asdf.extension._manifest.ManifestExtension',\n                                 'extension_uri': 'asdf://asdf-format.org/core/extensions/core-1.5.0',\n                                 'software': {'name': 'asdf-astropy',\n                                              'version': '0.2.1'}}]},\n     'mass': {'unit': 'kg', 'value': 10.0},\n     'name': 'Pluto',\n     'picture': {'byteorder': 'little',\n                 'datatype': 'float32',\n                 'shape': [333, 151, 4],\n                 'source': 0}}",
     "output_type": "error",
     "traceback": [
      "\u001b[0;31m---------------------------------------------------------------------------\u001b[0m",
      "\u001b[0;31mValidationError\u001b[0m                           Traceback (most recent call last)",
      "Input \u001b[0;32mIn [12]\u001b[0m, in \u001b[0;36m<cell line: 1>\u001b[0;34m()\u001b[0m\n\u001b[0;32m----> 1\u001b[0m afs \u001b[38;5;241m=\u001b[39m \u001b[43masdf\u001b[49m\u001b[38;5;241;43m.\u001b[39;49m\u001b[43mopen\u001b[49m\u001b[43m(\u001b[49m\u001b[38;5;124;43m'\u001b[39;49m\u001b[38;5;124;43mpluto.asdf\u001b[39;49m\u001b[38;5;124;43m'\u001b[39;49m\u001b[43m,\u001b[49m\u001b[43m \u001b[49m\u001b[43mcustom_schema\u001b[49m\u001b[38;5;241;43m=\u001b[39;49m\u001b[38;5;124;43m'\u001b[39;49m\u001b[38;5;124;43m./add-prop-1.0.0.yaml\u001b[39;49m\u001b[38;5;124;43m'\u001b[39;49m\u001b[43m)\u001b[49m\n",
      "File \u001b[0;32m/opt/miniconda3/envs/roman-data-workshop-env/lib/python3.9/site-packages/asdf/asdf.py:1769\u001b[0m, in \u001b[0;36mopen_asdf\u001b[0;34m(fd, uri, mode, validate_checksums, extensions, ignore_version_mismatch, ignore_unrecognized_tag, _force_raw_types, copy_arrays, lazy_load, custom_schema, strict_extension_check, ignore_missing_extensions, _compat, **kwargs)\u001b[0m\n\u001b[1;32m   1758\u001b[0m     readonly \u001b[38;5;241m=\u001b[39m mode \u001b[38;5;241m==\u001b[39m \u001b[38;5;124m\"\u001b[39m\u001b[38;5;124mr\u001b[39m\u001b[38;5;124m\"\u001b[39m \u001b[38;5;129;01mand\u001b[39;00m \u001b[38;5;129;01mnot\u001b[39;00m copy_arrays\n\u001b[1;32m   1760\u001b[0m instance \u001b[38;5;241m=\u001b[39m AsdfFile(\n\u001b[1;32m   1761\u001b[0m     ignore_version_mismatch\u001b[38;5;241m=\u001b[39mignore_version_mismatch,\n\u001b[1;32m   1762\u001b[0m     ignore_unrecognized_tag\u001b[38;5;241m=\u001b[39mignore_unrecognized_tag,\n\u001b[0;32m   (...)\u001b[0m\n\u001b[1;32m   1766\u001b[0m     _readonly\u001b[38;5;241m=\u001b[39mreadonly,\n\u001b[1;32m   1767\u001b[0m )\n\u001b[0;32m-> 1769\u001b[0m \u001b[38;5;28;01mreturn\u001b[39;00m \u001b[43mAsdfFile\u001b[49m\u001b[38;5;241;43m.\u001b[39;49m\u001b[43m_open_impl\u001b[49m\u001b[43m(\u001b[49m\n\u001b[1;32m   1770\u001b[0m \u001b[43m    \u001b[49m\u001b[43minstance\u001b[49m\u001b[43m,\u001b[49m\n\u001b[1;32m   1771\u001b[0m \u001b[43m    \u001b[49m\u001b[43mfd\u001b[49m\u001b[43m,\u001b[49m\n\u001b[1;32m   1772\u001b[0m \u001b[43m    \u001b[49m\u001b[43muri\u001b[49m\u001b[38;5;241;43m=\u001b[39;49m\u001b[43muri\u001b[49m\u001b[43m,\u001b[49m\n\u001b[1;32m   1773\u001b[0m \u001b[43m    \u001b[49m\u001b[43mmode\u001b[49m\u001b[38;5;241;43m=\u001b[39;49m\u001b[43mmode\u001b[49m\u001b[43m,\u001b[49m\n\u001b[1;32m   1774\u001b[0m \u001b[43m    \u001b[49m\u001b[43mvalidate_checksums\u001b[49m\u001b[38;5;241;43m=\u001b[39;49m\u001b[43mvalidate_checksums\u001b[49m\u001b[43m,\u001b[49m\n\u001b[1;32m   1775\u001b[0m \u001b[43m    \u001b[49m\u001b[43mextensions\u001b[49m\u001b[38;5;241;43m=\u001b[39;49m\u001b[43mextensions\u001b[49m\u001b[43m,\u001b[49m\n\u001b[1;32m   1776\u001b[0m \u001b[43m    \u001b[49m\u001b[43m_force_raw_types\u001b[49m\u001b[38;5;241;43m=\u001b[39;49m\u001b[43m_force_raw_types\u001b[49m\u001b[43m,\u001b[49m\n\u001b[1;32m   1777\u001b[0m \u001b[43m    \u001b[49m\u001b[43mstrict_extension_check\u001b[49m\u001b[38;5;241;43m=\u001b[39;49m\u001b[43mstrict_extension_check\u001b[49m\u001b[43m,\u001b[49m\n\u001b[1;32m   1778\u001b[0m \u001b[43m    \u001b[49m\u001b[43mignore_missing_extensions\u001b[49m\u001b[38;5;241;43m=\u001b[39;49m\u001b[43mignore_missing_extensions\u001b[49m\u001b[43m,\u001b[49m\n\u001b[1;32m   1779\u001b[0m \u001b[43m    \u001b[49m\u001b[38;5;241;43m*\u001b[39;49m\u001b[38;5;241;43m*\u001b[39;49m\u001b[43mkwargs\u001b[49m\u001b[43m,\u001b[49m\n\u001b[1;32m   1780\u001b[0m \u001b[43m\u001b[49m\u001b[43m)\u001b[49m\n",
      "File \u001b[0;32m/opt/miniconda3/envs/roman-data-workshop-env/lib/python3.9/site-packages/asdf/asdf.py:942\u001b[0m, in \u001b[0;36mAsdfFile._open_impl\u001b[0;34m(cls, self, fd, uri, mode, validate_checksums, extensions, _get_yaml_content, _force_raw_types, strict_extension_check, ignore_missing_extensions, **kwargs)\u001b[0m\n\u001b[1;32m    936\u001b[0m         \u001b[38;5;28;01mraise\u001b[39;00m \u001b[38;5;167;01mValueError\u001b[39;00m(\n\u001b[1;32m    937\u001b[0m             \u001b[38;5;124m\"\u001b[39m\u001b[38;5;124mInput object does not appear to be an ASDF file. Cannot check \u001b[39m\u001b[38;5;124m\"\u001b[39m\n\u001b[1;32m    938\u001b[0m             \u001b[38;5;241m+\u001b[39m \u001b[38;5;124m\"\u001b[39m\u001b[38;5;124mif it is a FITS with ASDF extension because \u001b[39m\u001b[38;5;124m'\u001b[39m\u001b[38;5;124mastropy\u001b[39m\u001b[38;5;124m'\u001b[39m\u001b[38;5;124m is not \u001b[39m\u001b[38;5;124m\"\u001b[39m\n\u001b[1;32m    939\u001b[0m             \u001b[38;5;241m+\u001b[39m \u001b[38;5;124m\"\u001b[39m\u001b[38;5;124minstalled\u001b[39m\u001b[38;5;124m\"\u001b[39m\n\u001b[1;32m    940\u001b[0m         ) \u001b[38;5;28;01mfrom\u001b[39;00m \u001b[38;5;28mNone\u001b[39m\n\u001b[1;32m    941\u001b[0m \u001b[38;5;28;01melif\u001b[39;00m file_type \u001b[38;5;241m==\u001b[39m util\u001b[38;5;241m.\u001b[39mFileType\u001b[38;5;241m.\u001b[39mASDF:\n\u001b[0;32m--> 942\u001b[0m     \u001b[38;5;28;01mreturn\u001b[39;00m \u001b[38;5;28;43mcls\u001b[39;49m\u001b[38;5;241;43m.\u001b[39;49m\u001b[43m_open_asdf\u001b[49m\u001b[43m(\u001b[49m\n\u001b[1;32m    943\u001b[0m \u001b[43m        \u001b[49m\u001b[38;5;28;43mself\u001b[39;49m\u001b[43m,\u001b[49m\n\u001b[1;32m    944\u001b[0m \u001b[43m        \u001b[49m\u001b[43mgeneric_file\u001b[49m\u001b[43m,\u001b[49m\n\u001b[1;32m    945\u001b[0m \u001b[43m        \u001b[49m\u001b[43mvalidate_checksums\u001b[49m\u001b[38;5;241;43m=\u001b[39;49m\u001b[43mvalidate_checksums\u001b[49m\u001b[43m,\u001b[49m\n\u001b[1;32m    946\u001b[0m \u001b[43m        \u001b[49m\u001b[43mextensions\u001b[49m\u001b[38;5;241;43m=\u001b[39;49m\u001b[43mextensions\u001b[49m\u001b[43m,\u001b[49m\n\u001b[1;32m    947\u001b[0m \u001b[43m        \u001b[49m\u001b[43m_get_yaml_content\u001b[49m\u001b[38;5;241;43m=\u001b[39;49m\u001b[43m_get_yaml_content\u001b[49m\u001b[43m,\u001b[49m\n\u001b[1;32m    948\u001b[0m \u001b[43m        \u001b[49m\u001b[43m_force_raw_types\u001b[49m\u001b[38;5;241;43m=\u001b[39;49m\u001b[43m_force_raw_types\u001b[49m\u001b[43m,\u001b[49m\n\u001b[1;32m    949\u001b[0m \u001b[43m        \u001b[49m\u001b[43mstrict_extension_check\u001b[49m\u001b[38;5;241;43m=\u001b[39;49m\u001b[43mstrict_extension_check\u001b[49m\u001b[43m,\u001b[49m\n\u001b[1;32m    950\u001b[0m \u001b[43m        \u001b[49m\u001b[43mignore_missing_extensions\u001b[49m\u001b[38;5;241;43m=\u001b[39;49m\u001b[43mignore_missing_extensions\u001b[49m\u001b[43m,\u001b[49m\n\u001b[1;32m    951\u001b[0m \u001b[43m        \u001b[49m\u001b[38;5;241;43m*\u001b[39;49m\u001b[38;5;241;43m*\u001b[39;49m\u001b[43mkwargs\u001b[49m\u001b[43m,\u001b[49m\n\u001b[1;32m    952\u001b[0m \u001b[43m    \u001b[49m\u001b[43m)\u001b[49m\n\u001b[1;32m    953\u001b[0m \u001b[38;5;28;01melse\u001b[39;00m:\n\u001b[1;32m    954\u001b[0m     \u001b[38;5;28;01mraise\u001b[39;00m \u001b[38;5;167;01mValueError\u001b[39;00m(\u001b[38;5;124m\"\u001b[39m\u001b[38;5;124mInput object does not appear to be an ASDF file or a FITS with \u001b[39m\u001b[38;5;124m\"\u001b[39m \u001b[38;5;241m+\u001b[39m \u001b[38;5;124m\"\u001b[39m\u001b[38;5;124mASDF extension\u001b[39m\u001b[38;5;124m\"\u001b[39m)\n",
      "File \u001b[0;32m/opt/miniconda3/envs/roman-data-workshop-env/lib/python3.9/site-packages/asdf/asdf.py:879\u001b[0m, in \u001b[0;36mAsdfFile._open_asdf\u001b[0;34m(cls, self, fd, validate_checksums, extensions, _get_yaml_content, _force_raw_types, strict_extension_check, ignore_missing_extensions, **kwargs)\u001b[0m\n\u001b[1;32m    877\u001b[0m \u001b[38;5;28;01mif\u001b[39;00m get_config()\u001b[38;5;241m.\u001b[39mvalidate_on_read:\n\u001b[1;32m    878\u001b[0m     \u001b[38;5;28;01mtry\u001b[39;00m:\n\u001b[0;32m--> 879\u001b[0m         \u001b[38;5;28;43mself\u001b[39;49m\u001b[38;5;241;43m.\u001b[39;49m\u001b[43m_validate\u001b[49m\u001b[43m(\u001b[49m\u001b[43mtree\u001b[49m\u001b[43m,\u001b[49m\u001b[43m \u001b[49m\u001b[43mreading\u001b[49m\u001b[38;5;241;43m=\u001b[39;49m\u001b[38;5;28;43;01mTrue\u001b[39;49;00m\u001b[43m)\u001b[49m\n\u001b[1;32m    880\u001b[0m     \u001b[38;5;28;01mexcept\u001b[39;00m ValidationError:\n\u001b[1;32m    881\u001b[0m         \u001b[38;5;28mself\u001b[39m\u001b[38;5;241m.\u001b[39mclose()\n",
      "File \u001b[0;32m/opt/miniconda3/envs/roman-data-workshop-env/lib/python3.9/site-packages/asdf/asdf.py:622\u001b[0m, in \u001b[0;36mAsdfFile._validate\u001b[0;34m(self, tree, custom, reading)\u001b[0m\n\u001b[1;32m    620\u001b[0m \u001b[38;5;66;03m# Perform secondary validation pass if requested\u001b[39;00m\n\u001b[1;32m    621\u001b[0m \u001b[38;5;28;01mif\u001b[39;00m custom \u001b[38;5;129;01mand\u001b[39;00m \u001b[38;5;28mself\u001b[39m\u001b[38;5;241m.\u001b[39m_custom_schema:\n\u001b[0;32m--> 622\u001b[0m     \u001b[43mschema\u001b[49m\u001b[38;5;241;43m.\u001b[39;49m\u001b[43mvalidate\u001b[49m\u001b[43m(\u001b[49m\u001b[43mtagged_tree\u001b[49m\u001b[43m,\u001b[49m\u001b[43m \u001b[49m\u001b[38;5;28;43mself\u001b[39;49m\u001b[43m,\u001b[49m\u001b[43m \u001b[49m\u001b[38;5;28;43mself\u001b[39;49m\u001b[38;5;241;43m.\u001b[39;49m\u001b[43m_custom_schema\u001b[49m\u001b[43m,\u001b[49m\u001b[43m \u001b[49m\u001b[43mreading\u001b[49m\u001b[38;5;241;43m=\u001b[39;49m\u001b[43mreading\u001b[49m\u001b[43m)\u001b[49m\n",
      "File \u001b[0;32m/opt/miniconda3/envs/roman-data-workshop-env/lib/python3.9/site-packages/asdf/schema.py:662\u001b[0m, in \u001b[0;36mvalidate\u001b[0;34m(instance, ctx, schema, validators, reading, *args, **kwargs)\u001b[0m\n\u001b[1;32m    659\u001b[0m     ctx \u001b[38;5;241m=\u001b[39m AsdfFile()\n\u001b[1;32m    661\u001b[0m validator \u001b[38;5;241m=\u001b[39m get_validator(schema, ctx, validators, ctx\u001b[38;5;241m.\u001b[39mresolver, \u001b[38;5;241m*\u001b[39margs, \u001b[38;5;241m*\u001b[39m\u001b[38;5;241m*\u001b[39mkwargs)\n\u001b[0;32m--> 662\u001b[0m \u001b[43mvalidator\u001b[49m\u001b[38;5;241;43m.\u001b[39;49m\u001b[43mvalidate\u001b[49m\u001b[43m(\u001b[49m\u001b[43minstance\u001b[49m\u001b[43m)\u001b[49m\n\u001b[1;32m    664\u001b[0m additional_validators \u001b[38;5;241m=\u001b[39m [_validate_large_literals]\n\u001b[1;32m    665\u001b[0m \u001b[38;5;28;01mif\u001b[39;00m ctx\u001b[38;5;241m.\u001b[39mversion \u001b[38;5;241m>\u001b[39m\u001b[38;5;241m=\u001b[39m versioning\u001b[38;5;241m.\u001b[39mRESTRICTED_KEYS_MIN_VERSION:\n",
      "File \u001b[0;32m/opt/miniconda3/envs/roman-data-workshop-env/lib/python3.9/site-packages/jsonschema/validators.py:254\u001b[0m, in \u001b[0;36mcreate.<locals>.Validator.validate\u001b[0;34m(self, *args, **kwargs)\u001b[0m\n\u001b[1;32m    252\u001b[0m \u001b[38;5;28;01mdef\u001b[39;00m \u001b[38;5;21mvalidate\u001b[39m(\u001b[38;5;28mself\u001b[39m, \u001b[38;5;241m*\u001b[39margs, \u001b[38;5;241m*\u001b[39m\u001b[38;5;241m*\u001b[39mkwargs):\n\u001b[1;32m    253\u001b[0m     \u001b[38;5;28;01mfor\u001b[39;00m error \u001b[38;5;129;01min\u001b[39;00m \u001b[38;5;28mself\u001b[39m\u001b[38;5;241m.\u001b[39miter_errors(\u001b[38;5;241m*\u001b[39margs, \u001b[38;5;241m*\u001b[39m\u001b[38;5;241m*\u001b[39mkwargs):\n\u001b[0;32m--> 254\u001b[0m         \u001b[38;5;28;01mraise\u001b[39;00m error\n",
      "\u001b[0;31mValidationError\u001b[0m: Additional properties are not allowed ('asdf_library', 'birthday', 'history' were unexpected)\n\nFailed validating 'additionalProperties' in schema:\n    {'$schema': 'http://stsci.edu/schemas/yaml-schema/draft-01',\n     'additionalProperties': False,\n     'description': \"Basic info and a picture of Mickie's \\ndog Pluto.\\n\",\n     'properties': {'age': {'properties': {'birthday': {'tag': 'tag:stsci.edu:asdf/time/time-1.1.0',\n                                                        'title': \"Pluto's \"\n                                                                 'first '\n                                                                 'showing'}},\n                            'title': 'The age of Pluto',\n                            'type': 'object'},\n                    'mass': {'tag': 'tag:stsci.edu:asdf/unit/quantity-1.1.0',\n                             'title': 'How much he weighs.'},\n                    'name': {'title': 'Name', 'type': 'string'},\n                    'picture': {'tag': 'tag:stsci.edu:asdf/core/ndarray-1.0.0'}},\n     'required': ['name', 'picture'],\n     'title': \"Mickey's pet\",\n     'type': 'object'}\n\nOn instance:\n    {'asdf_library': {'author': 'The ASDF Developers',\n                      'homepage': 'http://github.com/asdf-format/asdf',\n                      'name': 'asdf',\n                      'version': '2.12.0'},\n     'birthday': datetime.date(1930, 8, 17),\n     'history': {'extensions': [{'extension_class': 'asdf.extension.BuiltinExtension',\n                                 'software': {'name': 'asdf',\n                                              'version': '2.12.0'}},\n                                {'extension_class': 'asdf.extension._manifest.ManifestExtension',\n                                 'extension_uri': 'asdf://asdf-format.org/core/extensions/core-1.5.0',\n                                 'software': {'name': 'asdf-astropy',\n                                              'version': '0.2.1'}}]},\n     'mass': {'unit': 'kg', 'value': 10.0},\n     'name': 'Pluto',\n     'picture': {'byteorder': 'little',\n                 'datatype': 'float32',\n                 'shape': [333, 151, 4],\n                 'source': 0}}"
     ]
    }
   ],
   "source": [
    "afs = asdf.open('pluto.asdf', custom_schema='./add-prop-1.0.0.yaml')"
   ]
  },
  {
   "cell_type": "markdown",
   "id": "0525f622",
   "metadata": {},
   "source": [
    "Take the original schema and add a new required property, called `friend`."
   ]
  },
  {
   "cell_type": "code",
   "execution_count": null,
   "id": "9c394371",
   "metadata": {},
   "outputs": [],
   "source": [
    "s = \"\"\"\n",
    "%YAML 1.1\n",
    "---\n",
    "$schema: http://stsci.edu/schemas/yaml-schema/draft-01\n",
    "\n",
    "title: Mickey's pet\n",
    "description: |\n",
    "  Basic info and a picture of Mickie's \n",
    "  dog Pluto.\n",
    "\n",
    "type: object\n",
    "properties:\n",
    "  age:\n",
    "    title: The age of Pluto\n",
    "    type: object\n",
    "    properties:\n",
    "      birthday:\n",
    "        title: Pluto's first showing\n",
    "        tag: tag:stsci.edu:asdf/time/time-1.1.0\n",
    "  mass:\n",
    "    title: How much he weighs.\n",
    "    tag: tag:stsci.edu:asdf/unit/quantity-1.1.0\n",
    "  picture:\n",
    "    tag: tag:stsci.edu:asdf/core/ndarray-1.0.0\n",
    "  name:\n",
    "    title: Name\n",
    "    type: string\n",
    "  friend:\n",
    "    type: string\n",
    "    title: \"Who is Pluto's friend?\"\n",
    "required: [name, picture, friend]\n",
    "...\n",
    "\"\"\""
   ]
  },
  {
   "cell_type": "code",
   "execution_count": null,
   "id": "27809f12",
   "metadata": {},
   "outputs": [],
   "source": [
    "f = open('pluto-friend-1.0.0.yaml', mode='w')\n",
    "f.write(s)\n",
    "f.close()"
   ]
  },
  {
   "cell_type": "code",
   "execution_count": null,
   "id": "49afe391",
   "metadata": {},
   "outputs": [],
   "source": [
    "afs = asdf.open('pluto.asdf', custom_schema='./pluto-friend-1.0.0.yaml')"
   ]
  },
  {
   "cell_type": "code",
   "execution_count": null,
   "id": "480ae632",
   "metadata": {},
   "outputs": [],
   "source": [
    "asf = asdf.open('pluto.asdf', mode='rw')\n",
    "asf['friend'] = 'Mickey'\n",
    "#asf.update()\n",
    "asf.write_to('pluto-friend.asdf')"
   ]
  },
  {
   "cell_type": "code",
   "execution_count": null,
   "id": "d4ee3d87",
   "metadata": {},
   "outputs": [],
   "source": [
    "asf = asdf.open('pluto-friend.asdf', custom_schema='./pluto-friend-1.0.0.yaml')"
   ]
  },
  {
   "cell_type": "code",
   "execution_count": null,
   "id": "19726d02",
   "metadata": {},
   "outputs": [],
   "source": []
  }
 ],
 "metadata": {
  "kernelspec": {
   "display_name": "Python 3 (ipykernel)",
   "language": "python",
   "name": "python3"
  },
  "language_info": {
   "codemirror_mode": {
    "name": "ipython",
    "version": 3
   },
   "file_extension": ".py",
   "mimetype": "text/x-python",
   "name": "python",
   "nbconvert_exporter": "python",
   "pygments_lexer": "ipython3",
   "version": "3.9.12"
  }
 },
 "nbformat": 4,
 "nbformat_minor": 5
}
