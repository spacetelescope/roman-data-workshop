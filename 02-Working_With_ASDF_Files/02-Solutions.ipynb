{
 "cells": [
  {
   "cell_type": "markdown",
   "id": "14199d87",
   "metadata": {},
   "source": [
    "### Solutions for 02-Working_with_ASDF_Files"
   ]
  },
  {
   "cell_type": "markdown",
   "id": "b6eb18c8",
   "metadata": {},
   "source": [
    "**Exercise 1:**"
   ]
  },
  {
   "cell_type": "code",
   "execution_count": 1,
   "id": "451830c9",
   "metadata": {},
   "outputs": [],
   "source": [
    "import asdf"
   ]
  },
  {
   "cell_type": "markdown",
   "id": "d78dde36",
   "metadata": {},
   "source": [
    "**Read the file and use the `info` method to look at the contents**.\n",
    "\n",
    "`info` has arguments which control the behavior. Use the defaults to look at the contents of the file."
   ]
  },
  {
   "cell_type": "code",
   "execution_count": 2,
   "id": "6b67338a",
   "metadata": {
    "tags": [
     "raises-exception"
    ]
   },
   "outputs": [
    {
     "ename": "FileNotFoundError",
     "evalue": "[Errno 2] No such file or directory: '../data/r0000101001001001001_01101_0001_WFI01_cal.asdf'",
     "output_type": "error",
     "traceback": [
      "\u001b[0;31m---------------------------------------------------------------------------\u001b[0m",
      "\u001b[0;31mFileNotFoundError\u001b[0m                         Traceback (most recent call last)",
      "Input \u001b[0;32mIn [2]\u001b[0m, in \u001b[0;36m<cell line: 1>\u001b[0;34m()\u001b[0m\n\u001b[0;32m----> 1\u001b[0m af \u001b[38;5;241m=\u001b[39m \u001b[43masdf\u001b[49m\u001b[38;5;241;43m.\u001b[39;49m\u001b[43mopen\u001b[49m\u001b[43m(\u001b[49m\u001b[38;5;124;43m'\u001b[39;49m\u001b[38;5;124;43m../data/r0000101001001001001_01101_0001_WFI01_cal.asdf\u001b[39;49m\u001b[38;5;124;43m'\u001b[39;49m\u001b[43m)\u001b[49m\n",
      "File \u001b[0;32m~/.pyenv/versions/anaconda3-2021.11/envs/roman-data-workshop-env/lib/python3.10/site-packages/asdf/asdf.py:1769\u001b[0m, in \u001b[0;36mopen_asdf\u001b[0;34m(fd, uri, mode, validate_checksums, extensions, ignore_version_mismatch, ignore_unrecognized_tag, _force_raw_types, copy_arrays, lazy_load, custom_schema, strict_extension_check, ignore_missing_extensions, _compat, **kwargs)\u001b[0m\n\u001b[1;32m   1758\u001b[0m     readonly \u001b[38;5;241m=\u001b[39m mode \u001b[38;5;241m==\u001b[39m \u001b[38;5;124m\"\u001b[39m\u001b[38;5;124mr\u001b[39m\u001b[38;5;124m\"\u001b[39m \u001b[38;5;129;01mand\u001b[39;00m \u001b[38;5;129;01mnot\u001b[39;00m copy_arrays\n\u001b[1;32m   1760\u001b[0m instance \u001b[38;5;241m=\u001b[39m AsdfFile(\n\u001b[1;32m   1761\u001b[0m     ignore_version_mismatch\u001b[38;5;241m=\u001b[39mignore_version_mismatch,\n\u001b[1;32m   1762\u001b[0m     ignore_unrecognized_tag\u001b[38;5;241m=\u001b[39mignore_unrecognized_tag,\n\u001b[0;32m   (...)\u001b[0m\n\u001b[1;32m   1766\u001b[0m     _readonly\u001b[38;5;241m=\u001b[39mreadonly,\n\u001b[1;32m   1767\u001b[0m )\n\u001b[0;32m-> 1769\u001b[0m \u001b[38;5;28;01mreturn\u001b[39;00m \u001b[43mAsdfFile\u001b[49m\u001b[38;5;241;43m.\u001b[39;49m\u001b[43m_open_impl\u001b[49m\u001b[43m(\u001b[49m\n\u001b[1;32m   1770\u001b[0m \u001b[43m    \u001b[49m\u001b[43minstance\u001b[49m\u001b[43m,\u001b[49m\n\u001b[1;32m   1771\u001b[0m \u001b[43m    \u001b[49m\u001b[43mfd\u001b[49m\u001b[43m,\u001b[49m\n\u001b[1;32m   1772\u001b[0m \u001b[43m    \u001b[49m\u001b[43muri\u001b[49m\u001b[38;5;241;43m=\u001b[39;49m\u001b[43muri\u001b[49m\u001b[43m,\u001b[49m\n\u001b[1;32m   1773\u001b[0m \u001b[43m    \u001b[49m\u001b[43mmode\u001b[49m\u001b[38;5;241;43m=\u001b[39;49m\u001b[43mmode\u001b[49m\u001b[43m,\u001b[49m\n\u001b[1;32m   1774\u001b[0m \u001b[43m    \u001b[49m\u001b[43mvalidate_checksums\u001b[49m\u001b[38;5;241;43m=\u001b[39;49m\u001b[43mvalidate_checksums\u001b[49m\u001b[43m,\u001b[49m\n\u001b[1;32m   1775\u001b[0m \u001b[43m    \u001b[49m\u001b[43mextensions\u001b[49m\u001b[38;5;241;43m=\u001b[39;49m\u001b[43mextensions\u001b[49m\u001b[43m,\u001b[49m\n\u001b[1;32m   1776\u001b[0m \u001b[43m    \u001b[49m\u001b[43m_force_raw_types\u001b[49m\u001b[38;5;241;43m=\u001b[39;49m\u001b[43m_force_raw_types\u001b[49m\u001b[43m,\u001b[49m\n\u001b[1;32m   1777\u001b[0m \u001b[43m    \u001b[49m\u001b[43mstrict_extension_check\u001b[49m\u001b[38;5;241;43m=\u001b[39;49m\u001b[43mstrict_extension_check\u001b[49m\u001b[43m,\u001b[49m\n\u001b[1;32m   1778\u001b[0m \u001b[43m    \u001b[49m\u001b[43mignore_missing_extensions\u001b[49m\u001b[38;5;241;43m=\u001b[39;49m\u001b[43mignore_missing_extensions\u001b[49m\u001b[43m,\u001b[49m\n\u001b[1;32m   1779\u001b[0m \u001b[43m    \u001b[49m\u001b[38;5;241;43m*\u001b[39;49m\u001b[38;5;241;43m*\u001b[39;49m\u001b[43mkwargs\u001b[49m\u001b[43m,\u001b[49m\n\u001b[1;32m   1780\u001b[0m \u001b[43m\u001b[49m\u001b[43m)\u001b[49m\n",
      "File \u001b[0;32m~/.pyenv/versions/anaconda3-2021.11/envs/roman-data-workshop-env/lib/python3.10/site-packages/asdf/asdf.py:910\u001b[0m, in \u001b[0;36mAsdfFile._open_impl\u001b[0;34m(cls, self, fd, uri, mode, validate_checksums, extensions, _get_yaml_content, _force_raw_types, strict_extension_check, ignore_missing_extensions, **kwargs)\u001b[0m\n\u001b[1;32m    894\u001b[0m \u001b[38;5;129m@classmethod\u001b[39m\n\u001b[1;32m    895\u001b[0m \u001b[38;5;28;01mdef\u001b[39;00m \u001b[38;5;21m_open_impl\u001b[39m(\n\u001b[1;32m    896\u001b[0m     \u001b[38;5;28mcls\u001b[39m,\n\u001b[0;32m   (...)\u001b[0m\n\u001b[1;32m    907\u001b[0m     \u001b[38;5;241m*\u001b[39m\u001b[38;5;241m*\u001b[39mkwargs,\n\u001b[1;32m    908\u001b[0m ):\n\u001b[1;32m    909\u001b[0m     \u001b[38;5;124;03m\"\"\"Attempt to open file-like object as either AsdfFile or AsdfInFits\"\"\"\u001b[39;00m\n\u001b[0;32m--> 910\u001b[0m     generic_file \u001b[38;5;241m=\u001b[39m \u001b[43mgeneric_io\u001b[49m\u001b[38;5;241;43m.\u001b[39;49m\u001b[43mget_file\u001b[49m\u001b[43m(\u001b[49m\u001b[43mfd\u001b[49m\u001b[43m,\u001b[49m\u001b[43m \u001b[49m\u001b[43mmode\u001b[49m\u001b[38;5;241;43m=\u001b[39;49m\u001b[43mmode\u001b[49m\u001b[43m,\u001b[49m\u001b[43m \u001b[49m\u001b[43muri\u001b[49m\u001b[38;5;241;43m=\u001b[39;49m\u001b[43muri\u001b[49m\u001b[43m)\u001b[49m\n\u001b[1;32m    911\u001b[0m     file_type \u001b[38;5;241m=\u001b[39m util\u001b[38;5;241m.\u001b[39mget_file_type(generic_file)\n\u001b[1;32m    913\u001b[0m     \u001b[38;5;28;01mif\u001b[39;00m file_type \u001b[38;5;241m==\u001b[39m util\u001b[38;5;241m.\u001b[39mFileType\u001b[38;5;241m.\u001b[39mFITS:\n",
      "File \u001b[0;32m~/.pyenv/versions/anaconda3-2021.11/envs/roman-data-workshop-env/lib/python3.10/site-packages/asdf/generic_io.py:1022\u001b[0m, in \u001b[0;36mget_file\u001b[0;34m(init, mode, uri, close)\u001b[0m\n\u001b[1;32m   1020\u001b[0m     fd \u001b[38;5;241m=\u001b[39m atomicfile\u001b[38;5;241m.\u001b[39matomic_open(realpath, realmode)\n\u001b[1;32m   1021\u001b[0m \u001b[38;5;28;01melse\u001b[39;00m:\n\u001b[0;32m-> 1022\u001b[0m     fd \u001b[38;5;241m=\u001b[39m \u001b[38;5;28;43mopen\u001b[39;49m\u001b[43m(\u001b[49m\u001b[43mrealpath\u001b[49m\u001b[43m,\u001b[49m\u001b[43m \u001b[49m\u001b[43mrealmode\u001b[49m\u001b[43m)\u001b[49m\n\u001b[1;32m   1023\u001b[0m fd \u001b[38;5;241m=\u001b[39m fd\u001b[38;5;241m.\u001b[39m\u001b[38;5;21m__enter__\u001b[39m()\n\u001b[1;32m   1024\u001b[0m \u001b[38;5;28;01mreturn\u001b[39;00m RealFile(fd, mode, close\u001b[38;5;241m=\u001b[39m\u001b[38;5;28;01mTrue\u001b[39;00m, uri\u001b[38;5;241m=\u001b[39muri)\n",
      "\u001b[0;31mFileNotFoundError\u001b[0m: [Errno 2] No such file or directory: '../data/r0000101001001001001_01101_0001_WFI01_cal.asdf'"
     ]
    }
   ],
   "source": [
    "af = asdf.open('../data/r0000101001001001001_01101_0001_WFI01_cal.asdf')"
   ]
  },
  {
   "cell_type": "code",
   "execution_count": 3,
   "id": "8819736d",
   "metadata": {
    "tags": [
     "raises-exception"
    ]
   },
   "outputs": [
    {
     "ename": "NameError",
     "evalue": "name 'af' is not defined",
     "output_type": "error",
     "traceback": [
      "\u001b[0;31m---------------------------------------------------------------------------\u001b[0m",
      "\u001b[0;31mNameError\u001b[0m                                 Traceback (most recent call last)",
      "Input \u001b[0;32mIn [3]\u001b[0m, in \u001b[0;36m<cell line: 1>\u001b[0;34m()\u001b[0m\n\u001b[0;32m----> 1\u001b[0m \u001b[43maf\u001b[49m\u001b[38;5;241m.\u001b[39minfo(max_rows\u001b[38;5;241m=\u001b[39m\u001b[38;5;241m200\u001b[39m)\n",
      "\u001b[0;31mNameError\u001b[0m: name 'af' is not defined"
     ]
    }
   ],
   "source": [
    "af.info(max_rows=200)"
   ]
  },
  {
   "cell_type": "code",
   "execution_count": 4,
   "id": "38617281",
   "metadata": {
    "tags": [
     "raises-exception"
    ]
   },
   "outputs": [
    {
     "ename": "NameError",
     "evalue": "name 'af' is not defined",
     "output_type": "error",
     "traceback": [
      "\u001b[0;31m---------------------------------------------------------------------------\u001b[0m",
      "\u001b[0;31mNameError\u001b[0m                                 Traceback (most recent call last)",
      "Input \u001b[0;32mIn [4]\u001b[0m, in \u001b[0;36m<cell line: 1>\u001b[0;34m()\u001b[0m\n\u001b[0;32m----> 1\u001b[0m \u001b[43maf\u001b[49m\u001b[38;5;241m.\u001b[39msearch(\u001b[38;5;124m'\u001b[39m\u001b[38;5;124mwcs\u001b[39m\u001b[38;5;124m'\u001b[39m)\n",
      "\u001b[0;31mNameError\u001b[0m: name 'af' is not defined"
     ]
    }
   ],
   "source": [
    "af.search('wcs')"
   ]
  },
  {
   "cell_type": "code",
   "execution_count": 5,
   "id": "87336258",
   "metadata": {
    "tags": [
     "raises-exception"
    ]
   },
   "outputs": [
    {
     "ename": "NameError",
     "evalue": "name 'af' is not defined",
     "output_type": "error",
     "traceback": [
      "\u001b[0;31m---------------------------------------------------------------------------\u001b[0m",
      "\u001b[0;31mNameError\u001b[0m                                 Traceback (most recent call last)",
      "Input \u001b[0;32mIn [5]\u001b[0m, in \u001b[0;36m<cell line: 1>\u001b[0;34m()\u001b[0m\n\u001b[0;32m----> 1\u001b[0m w \u001b[38;5;241m=\u001b[39m \u001b[43maf\u001b[49m[\u001b[38;5;124m'\u001b[39m\u001b[38;5;124mroman\u001b[39m\u001b[38;5;124m'\u001b[39m][\u001b[38;5;124m'\u001b[39m\u001b[38;5;124mmeta\u001b[39m\u001b[38;5;124m'\u001b[39m][\u001b[38;5;124m'\u001b[39m\u001b[38;5;124mwcs\u001b[39m\u001b[38;5;124m'\u001b[39m]\n\u001b[1;32m      2\u001b[0m \u001b[38;5;28mprint\u001b[39m(w)\n",
      "\u001b[0;31mNameError\u001b[0m: name 'af' is not defined"
     ]
    }
   ],
   "source": [
    "w = af['roman']['meta']['wcs']\n",
    "print(w)"
   ]
  },
  {
   "cell_type": "code",
   "execution_count": 6,
   "id": "b3d27a41",
   "metadata": {
    "tags": [
     "raises-exception"
    ]
   },
   "outputs": [
    {
     "ename": "NameError",
     "evalue": "name 'w' is not defined",
     "output_type": "error",
     "traceback": [
      "\u001b[0;31m---------------------------------------------------------------------------\u001b[0m",
      "\u001b[0;31mNameError\u001b[0m                                 Traceback (most recent call last)",
      "Input \u001b[0;32mIn [6]\u001b[0m, in \u001b[0;36m<cell line: 1>\u001b[0;34m()\u001b[0m\n\u001b[0;32m----> 1\u001b[0m ra, dec \u001b[38;5;241m=\u001b[39m \u001b[43mw\u001b[49m(\u001b[38;5;241m200\u001b[39m, \u001b[38;5;241m300\u001b[39m)\n\u001b[1;32m      2\u001b[0m \u001b[38;5;28mprint\u001b[39m(ra, dec)\n",
      "\u001b[0;31mNameError\u001b[0m: name 'w' is not defined"
     ]
    }
   ],
   "source": [
    "ra, dec = w(200, 300)\n",
    "print(ra, dec)"
   ]
  },
  {
   "cell_type": "code",
   "execution_count": 7,
   "id": "4f8f28e1",
   "metadata": {
    "tags": [
     "raises-exception"
    ]
   },
   "outputs": [
    {
     "ename": "NameError",
     "evalue": "name 'w' is not defined",
     "output_type": "error",
     "traceback": [
      "\u001b[0;31m---------------------------------------------------------------------------\u001b[0m",
      "\u001b[0;31mNameError\u001b[0m                                 Traceback (most recent call last)",
      "Input \u001b[0;32mIn [7]\u001b[0m, in \u001b[0;36m<cell line: 1>\u001b[0;34m()\u001b[0m\n\u001b[0;32m----> 1\u001b[0m sky \u001b[38;5;241m=\u001b[39m \u001b[43mw\u001b[49m\u001b[38;5;241m.\u001b[39mpixel_to_world(\u001b[38;5;241m200\u001b[39m, \u001b[38;5;241m300\u001b[39m)\n\u001b[1;32m      2\u001b[0m \u001b[38;5;28mprint\u001b[39m(sky)\n",
      "\u001b[0;31mNameError\u001b[0m: name 'w' is not defined"
     ]
    }
   ],
   "source": [
    "sky = w.pixel_to_world(200, 300)\n",
    "print(sky)"
   ]
  },
  {
   "cell_type": "code",
   "execution_count": 8,
   "id": "0a95dda0",
   "metadata": {
    "tags": [
     "raises-exception"
    ]
   },
   "outputs": [
    {
     "ename": "NameError",
     "evalue": "name 'af' is not defined",
     "output_type": "error",
     "traceback": [
      "\u001b[0;31m---------------------------------------------------------------------------\u001b[0m",
      "\u001b[0;31mNameError\u001b[0m                                 Traceback (most recent call last)",
      "Input \u001b[0;32mIn [8]\u001b[0m, in \u001b[0;36m<cell line: 1>\u001b[0;34m()\u001b[0m\n\u001b[0;32m----> 1\u001b[0m \u001b[43maf\u001b[49m[\u001b[38;5;124m'\u001b[39m\u001b[38;5;124mroman\u001b[39m\u001b[38;5;124m'\u001b[39m][\u001b[38;5;124m'\u001b[39m\u001b[38;5;124mdata\u001b[39m\u001b[38;5;124m'\u001b[39m]\n",
      "\u001b[0;31mNameError\u001b[0m: name 'af' is not defined"
     ]
    }
   ],
   "source": [
    "af['roman']['data']"
   ]
  },
  {
   "cell_type": "code",
   "execution_count": 9,
   "id": "4ed7ccc8",
   "metadata": {},
   "outputs": [],
   "source": [
    "#af['roman']['data'][0, 0] = 999"
   ]
  },
  {
   "cell_type": "markdown",
   "id": "43b0131f",
   "metadata": {},
   "source": [
    "**Exercise 2:**\n",
    "\n",
    "Add `additionalProperties=false` to the schema and open the file"
   ]
  },
  {
   "cell_type": "code",
   "execution_count": 10,
   "id": "7283577e",
   "metadata": {},
   "outputs": [],
   "source": [
    "s = \"\"\"\n",
    "%YAML 1.1\n",
    "---\n",
    "$schema: http://stsci.edu/schemas/yaml-schema/draft-01\n",
    "\n",
    "title: Mickey's pet\n",
    "description: |\n",
    "  Basic info and a picture of Mickie's \n",
    "  dog Pluto.\n",
    "\n",
    "type: object\n",
    "properties:\n",
    "  age:\n",
    "    title: The age of Pluto\n",
    "    type: object\n",
    "    properties:\n",
    "      birthday:\n",
    "        title: Pluto's first showing\n",
    "        tag: tag:stsci.edu:asdf/time/time-1.1.0\n",
    "  mass:\n",
    "    title: How much he weighs.\n",
    "    tag: tag:stsci.edu:asdf/unit/quantity-1.1.0\n",
    "  picture:\n",
    "    tag: tag:stsci.edu:asdf/core/ndarray-1.0.0\n",
    "  name:\n",
    "    title: Name\n",
    "    type: string\n",
    "required: [name, picture]\n",
    "additionalProperties: false\n",
    "...\n",
    "\"\"\""
   ]
  },
  {
   "cell_type": "code",
   "execution_count": 11,
   "id": "49cc45f0",
   "metadata": {},
   "outputs": [],
   "source": [
    "f = open('add-prop-1.0.0.yaml', mode='w')\n",
    "f.write(s)\n",
    "f.close()"
   ]
  },
  {
   "cell_type": "code",
   "execution_count": 12,
   "id": "075f4ff7",
   "metadata": {
    "tags": [
     "raises-exception"
    ]
   },
   "outputs": [
    {
     "ename": "ValidationError",
     "evalue": "Additional properties are not allowed ('asdf_library', 'birthday', 'history' were unexpected)\n\nFailed validating 'additionalProperties' in schema:\n    {'$schema': 'http://stsci.edu/schemas/yaml-schema/draft-01',\n     'additionalProperties': False,\n     'description': \"Basic info and a picture of Mickie's \\ndog Pluto.\\n\",\n     'properties': {'age': {'properties': {'birthday': {'tag': 'tag:stsci.edu:asdf/time/time-1.1.0',\n                                                        'title': \"Pluto's \"\n                                                                 'first '\n                                                                 'showing'}},\n                            'title': 'The age of Pluto',\n                            'type': 'object'},\n                    'mass': {'tag': 'tag:stsci.edu:asdf/unit/quantity-1.1.0',\n                             'title': 'How much he weighs.'},\n                    'name': {'title': 'Name', 'type': 'string'},\n                    'picture': {'tag': 'tag:stsci.edu:asdf/core/ndarray-1.0.0'}},\n     'required': ['name', 'picture'],\n     'title': \"Mickey's pet\",\n     'type': 'object'}\n\nOn instance:\n    {'asdf_library': {'author': 'The ASDF Developers',\n                      'homepage': 'http://github.com/asdf-format/asdf',\n                      'name': 'asdf',\n                      'version': '2.12.0'},\n     'birthday': datetime.date(1930, 8, 17),\n     'history': {'extensions': [{'extension_class': 'asdf.extension.BuiltinExtension',\n                                 'software': {'name': 'asdf',\n                                              'version': '2.12.0'}},\n                                {'extension_class': 'asdf.extension._manifest.ManifestExtension',\n                                 'extension_uri': 'asdf://asdf-format.org/core/extensions/core-1.5.0',\n                                 'software': {'name': 'asdf-astropy',\n                                              'version': '0.2.1'}}]},\n     'mass': {'unit': 'kg', 'value': 10.0},\n     'name': 'Pluto',\n     'picture': {'byteorder': 'little',\n                 'datatype': 'float32',\n                 'shape': [333, 151, 4],\n                 'source': 0}}",
     "output_type": "error",
     "traceback": [
      "\u001b[0;31m---------------------------------------------------------------------------\u001b[0m",
      "\u001b[0;31mValidationError\u001b[0m                           Traceback (most recent call last)",
      "Input \u001b[0;32mIn [12]\u001b[0m, in \u001b[0;36m<cell line: 1>\u001b[0;34m()\u001b[0m\n\u001b[0;32m----> 1\u001b[0m afs \u001b[38;5;241m=\u001b[39m \u001b[43masdf\u001b[49m\u001b[38;5;241;43m.\u001b[39;49m\u001b[43mopen\u001b[49m\u001b[43m(\u001b[49m\u001b[38;5;124;43m'\u001b[39;49m\u001b[38;5;124;43mpluto.asdf\u001b[39;49m\u001b[38;5;124;43m'\u001b[39;49m\u001b[43m,\u001b[49m\u001b[43m \u001b[49m\u001b[43mcustom_schema\u001b[49m\u001b[38;5;241;43m=\u001b[39;49m\u001b[38;5;124;43m'\u001b[39;49m\u001b[38;5;124;43m./add-prop-1.0.0.yaml\u001b[39;49m\u001b[38;5;124;43m'\u001b[39;49m\u001b[43m)\u001b[49m\n",
      "File \u001b[0;32m~/.pyenv/versions/anaconda3-2021.11/envs/roman-data-workshop-env/lib/python3.10/site-packages/asdf/asdf.py:1769\u001b[0m, in \u001b[0;36mopen_asdf\u001b[0;34m(fd, uri, mode, validate_checksums, extensions, ignore_version_mismatch, ignore_unrecognized_tag, _force_raw_types, copy_arrays, lazy_load, custom_schema, strict_extension_check, ignore_missing_extensions, _compat, **kwargs)\u001b[0m\n\u001b[1;32m   1758\u001b[0m     readonly \u001b[38;5;241m=\u001b[39m mode \u001b[38;5;241m==\u001b[39m \u001b[38;5;124m\"\u001b[39m\u001b[38;5;124mr\u001b[39m\u001b[38;5;124m\"\u001b[39m \u001b[38;5;129;01mand\u001b[39;00m \u001b[38;5;129;01mnot\u001b[39;00m copy_arrays\n\u001b[1;32m   1760\u001b[0m instance \u001b[38;5;241m=\u001b[39m AsdfFile(\n\u001b[1;32m   1761\u001b[0m     ignore_version_mismatch\u001b[38;5;241m=\u001b[39mignore_version_mismatch,\n\u001b[1;32m   1762\u001b[0m     ignore_unrecognized_tag\u001b[38;5;241m=\u001b[39mignore_unrecognized_tag,\n\u001b[0;32m   (...)\u001b[0m\n\u001b[1;32m   1766\u001b[0m     _readonly\u001b[38;5;241m=\u001b[39mreadonly,\n\u001b[1;32m   1767\u001b[0m )\n\u001b[0;32m-> 1769\u001b[0m \u001b[38;5;28;01mreturn\u001b[39;00m \u001b[43mAsdfFile\u001b[49m\u001b[38;5;241;43m.\u001b[39;49m\u001b[43m_open_impl\u001b[49m\u001b[43m(\u001b[49m\n\u001b[1;32m   1770\u001b[0m \u001b[43m    \u001b[49m\u001b[43minstance\u001b[49m\u001b[43m,\u001b[49m\n\u001b[1;32m   1771\u001b[0m \u001b[43m    \u001b[49m\u001b[43mfd\u001b[49m\u001b[43m,\u001b[49m\n\u001b[1;32m   1772\u001b[0m \u001b[43m    \u001b[49m\u001b[43muri\u001b[49m\u001b[38;5;241;43m=\u001b[39;49m\u001b[43muri\u001b[49m\u001b[43m,\u001b[49m\n\u001b[1;32m   1773\u001b[0m \u001b[43m    \u001b[49m\u001b[43mmode\u001b[49m\u001b[38;5;241;43m=\u001b[39;49m\u001b[43mmode\u001b[49m\u001b[43m,\u001b[49m\n\u001b[1;32m   1774\u001b[0m \u001b[43m    \u001b[49m\u001b[43mvalidate_checksums\u001b[49m\u001b[38;5;241;43m=\u001b[39;49m\u001b[43mvalidate_checksums\u001b[49m\u001b[43m,\u001b[49m\n\u001b[1;32m   1775\u001b[0m \u001b[43m    \u001b[49m\u001b[43mextensions\u001b[49m\u001b[38;5;241;43m=\u001b[39;49m\u001b[43mextensions\u001b[49m\u001b[43m,\u001b[49m\n\u001b[1;32m   1776\u001b[0m \u001b[43m    \u001b[49m\u001b[43m_force_raw_types\u001b[49m\u001b[38;5;241;43m=\u001b[39;49m\u001b[43m_force_raw_types\u001b[49m\u001b[43m,\u001b[49m\n\u001b[1;32m   1777\u001b[0m \u001b[43m    \u001b[49m\u001b[43mstrict_extension_check\u001b[49m\u001b[38;5;241;43m=\u001b[39;49m\u001b[43mstrict_extension_check\u001b[49m\u001b[43m,\u001b[49m\n\u001b[1;32m   1778\u001b[0m \u001b[43m    \u001b[49m\u001b[43mignore_missing_extensions\u001b[49m\u001b[38;5;241;43m=\u001b[39;49m\u001b[43mignore_missing_extensions\u001b[49m\u001b[43m,\u001b[49m\n\u001b[1;32m   1779\u001b[0m \u001b[43m    \u001b[49m\u001b[38;5;241;43m*\u001b[39;49m\u001b[38;5;241;43m*\u001b[39;49m\u001b[43mkwargs\u001b[49m\u001b[43m,\u001b[49m\n\u001b[1;32m   1780\u001b[0m \u001b[43m\u001b[49m\u001b[43m)\u001b[49m\n",
      "File \u001b[0;32m~/.pyenv/versions/anaconda3-2021.11/envs/roman-data-workshop-env/lib/python3.10/site-packages/asdf/asdf.py:942\u001b[0m, in \u001b[0;36mAsdfFile._open_impl\u001b[0;34m(cls, self, fd, uri, mode, validate_checksums, extensions, _get_yaml_content, _force_raw_types, strict_extension_check, ignore_missing_extensions, **kwargs)\u001b[0m\n\u001b[1;32m    936\u001b[0m         \u001b[38;5;28;01mraise\u001b[39;00m \u001b[38;5;167;01mValueError\u001b[39;00m(\n\u001b[1;32m    937\u001b[0m             \u001b[38;5;124m\"\u001b[39m\u001b[38;5;124mInput object does not appear to be an ASDF file. Cannot check \u001b[39m\u001b[38;5;124m\"\u001b[39m\n\u001b[1;32m    938\u001b[0m             \u001b[38;5;241m+\u001b[39m \u001b[38;5;124m\"\u001b[39m\u001b[38;5;124mif it is a FITS with ASDF extension because \u001b[39m\u001b[38;5;124m'\u001b[39m\u001b[38;5;124mastropy\u001b[39m\u001b[38;5;124m'\u001b[39m\u001b[38;5;124m is not \u001b[39m\u001b[38;5;124m\"\u001b[39m\n\u001b[1;32m    939\u001b[0m             \u001b[38;5;241m+\u001b[39m \u001b[38;5;124m\"\u001b[39m\u001b[38;5;124minstalled\u001b[39m\u001b[38;5;124m\"\u001b[39m\n\u001b[1;32m    940\u001b[0m         ) \u001b[38;5;28;01mfrom\u001b[39;00m \u001b[38;5;28mNone\u001b[39m\n\u001b[1;32m    941\u001b[0m \u001b[38;5;28;01melif\u001b[39;00m file_type \u001b[38;5;241m==\u001b[39m util\u001b[38;5;241m.\u001b[39mFileType\u001b[38;5;241m.\u001b[39mASDF:\n\u001b[0;32m--> 942\u001b[0m     \u001b[38;5;28;01mreturn\u001b[39;00m \u001b[38;5;28;43mcls\u001b[39;49m\u001b[38;5;241;43m.\u001b[39;49m\u001b[43m_open_asdf\u001b[49m\u001b[43m(\u001b[49m\n\u001b[1;32m    943\u001b[0m \u001b[43m        \u001b[49m\u001b[38;5;28;43mself\u001b[39;49m\u001b[43m,\u001b[49m\n\u001b[1;32m    944\u001b[0m \u001b[43m        \u001b[49m\u001b[43mgeneric_file\u001b[49m\u001b[43m,\u001b[49m\n\u001b[1;32m    945\u001b[0m \u001b[43m        \u001b[49m\u001b[43mvalidate_checksums\u001b[49m\u001b[38;5;241;43m=\u001b[39;49m\u001b[43mvalidate_checksums\u001b[49m\u001b[43m,\u001b[49m\n\u001b[1;32m    946\u001b[0m \u001b[43m        \u001b[49m\u001b[43mextensions\u001b[49m\u001b[38;5;241;43m=\u001b[39;49m\u001b[43mextensions\u001b[49m\u001b[43m,\u001b[49m\n\u001b[1;32m    947\u001b[0m \u001b[43m        \u001b[49m\u001b[43m_get_yaml_content\u001b[49m\u001b[38;5;241;43m=\u001b[39;49m\u001b[43m_get_yaml_content\u001b[49m\u001b[43m,\u001b[49m\n\u001b[1;32m    948\u001b[0m \u001b[43m        \u001b[49m\u001b[43m_force_raw_types\u001b[49m\u001b[38;5;241;43m=\u001b[39;49m\u001b[43m_force_raw_types\u001b[49m\u001b[43m,\u001b[49m\n\u001b[1;32m    949\u001b[0m \u001b[43m        \u001b[49m\u001b[43mstrict_extension_check\u001b[49m\u001b[38;5;241;43m=\u001b[39;49m\u001b[43mstrict_extension_check\u001b[49m\u001b[43m,\u001b[49m\n\u001b[1;32m    950\u001b[0m \u001b[43m        \u001b[49m\u001b[43mignore_missing_extensions\u001b[49m\u001b[38;5;241;43m=\u001b[39;49m\u001b[43mignore_missing_extensions\u001b[49m\u001b[43m,\u001b[49m\n\u001b[1;32m    951\u001b[0m \u001b[43m        \u001b[49m\u001b[38;5;241;43m*\u001b[39;49m\u001b[38;5;241;43m*\u001b[39;49m\u001b[43mkwargs\u001b[49m\u001b[43m,\u001b[49m\n\u001b[1;32m    952\u001b[0m \u001b[43m    \u001b[49m\u001b[43m)\u001b[49m\n\u001b[1;32m    953\u001b[0m \u001b[38;5;28;01melse\u001b[39;00m:\n\u001b[1;32m    954\u001b[0m     \u001b[38;5;28;01mraise\u001b[39;00m \u001b[38;5;167;01mValueError\u001b[39;00m(\u001b[38;5;124m\"\u001b[39m\u001b[38;5;124mInput object does not appear to be an ASDF file or a FITS with \u001b[39m\u001b[38;5;124m\"\u001b[39m \u001b[38;5;241m+\u001b[39m \u001b[38;5;124m\"\u001b[39m\u001b[38;5;124mASDF extension\u001b[39m\u001b[38;5;124m\"\u001b[39m)\n",
      "File \u001b[0;32m~/.pyenv/versions/anaconda3-2021.11/envs/roman-data-workshop-env/lib/python3.10/site-packages/asdf/asdf.py:879\u001b[0m, in \u001b[0;36mAsdfFile._open_asdf\u001b[0;34m(cls, self, fd, validate_checksums, extensions, _get_yaml_content, _force_raw_types, strict_extension_check, ignore_missing_extensions, **kwargs)\u001b[0m\n\u001b[1;32m    877\u001b[0m \u001b[38;5;28;01mif\u001b[39;00m get_config()\u001b[38;5;241m.\u001b[39mvalidate_on_read:\n\u001b[1;32m    878\u001b[0m     \u001b[38;5;28;01mtry\u001b[39;00m:\n\u001b[0;32m--> 879\u001b[0m         \u001b[38;5;28;43mself\u001b[39;49m\u001b[38;5;241;43m.\u001b[39;49m\u001b[43m_validate\u001b[49m\u001b[43m(\u001b[49m\u001b[43mtree\u001b[49m\u001b[43m,\u001b[49m\u001b[43m \u001b[49m\u001b[43mreading\u001b[49m\u001b[38;5;241;43m=\u001b[39;49m\u001b[38;5;28;43;01mTrue\u001b[39;49;00m\u001b[43m)\u001b[49m\n\u001b[1;32m    880\u001b[0m     \u001b[38;5;28;01mexcept\u001b[39;00m ValidationError:\n\u001b[1;32m    881\u001b[0m         \u001b[38;5;28mself\u001b[39m\u001b[38;5;241m.\u001b[39mclose()\n",
      "File \u001b[0;32m~/.pyenv/versions/anaconda3-2021.11/envs/roman-data-workshop-env/lib/python3.10/site-packages/asdf/asdf.py:622\u001b[0m, in \u001b[0;36mAsdfFile._validate\u001b[0;34m(self, tree, custom, reading)\u001b[0m\n\u001b[1;32m    620\u001b[0m \u001b[38;5;66;03m# Perform secondary validation pass if requested\u001b[39;00m\n\u001b[1;32m    621\u001b[0m \u001b[38;5;28;01mif\u001b[39;00m custom \u001b[38;5;129;01mand\u001b[39;00m \u001b[38;5;28mself\u001b[39m\u001b[38;5;241m.\u001b[39m_custom_schema:\n\u001b[0;32m--> 622\u001b[0m     \u001b[43mschema\u001b[49m\u001b[38;5;241;43m.\u001b[39;49m\u001b[43mvalidate\u001b[49m\u001b[43m(\u001b[49m\u001b[43mtagged_tree\u001b[49m\u001b[43m,\u001b[49m\u001b[43m \u001b[49m\u001b[38;5;28;43mself\u001b[39;49m\u001b[43m,\u001b[49m\u001b[43m \u001b[49m\u001b[38;5;28;43mself\u001b[39;49m\u001b[38;5;241;43m.\u001b[39;49m\u001b[43m_custom_schema\u001b[49m\u001b[43m,\u001b[49m\u001b[43m \u001b[49m\u001b[43mreading\u001b[49m\u001b[38;5;241;43m=\u001b[39;49m\u001b[43mreading\u001b[49m\u001b[43m)\u001b[49m\n",
      "File \u001b[0;32m~/.pyenv/versions/anaconda3-2021.11/envs/roman-data-workshop-env/lib/python3.10/site-packages/asdf/schema.py:662\u001b[0m, in \u001b[0;36mvalidate\u001b[0;34m(instance, ctx, schema, validators, reading, *args, **kwargs)\u001b[0m\n\u001b[1;32m    659\u001b[0m     ctx \u001b[38;5;241m=\u001b[39m AsdfFile()\n\u001b[1;32m    661\u001b[0m validator \u001b[38;5;241m=\u001b[39m get_validator(schema, ctx, validators, ctx\u001b[38;5;241m.\u001b[39mresolver, \u001b[38;5;241m*\u001b[39margs, \u001b[38;5;241m*\u001b[39m\u001b[38;5;241m*\u001b[39mkwargs)\n\u001b[0;32m--> 662\u001b[0m \u001b[43mvalidator\u001b[49m\u001b[38;5;241;43m.\u001b[39;49m\u001b[43mvalidate\u001b[49m\u001b[43m(\u001b[49m\u001b[43minstance\u001b[49m\u001b[43m)\u001b[49m\n\u001b[1;32m    664\u001b[0m additional_validators \u001b[38;5;241m=\u001b[39m [_validate_large_literals]\n\u001b[1;32m    665\u001b[0m \u001b[38;5;28;01mif\u001b[39;00m ctx\u001b[38;5;241m.\u001b[39mversion \u001b[38;5;241m>\u001b[39m\u001b[38;5;241m=\u001b[39m versioning\u001b[38;5;241m.\u001b[39mRESTRICTED_KEYS_MIN_VERSION:\n",
      "File \u001b[0;32m~/.pyenv/versions/anaconda3-2021.11/envs/roman-data-workshop-env/lib/python3.10/site-packages/jsonschema/validators.py:267\u001b[0m, in \u001b[0;36mcreate.<locals>.Validator.validate\u001b[0;34m(self, *args, **kwargs)\u001b[0m\n\u001b[1;32m    265\u001b[0m \u001b[38;5;28;01mdef\u001b[39;00m \u001b[38;5;21mvalidate\u001b[39m(\u001b[38;5;28mself\u001b[39m, \u001b[38;5;241m*\u001b[39margs, \u001b[38;5;241m*\u001b[39m\u001b[38;5;241m*\u001b[39mkwargs):\n\u001b[1;32m    266\u001b[0m     \u001b[38;5;28;01mfor\u001b[39;00m error \u001b[38;5;129;01min\u001b[39;00m \u001b[38;5;28mself\u001b[39m\u001b[38;5;241m.\u001b[39miter_errors(\u001b[38;5;241m*\u001b[39margs, \u001b[38;5;241m*\u001b[39m\u001b[38;5;241m*\u001b[39mkwargs):\n\u001b[0;32m--> 267\u001b[0m         \u001b[38;5;28;01mraise\u001b[39;00m error\n",
      "\u001b[0;31mValidationError\u001b[0m: Additional properties are not allowed ('asdf_library', 'birthday', 'history' were unexpected)\n\nFailed validating 'additionalProperties' in schema:\n    {'$schema': 'http://stsci.edu/schemas/yaml-schema/draft-01',\n     'additionalProperties': False,\n     'description': \"Basic info and a picture of Mickie's \\ndog Pluto.\\n\",\n     'properties': {'age': {'properties': {'birthday': {'tag': 'tag:stsci.edu:asdf/time/time-1.1.0',\n                                                        'title': \"Pluto's \"\n                                                                 'first '\n                                                                 'showing'}},\n                            'title': 'The age of Pluto',\n                            'type': 'object'},\n                    'mass': {'tag': 'tag:stsci.edu:asdf/unit/quantity-1.1.0',\n                             'title': 'How much he weighs.'},\n                    'name': {'title': 'Name', 'type': 'string'},\n                    'picture': {'tag': 'tag:stsci.edu:asdf/core/ndarray-1.0.0'}},\n     'required': ['name', 'picture'],\n     'title': \"Mickey's pet\",\n     'type': 'object'}\n\nOn instance:\n    {'asdf_library': {'author': 'The ASDF Developers',\n                      'homepage': 'http://github.com/asdf-format/asdf',\n                      'name': 'asdf',\n                      'version': '2.12.0'},\n     'birthday': datetime.date(1930, 8, 17),\n     'history': {'extensions': [{'extension_class': 'asdf.extension.BuiltinExtension',\n                                 'software': {'name': 'asdf',\n                                              'version': '2.12.0'}},\n                                {'extension_class': 'asdf.extension._manifest.ManifestExtension',\n                                 'extension_uri': 'asdf://asdf-format.org/core/extensions/core-1.5.0',\n                                 'software': {'name': 'asdf-astropy',\n                                              'version': '0.2.1'}}]},\n     'mass': {'unit': 'kg', 'value': 10.0},\n     'name': 'Pluto',\n     'picture': {'byteorder': 'little',\n                 'datatype': 'float32',\n                 'shape': [333, 151, 4],\n                 'source': 0}}"
     ]
    }
   ],
   "source": [
    "afs = asdf.open('pluto.asdf', custom_schema='./add-prop-1.0.0.yaml')"
   ]
  },
  {
   "cell_type": "markdown",
   "id": "0525f622",
   "metadata": {},
   "source": [
    "Take the original schema and add a new required property, called `friend`."
   ]
  },
  {
   "cell_type": "code",
   "execution_count": 13,
   "id": "9c394371",
   "metadata": {},
   "outputs": [],
   "source": [
    "s = \"\"\"\n",
    "%YAML 1.1\n",
    "---\n",
    "$schema: http://stsci.edu/schemas/yaml-schema/draft-01\n",
    "\n",
    "title: Mickey's pet\n",
    "description: |\n",
    "  Basic info and a picture of Mickie's \n",
    "  dog Pluto.\n",
    "\n",
    "type: object\n",
    "properties:\n",
    "  age:\n",
    "    title: The age of Pluto\n",
    "    type: object\n",
    "    properties:\n",
    "      birthday:\n",
    "        title: Pluto's first showing\n",
    "        tag: tag:stsci.edu:asdf/time/time-1.1.0\n",
    "  mass:\n",
    "    title: How much he weighs.\n",
    "    tag: tag:stsci.edu:asdf/unit/quantity-1.1.0\n",
    "  picture:\n",
    "    tag: tag:stsci.edu:asdf/core/ndarray-1.0.0\n",
    "  name:\n",
    "    title: Name\n",
    "    type: string\n",
    "  friend:\n",
    "    type: string\n",
    "    title: \"Who is Pluto's friend?\"\n",
    "required: [name, picture, friend]\n",
    "...\n",
    "\"\"\""
   ]
  },
  {
   "cell_type": "code",
   "execution_count": 14,
   "id": "27809f12",
   "metadata": {},
   "outputs": [],
   "source": [
    "f = open('pluto-friend-1.0.0.yaml', mode='w')\n",
    "f.write(s)\n",
    "f.close()"
   ]
  },
  {
   "cell_type": "code",
   "execution_count": 15,
   "id": "49afe391",
   "metadata": {
    "tags": [
     "raises-exception"
    ]
   },
   "outputs": [
    {
     "ename": "ValidationError",
     "evalue": "'friend' is a required property\n\nFailed validating 'required' in schema:\n    {'$schema': 'http://stsci.edu/schemas/yaml-schema/draft-01',\n     'description': \"Basic info and a picture of Mickie's \\ndog Pluto.\\n\",\n     'properties': {'age': {'properties': {'birthday': {'tag': 'tag:stsci.edu:asdf/time/time-1.1.0',\n                                                        'title': \"Pluto's \"\n                                                                 'first '\n                                                                 'showing'}},\n                            'title': 'The age of Pluto',\n                            'type': 'object'},\n                    'friend': {'title': \"Who is Pluto's friend?\",\n                               'type': 'string'},\n                    'mass': {'tag': 'tag:stsci.edu:asdf/unit/quantity-1.1.0',\n                             'title': 'How much he weighs.'},\n                    'name': {'title': 'Name', 'type': 'string'},\n                    'picture': {'tag': 'tag:stsci.edu:asdf/core/ndarray-1.0.0'}},\n     'required': ['name', 'picture', 'friend'],\n     'title': \"Mickey's pet\",\n     'type': 'object'}\n\nOn instance:\n    {'asdf_library': {'author': 'The ASDF Developers',\n                      'homepage': 'http://github.com/asdf-format/asdf',\n                      'name': 'asdf',\n                      'version': '2.12.0'},\n     'birthday': datetime.date(1930, 8, 17),\n     'history': {'extensions': [{'extension_class': 'asdf.extension.BuiltinExtension',\n                                 'software': {'name': 'asdf',\n                                              'version': '2.12.0'}},\n                                {'extension_class': 'asdf.extension._manifest.ManifestExtension',\n                                 'extension_uri': 'asdf://asdf-format.org/core/extensions/core-1.5.0',\n                                 'software': {'name': 'asdf-astropy',\n                                              'version': '0.2.1'}}]},\n     'mass': {'unit': 'kg', 'value': 10.0},\n     'name': 'Pluto',\n     'picture': {'byteorder': 'little',\n                 'datatype': 'float32',\n                 'shape': [333, 151, 4],\n                 'source': 0}}",
     "output_type": "error",
     "traceback": [
      "\u001b[0;31m---------------------------------------------------------------------------\u001b[0m",
      "\u001b[0;31mValidationError\u001b[0m                           Traceback (most recent call last)",
      "Input \u001b[0;32mIn [15]\u001b[0m, in \u001b[0;36m<cell line: 1>\u001b[0;34m()\u001b[0m\n\u001b[0;32m----> 1\u001b[0m afs \u001b[38;5;241m=\u001b[39m \u001b[43masdf\u001b[49m\u001b[38;5;241;43m.\u001b[39;49m\u001b[43mopen\u001b[49m\u001b[43m(\u001b[49m\u001b[38;5;124;43m'\u001b[39;49m\u001b[38;5;124;43mpluto.asdf\u001b[39;49m\u001b[38;5;124;43m'\u001b[39;49m\u001b[43m,\u001b[49m\u001b[43m \u001b[49m\u001b[43mcustom_schema\u001b[49m\u001b[38;5;241;43m=\u001b[39;49m\u001b[38;5;124;43m'\u001b[39;49m\u001b[38;5;124;43m./pluto-friend-1.0.0.yaml\u001b[39;49m\u001b[38;5;124;43m'\u001b[39;49m\u001b[43m)\u001b[49m\n",
      "File \u001b[0;32m~/.pyenv/versions/anaconda3-2021.11/envs/roman-data-workshop-env/lib/python3.10/site-packages/asdf/asdf.py:1769\u001b[0m, in \u001b[0;36mopen_asdf\u001b[0;34m(fd, uri, mode, validate_checksums, extensions, ignore_version_mismatch, ignore_unrecognized_tag, _force_raw_types, copy_arrays, lazy_load, custom_schema, strict_extension_check, ignore_missing_extensions, _compat, **kwargs)\u001b[0m\n\u001b[1;32m   1758\u001b[0m     readonly \u001b[38;5;241m=\u001b[39m mode \u001b[38;5;241m==\u001b[39m \u001b[38;5;124m\"\u001b[39m\u001b[38;5;124mr\u001b[39m\u001b[38;5;124m\"\u001b[39m \u001b[38;5;129;01mand\u001b[39;00m \u001b[38;5;129;01mnot\u001b[39;00m copy_arrays\n\u001b[1;32m   1760\u001b[0m instance \u001b[38;5;241m=\u001b[39m AsdfFile(\n\u001b[1;32m   1761\u001b[0m     ignore_version_mismatch\u001b[38;5;241m=\u001b[39mignore_version_mismatch,\n\u001b[1;32m   1762\u001b[0m     ignore_unrecognized_tag\u001b[38;5;241m=\u001b[39mignore_unrecognized_tag,\n\u001b[0;32m   (...)\u001b[0m\n\u001b[1;32m   1766\u001b[0m     _readonly\u001b[38;5;241m=\u001b[39mreadonly,\n\u001b[1;32m   1767\u001b[0m )\n\u001b[0;32m-> 1769\u001b[0m \u001b[38;5;28;01mreturn\u001b[39;00m \u001b[43mAsdfFile\u001b[49m\u001b[38;5;241;43m.\u001b[39;49m\u001b[43m_open_impl\u001b[49m\u001b[43m(\u001b[49m\n\u001b[1;32m   1770\u001b[0m \u001b[43m    \u001b[49m\u001b[43minstance\u001b[49m\u001b[43m,\u001b[49m\n\u001b[1;32m   1771\u001b[0m \u001b[43m    \u001b[49m\u001b[43mfd\u001b[49m\u001b[43m,\u001b[49m\n\u001b[1;32m   1772\u001b[0m \u001b[43m    \u001b[49m\u001b[43muri\u001b[49m\u001b[38;5;241;43m=\u001b[39;49m\u001b[43muri\u001b[49m\u001b[43m,\u001b[49m\n\u001b[1;32m   1773\u001b[0m \u001b[43m    \u001b[49m\u001b[43mmode\u001b[49m\u001b[38;5;241;43m=\u001b[39;49m\u001b[43mmode\u001b[49m\u001b[43m,\u001b[49m\n\u001b[1;32m   1774\u001b[0m \u001b[43m    \u001b[49m\u001b[43mvalidate_checksums\u001b[49m\u001b[38;5;241;43m=\u001b[39;49m\u001b[43mvalidate_checksums\u001b[49m\u001b[43m,\u001b[49m\n\u001b[1;32m   1775\u001b[0m \u001b[43m    \u001b[49m\u001b[43mextensions\u001b[49m\u001b[38;5;241;43m=\u001b[39;49m\u001b[43mextensions\u001b[49m\u001b[43m,\u001b[49m\n\u001b[1;32m   1776\u001b[0m \u001b[43m    \u001b[49m\u001b[43m_force_raw_types\u001b[49m\u001b[38;5;241;43m=\u001b[39;49m\u001b[43m_force_raw_types\u001b[49m\u001b[43m,\u001b[49m\n\u001b[1;32m   1777\u001b[0m \u001b[43m    \u001b[49m\u001b[43mstrict_extension_check\u001b[49m\u001b[38;5;241;43m=\u001b[39;49m\u001b[43mstrict_extension_check\u001b[49m\u001b[43m,\u001b[49m\n\u001b[1;32m   1778\u001b[0m \u001b[43m    \u001b[49m\u001b[43mignore_missing_extensions\u001b[49m\u001b[38;5;241;43m=\u001b[39;49m\u001b[43mignore_missing_extensions\u001b[49m\u001b[43m,\u001b[49m\n\u001b[1;32m   1779\u001b[0m \u001b[43m    \u001b[49m\u001b[38;5;241;43m*\u001b[39;49m\u001b[38;5;241;43m*\u001b[39;49m\u001b[43mkwargs\u001b[49m\u001b[43m,\u001b[49m\n\u001b[1;32m   1780\u001b[0m \u001b[43m\u001b[49m\u001b[43m)\u001b[49m\n",
      "File \u001b[0;32m~/.pyenv/versions/anaconda3-2021.11/envs/roman-data-workshop-env/lib/python3.10/site-packages/asdf/asdf.py:942\u001b[0m, in \u001b[0;36mAsdfFile._open_impl\u001b[0;34m(cls, self, fd, uri, mode, validate_checksums, extensions, _get_yaml_content, _force_raw_types, strict_extension_check, ignore_missing_extensions, **kwargs)\u001b[0m\n\u001b[1;32m    936\u001b[0m         \u001b[38;5;28;01mraise\u001b[39;00m \u001b[38;5;167;01mValueError\u001b[39;00m(\n\u001b[1;32m    937\u001b[0m             \u001b[38;5;124m\"\u001b[39m\u001b[38;5;124mInput object does not appear to be an ASDF file. Cannot check \u001b[39m\u001b[38;5;124m\"\u001b[39m\n\u001b[1;32m    938\u001b[0m             \u001b[38;5;241m+\u001b[39m \u001b[38;5;124m\"\u001b[39m\u001b[38;5;124mif it is a FITS with ASDF extension because \u001b[39m\u001b[38;5;124m'\u001b[39m\u001b[38;5;124mastropy\u001b[39m\u001b[38;5;124m'\u001b[39m\u001b[38;5;124m is not \u001b[39m\u001b[38;5;124m\"\u001b[39m\n\u001b[1;32m    939\u001b[0m             \u001b[38;5;241m+\u001b[39m \u001b[38;5;124m\"\u001b[39m\u001b[38;5;124minstalled\u001b[39m\u001b[38;5;124m\"\u001b[39m\n\u001b[1;32m    940\u001b[0m         ) \u001b[38;5;28;01mfrom\u001b[39;00m \u001b[38;5;28mNone\u001b[39m\n\u001b[1;32m    941\u001b[0m \u001b[38;5;28;01melif\u001b[39;00m file_type \u001b[38;5;241m==\u001b[39m util\u001b[38;5;241m.\u001b[39mFileType\u001b[38;5;241m.\u001b[39mASDF:\n\u001b[0;32m--> 942\u001b[0m     \u001b[38;5;28;01mreturn\u001b[39;00m \u001b[38;5;28;43mcls\u001b[39;49m\u001b[38;5;241;43m.\u001b[39;49m\u001b[43m_open_asdf\u001b[49m\u001b[43m(\u001b[49m\n\u001b[1;32m    943\u001b[0m \u001b[43m        \u001b[49m\u001b[38;5;28;43mself\u001b[39;49m\u001b[43m,\u001b[49m\n\u001b[1;32m    944\u001b[0m \u001b[43m        \u001b[49m\u001b[43mgeneric_file\u001b[49m\u001b[43m,\u001b[49m\n\u001b[1;32m    945\u001b[0m \u001b[43m        \u001b[49m\u001b[43mvalidate_checksums\u001b[49m\u001b[38;5;241;43m=\u001b[39;49m\u001b[43mvalidate_checksums\u001b[49m\u001b[43m,\u001b[49m\n\u001b[1;32m    946\u001b[0m \u001b[43m        \u001b[49m\u001b[43mextensions\u001b[49m\u001b[38;5;241;43m=\u001b[39;49m\u001b[43mextensions\u001b[49m\u001b[43m,\u001b[49m\n\u001b[1;32m    947\u001b[0m \u001b[43m        \u001b[49m\u001b[43m_get_yaml_content\u001b[49m\u001b[38;5;241;43m=\u001b[39;49m\u001b[43m_get_yaml_content\u001b[49m\u001b[43m,\u001b[49m\n\u001b[1;32m    948\u001b[0m \u001b[43m        \u001b[49m\u001b[43m_force_raw_types\u001b[49m\u001b[38;5;241;43m=\u001b[39;49m\u001b[43m_force_raw_types\u001b[49m\u001b[43m,\u001b[49m\n\u001b[1;32m    949\u001b[0m \u001b[43m        \u001b[49m\u001b[43mstrict_extension_check\u001b[49m\u001b[38;5;241;43m=\u001b[39;49m\u001b[43mstrict_extension_check\u001b[49m\u001b[43m,\u001b[49m\n\u001b[1;32m    950\u001b[0m \u001b[43m        \u001b[49m\u001b[43mignore_missing_extensions\u001b[49m\u001b[38;5;241;43m=\u001b[39;49m\u001b[43mignore_missing_extensions\u001b[49m\u001b[43m,\u001b[49m\n\u001b[1;32m    951\u001b[0m \u001b[43m        \u001b[49m\u001b[38;5;241;43m*\u001b[39;49m\u001b[38;5;241;43m*\u001b[39;49m\u001b[43mkwargs\u001b[49m\u001b[43m,\u001b[49m\n\u001b[1;32m    952\u001b[0m \u001b[43m    \u001b[49m\u001b[43m)\u001b[49m\n\u001b[1;32m    953\u001b[0m \u001b[38;5;28;01melse\u001b[39;00m:\n\u001b[1;32m    954\u001b[0m     \u001b[38;5;28;01mraise\u001b[39;00m \u001b[38;5;167;01mValueError\u001b[39;00m(\u001b[38;5;124m\"\u001b[39m\u001b[38;5;124mInput object does not appear to be an ASDF file or a FITS with \u001b[39m\u001b[38;5;124m\"\u001b[39m \u001b[38;5;241m+\u001b[39m \u001b[38;5;124m\"\u001b[39m\u001b[38;5;124mASDF extension\u001b[39m\u001b[38;5;124m\"\u001b[39m)\n",
      "File \u001b[0;32m~/.pyenv/versions/anaconda3-2021.11/envs/roman-data-workshop-env/lib/python3.10/site-packages/asdf/asdf.py:879\u001b[0m, in \u001b[0;36mAsdfFile._open_asdf\u001b[0;34m(cls, self, fd, validate_checksums, extensions, _get_yaml_content, _force_raw_types, strict_extension_check, ignore_missing_extensions, **kwargs)\u001b[0m\n\u001b[1;32m    877\u001b[0m \u001b[38;5;28;01mif\u001b[39;00m get_config()\u001b[38;5;241m.\u001b[39mvalidate_on_read:\n\u001b[1;32m    878\u001b[0m     \u001b[38;5;28;01mtry\u001b[39;00m:\n\u001b[0;32m--> 879\u001b[0m         \u001b[38;5;28;43mself\u001b[39;49m\u001b[38;5;241;43m.\u001b[39;49m\u001b[43m_validate\u001b[49m\u001b[43m(\u001b[49m\u001b[43mtree\u001b[49m\u001b[43m,\u001b[49m\u001b[43m \u001b[49m\u001b[43mreading\u001b[49m\u001b[38;5;241;43m=\u001b[39;49m\u001b[38;5;28;43;01mTrue\u001b[39;49;00m\u001b[43m)\u001b[49m\n\u001b[1;32m    880\u001b[0m     \u001b[38;5;28;01mexcept\u001b[39;00m ValidationError:\n\u001b[1;32m    881\u001b[0m         \u001b[38;5;28mself\u001b[39m\u001b[38;5;241m.\u001b[39mclose()\n",
      "File \u001b[0;32m~/.pyenv/versions/anaconda3-2021.11/envs/roman-data-workshop-env/lib/python3.10/site-packages/asdf/asdf.py:622\u001b[0m, in \u001b[0;36mAsdfFile._validate\u001b[0;34m(self, tree, custom, reading)\u001b[0m\n\u001b[1;32m    620\u001b[0m \u001b[38;5;66;03m# Perform secondary validation pass if requested\u001b[39;00m\n\u001b[1;32m    621\u001b[0m \u001b[38;5;28;01mif\u001b[39;00m custom \u001b[38;5;129;01mand\u001b[39;00m \u001b[38;5;28mself\u001b[39m\u001b[38;5;241m.\u001b[39m_custom_schema:\n\u001b[0;32m--> 622\u001b[0m     \u001b[43mschema\u001b[49m\u001b[38;5;241;43m.\u001b[39;49m\u001b[43mvalidate\u001b[49m\u001b[43m(\u001b[49m\u001b[43mtagged_tree\u001b[49m\u001b[43m,\u001b[49m\u001b[43m \u001b[49m\u001b[38;5;28;43mself\u001b[39;49m\u001b[43m,\u001b[49m\u001b[43m \u001b[49m\u001b[38;5;28;43mself\u001b[39;49m\u001b[38;5;241;43m.\u001b[39;49m\u001b[43m_custom_schema\u001b[49m\u001b[43m,\u001b[49m\u001b[43m \u001b[49m\u001b[43mreading\u001b[49m\u001b[38;5;241;43m=\u001b[39;49m\u001b[43mreading\u001b[49m\u001b[43m)\u001b[49m\n",
      "File \u001b[0;32m~/.pyenv/versions/anaconda3-2021.11/envs/roman-data-workshop-env/lib/python3.10/site-packages/asdf/schema.py:662\u001b[0m, in \u001b[0;36mvalidate\u001b[0;34m(instance, ctx, schema, validators, reading, *args, **kwargs)\u001b[0m\n\u001b[1;32m    659\u001b[0m     ctx \u001b[38;5;241m=\u001b[39m AsdfFile()\n\u001b[1;32m    661\u001b[0m validator \u001b[38;5;241m=\u001b[39m get_validator(schema, ctx, validators, ctx\u001b[38;5;241m.\u001b[39mresolver, \u001b[38;5;241m*\u001b[39margs, \u001b[38;5;241m*\u001b[39m\u001b[38;5;241m*\u001b[39mkwargs)\n\u001b[0;32m--> 662\u001b[0m \u001b[43mvalidator\u001b[49m\u001b[38;5;241;43m.\u001b[39;49m\u001b[43mvalidate\u001b[49m\u001b[43m(\u001b[49m\u001b[43minstance\u001b[49m\u001b[43m)\u001b[49m\n\u001b[1;32m    664\u001b[0m additional_validators \u001b[38;5;241m=\u001b[39m [_validate_large_literals]\n\u001b[1;32m    665\u001b[0m \u001b[38;5;28;01mif\u001b[39;00m ctx\u001b[38;5;241m.\u001b[39mversion \u001b[38;5;241m>\u001b[39m\u001b[38;5;241m=\u001b[39m versioning\u001b[38;5;241m.\u001b[39mRESTRICTED_KEYS_MIN_VERSION:\n",
      "File \u001b[0;32m~/.pyenv/versions/anaconda3-2021.11/envs/roman-data-workshop-env/lib/python3.10/site-packages/jsonschema/validators.py:267\u001b[0m, in \u001b[0;36mcreate.<locals>.Validator.validate\u001b[0;34m(self, *args, **kwargs)\u001b[0m\n\u001b[1;32m    265\u001b[0m \u001b[38;5;28;01mdef\u001b[39;00m \u001b[38;5;21mvalidate\u001b[39m(\u001b[38;5;28mself\u001b[39m, \u001b[38;5;241m*\u001b[39margs, \u001b[38;5;241m*\u001b[39m\u001b[38;5;241m*\u001b[39mkwargs):\n\u001b[1;32m    266\u001b[0m     \u001b[38;5;28;01mfor\u001b[39;00m error \u001b[38;5;129;01min\u001b[39;00m \u001b[38;5;28mself\u001b[39m\u001b[38;5;241m.\u001b[39miter_errors(\u001b[38;5;241m*\u001b[39margs, \u001b[38;5;241m*\u001b[39m\u001b[38;5;241m*\u001b[39mkwargs):\n\u001b[0;32m--> 267\u001b[0m         \u001b[38;5;28;01mraise\u001b[39;00m error\n",
      "\u001b[0;31mValidationError\u001b[0m: 'friend' is a required property\n\nFailed validating 'required' in schema:\n    {'$schema': 'http://stsci.edu/schemas/yaml-schema/draft-01',\n     'description': \"Basic info and a picture of Mickie's \\ndog Pluto.\\n\",\n     'properties': {'age': {'properties': {'birthday': {'tag': 'tag:stsci.edu:asdf/time/time-1.1.0',\n                                                        'title': \"Pluto's \"\n                                                                 'first '\n                                                                 'showing'}},\n                            'title': 'The age of Pluto',\n                            'type': 'object'},\n                    'friend': {'title': \"Who is Pluto's friend?\",\n                               'type': 'string'},\n                    'mass': {'tag': 'tag:stsci.edu:asdf/unit/quantity-1.1.0',\n                             'title': 'How much he weighs.'},\n                    'name': {'title': 'Name', 'type': 'string'},\n                    'picture': {'tag': 'tag:stsci.edu:asdf/core/ndarray-1.0.0'}},\n     'required': ['name', 'picture', 'friend'],\n     'title': \"Mickey's pet\",\n     'type': 'object'}\n\nOn instance:\n    {'asdf_library': {'author': 'The ASDF Developers',\n                      'homepage': 'http://github.com/asdf-format/asdf',\n                      'name': 'asdf',\n                      'version': '2.12.0'},\n     'birthday': datetime.date(1930, 8, 17),\n     'history': {'extensions': [{'extension_class': 'asdf.extension.BuiltinExtension',\n                                 'software': {'name': 'asdf',\n                                              'version': '2.12.0'}},\n                                {'extension_class': 'asdf.extension._manifest.ManifestExtension',\n                                 'extension_uri': 'asdf://asdf-format.org/core/extensions/core-1.5.0',\n                                 'software': {'name': 'asdf-astropy',\n                                              'version': '0.2.1'}}]},\n     'mass': {'unit': 'kg', 'value': 10.0},\n     'name': 'Pluto',\n     'picture': {'byteorder': 'little',\n                 'datatype': 'float32',\n                 'shape': [333, 151, 4],\n                 'source': 0}}"
     ]
    }
   ],
   "source": [
    "afs = asdf.open('pluto.asdf', custom_schema='./pluto-friend-1.0.0.yaml')"
   ]
  },
  {
   "cell_type": "code",
   "execution_count": 16,
   "id": "480ae632",
   "metadata": {},
   "outputs": [],
   "source": [
    "asf = asdf.open('pluto.asdf', mode='rw')\n",
    "asf['friend'] = 'Mickey'\n",
    "#asf.update()\n",
    "asf.write_to('pluto-friend.asdf')"
   ]
  },
  {
   "cell_type": "code",
   "execution_count": 17,
   "id": "d4ee3d87",
   "metadata": {},
   "outputs": [],
   "source": [
    "asf = asdf.open('pluto-friend.asdf', custom_schema='./pluto-friend-1.0.0.yaml')"
   ]
  },
  {
   "cell_type": "code",
   "execution_count": null,
   "id": "19726d02",
   "metadata": {},
   "outputs": [],
   "source": []
  }
 ],
 "metadata": {
  "celltoolbar": "Tags",
  "kernelspec": {
   "display_name": "Python 3 (ipykernel)",
   "language": "python",
   "name": "python3"
  },
  "language_info": {
   "codemirror_mode": {
    "name": "ipython",
    "version": 3
   },
   "file_extension": ".py",
   "mimetype": "text/x-python",
   "name": "python",
   "nbconvert_exporter": "python",
   "pygments_lexer": "ipython3",
   "version": "3.10.5"
  }
 },
 "nbformat": 4,
 "nbformat_minor": 5
}
