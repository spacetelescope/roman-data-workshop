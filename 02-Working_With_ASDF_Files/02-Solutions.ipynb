{
 "cells": [
  {
   "cell_type": "markdown",
   "id": "14199d87",
   "metadata": {},
   "source": [
    "### Solutions for 02-Working_with_ASDF_Files"
   ]
  },
  {
   "cell_type": "markdown",
   "id": "b6eb18c8",
   "metadata": {},
   "source": [
    "**Exercise 1:**"
   ]
  },
  {
   "cell_type": "code",
   "execution_count": 1,
   "id": "451830c9",
   "metadata": {},
   "outputs": [],
   "source": [
    "import asdf"
   ]
  },
  {
   "cell_type": "markdown",
   "id": "d78dde36",
   "metadata": {},
   "source": [
    "**Read the file and use the `info` method to look at the contents**.\n",
    "\n",
    "`info` has arguments which control the behavior. Use the defaults to look at the contents of the file."
   ]
  },
  {
   "cell_type": "code",
   "execution_count": 2,
   "id": "6b67338a",
   "metadata": {
    "tags": [
     "raises-exception"
    ]
   },
   "outputs": [],
   "source": [
    "af = asdf.open('../data/r0000101001001001001_0001_wfi01_f158_cal.asdf')"
   ]
  },
  {
   "cell_type": "code",
   "execution_count": 3,
   "id": "8819736d",
   "metadata": {
    "tags": [
     "raises-exception"
    ]
   },
   "outputs": [
    {
     "name": "stdout",
     "output_type": "stream",
     "text": [
      "root (AsdfObject)\n",
      "├─asdf_library (Software)\n",
      "│ ├─author (str): The ASDF Developers\n",
      "│ ├─homepage (str): http://github.com/asdf-format/asdf\n",
      "│ ├─name (str): asdf\n",
      "│ └─version (str): 4.1.0\n",
      "├─history (dict)\n",
      "│ └─extensions (list)\n",
      "│   ├─[0] (ExtensionMetadata)\n",
      "│   │ ├─extension_class (str): asdf.extension._manifest.ManifestExtension\n",
      "│   │ ├─extension_uri (str): asdf://asdf-format.org/core/extensions/core-1.6.0\n",
      "│   │ ├─manifest_software (Software) ...\n",
      "│   │ └─software (Software) ...\n",
      "│   ├─[1] (ExtensionMetadata)\n",
      "│   │ ├─extension_class (str): asdf.extension._manifest.ManifestExtension\n",
      "│   │ ├─extension_uri (str): asdf://astropy.org/astropy/extensions/units-1.0.0\n",
      "│   │ └─software (Software) ...\n",
      "│   ├─[2] (ExtensionMetadata)\n",
      "│   │ ├─extension_class (str): asdf.extension._manifest.ManifestExtension\n",
      "│   │ ├─extension_uri (str): asdf://asdf-format.org/astronomy/gwcs/extensions/gwcs-1.3.0\n",
      "│   │ ├─manifest_software (Software) ...\n",
      "│   │ └─software (Software) ...\n",
      "│   ├─[3] (ExtensionMetadata)\n",
      "│   │ ├─extension_class (str): asdf.extension._manifest.ManifestExtension\n",
      "│   │ ├─extension_uri (str): asdf://asdf-format.org/transform/extensions/transform-1.6.0\n",
      "│   │ ├─manifest_software (Software) ...\n",
      "│   │ └─software (Software) ...\n",
      "│   ├─[4] (ExtensionMetadata)\n",
      "│   │ ├─extension_class (str): asdf.extension._manifest.ManifestExtension\n",
      "│   │ ├─extension_uri (str): asdf://stsci.edu/datamodels/roman/extensions/datamodels-1.2.0\n",
      "│   │ ├─manifest_software (Software) ...\n",
      "│   │ └─software (Software) ...\n",
      "│   ├─[5] (ExtensionMetadata)\n",
      "│   │ ├─extension_class (str): asdf.extension._manifest.ManifestExtension\n",
      "│   │ ├─extension_uri (str): asdf://asdf-format.org/astronomy/coordinates/extensions/coordinates-1.0.0\n",
      "│   │ ├─manifest_software (Software) ...\n",
      "│   │ └─software (Software) ...\n",
      "│   └─[6] (ExtensionMetadata)\n",
      "│     ├─extension_class (str): asdf.extension._manifest.ManifestExtension\n",
      "│     ├─extension_uri (str): asdf://asdf-format.org/astronomy/extensions/astronomy-1.0.0\n",
      "│     ├─manifest_software (Software) ...\n",
      "│     └─software (Software) ...\n",
      "└─roman (WfiImage) # Level 2 (L2) Calibrated Roman Wide Field Instrument (WFI) Rate Image.\n",
      "  ├─meta (dict)\n",
      "  │ ├─cal_logs (CalLogs) # Calibration Log Messages\n",
      "  │ │ ├─0 (str): 2025-05-30T03:24:08.720Z :: stpipe.ExposurePipeline :: INFO :: Step ExposurePipeline runnin (truncated)\n",
      "  │ │ ├─1 (str)\n",
      "  │ │ ├─2 (str): 2025-05-30T03:24:08.727Z :: stpipe.ExposurePipeline :: INFO :: First argument r000010100100 (truncated)\n",
      "  │ │ ├─3 (str): 2025-05-30T03:24:08.727Z :: stpipe.ExposurePipeline :: INFO :: Starting Roman exposure cali (truncated)\n",
      "  │ │ ├─4 (str): 2025-05-30T03:24:08.802Z :: stpipe.ExposurePipeline.dq_init :: INFO :: Step dq_init running (truncated)\n",
      "  │ │ ├─5 (str): 2025-05-30T03:24:09.044Z :: stpipe.ExposurePipeline.dq_init :: INFO :: Flagging rows from:  (truncated)\n",
      "  │ │ ├─6 (str): 2025-05-30T03:24:09.058Z :: stpipe.ExposurePipeline.dq_init :: DEBUG :: Using MASK ref file (truncated)\n",
      "  │ │ ├─7 (str): 2025-05-30T03:24:09.119Z :: stpipe.ExposurePipeline.dq_init :: INFO :: Step dq_init done\n",
      "  │ │ ├─8 (str): 2025-05-30T03:24:09.162Z :: stpipe.ExposurePipeline.saturation :: INFO :: Step saturation r (truncated)\n",
      "  │ │ ├─9 (str): 2025-05-30T03:24:09.164Z :: stpipe.ExposurePipeline.saturation :: INFO :: Using SATURATION  (truncated)\n",
      "  │ │ ├─10 (str): 2025-05-30T03:24:10.698Z :: stpipe.ExposurePipeline.saturation :: INFO :: Detected 340 sat (truncated)\n",
      "  │ │ ├─11 (str): 2025-05-30T03:24:10.747Z :: stpipe.ExposurePipeline.saturation :: INFO :: Detected 66802 A (truncated)\n",
      "  │ │ ├─12 (str): 2025-05-30T03:24:10.763Z :: stpipe.ExposurePipeline.saturation :: INFO :: Step saturation done\n",
      "  │ │ ├─13 (str): 2025-05-30T03:24:10.938Z :: stpipe.ExposurePipeline.refpix :: INFO :: Step refpix running  (truncated)\n",
      "  │ │ ├─14 (str): 2025-05-30T03:24:10.938Z :: stpipe.ExposurePipeline.refpix :: DEBUG :: Opening the science (truncated)\n",
      "  │ │ ├─15 (str): 2025-05-30T03:24:10.941Z :: stpipe.ExposurePipeline.refpix :: DEBUG :: Opening the referen (truncated)\n",
      "  │ │ ├─16 (str): 2025-05-30T03:24:10.952Z :: stpipe.ExposurePipeline.refpix :: DEBUG :: Running the referen (truncated)\n",
      "  │ │ ├─17 (str): 2025-05-30T03:24:10.952Z :: stpipe.ExposurePipeline.refpix :: DEBUG :: Reading data from d (truncated)\n",
      "  │ │ ├─18 (str): 2025-05-30T03:24:11.132Z :: stpipe.ExposurePipeline.refpix :: DEBUG :: Removed the general (truncated)\n",
      "  │ │ ├─19 (str): 2025-05-30T03:24:11.679Z :: stpipe.ExposurePipeline.refpix :: DEBUG :: Removed boundary tr (truncated)\n",
      "  │ │ ├─20 (str)\n",
      "  │ │ ├─21 (str): 2025-05-30T03:24:11.912Z :: stpipe.ExposurePipeline.refpix :: DEBUG :: Cosine interpolated (truncated)\n",
      "  │ │ ├─22 (str): 2025-05-30T03:24:12.208Z :: stpipe.ExposurePipeline.refpix :: DEBUG :: FFT interpolated th (truncated)\n",
      "  │ │ ├─23 (str): 2025-05-30T03:24:14.950Z :: stpipe.ExposurePipeline.refpix :: DEBUG :: Applied reference p (truncated)\n",
      "  │ │ ├─24 (str): 2025-05-30T03:24:14.983Z :: stpipe.ExposurePipeline.refpix :: DEBUG :: Re-applied the gene (truncated)\n",
      "  │ │ ├─25 (str): 2025-05-30T03:24:14.992Z :: stpipe.ExposurePipeline.refpix :: DEBUG :: Updated the datamod (truncated)\n",
      "  │ │ ├─26 (str): 2025-05-30T03:24:15.010Z :: stpipe.ExposurePipeline.refpix :: INFO :: Step refpix done\n",
      "  │ │ ├─27 (str): 2025-05-30T03:24:15.053Z :: stpipe.ExposurePipeline.linearity :: INFO :: Step linearity ru (truncated)\n",
      "  │ │ ├─28 (str): 2025-05-30T03:24:15.056Z :: stpipe.ExposurePipeline.linearity :: INFO :: Using LINEARITY r (truncated)\n",
      "  │ │ ├─29 (str): 2025-05-30T03:24:28.458Z :: stpipe.ExposurePipeline.linearity :: INFO :: Step linearity done\n",
      "  │ │ ├─30 (str): 2025-05-30T03:24:28.501Z :: stpipe.ExposurePipeline.dark_current :: INFO :: Step dark_curr (truncated)\n",
      "  │ │ ├─31 (str): 2025-05-30T03:24:28.504Z :: stpipe.ExposurePipeline.dark_current :: INFO :: Using DARK ref (truncated)\n",
      "  │ │ ├─32 (str): 2025-05-30T03:24:29.022Z :: stpipe.ExposurePipeline.dark_current :: INFO :: Step dark_current done\n",
      "  │ │ ├─33 (str): 2025-05-30T03:24:29.065Z :: stpipe.ExposurePipeline.rampfit :: INFO :: Step rampfit runnin (truncated)\n",
      "  │ │ ├─34 (str): 2025-05-30T03:24:29.069Z :: stpipe.ExposurePipeline.rampfit :: INFO :: Using READNOISE ref (truncated)\n",
      "  │ │ ├─35 (str): 2025-05-30T03:24:29.078Z :: stpipe.ExposurePipeline.rampfit :: INFO :: Using GAIN referenc (truncated)\n",
      "  │ │ ├─36 (str): 2025-05-30T03:24:29.097Z :: stpipe.ExposurePipeline.rampfit :: INFO :: Jump detection as p (truncated)\n",
      "  │ │ ├─37 (str): 2025-05-30T03:24:37.204Z :: stpipe.ExposurePipeline.rampfit :: INFO :: Step rampfit done\n",
      "  │ │ ├─38 (str): 2025-05-30T03:24:37.277Z :: stpipe.ExposurePipeline.assign_wcs :: INFO :: Step assign_wcs  (truncated)\n",
      "  │ │ ├─39 (str): 2025-05-30T03:24:37.277Z :: stpipe.ExposurePipeline.assign_wcs :: INFO :: reftype, distortion\n",
      "  │ │ ├─40 (str): 2025-05-30T03:24:37.279Z :: stpipe.ExposurePipeline.assign_wcs :: INFO :: Using reference  (truncated)\n",
      "  │ │ ├─41 (str): 2025-05-30T03:24:37.315Z :: stpipe.ExposurePipeline.assign_wcs :: INFO :: Update S_REGION  (truncated)\n",
      "  │ │ ├─42 (str): 2025-05-30T03:24:37.316Z :: stpipe.ExposurePipeline.assign_wcs :: INFO :: S_REGION VALUES: (truncated)\n",
      "  │ │ ├─43 (str): 2025-05-30T03:24:37.316Z :: stpipe.ExposurePipeline.assign_wcs :: INFO :: Update S_REGION  (truncated)\n",
      "  │ │ ├─44 (str): 2025-05-30T03:24:37.316Z :: stpipe.ExposurePipeline.assign_wcs :: INFO :: Step assign_wcs done\n",
      "  │ │ ├─45 (str): 2025-05-30T03:24:37.363Z :: stpipe.ExposurePipeline.flatfield :: INFO :: Step flatfield ru (truncated)\n",
      "  │ │ ├─46 (str): 2025-05-30T03:24:37.377Z :: stpipe.ExposurePipeline.flatfield :: DEBUG :: Using FLAT ref f (truncated)\n",
      "  │ │ ├─47 (str): 2025-05-30T03:24:37.624Z :: stpipe.ExposurePipeline.flatfield :: INFO :: Step flatfield done\n",
      "  │ │ ├─48 (str): 2025-05-30T03:24:37.668Z :: stpipe.ExposurePipeline.photom :: INFO :: Step photom running  (truncated)\n",
      "  │ │ ├─49 (str): 2025-05-30T03:24:37.679Z :: stpipe.ExposurePipeline.photom :: DEBUG :: Using PHOTOM ref fi (truncated)\n",
      "  │ │ ├─50 (str): 2025-05-30T03:24:37.679Z :: stpipe.ExposurePipeline.photom :: DEBUG :: pixel_area = 2.8083 (truncated)\n",
      "  │ │ ├─51 (str): 2025-05-30T03:24:37.679Z :: stpipe.ExposurePipeline.photom :: INFO :: photmjsr value: 0.736781\n",
      "  │ │ ├─52 (str): 2025-05-30T03:24:37.679Z :: stpipe.ExposurePipeline.photom :: INFO :: uncertainty value: 0.0286641\n",
      "  │ │ ├─53 (str): 2025-05-30T03:24:37.680Z :: stpipe.ExposurePipeline.photom :: INFO :: Step photom done\n",
      "  │ │ ├─54 (str): 2025-05-30T03:24:37.721Z :: stpipe.ExposurePipeline.source_catalog :: INFO :: Step source_ (truncated)\n",
      "  │ │ ├─55 (str): 2025-05-30T03:24:42.301Z :: stpipe.ExposurePipeline.source_catalog :: INFO :: Detected 111 sources\n",
      "  │ │ ├─56 (str): 2025-05-30T03:24:42.346Z :: stpipe.ExposurePipeline.source_catalog :: INFO :: Calculating  (truncated)\n",
      "  │ │ ├─57 (str): 2025-05-30T03:24:42.576Z :: stpipe.ExposurePipeline.source_catalog :: INFO :: Calculating  (truncated)\n",
      "  │ │ ├─58 (str): 2025-05-30T03:24:42.622Z :: stpipe.ExposurePipeline.source_catalog :: INFO :: Calculating  (truncated)\n",
      "  │ │ ├─59 (str): 2025-05-30T03:24:42.771Z :: stpipe.ExposurePipeline.source_catalog :: INFO :: Calculating  (truncated)\n",
      "  │ │ ├─60 (str): 2025-05-30T03:24:42.772Z :: stpipe.ExposurePipeline.source_catalog :: INFO :: Calculating  (truncated)\n",
      "  │ │ ├─61 (str): 2025-05-30T03:24:42.772Z :: stpipe.ExposurePipeline.source_catalog :: INFO :: Constructing (truncated)\n",
      "  │ │ ├─62 (str): 2025-05-30T03:24:55.977Z :: stpipe.ExposurePipeline.source_catalog :: INFO :: Saved model  (truncated)\n",
      "  │ │ ├─63 (str): 2025-05-30T03:24:55.987Z :: stpipe.ExposurePipeline.source_catalog :: WARNING :: UnitsWarn (truncated)\n",
      "  │ │ ├─64 (str): 2025-05-30T03:24:56.026Z :: stpipe.ExposurePipeline.source_catalog :: WARNING :: UnitsWarn (truncated)\n",
      "  │ │ ├─65 (str): 2025-05-30T03:24:56.543Z :: stpipe.ExposurePipeline.source_catalog :: INFO :: Saved model  (truncated)\n",
      "  │ │ ├─66 (str): 2025-05-30T03:24:56.645Z :: stpipe.ExposurePipeline.source_catalog :: INFO :: Step source_catalog done\n",
      "  │ │ ├─67 (str): 2025-05-30T03:24:56.702Z :: stpipe.ExposurePipeline.tweakreg :: INFO :: Step tweakreg runn (truncated)\n",
      "  │ │ ├─68 (str): 2025-05-30T03:24:56.702Z :: stpipe.ExposurePipeline.tweakreg :: INFO :: Number of image gr (truncated)\n",
      "  │ │ ├─69 (str): 2025-05-30T03:24:56.702Z :: stpipe.ExposurePipeline.tweakreg :: INFO :: Image groups:\n",
      "  │ │ ├─70 (str): 2025-05-30T03:24:56.702Z :: stpipe.ExposurePipeline.tweakreg :: INFO ::   00001010010010010010001\n",
      "  │ │ ├─71 (str): 2025-05-30T03:24:56.703Z :: stpipe.ExposurePipeline.tweakreg :: INFO :: All source catalog (truncated)\n",
      "  │ │ ├─72 (str): 2025-05-30T03:24:56.778Z :: stpipe.ExposurePipeline.tweakreg :: INFO :: Detected 111 sourc (truncated)\n",
      "  │ │ ├─73 (str): 2025-05-30T03:24:57.593Z :: stpipe.ExposurePipeline.tweakreg :: INFO ::  \n",
      "  │ │ ├─74 (str): 2025-05-30T03:24:57.593Z :: stpipe.ExposurePipeline.tweakreg :: INFO :: ***** tweakwcs.ima (truncated)\n",
      "  │ │ ├─75 (str): 2025-05-30T03:24:57.593Z :: stpipe.ExposurePipeline.tweakreg :: INFO ::       Version 0.8.10\n",
      "  │ │ ├─76 (str): 2025-05-30T03:24:57.593Z :: stpipe.ExposurePipeline.tweakreg :: INFO ::  \n",
      "  │ │ ├─77 (str): 2025-05-30T03:24:57.641Z :: stpipe.ExposurePipeline.tweakreg :: INFO :: Aligning image cat (truncated)\n",
      "  │ │ ├─78 (str): 2025-05-30T03:24:57.664Z :: stpipe.ExposurePipeline.tweakreg :: INFO :: Matching sources f (truncated)\n",
      "  │ │ ├─79 (str): 2025-05-30T03:24:57.664Z :: stpipe.ExposurePipeline.tweakreg :: INFO :: Computing initial  (truncated)\n",
      "  │ │ └─19 not shown\n",
      "  │ ├─cal_step (L2CalStep) # Level 2 Calibration Status ...\n",
      "  │ ├─calibration_software_name (CalibrationSoftwareName): RomanCAL # Calibration Software Name\n",
      "  │ ├─calibration_software_version (CalibrationSoftwareVersion): 0.19.0 # Calibration Software Version Number\n",
      "  │ ├─coordinates (Coordinates) # Name Of The Coordinate Reference Frame ...\n",
      "  │ ├─ephemeris (Ephemeris) # Ephemeris Data Information ...\n",
      "  │ ├─exposure (Exposure) # Exposure Information\n",
      " ...\n",
      "  │ ├─file_date (FileDate): 2020-01-01T00:00:00.000\n",
      "  │ ├─filename (Filename): r0000101001001001001_0001_wfi01_f158_cal.asdf # File Name\n",
      "  │ ├─guide_star (Guidestar) # Guide Star and Guide Window Information ...\n",
      "  │ ├─instrument (WfiMode) # Wide Field Instrument (WFI) Configuration Information ...\n",
      "  │ ├─model_type (ModelType): ImageModel # Data Model Type\n",
      "  │ ├─observation (Observation) # Observation Identifiers ...\n",
      "  │ ├─origin (Origin): STSCI/SOC # Institution / Organization Name\n",
      "  │ ├─photometry (Photometry) # Photometry Information ...\n",
      "  │ ├─pointing (Pointing) # Spacecraft Pointing Information ...\n",
      "  │ ├─prd_version (PrdVersion): 8.8.8 # SOC PRD Version Number\n",
      "  │ ├─product_type (ProductType): l2 # Product Type Descriptor\n",
      "  │ ├─program (Program) # Program Information ...\n",
      "  │ ├─rcs (Rcs) # Relative Calibration System Information ...\n",
      "  │ ├─ref_file (RefFile) # Reference File Information ...\n",
      "  │ ├─sdf_software_version (SdfSoftwareVersion): 7.7.7 # SDF Version Number\n",
      "  │ ├─source_catalog (SourceCatalog) # Source Detection Catalog ...\n",
      "  │ ├─telescope (Telescope): ROMAN # Telescope Name\n",
      "  │ ├─velocity_aberration (VelocityAberration) # Velocity Aberration Correction Information ...\n",
      "  │ ├─visit (Visit) # Visit Information ...\n",
      "  │ ├─wcs (WCS) # WCS object\n",
      "  │ ├─wcs_fit_results (dict) ...\n",
      "  │ └─wcsinfo (Wcsinfo) # World Coordinate System (WCS) Information ...\n",
      "  ├─data (NDArrayType) # Science Data (DN/s) or (MJy/sr)\n",
      "  │ ├─shape (tuple) ...\n",
      "  │ └─dtype (Float32DType): float32\n",
      "  ├─dq (NDArrayType) # Data Quality\n",
      "  │ ├─shape (tuple) ...\n",
      "  │ └─dtype (UInt32DType): uint32\n",
      "  ├─err (NDArrayType) # Error (DN / s) or (MJy / sr)\n",
      "  │ ├─shape (tuple) ...\n",
      "  │ └─dtype (Float32DType): float32\n",
      "  ├─var_poisson (NDArrayType) # Poisson Variance (DN^2/s^2) or (MJy^2/sr^2)\n",
      "  │ ├─shape (tuple) ...\n",
      "  │ └─dtype (Float32DType): float32\n",
      "  ├─var_rnoise (NDArrayType) # Read Noise Variance (DN^2/s^2) or (MJy^2/sr^2)\n",
      "  │ ├─shape (tuple) ...\n",
      "  │ └─dtype (Float32DType): float32\n",
      "  ├─var_flat (NDArrayType) # Flat Field Variance (DN^2/s^2) or (MJy^2/sr^2)\n",
      "  │ ├─shape (tuple) ...\n",
      "  │ └─dtype (Float32DType): float32\n",
      "  ├─amp33 (NDArrayType) # Amplifier 33 Reference Pixel Data (DN)\n",
      "  │ ├─shape (tuple) ...\n",
      "  │ └─dtype (UInt16DType): uint16\n",
      "  ├─border_ref_pix_left (NDArrayType) # Left-Edge Border Reference Pixels (DN)\n",
      "  │ ├─shape (tuple) ...\n",
      "  │ └─dtype (Float32DType): float32\n",
      "  ├─border_ref_pix_right (NDArrayType) # Right-Edge Border Reference Pixels (DN)\n",
      "  │ ├─shape (tuple) ...\n",
      "  │ └─dtype (Float32DType): float32\n",
      "  ├─border_ref_pix_top (NDArrayType) # Border Reference Pixels on the Top of the Detector (DN)\n",
      "  │ ├─shape (tuple) ...\n",
      "  │ └─dtype (Float32DType): float32\n",
      "  ├─border_ref_pix_bottom (NDArrayType) # Bottom-Edge Border Reference Pixels (DN)\n",
      "  │ ├─shape (tuple) ...\n",
      "  │ └─dtype (Float32DType): float32\n",
      "  ├─dq_border_ref_pix_left (NDArrayType) # Left-Edge Border Reference Pixel Data Quality (DN)\n",
      "  │ ├─shape (tuple) ...\n",
      "  │ └─dtype (UInt32DType): uint32\n",
      "  ├─dq_border_ref_pix_right (NDArrayType) # Right-Edge Border Reference Pixel Data Quality (DN)\n",
      "  │ ├─shape (tuple) ...\n",
      "  │ └─dtype (UInt32DType): uint32\n",
      "  ├─dq_border_ref_pix_top (NDArrayType) # Border Reference Pixel Data Quality on the Top of the Detector (DN)\n",
      "  │ ├─shape (tuple) ...\n",
      "  │ └─dtype (UInt32DType): uint32\n",
      "  └─dq_border_ref_pix_bottom (NDArrayType) # Bottom-Edge Border Reference Pixel Data Quality (DN)\n",
      "    ├─shape (tuple) ...\n",
      "    └─dtype (UInt32DType): uint32\n",
      "Some nodes not shown.\n"
     ]
    }
   ],
   "source": [
    "af.info(max_rows=200)"
   ]
  },
  {
   "cell_type": "code",
   "execution_count": 4,
   "id": "38617281",
   "metadata": {
    "tags": [
     "raises-exception"
    ]
   },
   "outputs": [
    {
     "data": {
      "text/plain": [
       "root (AsdfObject)\n",
       "└─roman (WfiImage) # Level 2 (L2) Calibrated Roman Wide Field Instrument (WFI) Rate Image.\n",
       "  └─meta (dict)\n",
       "    ├─cal_step (L2CalStep) # Level 2 Calibration Status\n",
       "    │ └─assign_wcs (str): COMPLETE # Assign World Coordinate System (WCS) Step\n",
       "    ├─wcs (WCS) # WCS object\n",
       "    ├─wcs_fit_results (dict): {'<rot>': 6.992476077717588e-05, '<scale>': 0.9999999999999999, 'center': [-3. (truncated)\n",
       "    └─wcsinfo (Wcsinfo): {'aperture_name': 'WFI01_FULL', 'v2_ref': 1312.9491452484797, 'v3_ref': -1040.78537 (truncated)"
      ]
     },
     "execution_count": 4,
     "metadata": {},
     "output_type": "execute_result"
    }
   ],
   "source": [
    "af.search('wcs')"
   ]
  },
  {
   "cell_type": "code",
   "execution_count": 5,
   "id": "87336258",
   "metadata": {
    "tags": [
     "raises-exception"
    ]
   },
   "outputs": [
    {
     "name": "stdout",
     "output_type": "stream",
     "text": [
      "   From                   Transform                \n",
      "---------- ----------------------------------------\n",
      "  detector                            CompoundModel\n",
      "      v2v3                           DVA_Correction\n",
      "v2v3vacorr JWST tangent-plane linear correction. v1\n",
      "  v2v3corr                                 v23tosky\n",
      "     world                                     None\n"
     ]
    }
   ],
   "source": [
    "w = af['roman']['meta']['wcs']\n",
    "print(w)"
   ]
  },
  {
   "cell_type": "code",
   "execution_count": 6,
   "id": "b3d27a41",
   "metadata": {
    "tags": [
     "raises-exception"
    ]
   },
   "outputs": [
    {
     "name": "stdout",
     "output_type": "stream",
     "text": [
      "269.97185535683946 65.98323680187931\n"
     ]
    }
   ],
   "source": [
    "ra, dec = w(200, 300)\n",
    "print(ra, dec)"
   ]
  },
  {
   "cell_type": "code",
   "execution_count": 7,
   "id": "4f8f28e1",
   "metadata": {
    "tags": [
     "raises-exception"
    ]
   },
   "outputs": [
    {
     "name": "stdout",
     "output_type": "stream",
     "text": [
      "<SkyCoord (ICRS): (ra, dec) in deg\n",
      "    (269.97185536, 65.9832368)>\n"
     ]
    }
   ],
   "source": [
    "sky = w.pixel_to_world(200, 300)\n",
    "print(sky)"
   ]
  },
  {
   "cell_type": "code",
   "execution_count": 8,
   "id": "0a95dda0",
   "metadata": {
    "tags": [
     "raises-exception"
    ]
   },
   "outputs": [
    {
     "data": {
      "text/plain": [
       "array([[ 2.85370082e-01,  2.83924723e-03,  1.68147653e-01, ...,\n",
       "        -1.85257774e-02,  1.92695513e-01,  6.92749023e-03],\n",
       "       [ 2.53904581e-01,  1.13493055e-01,  2.00585946e-01, ...,\n",
       "        -2.57628076e+03,  2.26670414e-01, -2.43366241e+02],\n",
       "       [ 2.33952805e-01,  1.09773800e-01,  2.45793343e-01, ...,\n",
       "         1.05379065e-02,  2.32990414e-01, -1.06545072e-03],\n",
       "       ...,\n",
       "       [ 2.65013993e-01,  2.21495256e-01,  2.04422414e-01, ...,\n",
       "         2.08731920e-01,  1.26100212e-01,  1.63141251e-01],\n",
       "       [ 1.70667961e-01,  2.52683103e-01,  2.49813855e-01, ...,\n",
       "         1.76570222e-01,  2.37005398e-01,  1.74668700e-01],\n",
       "       [ 2.49936894e-01,  2.51409560e-01,  2.22255409e-01, ...,\n",
       "         2.21821368e-01,  2.63927490e-01,  2.32405379e-01]],\n",
       "      shape=(4088, 4088), dtype=float32)"
      ]
     },
     "execution_count": 8,
     "metadata": {},
     "output_type": "execute_result"
    }
   ],
   "source": [
    "af['roman']['data']"
   ]
  },
  {
   "cell_type": "code",
   "execution_count": 9,
   "id": "4ed7ccc8",
   "metadata": {},
   "outputs": [],
   "source": [
    "#af['roman']['data'][0, 0] = 999"
   ]
  },
  {
   "cell_type": "markdown",
   "id": "43b0131f",
   "metadata": {},
   "source": [
    "**Exercise 2:**\n",
    "\n",
    "Add `additionalProperties=false` to the schema and open the file"
   ]
  },
  {
   "cell_type": "code",
   "execution_count": 10,
   "id": "7283577e",
   "metadata": {},
   "outputs": [],
   "source": [
    "s = \"\"\"\n",
    "%YAML 1.1\n",
    "---\n",
    "$schema: http://stsci.edu/schemas/yaml-schema/draft-01\n",
    "\n",
    "title: Mickey's pet\n",
    "description: |\n",
    "  Basic info and a picture of Mickie's \n",
    "  dog Pluto.\n",
    "\n",
    "type: object\n",
    "properties:\n",
    "  age:\n",
    "    title: The age of Pluto\n",
    "    type: object\n",
    "    properties:\n",
    "      birthday:\n",
    "        title: Pluto's first showing\n",
    "        tag: tag:stsci.edu:asdf/time/time-1.1.0\n",
    "  mass:\n",
    "    title: How much he weighs.\n",
    "    tag: tag:stsci.edu:asdf/unit/quantity-1.1.0\n",
    "  picture:\n",
    "    tag: tag:stsci.edu:asdf/core/ndarray-1.0.0\n",
    "  name:\n",
    "    title: Name\n",
    "    type: string\n",
    "required: [name, picture]\n",
    "additionalProperties: false\n",
    "...\n",
    "\"\"\""
   ]
  },
  {
   "cell_type": "code",
   "execution_count": 11,
   "id": "49cc45f0",
   "metadata": {},
   "outputs": [],
   "source": [
    "f = open('add-prop-1.0.0.yaml', mode='w')\n",
    "f.write(s)\n",
    "f.close()"
   ]
  },
  {
   "cell_type": "code",
   "execution_count": 12,
   "id": "075f4ff7",
   "metadata": {
    "tags": [
     "raises-exception"
    ]
   },
   "outputs": [
    {
     "ename": "ValidationError",
     "evalue": "Additional properties are not allowed ('asdf_library', 'birthday', 'history' were unexpected)\n\nFailed validating 'additionalProperties' in schema:\n    {'$schema': 'http://stsci.edu/schemas/yaml-schema/draft-01',\n     'additionalProperties': False,\n     'description': \"Basic info and a picture of Mickie's \\ndog Pluto.\\n\",\n     'properties': {'age': {'properties': {'birthday': {'tag': 'tag:stsci.edu:asdf/time/time-1.1.0',\n                                                        'title': \"Pluto's \"\n                                                                 'first '\n                                                                 'showing'}},\n                            'title': 'The age of Pluto',\n                            'type': 'object'},\n                    'mass': {'tag': 'tag:stsci.edu:asdf/unit/quantity-1.1.0',\n                             'title': 'How much he weighs.'},\n                    'name': {'title': 'Name', 'type': 'string'},\n                    'picture': {'tag': 'tag:stsci.edu:asdf/core/ndarray-1.0.0'}},\n     'required': ['name', 'picture'],\n     'title': \"Mickey's pet\",\n     'type': 'object'}\n\nOn instance:\n    {'asdf_library': {'author': 'The ASDF Developers',\n                      'homepage': 'http://github.com/asdf-format/asdf',\n                      'name': 'asdf',\n                      'version': '2.12.0'},\n     'birthday': datetime.date(1930, 8, 17),\n     'history': {'extensions': [{'extension_class': 'asdf.extension.BuiltinExtension',\n                                 'software': {'name': 'asdf',\n                                              'version': '2.12.0'}},\n                                {'extension_class': 'asdf.extension._manifest.ManifestExtension',\n                                 'extension_uri': 'asdf://asdf-format.org/core/extensions/core-1.5.0',\n                                 'software': {'name': 'asdf-astropy',\n                                              'version': '0.2.1'}}]},\n     'mass': {'unit': 'kg', 'value': 10.0},\n     'name': 'Pluto',\n     'picture': {'byteorder': 'little',\n                 'datatype': 'float32',\n                 'shape': [333, 151, 4],\n                 'source': 0}}",
     "output_type": "error",
     "traceback": [
      "\u001b[31m---------------------------------------------------------------------------\u001b[39m",
      "\u001b[31mValidationError\u001b[39m                           Traceback (most recent call last)",
      "\u001b[36mCell\u001b[39m\u001b[36m \u001b[39m\u001b[32mIn[12]\u001b[39m\u001b[32m, line 1\u001b[39m\n\u001b[32m----> \u001b[39m\u001b[32m1\u001b[39m afs = \u001b[43masdf\u001b[49m\u001b[43m.\u001b[49m\u001b[43mopen\u001b[49m\u001b[43m(\u001b[49m\u001b[33;43m'\u001b[39;49m\u001b[33;43mpluto.asdf\u001b[39;49m\u001b[33;43m'\u001b[39;49m\u001b[43m,\u001b[49m\u001b[43m \u001b[49m\u001b[43mcustom_schema\u001b[49m\u001b[43m=\u001b[49m\u001b[33;43m'\u001b[39;49m\u001b[33;43m./add-prop-1.0.0.yaml\u001b[39;49m\u001b[33;43m'\u001b[39;49m\u001b[43m)\u001b[49m\n",
      "\u001b[36mFile \u001b[39m\u001b[32m/opt/anaconda3/envs/roman-data-workshop-env/lib/python3.11/site-packages/asdf/_asdf.py:1623\u001b[39m, in \u001b[36mopen_asdf\u001b[39m\u001b[34m(fd, uri, mode, validate_checksums, extensions, ignore_unrecognized_tag, _force_raw_types, memmap, lazy_tree, lazy_load, custom_schema, strict_extension_check, ignore_missing_extensions, _get_yaml_content)\u001b[39m\n\u001b[32m   1614\u001b[39m         mode = \u001b[33m\"\u001b[39m\u001b[33mr\u001b[39m\u001b[33m\"\u001b[39m\n\u001b[32m   1616\u001b[39m instance = AsdfFile(\n\u001b[32m   1617\u001b[39m     ignore_unrecognized_tag=ignore_unrecognized_tag,\n\u001b[32m   1618\u001b[39m     memmap=memmap,\n\u001b[32m   1619\u001b[39m     lazy_load=lazy_load,\n\u001b[32m   1620\u001b[39m     custom_schema=custom_schema,\n\u001b[32m   1621\u001b[39m )\n\u001b[32m-> \u001b[39m\u001b[32m1623\u001b[39m \u001b[38;5;28;01mreturn\u001b[39;00m \u001b[43mAsdfFile\u001b[49m\u001b[43m.\u001b[49m\u001b[43m_open_impl\u001b[49m\u001b[43m(\u001b[49m\n\u001b[32m   1624\u001b[39m \u001b[43m    \u001b[49m\u001b[43minstance\u001b[49m\u001b[43m,\u001b[49m\n\u001b[32m   1625\u001b[39m \u001b[43m    \u001b[49m\u001b[43mfd\u001b[49m\u001b[43m,\u001b[49m\n\u001b[32m   1626\u001b[39m \u001b[43m    \u001b[49m\u001b[43muri\u001b[49m\u001b[43m=\u001b[49m\u001b[43muri\u001b[49m\u001b[43m,\u001b[49m\n\u001b[32m   1627\u001b[39m \u001b[43m    \u001b[49m\u001b[43mmode\u001b[49m\u001b[43m=\u001b[49m\u001b[43mmode\u001b[49m\u001b[43m,\u001b[49m\n\u001b[32m   1628\u001b[39m \u001b[43m    \u001b[49m\u001b[43mvalidate_checksums\u001b[49m\u001b[43m=\u001b[49m\u001b[43mvalidate_checksums\u001b[49m\u001b[43m,\u001b[49m\n\u001b[32m   1629\u001b[39m \u001b[43m    \u001b[49m\u001b[43mextensions\u001b[49m\u001b[43m=\u001b[49m\u001b[43mextensions\u001b[49m\u001b[43m,\u001b[49m\n\u001b[32m   1630\u001b[39m \u001b[43m    \u001b[49m\u001b[43mlazy_tree\u001b[49m\u001b[43m=\u001b[49m\u001b[43mlazy_tree\u001b[49m\u001b[43m,\u001b[49m\n\u001b[32m   1631\u001b[39m \u001b[43m    \u001b[49m\u001b[43m_get_yaml_content\u001b[49m\u001b[43m=\u001b[49m\u001b[43m_get_yaml_content\u001b[49m\u001b[43m,\u001b[49m\n\u001b[32m   1632\u001b[39m \u001b[43m    \u001b[49m\u001b[43m_force_raw_types\u001b[49m\u001b[43m=\u001b[49m\u001b[43m_force_raw_types\u001b[49m\u001b[43m,\u001b[49m\n\u001b[32m   1633\u001b[39m \u001b[43m    \u001b[49m\u001b[43mstrict_extension_check\u001b[49m\u001b[43m=\u001b[49m\u001b[43mstrict_extension_check\u001b[49m\u001b[43m,\u001b[49m\n\u001b[32m   1634\u001b[39m \u001b[43m    \u001b[49m\u001b[43mignore_missing_extensions\u001b[49m\u001b[43m=\u001b[49m\u001b[43mignore_missing_extensions\u001b[49m\u001b[43m,\u001b[49m\n\u001b[32m   1635\u001b[39m \u001b[43m\u001b[49m\u001b[43m)\u001b[49m\n",
      "\u001b[36mFile \u001b[39m\u001b[32m/opt/anaconda3/envs/roman-data-workshop-env/lib/python3.11/site-packages/asdf/_asdf.py:935\u001b[39m, in \u001b[36mAsdfFile._open_impl\u001b[39m\u001b[34m(cls, self, fd, uri, mode, validate_checksums, extensions, lazy_tree, _get_yaml_content, _force_raw_types, strict_extension_check, ignore_missing_extensions)\u001b[39m\n\u001b[32m    933\u001b[39m generic_file = generic_io.get_file(fd, mode=mode, uri=uri)\n\u001b[32m    934\u001b[39m \u001b[38;5;28;01mtry\u001b[39;00m:\n\u001b[32m--> \u001b[39m\u001b[32m935\u001b[39m     \u001b[38;5;28;01mreturn\u001b[39;00m \u001b[38;5;28;43mcls\u001b[39;49m\u001b[43m.\u001b[49m\u001b[43m_open_asdf\u001b[49m\u001b[43m(\u001b[49m\n\u001b[32m    936\u001b[39m \u001b[43m        \u001b[49m\u001b[38;5;28;43mself\u001b[39;49m\u001b[43m,\u001b[49m\n\u001b[32m    937\u001b[39m \u001b[43m        \u001b[49m\u001b[43mgeneric_file\u001b[49m\u001b[43m,\u001b[49m\n\u001b[32m    938\u001b[39m \u001b[43m        \u001b[49m\u001b[43mvalidate_checksums\u001b[49m\u001b[43m=\u001b[49m\u001b[43mvalidate_checksums\u001b[49m\u001b[43m,\u001b[49m\n\u001b[32m    939\u001b[39m \u001b[43m        \u001b[49m\u001b[43mextensions\u001b[49m\u001b[43m=\u001b[49m\u001b[43mextensions\u001b[49m\u001b[43m,\u001b[49m\n\u001b[32m    940\u001b[39m \u001b[43m        \u001b[49m\u001b[43mlazy_tree\u001b[49m\u001b[43m=\u001b[49m\u001b[43mlazy_tree\u001b[49m\u001b[43m,\u001b[49m\n\u001b[32m    941\u001b[39m \u001b[43m        \u001b[49m\u001b[43m_get_yaml_content\u001b[49m\u001b[43m=\u001b[49m\u001b[43m_get_yaml_content\u001b[49m\u001b[43m,\u001b[49m\n\u001b[32m    942\u001b[39m \u001b[43m        \u001b[49m\u001b[43m_force_raw_types\u001b[49m\u001b[43m=\u001b[49m\u001b[43m_force_raw_types\u001b[49m\u001b[43m,\u001b[49m\n\u001b[32m    943\u001b[39m \u001b[43m        \u001b[49m\u001b[43mstrict_extension_check\u001b[49m\u001b[43m=\u001b[49m\u001b[43mstrict_extension_check\u001b[49m\u001b[43m,\u001b[49m\n\u001b[32m    944\u001b[39m \u001b[43m        \u001b[49m\u001b[43mignore_missing_extensions\u001b[49m\u001b[43m=\u001b[49m\u001b[43mignore_missing_extensions\u001b[49m\u001b[43m,\u001b[49m\n\u001b[32m    945\u001b[39m \u001b[43m    \u001b[49m\u001b[43m)\u001b[49m\n\u001b[32m    946\u001b[39m \u001b[38;5;28;01mexcept\u001b[39;00m \u001b[38;5;167;01mException\u001b[39;00m:\n\u001b[32m    947\u001b[39m     \u001b[38;5;28;01mif\u001b[39;00m close_on_fail:\n",
      "\u001b[36mFile \u001b[39m\u001b[32m/opt/anaconda3/envs/roman-data-workshop-env/lib/python3.11/site-packages/asdf/_asdf.py:895\u001b[39m, in \u001b[36mAsdfFile._open_asdf\u001b[39m\u001b[34m(cls, self, fd, validate_checksums, extensions, lazy_tree, _get_yaml_content, _force_raw_types, strict_extension_check, ignore_missing_extensions)\u001b[39m\n\u001b[32m    893\u001b[39m \u001b[38;5;28;01mif\u001b[39;00m get_config().validate_on_read:\n\u001b[32m    894\u001b[39m     \u001b[38;5;28;01mtry\u001b[39;00m:\n\u001b[32m--> \u001b[39m\u001b[32m895\u001b[39m         \u001b[38;5;28;43mself\u001b[39;49m\u001b[43m.\u001b[49m\u001b[43m_validate\u001b[49m\u001b[43m(\u001b[49m\u001b[43mtree\u001b[49m\u001b[43m,\u001b[49m\u001b[43m \u001b[49m\u001b[43mreading\u001b[49m\u001b[43m=\u001b[49m\u001b[38;5;28;43;01mTrue\u001b[39;49;00m\u001b[43m)\u001b[49m\n\u001b[32m    896\u001b[39m     \u001b[38;5;28;01mexcept\u001b[39;00m ValidationError:\n\u001b[32m    897\u001b[39m         \u001b[38;5;28mself\u001b[39m.close()\n",
      "\u001b[36mFile \u001b[39m\u001b[32m/opt/anaconda3/envs/roman-data-workshop-env/lib/python3.11/site-packages/asdf/_asdf.py:592\u001b[39m, in \u001b[36mAsdfFile._validate\u001b[39m\u001b[34m(self, tree, custom, reading)\u001b[39m\n\u001b[32m    590\u001b[39m \u001b[38;5;66;03m# Perform secondary validation pass if requested\u001b[39;00m\n\u001b[32m    591\u001b[39m \u001b[38;5;28;01mif\u001b[39;00m custom \u001b[38;5;129;01mand\u001b[39;00m \u001b[38;5;28mself\u001b[39m._custom_schema:\n\u001b[32m--> \u001b[39m\u001b[32m592\u001b[39m     \u001b[43mschema\u001b[49m\u001b[43m.\u001b[49m\u001b[43mvalidate\u001b[49m\u001b[43m(\u001b[49m\u001b[43mtagged_tree\u001b[49m\u001b[43m,\u001b[49m\u001b[43m \u001b[49m\u001b[38;5;28;43mself\u001b[39;49m\u001b[43m,\u001b[49m\u001b[43m \u001b[49m\u001b[38;5;28;43mself\u001b[39;49m\u001b[43m.\u001b[49m\u001b[43m_custom_schema\u001b[49m\u001b[43m,\u001b[49m\u001b[43m \u001b[49m\u001b[43mreading\u001b[49m\u001b[43m=\u001b[49m\u001b[43mreading\u001b[49m\u001b[43m)\u001b[49m\n",
      "\u001b[36mFile \u001b[39m\u001b[32m/opt/anaconda3/envs/roman-data-workshop-env/lib/python3.11/site-packages/asdf/schema.py:637\u001b[39m, in \u001b[36mvalidate\u001b[39m\u001b[34m(instance, ctx, schema, validators, reading, *args, **kwargs)\u001b[39m\n\u001b[32m    634\u001b[39m     ctx = AsdfFile()\n\u001b[32m    636\u001b[39m validator = get_validator({} \u001b[38;5;28;01mif\u001b[39;00m schema \u001b[38;5;129;01mis\u001b[39;00m \u001b[38;5;28;01mNone\u001b[39;00m \u001b[38;5;28;01melse\u001b[39;00m schema, ctx, validators, \u001b[38;5;28;01mNone\u001b[39;00m, *args, **kwargs)\n\u001b[32m--> \u001b[39m\u001b[32m637\u001b[39m \u001b[43mvalidator\u001b[49m\u001b[43m.\u001b[49m\u001b[43mvalidate\u001b[49m\u001b[43m(\u001b[49m\u001b[43minstance\u001b[49m\u001b[43m)\u001b[49m\n\u001b[32m    639\u001b[39m additional_validators = [_validate_large_literals]\n\u001b[32m    640\u001b[39m \u001b[38;5;28;01mif\u001b[39;00m ctx.version >= versioning.RESTRICTED_KEYS_MIN_VERSION:\n",
      "\u001b[36mFile \u001b[39m\u001b[32m/opt/anaconda3/envs/roman-data-workshop-env/lib/python3.11/site-packages/asdf/_jsonschema/validators.py:312\u001b[39m, in \u001b[36mcreate.<locals>.Validator.validate\u001b[39m\u001b[34m(self, *args, **kwargs)\u001b[39m\n\u001b[32m    310\u001b[39m \u001b[38;5;28;01mdef\u001b[39;00m\u001b[38;5;250m \u001b[39m\u001b[34mvalidate\u001b[39m(\u001b[38;5;28mself\u001b[39m, *args, **kwargs):\n\u001b[32m    311\u001b[39m     \u001b[38;5;28;01mfor\u001b[39;00m error \u001b[38;5;129;01min\u001b[39;00m \u001b[38;5;28mself\u001b[39m.iter_errors(*args, **kwargs):\n\u001b[32m--> \u001b[39m\u001b[32m312\u001b[39m         \u001b[38;5;28;01mraise\u001b[39;00m error\n",
      "\u001b[31mValidationError\u001b[39m: Additional properties are not allowed ('asdf_library', 'birthday', 'history' were unexpected)\n\nFailed validating 'additionalProperties' in schema:\n    {'$schema': 'http://stsci.edu/schemas/yaml-schema/draft-01',\n     'additionalProperties': False,\n     'description': \"Basic info and a picture of Mickie's \\ndog Pluto.\\n\",\n     'properties': {'age': {'properties': {'birthday': {'tag': 'tag:stsci.edu:asdf/time/time-1.1.0',\n                                                        'title': \"Pluto's \"\n                                                                 'first '\n                                                                 'showing'}},\n                            'title': 'The age of Pluto',\n                            'type': 'object'},\n                    'mass': {'tag': 'tag:stsci.edu:asdf/unit/quantity-1.1.0',\n                             'title': 'How much he weighs.'},\n                    'name': {'title': 'Name', 'type': 'string'},\n                    'picture': {'tag': 'tag:stsci.edu:asdf/core/ndarray-1.0.0'}},\n     'required': ['name', 'picture'],\n     'title': \"Mickey's pet\",\n     'type': 'object'}\n\nOn instance:\n    {'asdf_library': {'author': 'The ASDF Developers',\n                      'homepage': 'http://github.com/asdf-format/asdf',\n                      'name': 'asdf',\n                      'version': '2.12.0'},\n     'birthday': datetime.date(1930, 8, 17),\n     'history': {'extensions': [{'extension_class': 'asdf.extension.BuiltinExtension',\n                                 'software': {'name': 'asdf',\n                                              'version': '2.12.0'}},\n                                {'extension_class': 'asdf.extension._manifest.ManifestExtension',\n                                 'extension_uri': 'asdf://asdf-format.org/core/extensions/core-1.5.0',\n                                 'software': {'name': 'asdf-astropy',\n                                              'version': '0.2.1'}}]},\n     'mass': {'unit': 'kg', 'value': 10.0},\n     'name': 'Pluto',\n     'picture': {'byteorder': 'little',\n                 'datatype': 'float32',\n                 'shape': [333, 151, 4],\n                 'source': 0}}"
     ]
    }
   ],
   "source": [
    "# Expected validation error\n",
    "afs = asdf.open('pluto.asdf', custom_schema='./add-prop-1.0.0.yaml')"
   ]
  },
  {
   "cell_type": "markdown",
   "id": "0525f622",
   "metadata": {},
   "source": [
    "Take the original schema and add a new required property, called `friend`."
   ]
  },
  {
   "cell_type": "code",
   "execution_count": 13,
   "id": "9c394371",
   "metadata": {},
   "outputs": [],
   "source": [
    "s = \"\"\"\n",
    "%YAML 1.1\n",
    "---\n",
    "$schema: http://stsci.edu/schemas/yaml-schema/draft-01\n",
    "\n",
    "title: Mickey's pet\n",
    "description: |\n",
    "  Basic info and a picture of Mickie's \n",
    "  dog Pluto.\n",
    "\n",
    "type: object\n",
    "properties:\n",
    "  age:\n",
    "    title: The age of Pluto\n",
    "    type: object\n",
    "    properties:\n",
    "      birthday:\n",
    "        title: Pluto's first showing\n",
    "        tag: tag:stsci.edu:asdf/time/time-1.1.0\n",
    "  mass:\n",
    "    title: How much he weighs.\n",
    "    tag: tag:stsci.edu:asdf/unit/quantity-1.1.0\n",
    "  picture:\n",
    "    tag: tag:stsci.edu:asdf/core/ndarray-1.0.0\n",
    "  name:\n",
    "    title: Name\n",
    "    type: string\n",
    "  friend:\n",
    "    type: string\n",
    "    title: \"Who is Pluto's friend?\"\n",
    "required: [name, picture, friend]\n",
    "...\n",
    "\"\"\""
   ]
  },
  {
   "cell_type": "code",
   "execution_count": 14,
   "id": "27809f12",
   "metadata": {},
   "outputs": [],
   "source": [
    "f = open('pluto-friend-1.0.0.yaml', mode='w')\n",
    "f.write(s)\n",
    "f.close()"
   ]
  },
  {
   "cell_type": "code",
   "execution_count": 15,
   "id": "49afe391",
   "metadata": {
    "tags": [
     "raises-exception"
    ]
   },
   "outputs": [
    {
     "ename": "ValidationError",
     "evalue": "'friend' is a required property\n\nFailed validating 'required' in schema:\n    {'$schema': 'http://stsci.edu/schemas/yaml-schema/draft-01',\n     'description': \"Basic info and a picture of Mickie's \\ndog Pluto.\\n\",\n     'properties': {'age': {'properties': {'birthday': {'tag': 'tag:stsci.edu:asdf/time/time-1.1.0',\n                                                        'title': \"Pluto's \"\n                                                                 'first '\n                                                                 'showing'}},\n                            'title': 'The age of Pluto',\n                            'type': 'object'},\n                    'friend': {'title': \"Who is Pluto's friend?\",\n                               'type': 'string'},\n                    'mass': {'tag': 'tag:stsci.edu:asdf/unit/quantity-1.1.0',\n                             'title': 'How much he weighs.'},\n                    'name': {'title': 'Name', 'type': 'string'},\n                    'picture': {'tag': 'tag:stsci.edu:asdf/core/ndarray-1.0.0'}},\n     'required': ['name', 'picture', 'friend'],\n     'title': \"Mickey's pet\",\n     'type': 'object'}\n\nOn instance:\n    {'asdf_library': {'author': 'The ASDF Developers',\n                      'homepage': 'http://github.com/asdf-format/asdf',\n                      'name': 'asdf',\n                      'version': '2.12.0'},\n     'birthday': datetime.date(1930, 8, 17),\n     'history': {'extensions': [{'extension_class': 'asdf.extension.BuiltinExtension',\n                                 'software': {'name': 'asdf',\n                                              'version': '2.12.0'}},\n                                {'extension_class': 'asdf.extension._manifest.ManifestExtension',\n                                 'extension_uri': 'asdf://asdf-format.org/core/extensions/core-1.5.0',\n                                 'software': {'name': 'asdf-astropy',\n                                              'version': '0.2.1'}}]},\n     'mass': {'unit': 'kg', 'value': 10.0},\n     'name': 'Pluto',\n     'picture': {'byteorder': 'little',\n                 'datatype': 'float32',\n                 'shape': [333, 151, 4],\n                 'source': 0}}",
     "output_type": "error",
     "traceback": [
      "\u001b[31m---------------------------------------------------------------------------\u001b[39m",
      "\u001b[31mValidationError\u001b[39m                           Traceback (most recent call last)",
      "\u001b[36mCell\u001b[39m\u001b[36m \u001b[39m\u001b[32mIn[15]\u001b[39m\u001b[32m, line 1\u001b[39m\n\u001b[32m----> \u001b[39m\u001b[32m1\u001b[39m afs = \u001b[43masdf\u001b[49m\u001b[43m.\u001b[49m\u001b[43mopen\u001b[49m\u001b[43m(\u001b[49m\u001b[33;43m'\u001b[39;49m\u001b[33;43mpluto.asdf\u001b[39;49m\u001b[33;43m'\u001b[39;49m\u001b[43m,\u001b[49m\u001b[43m \u001b[49m\u001b[43mcustom_schema\u001b[49m\u001b[43m=\u001b[49m\u001b[33;43m'\u001b[39;49m\u001b[33;43m./pluto-friend-1.0.0.yaml\u001b[39;49m\u001b[33;43m'\u001b[39;49m\u001b[43m)\u001b[49m\n",
      "\u001b[36mFile \u001b[39m\u001b[32m/opt/anaconda3/envs/roman-data-workshop-env/lib/python3.11/site-packages/asdf/_asdf.py:1623\u001b[39m, in \u001b[36mopen_asdf\u001b[39m\u001b[34m(fd, uri, mode, validate_checksums, extensions, ignore_unrecognized_tag, _force_raw_types, memmap, lazy_tree, lazy_load, custom_schema, strict_extension_check, ignore_missing_extensions, _get_yaml_content)\u001b[39m\n\u001b[32m   1614\u001b[39m         mode = \u001b[33m\"\u001b[39m\u001b[33mr\u001b[39m\u001b[33m\"\u001b[39m\n\u001b[32m   1616\u001b[39m instance = AsdfFile(\n\u001b[32m   1617\u001b[39m     ignore_unrecognized_tag=ignore_unrecognized_tag,\n\u001b[32m   1618\u001b[39m     memmap=memmap,\n\u001b[32m   1619\u001b[39m     lazy_load=lazy_load,\n\u001b[32m   1620\u001b[39m     custom_schema=custom_schema,\n\u001b[32m   1621\u001b[39m )\n\u001b[32m-> \u001b[39m\u001b[32m1623\u001b[39m \u001b[38;5;28;01mreturn\u001b[39;00m \u001b[43mAsdfFile\u001b[49m\u001b[43m.\u001b[49m\u001b[43m_open_impl\u001b[49m\u001b[43m(\u001b[49m\n\u001b[32m   1624\u001b[39m \u001b[43m    \u001b[49m\u001b[43minstance\u001b[49m\u001b[43m,\u001b[49m\n\u001b[32m   1625\u001b[39m \u001b[43m    \u001b[49m\u001b[43mfd\u001b[49m\u001b[43m,\u001b[49m\n\u001b[32m   1626\u001b[39m \u001b[43m    \u001b[49m\u001b[43muri\u001b[49m\u001b[43m=\u001b[49m\u001b[43muri\u001b[49m\u001b[43m,\u001b[49m\n\u001b[32m   1627\u001b[39m \u001b[43m    \u001b[49m\u001b[43mmode\u001b[49m\u001b[43m=\u001b[49m\u001b[43mmode\u001b[49m\u001b[43m,\u001b[49m\n\u001b[32m   1628\u001b[39m \u001b[43m    \u001b[49m\u001b[43mvalidate_checksums\u001b[49m\u001b[43m=\u001b[49m\u001b[43mvalidate_checksums\u001b[49m\u001b[43m,\u001b[49m\n\u001b[32m   1629\u001b[39m \u001b[43m    \u001b[49m\u001b[43mextensions\u001b[49m\u001b[43m=\u001b[49m\u001b[43mextensions\u001b[49m\u001b[43m,\u001b[49m\n\u001b[32m   1630\u001b[39m \u001b[43m    \u001b[49m\u001b[43mlazy_tree\u001b[49m\u001b[43m=\u001b[49m\u001b[43mlazy_tree\u001b[49m\u001b[43m,\u001b[49m\n\u001b[32m   1631\u001b[39m \u001b[43m    \u001b[49m\u001b[43m_get_yaml_content\u001b[49m\u001b[43m=\u001b[49m\u001b[43m_get_yaml_content\u001b[49m\u001b[43m,\u001b[49m\n\u001b[32m   1632\u001b[39m \u001b[43m    \u001b[49m\u001b[43m_force_raw_types\u001b[49m\u001b[43m=\u001b[49m\u001b[43m_force_raw_types\u001b[49m\u001b[43m,\u001b[49m\n\u001b[32m   1633\u001b[39m \u001b[43m    \u001b[49m\u001b[43mstrict_extension_check\u001b[49m\u001b[43m=\u001b[49m\u001b[43mstrict_extension_check\u001b[49m\u001b[43m,\u001b[49m\n\u001b[32m   1634\u001b[39m \u001b[43m    \u001b[49m\u001b[43mignore_missing_extensions\u001b[49m\u001b[43m=\u001b[49m\u001b[43mignore_missing_extensions\u001b[49m\u001b[43m,\u001b[49m\n\u001b[32m   1635\u001b[39m \u001b[43m\u001b[49m\u001b[43m)\u001b[49m\n",
      "\u001b[36mFile \u001b[39m\u001b[32m/opt/anaconda3/envs/roman-data-workshop-env/lib/python3.11/site-packages/asdf/_asdf.py:935\u001b[39m, in \u001b[36mAsdfFile._open_impl\u001b[39m\u001b[34m(cls, self, fd, uri, mode, validate_checksums, extensions, lazy_tree, _get_yaml_content, _force_raw_types, strict_extension_check, ignore_missing_extensions)\u001b[39m\n\u001b[32m    933\u001b[39m generic_file = generic_io.get_file(fd, mode=mode, uri=uri)\n\u001b[32m    934\u001b[39m \u001b[38;5;28;01mtry\u001b[39;00m:\n\u001b[32m--> \u001b[39m\u001b[32m935\u001b[39m     \u001b[38;5;28;01mreturn\u001b[39;00m \u001b[38;5;28;43mcls\u001b[39;49m\u001b[43m.\u001b[49m\u001b[43m_open_asdf\u001b[49m\u001b[43m(\u001b[49m\n\u001b[32m    936\u001b[39m \u001b[43m        \u001b[49m\u001b[38;5;28;43mself\u001b[39;49m\u001b[43m,\u001b[49m\n\u001b[32m    937\u001b[39m \u001b[43m        \u001b[49m\u001b[43mgeneric_file\u001b[49m\u001b[43m,\u001b[49m\n\u001b[32m    938\u001b[39m \u001b[43m        \u001b[49m\u001b[43mvalidate_checksums\u001b[49m\u001b[43m=\u001b[49m\u001b[43mvalidate_checksums\u001b[49m\u001b[43m,\u001b[49m\n\u001b[32m    939\u001b[39m \u001b[43m        \u001b[49m\u001b[43mextensions\u001b[49m\u001b[43m=\u001b[49m\u001b[43mextensions\u001b[49m\u001b[43m,\u001b[49m\n\u001b[32m    940\u001b[39m \u001b[43m        \u001b[49m\u001b[43mlazy_tree\u001b[49m\u001b[43m=\u001b[49m\u001b[43mlazy_tree\u001b[49m\u001b[43m,\u001b[49m\n\u001b[32m    941\u001b[39m \u001b[43m        \u001b[49m\u001b[43m_get_yaml_content\u001b[49m\u001b[43m=\u001b[49m\u001b[43m_get_yaml_content\u001b[49m\u001b[43m,\u001b[49m\n\u001b[32m    942\u001b[39m \u001b[43m        \u001b[49m\u001b[43m_force_raw_types\u001b[49m\u001b[43m=\u001b[49m\u001b[43m_force_raw_types\u001b[49m\u001b[43m,\u001b[49m\n\u001b[32m    943\u001b[39m \u001b[43m        \u001b[49m\u001b[43mstrict_extension_check\u001b[49m\u001b[43m=\u001b[49m\u001b[43mstrict_extension_check\u001b[49m\u001b[43m,\u001b[49m\n\u001b[32m    944\u001b[39m \u001b[43m        \u001b[49m\u001b[43mignore_missing_extensions\u001b[49m\u001b[43m=\u001b[49m\u001b[43mignore_missing_extensions\u001b[49m\u001b[43m,\u001b[49m\n\u001b[32m    945\u001b[39m \u001b[43m    \u001b[49m\u001b[43m)\u001b[49m\n\u001b[32m    946\u001b[39m \u001b[38;5;28;01mexcept\u001b[39;00m \u001b[38;5;167;01mException\u001b[39;00m:\n\u001b[32m    947\u001b[39m     \u001b[38;5;28;01mif\u001b[39;00m close_on_fail:\n",
      "\u001b[36mFile \u001b[39m\u001b[32m/opt/anaconda3/envs/roman-data-workshop-env/lib/python3.11/site-packages/asdf/_asdf.py:895\u001b[39m, in \u001b[36mAsdfFile._open_asdf\u001b[39m\u001b[34m(cls, self, fd, validate_checksums, extensions, lazy_tree, _get_yaml_content, _force_raw_types, strict_extension_check, ignore_missing_extensions)\u001b[39m\n\u001b[32m    893\u001b[39m \u001b[38;5;28;01mif\u001b[39;00m get_config().validate_on_read:\n\u001b[32m    894\u001b[39m     \u001b[38;5;28;01mtry\u001b[39;00m:\n\u001b[32m--> \u001b[39m\u001b[32m895\u001b[39m         \u001b[38;5;28;43mself\u001b[39;49m\u001b[43m.\u001b[49m\u001b[43m_validate\u001b[49m\u001b[43m(\u001b[49m\u001b[43mtree\u001b[49m\u001b[43m,\u001b[49m\u001b[43m \u001b[49m\u001b[43mreading\u001b[49m\u001b[43m=\u001b[49m\u001b[38;5;28;43;01mTrue\u001b[39;49;00m\u001b[43m)\u001b[49m\n\u001b[32m    896\u001b[39m     \u001b[38;5;28;01mexcept\u001b[39;00m ValidationError:\n\u001b[32m    897\u001b[39m         \u001b[38;5;28mself\u001b[39m.close()\n",
      "\u001b[36mFile \u001b[39m\u001b[32m/opt/anaconda3/envs/roman-data-workshop-env/lib/python3.11/site-packages/asdf/_asdf.py:592\u001b[39m, in \u001b[36mAsdfFile._validate\u001b[39m\u001b[34m(self, tree, custom, reading)\u001b[39m\n\u001b[32m    590\u001b[39m \u001b[38;5;66;03m# Perform secondary validation pass if requested\u001b[39;00m\n\u001b[32m    591\u001b[39m \u001b[38;5;28;01mif\u001b[39;00m custom \u001b[38;5;129;01mand\u001b[39;00m \u001b[38;5;28mself\u001b[39m._custom_schema:\n\u001b[32m--> \u001b[39m\u001b[32m592\u001b[39m     \u001b[43mschema\u001b[49m\u001b[43m.\u001b[49m\u001b[43mvalidate\u001b[49m\u001b[43m(\u001b[49m\u001b[43mtagged_tree\u001b[49m\u001b[43m,\u001b[49m\u001b[43m \u001b[49m\u001b[38;5;28;43mself\u001b[39;49m\u001b[43m,\u001b[49m\u001b[43m \u001b[49m\u001b[38;5;28;43mself\u001b[39;49m\u001b[43m.\u001b[49m\u001b[43m_custom_schema\u001b[49m\u001b[43m,\u001b[49m\u001b[43m \u001b[49m\u001b[43mreading\u001b[49m\u001b[43m=\u001b[49m\u001b[43mreading\u001b[49m\u001b[43m)\u001b[49m\n",
      "\u001b[36mFile \u001b[39m\u001b[32m/opt/anaconda3/envs/roman-data-workshop-env/lib/python3.11/site-packages/asdf/schema.py:637\u001b[39m, in \u001b[36mvalidate\u001b[39m\u001b[34m(instance, ctx, schema, validators, reading, *args, **kwargs)\u001b[39m\n\u001b[32m    634\u001b[39m     ctx = AsdfFile()\n\u001b[32m    636\u001b[39m validator = get_validator({} \u001b[38;5;28;01mif\u001b[39;00m schema \u001b[38;5;129;01mis\u001b[39;00m \u001b[38;5;28;01mNone\u001b[39;00m \u001b[38;5;28;01melse\u001b[39;00m schema, ctx, validators, \u001b[38;5;28;01mNone\u001b[39;00m, *args, **kwargs)\n\u001b[32m--> \u001b[39m\u001b[32m637\u001b[39m \u001b[43mvalidator\u001b[49m\u001b[43m.\u001b[49m\u001b[43mvalidate\u001b[49m\u001b[43m(\u001b[49m\u001b[43minstance\u001b[49m\u001b[43m)\u001b[49m\n\u001b[32m    639\u001b[39m additional_validators = [_validate_large_literals]\n\u001b[32m    640\u001b[39m \u001b[38;5;28;01mif\u001b[39;00m ctx.version >= versioning.RESTRICTED_KEYS_MIN_VERSION:\n",
      "\u001b[36mFile \u001b[39m\u001b[32m/opt/anaconda3/envs/roman-data-workshop-env/lib/python3.11/site-packages/asdf/_jsonschema/validators.py:312\u001b[39m, in \u001b[36mcreate.<locals>.Validator.validate\u001b[39m\u001b[34m(self, *args, **kwargs)\u001b[39m\n\u001b[32m    310\u001b[39m \u001b[38;5;28;01mdef\u001b[39;00m\u001b[38;5;250m \u001b[39m\u001b[34mvalidate\u001b[39m(\u001b[38;5;28mself\u001b[39m, *args, **kwargs):\n\u001b[32m    311\u001b[39m     \u001b[38;5;28;01mfor\u001b[39;00m error \u001b[38;5;129;01min\u001b[39;00m \u001b[38;5;28mself\u001b[39m.iter_errors(*args, **kwargs):\n\u001b[32m--> \u001b[39m\u001b[32m312\u001b[39m         \u001b[38;5;28;01mraise\u001b[39;00m error\n",
      "\u001b[31mValidationError\u001b[39m: 'friend' is a required property\n\nFailed validating 'required' in schema:\n    {'$schema': 'http://stsci.edu/schemas/yaml-schema/draft-01',\n     'description': \"Basic info and a picture of Mickie's \\ndog Pluto.\\n\",\n     'properties': {'age': {'properties': {'birthday': {'tag': 'tag:stsci.edu:asdf/time/time-1.1.0',\n                                                        'title': \"Pluto's \"\n                                                                 'first '\n                                                                 'showing'}},\n                            'title': 'The age of Pluto',\n                            'type': 'object'},\n                    'friend': {'title': \"Who is Pluto's friend?\",\n                               'type': 'string'},\n                    'mass': {'tag': 'tag:stsci.edu:asdf/unit/quantity-1.1.0',\n                             'title': 'How much he weighs.'},\n                    'name': {'title': 'Name', 'type': 'string'},\n                    'picture': {'tag': 'tag:stsci.edu:asdf/core/ndarray-1.0.0'}},\n     'required': ['name', 'picture', 'friend'],\n     'title': \"Mickey's pet\",\n     'type': 'object'}\n\nOn instance:\n    {'asdf_library': {'author': 'The ASDF Developers',\n                      'homepage': 'http://github.com/asdf-format/asdf',\n                      'name': 'asdf',\n                      'version': '2.12.0'},\n     'birthday': datetime.date(1930, 8, 17),\n     'history': {'extensions': [{'extension_class': 'asdf.extension.BuiltinExtension',\n                                 'software': {'name': 'asdf',\n                                              'version': '2.12.0'}},\n                                {'extension_class': 'asdf.extension._manifest.ManifestExtension',\n                                 'extension_uri': 'asdf://asdf-format.org/core/extensions/core-1.5.0',\n                                 'software': {'name': 'asdf-astropy',\n                                              'version': '0.2.1'}}]},\n     'mass': {'unit': 'kg', 'value': 10.0},\n     'name': 'Pluto',\n     'picture': {'byteorder': 'little',\n                 'datatype': 'float32',\n                 'shape': [333, 151, 4],\n                 'source': 0}}"
     ]
    }
   ],
   "source": [
    "# Expected validation error\n",
    "afs = asdf.open('pluto.asdf', custom_schema='./pluto-friend-1.0.0.yaml')"
   ]
  },
  {
   "cell_type": "code",
   "execution_count": 16,
   "id": "480ae632",
   "metadata": {},
   "outputs": [],
   "source": [
    "asf = asdf.open('pluto.asdf', mode='rw')\n",
    "asf['friend'] = 'Mickey'\n",
    "#asf.update()\n",
    "asf.write_to('pluto-friend.asdf')"
   ]
  },
  {
   "cell_type": "code",
   "execution_count": 17,
   "id": "d4ee3d87",
   "metadata": {},
   "outputs": [],
   "source": [
    "asf = asdf.open('pluto-friend.asdf', custom_schema='./pluto-friend-1.0.0.yaml')"
   ]
  },
  {
   "cell_type": "code",
   "execution_count": null,
   "id": "19726d02",
   "metadata": {},
   "outputs": [],
   "source": []
  }
 ],
 "metadata": {
  "celltoolbar": "Tags",
  "kernelspec": {
   "display_name": "Python 3 (ipykernel)",
   "language": "python",
   "name": "python3"
  },
  "language_info": {
   "codemirror_mode": {
    "name": "ipython",
    "version": 3
   },
   "file_extension": ".py",
   "mimetype": "text/x-python",
   "name": "python",
   "nbconvert_exporter": "python",
   "pygments_lexer": "ipython3",
   "version": "3.11.0"
  }
 },
 "nbformat": 4,
 "nbformat_minor": 5
}
