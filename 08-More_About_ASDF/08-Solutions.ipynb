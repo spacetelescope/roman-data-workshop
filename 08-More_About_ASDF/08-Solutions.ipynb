{
 "cells": [
  {
   "cell_type": "code",
   "execution_count": 13,
   "metadata": {},
   "outputs": [],
   "source": [
    "import asdf\n",
    "import numpy as np"
   ]
  },
  {
   "cell_type": "markdown",
   "metadata": {},
   "source": [
    "# Exercise 1"
   ]
  },
  {
   "cell_type": "code",
   "execution_count": 14,
   "metadata": {},
   "outputs": [],
   "source": [
    "tree = {\n",
    "    \"hello\": \"world\",\n",
    "    \"foo\": 42,\n",
    "    \"bar\": 3.14,\n",
    "    \"true\": False,\n",
    "    \"imaginary\": complex(2, 3),\n",
    "    \"animals\": [\"cat\", \"dog\", \"bird\"],\n",
    "    \"data\": {\"mean\": 3.14, \"std\": 2.71},\n",
    "}\n",
    "af = asdf.AsdfFile(tree)\n",
    "af.write_to(\"exercise_1.asdf\")"
   ]
  },
  {
   "cell_type": "code",
   "execution_count": 15,
   "metadata": {},
   "outputs": [
    {
     "name": "stdout",
     "output_type": "stream",
     "text": [
      "#ASDF 1.0.0\n",
      "#ASDF_STANDARD 1.5.0\n",
      "%YAML 1.1\n",
      "%TAG ! tag:stsci.edu:asdf/\n",
      "--- !core/asdf-1.1.0\n",
      "asdf_library: !core/software-1.0.0 {author: The ASDF Developers, homepage: 'http://github.com/asdf-format/asdf',\n",
      "  name: asdf, version: 2.12.0}\n",
      "history:\n",
      "  extensions:\n",
      "  - !core/extension_metadata-1.0.0\n",
      "    extension_class: asdf.extension.BuiltinExtension\n",
      "    software: !core/software-1.0.0 {name: asdf, version: 2.12.0}\n",
      "animals: [cat, dog, bird]\n",
      "bar: 3.14\n",
      "data: {mean: 3.14, std: 2.71}\n",
      "foo: 42\n",
      "hello: world\n",
      "imaginary: !core/complex-1.0.0 (2+3j)\n",
      "'true': false\n",
      "...\n",
      "\n"
     ]
    }
   ],
   "source": [
    "# Checks\n",
    "\n",
    "with open(\"exercise_1.asdf\") as f:\n",
    "    print(f.read())\n",
    "\n",
    "with asdf.open(\"exercise_1.asdf\") as af:\n",
    "    for key, value in tree.items():\n",
    "        assert af[key] == value"
   ]
  },
  {
   "cell_type": "markdown",
   "metadata": {},
   "source": [
    "# Exercise 2"
   ]
  },
  {
   "cell_type": "code",
   "execution_count": 16,
   "metadata": {},
   "outputs": [],
   "source": [
    "array = np.random.rand(8, 8)\n",
    "tree = {\n",
    "    \"array\": array,\n",
    "    \"duplicated_array\": array,\n",
    "    \"view_1\": array[2:4, 3:6],\n",
    "    \"view_2\": array[1:6, 2:4],\n",
    "}\n",
    "af = asdf.AsdfFile(tree)\n",
    "af.write_to(\"exercise_2.asdf\")"
   ]
  },
  {
   "cell_type": "code",
   "execution_count": null,
   "metadata": {},
   "outputs": [],
   "source": []
  },
  {
   "cell_type": "code",
   "execution_count": null,
   "metadata": {},
   "outputs": [],
   "source": []
  },
  {
   "cell_type": "code",
   "execution_count": 17,
   "metadata": {},
   "outputs": [
    {
     "name": "stdout",
     "output_type": "stream",
     "text": [
      "#ASDF 1.0.0\n",
      "#ASDF_STANDARD 1.5.0\n",
      "%YAML 1.1\n",
      "%TAG ! tag:stsci.edu:asdf/\n",
      "--- !core/asdf-1.1.0\n",
      "asdf_library: !core/software-1.0.0 {author: The ASDF Developers, homepage: 'http://github.com/asdf-format/asdf',\n",
      "  name: asdf, version: 2.12.0}\n",
      "history:\n",
      "  extensions:\n",
      "  - !core/extension_metadata-1.0.0\n",
      "    extension_class: asdf.extension.BuiltinExtension\n",
      "    software: !core/software-1.0.0 {name: asdf, version: 2.12.0}\n",
      "array: &id001 !core/ndarray-1.0.0\n",
      "  source: 0\n",
      "  datatype: float64\n",
      "  byteorder: little\n",
      "  shape: [8, 8]\n",
      "duplicated_array: *id001\n",
      "view_1: !core/ndarray-1.0.0\n",
      "  source: 0\n",
      "  datatype: float64\n",
      "  byteorder: little\n",
      "  shape: [2, 3]\n",
      "  offset: 152\n",
      "  strides: [64, 8]\n",
      "view_2: !core/ndarray-1.0.0\n",
      "  source: 0\n",
      "  datatype: float64\n",
      "  byteorder: little\n",
      "  shape: [5, 2]\n",
      "  offset: 80\n",
      "  strides: [64, 8]\n",
      "...\n",
      "ÓBLK\u00000\u0000\u0000\u0000\u0000\u0000\u0000\u0000\u0000\u0000\u0000\u0000\u0000\u0000\u0000\u0002\u0000\u0000\u0000\u0000\u0000\u0000\u0000\u0002\u0000\u0000\u0000\u0000\u0000\u0000\u0000\u0002\u00003Îí§Ò\u0018UûÖ0k\"¨Ê¸Ò\u000f\u0019Ñ?\u0000\n",
      "hñdßh?;\u001f\fÛZå?ÆVú\u001a;æ? ×Ãû\u0006Ë?Ý\u0002+³ç?üT\u0012YdþÐ?¸`Õ\u000fÚíí?jÓp'þÔ?ã$_JKvè?ßZ N¿#á?IB%p`ê??ÏÚ¹oTï?¾­\u0019gvéØ?ÕÞ\u0001|À´ï?@,Yha\u0013Ë?ðä\u0011Ø8d³?Æ¾pÁäËã?H f\u000e7¶?âú{¦Ú?â×Kg7â?Ì'Ç0GÕ?xÞ°á?uëc?¡á?O\u0001\t¹°¶ç?x\u0018ZÃt¾»?¥ða4(Gí?0|j0í?.@É¸5Â?)µ©\u0019éâ?jjä?ücáHe>Ý?ORÇÙ?¡-Êêãßî?@ÁaB·h²?H÷` ü`²?²\u0010°6Ý?0ZÍG!ì×?Ì\"\u0002Iö¸á?¨Ôìr¹?è\tsªîÝÈ?ë¾ïöâ?`ñãB¼Ã?Ç\fGÆ¼¸ç?<éù÷ÈaÐ?ÐWÀ\u001a=÷â?õx\u0002Íùï?F¤ê?FM6p¶ê?T\u0006ñu×_×?ªµ·³#iç?Òçû°.<â?$-\u0018\u0013gÍ? HìØï³µ?°\fµÉYÆ¢?(1Wð\u000fÆ?Ô,ï-Ð?/t|k=í?àu®­s\u0000ï?\u0018\n",
      ">\u0007J®»?\u0000RBQÌo?Z+)\u0003\u001a>á?EòÓ4GØæ?ìÜ,)IlÌ?#ASDF BLOCK INDEX\n",
      "%YAML 1.1\n",
      "---\n",
      "- 799\n",
      "...\n",
      "\n"
     ]
    }
   ],
   "source": [
    "with open(\"exercise_2.asdf\", \"r\", encoding=\"unicode_escape\") as f:\n",
    "    print(f.read())\n",
    "\n",
    "with asdf.open(\"exercise_2.asdf\") as af:\n",
    "    for key, value in tree.items():\n",
    "        assert np.all(af[key] == value)"
   ]
  },
  {
   "cell_type": "markdown",
   "metadata": {},
   "source": [
    "Notice that the duplicated array is referenced using a `yaml` anchor, while the\n",
    "alternate views both reference `source: 0` which is the original array."
   ]
  },
  {
   "cell_type": "code",
   "execution_count": null,
   "metadata": {},
   "outputs": [],
   "source": []
  },
  {
   "cell_type": "markdown",
   "metadata": {},
   "source": [
    "# Exercise 3"
   ]
  },
  {
   "cell_type": "code",
   "execution_count": 19,
   "metadata": {},
   "outputs": [],
   "source": [
    "import astropy\n",
    "\n",
    "quantity = 50 * astropy.units.m\n",
    "model = astropy.modeling.models.Gaussian2D(quantity, 2, 3, 4, 5)\n",
    "time = astropy.time.Time(\"J2000\")\n",
    "coord = astropy.coordinates.ICRS(ra=1 * astropy.units.deg, dec=2 * astropy.units.deg)\n",
    "\n",
    "tree = {\n",
    "    \"quantity\": quantity,\n",
    "    \"model\": model,\n",
    "    \"time\": time,\n",
    "    \"coord\": coord,\n",
    "}\n",
    "\n",
    "af = asdf.AsdfFile(tree)\n",
    "af.write_to(\"exercise_3.asdf\")"
   ]
  },
  {
   "cell_type": "code",
   "execution_count": null,
   "metadata": {},
   "outputs": [],
   "source": []
  }
 ],
 "metadata": {
  "kernelspec": {
   "display_name": "Python 3.10.5",
   "language": "python",
   "name": "python3"
  },
  "language_info": {
   "codemirror_mode": {
    "name": "ipython",
    "version": 3
   },
   "file_extension": ".py",
   "mimetype": "text/x-python",
   "name": "python",
   "nbconvert_exporter": "python",
   "pygments_lexer": "ipython3",
   "version": "3.10.5"
  },
  "orig_nbformat": 4,
  "vscode": {
   "interpreter": {
    "hash": "854c5921801e2400c3c1020a858ab9a52fae9c3bbaec23abfbfde1aa9048a7d5"
   }
  }
 },
 "nbformat": 4,
 "nbformat_minor": 2
}
