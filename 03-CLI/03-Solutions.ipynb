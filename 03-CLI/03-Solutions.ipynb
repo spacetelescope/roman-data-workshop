{
 "cells": [
  {
   "cell_type": "markdown",
   "id": "4950b320",
   "metadata": {},
   "source": [
    "#### 03-Solutions"
   ]
  },
  {
   "cell_type": "markdown",
   "id": "1792265a",
   "metadata": {},
   "source": [
    "**Exercise 3:**\n",
    "\n",
    "```\n",
    "% asdftool diff pluto-friend.asdf pluto.asdf\n",
    "\n",
    "tree:\n",
    "  asdf_library:\n",
    "    version:\n",
    ">     2.11.2.dev13+gf9aeb247\n",
    "<     2.12.0\n",
    "  history:\n",
    "    extensions:\n",
    "      -\n",
    "        software:\n",
    "          version:\n",
    ">           2.11.2.dev13+gf9aeb247\n",
    "<           2.12.0\n",
    "> friend:\n",
    ">   Mickey\n",
    "```\n"
   ]
  },
  {
   "cell_type": "markdown",
   "id": "e78d25d3",
   "metadata": {},
   "source": [
    "**We can filter out differences in attributes we are not interested in.\n",
    "\n",
    "\n",
    "```\n",
    "% asdftool diff pluto-friend.asdf pluto.asdf -i '[asdf_library,history]'\n",
    "\n",
    "> tree:\n",
    "> friend:\n",
    ">   Mickey\n",
    "```\n"
   ]
  },
  {
   "cell_type": "code",
   "execution_count": null,
   "id": "5ab3d8df",
   "metadata": {},
   "outputs": [],
   "source": []
  }
 ],
 "metadata": {
  "kernelspec": {
   "display_name": "Python 3 (ipykernel)",
   "language": "python",
   "name": "python3"
  },
  "language_info": {
   "codemirror_mode": {
    "name": "ipython",
    "version": 3
   },
   "file_extension": ".py",
   "mimetype": "text/x-python",
   "name": "python",
   "nbconvert_exporter": "python",
   "pygments_lexer": "ipython3",
   "version": "3.11.0"
  }
 },
 "nbformat": 4,
 "nbformat_minor": 5
}
