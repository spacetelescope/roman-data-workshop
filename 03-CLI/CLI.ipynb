{
 "cells": [
  {
   "cell_type": "markdown",
   "id": "da00c072",
   "metadata": {},
   "source": [
    "#### Command Line Interface"
   ]
  },
  {
   "cell_type": "markdown",
   "id": "bd0209ea",
   "metadata": {},
   "source": [
    "The library, asdf, includes a command-line tool, **`asdftool`** that performs a number of useful operations:\n",
    "\n",
    "**`explode`:** Convert a self-contained ASDF file into exploded form (see Saving external arrays).\n",
    "\n",
    "**`implode`:** Convert an ASDF file in exploded form into a self-contained file.\n",
    "\n",
    "**`defragment`:** Remove unused blocks and extra space.\n",
    "\n",
    "**`diff`:** Report differences between two ASDF files.\n",
    "\n",
    "**`edit`:** Edit the YAML portion of an ASDF file.\n",
    "\n",
    "**`info`:** Print a rendering of an ASDF tree.\n",
    "\n",
    "**`extensions`:** Show information about installed extensions (see Extensions from other packages).\n",
    "\n",
    "**`tags`:** List currently available tags.\n",
    "\n",
    "**`to_yaml`:** Inline all of the data in an ASDF file so that it is pure YAML.\n",
    "\n",
    "Run **`asdftool --help`** for more information."
   ]
  },
  {
   "cell_type": "markdown",
   "id": "2cfd710b",
   "metadata": {},
   "source": [
    "**Exercise 3:**\n",
    "\n",
    "- Use *`asdftool`* to find the differences in the two files - *`pluto.asdf`* and *`pluto-friend.asdf`*\n",
    "- Use some of the other options of *`asdftool`*"
   ]
  },
  {
   "cell_type": "code",
   "execution_count": null,
   "id": "ad446ede",
   "metadata": {},
   "outputs": [],
   "source": []
  }
 ],
 "metadata": {
  "kernelspec": {
   "display_name": "Python 3 (ipykernel)",
   "language": "python",
   "name": "python3"
  },
  "language_info": {
   "codemirror_mode": {
    "name": "ipython",
    "version": 3
   },
   "file_extension": ".py",
   "mimetype": "text/x-python",
   "name": "python",
   "nbconvert_exporter": "python",
   "pygments_lexer": "ipython3",
   "version": "3.9.12"
  }
 },
 "nbformat": 4,
 "nbformat_minor": 5
}
